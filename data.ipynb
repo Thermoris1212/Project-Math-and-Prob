{
 "cells": [
  {
   "cell_type": "code",
   "execution_count": 83,
   "source": [
    "import numpy as np\r\n",
    "import pandas as pd\r\n",
    "import matplotlib.pyplot as plt\r\n",
    "import datetime as dt\r\n",
    "import re as re\r\n",
    "import seaborn as sns\r\n",
    "import scipy.stats as stats\r\n",
    "from scipy.stats import skew\r\n",
    "from scipy.stats import shapiro\r\n",
    "from scipy.stats import normaltest\r\n",
    "from scipy.stats import anderson\r\n",
    "from scipy.stats import chi2_contingency, jarque_bera\r\n",
    "\r\n",
    "from matplotlib.colors import ListedColormap"
   ],
   "outputs": [],
   "metadata": {}
  },
  {
   "cell_type": "code",
   "execution_count": 2,
   "source": [
    "# reading files\r\n",
    "commune=pd.read_excel(r\"commune.xlsx\")\r\n",
    "enroll = pd.read_csv(r\"enroll.csv\")\r\n",
    "quest = pd.read_csv(r\"quest.csv\")\r\n",
    "industry = pd.read_csv(r\"industry.csv\")\r\n",
    "ord = pd.read_csv(r\"ord.csv\")\r\n",
    "study_domain = pd.read_csv(r\"study_domain.csv\")\r\n",
    "transaction = pd.read_csv(r\"transaction.csv\")\r\n",
    "technology = pd.read_csv(r\"technology.csv\")"
   ],
   "outputs": [],
   "metadata": {}
  },
  {
   "cell_type": "code",
   "execution_count": 3,
   "source": [
    "commune.head()"
   ],
   "outputs": [
    {
     "output_type": "execute_result",
     "data": {
      "text/plain": [
       "      Commune_en     Commune_FR Commune_Id  Departement ADM1_PCODE\n",
       "0       Abricots       Abricots     HT0812  Grande'Anse       HT08\n",
       "1   Acul du Nord   Acul du Nord     HT0321        North       HT03\n",
       "2  Anse-a-Foleur  Anse-à-Foleur     HT0922   North-West       HT09\n",
       "3   Anse-a-Pitre   Anse-à-Pître     HT0234   South-East       HT02\n",
       "4    Anse-a-Veau    Anse-à-Veau     HT1021       Nippes       HT10"
      ],
      "text/html": [
       "<div>\n",
       "<style scoped>\n",
       "    .dataframe tbody tr th:only-of-type {\n",
       "        vertical-align: middle;\n",
       "    }\n",
       "\n",
       "    .dataframe tbody tr th {\n",
       "        vertical-align: top;\n",
       "    }\n",
       "\n",
       "    .dataframe thead th {\n",
       "        text-align: right;\n",
       "    }\n",
       "</style>\n",
       "<table border=\"1\" class=\"dataframe\">\n",
       "  <thead>\n",
       "    <tr style=\"text-align: right;\">\n",
       "      <th></th>\n",
       "      <th>Commune_en</th>\n",
       "      <th>Commune_FR</th>\n",
       "      <th>Commune_Id</th>\n",
       "      <th>Departement</th>\n",
       "      <th>ADM1_PCODE</th>\n",
       "    </tr>\n",
       "  </thead>\n",
       "  <tbody>\n",
       "    <tr>\n",
       "      <th>0</th>\n",
       "      <td>Abricots</td>\n",
       "      <td>Abricots</td>\n",
       "      <td>HT0812</td>\n",
       "      <td>Grande'Anse</td>\n",
       "      <td>HT08</td>\n",
       "    </tr>\n",
       "    <tr>\n",
       "      <th>1</th>\n",
       "      <td>Acul du Nord</td>\n",
       "      <td>Acul du Nord</td>\n",
       "      <td>HT0321</td>\n",
       "      <td>North</td>\n",
       "      <td>HT03</td>\n",
       "    </tr>\n",
       "    <tr>\n",
       "      <th>2</th>\n",
       "      <td>Anse-a-Foleur</td>\n",
       "      <td>Anse-à-Foleur</td>\n",
       "      <td>HT0922</td>\n",
       "      <td>North-West</td>\n",
       "      <td>HT09</td>\n",
       "    </tr>\n",
       "    <tr>\n",
       "      <th>3</th>\n",
       "      <td>Anse-a-Pitre</td>\n",
       "      <td>Anse-à-Pître</td>\n",
       "      <td>HT0234</td>\n",
       "      <td>South-East</td>\n",
       "      <td>HT02</td>\n",
       "    </tr>\n",
       "    <tr>\n",
       "      <th>4</th>\n",
       "      <td>Anse-a-Veau</td>\n",
       "      <td>Anse-à-Veau</td>\n",
       "      <td>HT1021</td>\n",
       "      <td>Nippes</td>\n",
       "      <td>HT10</td>\n",
       "    </tr>\n",
       "  </tbody>\n",
       "</table>\n",
       "</div>"
      ]
     },
     "metadata": {},
     "execution_count": 3
    }
   ],
   "metadata": {}
  },
  {
   "cell_type": "markdown",
   "source": [
    "Use all the files to have a final datasets to have the following columns\r\n",
    "   <ul>\r\n",
    "    <li>questid</li>\r\n",
    "    <li>gender</li>\r\n",
    "    <li>age (age of applicant)</li>\r\n",
    "    <li>communeName (use data prep in commune file)</li>\r\n",
    "    <li>application_date (created at in quest file)</li>\r\n",
    "    <li>enroll_date (created_at in enroll file)</li>\r\n",
    "    <li>is_enroll (Yes/No) (use data prep in enroll file)</li>\r\n",
    "    <li>Education Level</li>\r\n",
    "   <li>Communication channels(hear_AA1)</li>\r\n",
    "    <li>Bootcamp Insterest (after_AA)</li>\r\n",
    "    <li>Payement Date (use ord and transaction files)</li>\r\n",
    "    <li>Payed (Yes/No)</li>\r\n",
    "    <li>list Technologies as columns based (use get_dummies)</li>\r\n",
    "    <li>list  Study domains (use get_dummies)</li>\r\n",
    "    <li>Job is formal</li>\r\n",
    "    <li>Have computer at home</li>\r\n",
    "    <li>Have internet at home</li>\r\n",
    "    \r\n",
    "   </ul>\r\n",
    "   "
   ],
   "metadata": {}
  },
  {
   "cell_type": "markdown",
   "source": [
    "## Data Processing"
   ],
   "metadata": {}
  },
  {
   "cell_type": "markdown",
   "source": [
    "Show the 5 first rows on the DF"
   ],
   "metadata": {}
  },
  {
   "cell_type": "code",
   "execution_count": 4,
   "source": [
    "quest.dtypes"
   ],
   "outputs": [
    {
     "output_type": "execute_result",
     "data": {
      "text/plain": [
       "Unnamed: 0             int64\n",
       "gender                object\n",
       "dob                   object\n",
       "commune               object\n",
       "created_at            object\n",
       "modified_at           object\n",
       "department            object\n",
       "education_level       object\n",
       "university            object\n",
       "study_domain          object\n",
       "current_employed      object\n",
       "formal_sector_job     object\n",
       "have_computer_home    object\n",
       "internet_at_home      object\n",
       "hear_AA_1             object\n",
       "after_AA              object\n",
       "quest_id              object\n",
       "dtype: object"
      ]
     },
     "metadata": {},
     "execution_count": 4
    }
   ],
   "metadata": {}
  },
  {
   "cell_type": "code",
   "execution_count": 5,
   "source": [
    "quest[\"created_at\"] = quest[\"created_at\"].str[:10]"
   ],
   "outputs": [],
   "metadata": {}
  },
  {
   "cell_type": "code",
   "execution_count": 6,
   "source": [
    "quest.describe()"
   ],
   "outputs": [
    {
     "output_type": "execute_result",
     "data": {
      "text/plain": [
       "       Unnamed: 0\n",
       "count  250.000000\n",
       "mean   124.500000\n",
       "std     72.312977\n",
       "min      0.000000\n",
       "25%     62.250000\n",
       "50%    124.500000\n",
       "75%    186.750000\n",
       "max    249.000000"
      ],
      "text/html": [
       "<div>\n",
       "<style scoped>\n",
       "    .dataframe tbody tr th:only-of-type {\n",
       "        vertical-align: middle;\n",
       "    }\n",
       "\n",
       "    .dataframe tbody tr th {\n",
       "        vertical-align: top;\n",
       "    }\n",
       "\n",
       "    .dataframe thead th {\n",
       "        text-align: right;\n",
       "    }\n",
       "</style>\n",
       "<table border=\"1\" class=\"dataframe\">\n",
       "  <thead>\n",
       "    <tr style=\"text-align: right;\">\n",
       "      <th></th>\n",
       "      <th>Unnamed: 0</th>\n",
       "    </tr>\n",
       "  </thead>\n",
       "  <tbody>\n",
       "    <tr>\n",
       "      <th>count</th>\n",
       "      <td>250.000000</td>\n",
       "    </tr>\n",
       "    <tr>\n",
       "      <th>mean</th>\n",
       "      <td>124.500000</td>\n",
       "    </tr>\n",
       "    <tr>\n",
       "      <th>std</th>\n",
       "      <td>72.312977</td>\n",
       "    </tr>\n",
       "    <tr>\n",
       "      <th>min</th>\n",
       "      <td>0.000000</td>\n",
       "    </tr>\n",
       "    <tr>\n",
       "      <th>25%</th>\n",
       "      <td>62.250000</td>\n",
       "    </tr>\n",
       "    <tr>\n",
       "      <th>50%</th>\n",
       "      <td>124.500000</td>\n",
       "    </tr>\n",
       "    <tr>\n",
       "      <th>75%</th>\n",
       "      <td>186.750000</td>\n",
       "    </tr>\n",
       "    <tr>\n",
       "      <th>max</th>\n",
       "      <td>249.000000</td>\n",
       "    </tr>\n",
       "  </tbody>\n",
       "</table>\n",
       "</div>"
      ]
     },
     "metadata": {},
     "execution_count": 6
    }
   ],
   "metadata": {}
  },
  {
   "cell_type": "code",
   "execution_count": 7,
   "source": [
    "quest.info()"
   ],
   "outputs": [
    {
     "output_type": "stream",
     "name": "stdout",
     "text": [
      "<class 'pandas.core.frame.DataFrame'>\n",
      "RangeIndex: 250 entries, 0 to 249\n",
      "Data columns (total 17 columns):\n",
      " #   Column              Non-Null Count  Dtype \n",
      "---  ------              --------------  ----- \n",
      " 0   Unnamed: 0          250 non-null    int64 \n",
      " 1   gender              250 non-null    object\n",
      " 2   dob                 244 non-null    object\n",
      " 3   commune             250 non-null    object\n",
      " 4   created_at          250 non-null    object\n",
      " 5   modified_at         250 non-null    object\n",
      " 6   department          249 non-null    object\n",
      " 7   education_level     250 non-null    object\n",
      " 8   university          250 non-null    object\n",
      " 9   study_domain        250 non-null    object\n",
      " 10  current_employed    250 non-null    object\n",
      " 11  formal_sector_job   250 non-null    object\n",
      " 12  have_computer_home  250 non-null    object\n",
      " 13  internet_at_home    250 non-null    object\n",
      " 14  hear_AA_1           250 non-null    object\n",
      " 15  after_AA            250 non-null    object\n",
      " 16  quest_id            250 non-null    object\n",
      "dtypes: int64(1), object(16)\n",
      "memory usage: 33.3+ KB\n"
     ]
    }
   ],
   "metadata": {}
  },
  {
   "cell_type": "code",
   "execution_count": 8,
   "source": [
    "#Format in Date \r\n",
    "quest[\"dob\"].replace({\"3 aout 1977\": \"3/08/1977\"}, inplace=True)\r\n",
    "quest[\"dob\"] = pd.to_datetime(quest[\"dob\"])\r\n",
    "\r\n",
    "#Convert \"created_at\" in format date\r\n",
    "quest[\"created_at\"] = pd.to_datetime(quest[\"created_at\"])\r\n",
    "\r\n"
   ],
   "outputs": [],
   "metadata": {}
  },
  {
   "cell_type": "code",
   "execution_count": 9,
   "source": [
    "quest.head()"
   ],
   "outputs": [
    {
     "output_type": "execute_result",
     "data": {
      "text/plain": [
       "   Unnamed: 0  gender        dob commune created_at  \\\n",
       "0           0    male 1998-08-25  ht0111 2021-02-14   \n",
       "1           1  female 1996-09-29  ht0111 2021-02-16   \n",
       "2           2    male 1996-05-17  ht0111 2021-02-16   \n",
       "3           3    male 1996-11-24  ht0111 2021-02-16   \n",
       "4           4    male 1997-07-20  ht0111 2021-02-16   \n",
       "\n",
       "                   modified_at department         education_level  \\\n",
       "0  2021-02-14T23:03:52.768462Z        NaN                 unknown   \n",
       "1  2021-02-16T16:01:10.861899Z       ht01     Bachelors (bacc +4)   \n",
       "2  2021-02-16T16:56:30.579563Z       ht01     Bachelors (bacc +4)   \n",
       "3  2021-02-16T16:57:55.754582Z       ht01     Bachelors (bacc +4)   \n",
       "4  2021-02-16T17:05:40.907982Z       ht01  High School (16 years)   \n",
       "\n",
       "                                       university        study_domain  \\\n",
       "0                                         unknown                  []   \n",
       "1                                           other           ['other']   \n",
       "2                 Université d'Etat d'Haïti (UEH)                  []   \n",
       "3  Ecole Supérieure d'Infotronique d'Haïti (ESIH)  ['item1', 'item6']   \n",
       "4                                         unknown           ['other']   \n",
       "\n",
       "  current_employed formal_sector_job have_computer_home internet_at_home  \\\n",
       "0          unknown           unknown            unknown          unknown   \n",
       "1               No           unknown                Yes              Yes   \n",
       "2               No           unknown                Yes              Yes   \n",
       "3               No           unknown                Yes              Yes   \n",
       "4               No           unknown                Yes              Yes   \n",
       "\n",
       "  hear_AA_1                           after_AA  \\\n",
       "0   unknown                            unknown   \n",
       "1    Friend           Finding a job/internship   \n",
       "2    Friend  Improving my data analysis skills   \n",
       "3      ESIH  Improving my data analysis skills   \n",
       "4  WhatsApp                         Mentorship   \n",
       "\n",
       "                               quest_id  \n",
       "0  905dc006-ce95-11eb-b2f9-7c67a234f601  \n",
       "1  905ddcf2-ce95-11eb-9a92-7c67a234f601  \n",
       "2  905e2608-ce95-11eb-809f-7c67a234f601  \n",
       "3  905e4cf5-ce95-11eb-96a9-7c67a234f601  \n",
       "4  905e73fd-ce95-11eb-a7b0-7c67a234f601  "
      ],
      "text/html": [
       "<div>\n",
       "<style scoped>\n",
       "    .dataframe tbody tr th:only-of-type {\n",
       "        vertical-align: middle;\n",
       "    }\n",
       "\n",
       "    .dataframe tbody tr th {\n",
       "        vertical-align: top;\n",
       "    }\n",
       "\n",
       "    .dataframe thead th {\n",
       "        text-align: right;\n",
       "    }\n",
       "</style>\n",
       "<table border=\"1\" class=\"dataframe\">\n",
       "  <thead>\n",
       "    <tr style=\"text-align: right;\">\n",
       "      <th></th>\n",
       "      <th>Unnamed: 0</th>\n",
       "      <th>gender</th>\n",
       "      <th>dob</th>\n",
       "      <th>commune</th>\n",
       "      <th>created_at</th>\n",
       "      <th>modified_at</th>\n",
       "      <th>department</th>\n",
       "      <th>education_level</th>\n",
       "      <th>university</th>\n",
       "      <th>study_domain</th>\n",
       "      <th>current_employed</th>\n",
       "      <th>formal_sector_job</th>\n",
       "      <th>have_computer_home</th>\n",
       "      <th>internet_at_home</th>\n",
       "      <th>hear_AA_1</th>\n",
       "      <th>after_AA</th>\n",
       "      <th>quest_id</th>\n",
       "    </tr>\n",
       "  </thead>\n",
       "  <tbody>\n",
       "    <tr>\n",
       "      <th>0</th>\n",
       "      <td>0</td>\n",
       "      <td>male</td>\n",
       "      <td>1998-08-25</td>\n",
       "      <td>ht0111</td>\n",
       "      <td>2021-02-14</td>\n",
       "      <td>2021-02-14T23:03:52.768462Z</td>\n",
       "      <td>NaN</td>\n",
       "      <td>unknown</td>\n",
       "      <td>unknown</td>\n",
       "      <td>[]</td>\n",
       "      <td>unknown</td>\n",
       "      <td>unknown</td>\n",
       "      <td>unknown</td>\n",
       "      <td>unknown</td>\n",
       "      <td>unknown</td>\n",
       "      <td>unknown</td>\n",
       "      <td>905dc006-ce95-11eb-b2f9-7c67a234f601</td>\n",
       "    </tr>\n",
       "    <tr>\n",
       "      <th>1</th>\n",
       "      <td>1</td>\n",
       "      <td>female</td>\n",
       "      <td>1996-09-29</td>\n",
       "      <td>ht0111</td>\n",
       "      <td>2021-02-16</td>\n",
       "      <td>2021-02-16T16:01:10.861899Z</td>\n",
       "      <td>ht01</td>\n",
       "      <td>Bachelors (bacc +4)</td>\n",
       "      <td>other</td>\n",
       "      <td>['other']</td>\n",
       "      <td>No</td>\n",
       "      <td>unknown</td>\n",
       "      <td>Yes</td>\n",
       "      <td>Yes</td>\n",
       "      <td>Friend</td>\n",
       "      <td>Finding a job/internship</td>\n",
       "      <td>905ddcf2-ce95-11eb-9a92-7c67a234f601</td>\n",
       "    </tr>\n",
       "    <tr>\n",
       "      <th>2</th>\n",
       "      <td>2</td>\n",
       "      <td>male</td>\n",
       "      <td>1996-05-17</td>\n",
       "      <td>ht0111</td>\n",
       "      <td>2021-02-16</td>\n",
       "      <td>2021-02-16T16:56:30.579563Z</td>\n",
       "      <td>ht01</td>\n",
       "      <td>Bachelors (bacc +4)</td>\n",
       "      <td>Université d'Etat d'Haïti (UEH)</td>\n",
       "      <td>[]</td>\n",
       "      <td>No</td>\n",
       "      <td>unknown</td>\n",
       "      <td>Yes</td>\n",
       "      <td>Yes</td>\n",
       "      <td>Friend</td>\n",
       "      <td>Improving my data analysis skills</td>\n",
       "      <td>905e2608-ce95-11eb-809f-7c67a234f601</td>\n",
       "    </tr>\n",
       "    <tr>\n",
       "      <th>3</th>\n",
       "      <td>3</td>\n",
       "      <td>male</td>\n",
       "      <td>1996-11-24</td>\n",
       "      <td>ht0111</td>\n",
       "      <td>2021-02-16</td>\n",
       "      <td>2021-02-16T16:57:55.754582Z</td>\n",
       "      <td>ht01</td>\n",
       "      <td>Bachelors (bacc +4)</td>\n",
       "      <td>Ecole Supérieure d'Infotronique d'Haïti (ESIH)</td>\n",
       "      <td>['item1', 'item6']</td>\n",
       "      <td>No</td>\n",
       "      <td>unknown</td>\n",
       "      <td>Yes</td>\n",
       "      <td>Yes</td>\n",
       "      <td>ESIH</td>\n",
       "      <td>Improving my data analysis skills</td>\n",
       "      <td>905e4cf5-ce95-11eb-96a9-7c67a234f601</td>\n",
       "    </tr>\n",
       "    <tr>\n",
       "      <th>4</th>\n",
       "      <td>4</td>\n",
       "      <td>male</td>\n",
       "      <td>1997-07-20</td>\n",
       "      <td>ht0111</td>\n",
       "      <td>2021-02-16</td>\n",
       "      <td>2021-02-16T17:05:40.907982Z</td>\n",
       "      <td>ht01</td>\n",
       "      <td>High School (16 years)</td>\n",
       "      <td>unknown</td>\n",
       "      <td>['other']</td>\n",
       "      <td>No</td>\n",
       "      <td>unknown</td>\n",
       "      <td>Yes</td>\n",
       "      <td>Yes</td>\n",
       "      <td>WhatsApp</td>\n",
       "      <td>Mentorship</td>\n",
       "      <td>905e73fd-ce95-11eb-a7b0-7c67a234f601</td>\n",
       "    </tr>\n",
       "  </tbody>\n",
       "</table>\n",
       "</div>"
      ]
     },
     "metadata": {},
     "execution_count": 9
    }
   ],
   "metadata": {}
  },
  {
   "cell_type": "code",
   "execution_count": 10,
   "source": [
    "#Create a Columns \"age\"\r\n",
    "quest[\"age\"] = ((quest[\"created_at\"]-quest[\"dob\"])//365)\r\n",
    "#Choose the two first character in Age\r\n",
    "quest[\"age\"] = quest[\"age\"].apply(lambda x: str(x)[:2])"
   ],
   "outputs": [],
   "metadata": {}
  },
  {
   "cell_type": "code",
   "execution_count": 11,
   "source": [
    "def convAge(x):\r\n",
    "    try:\r\n",
    "        x = int(x)\r\n",
    "        if x <=15:\r\n",
    "            x = np.nan\r\n",
    "    except ValueError:\r\n",
    "        x = np.nan\r\n",
    "    return x\r\n",
    "\r\n",
    "quest[\"age\"] = quest[\"age\"].apply(lambda x: convAge(str(x)[:2]))"
   ],
   "outputs": [],
   "metadata": {}
  },
  {
   "cell_type": "code",
   "execution_count": 12,
   "source": [
    "quest.head()"
   ],
   "outputs": [
    {
     "output_type": "execute_result",
     "data": {
      "text/plain": [
       "   Unnamed: 0  gender        dob commune created_at  \\\n",
       "0           0    male 1998-08-25  ht0111 2021-02-14   \n",
       "1           1  female 1996-09-29  ht0111 2021-02-16   \n",
       "2           2    male 1996-05-17  ht0111 2021-02-16   \n",
       "3           3    male 1996-11-24  ht0111 2021-02-16   \n",
       "4           4    male 1997-07-20  ht0111 2021-02-16   \n",
       "\n",
       "                   modified_at department         education_level  \\\n",
       "0  2021-02-14T23:03:52.768462Z        NaN                 unknown   \n",
       "1  2021-02-16T16:01:10.861899Z       ht01     Bachelors (bacc +4)   \n",
       "2  2021-02-16T16:56:30.579563Z       ht01     Bachelors (bacc +4)   \n",
       "3  2021-02-16T16:57:55.754582Z       ht01     Bachelors (bacc +4)   \n",
       "4  2021-02-16T17:05:40.907982Z       ht01  High School (16 years)   \n",
       "\n",
       "                                       university        study_domain  \\\n",
       "0                                         unknown                  []   \n",
       "1                                           other           ['other']   \n",
       "2                 Université d'Etat d'Haïti (UEH)                  []   \n",
       "3  Ecole Supérieure d'Infotronique d'Haïti (ESIH)  ['item1', 'item6']   \n",
       "4                                         unknown           ['other']   \n",
       "\n",
       "  current_employed formal_sector_job have_computer_home internet_at_home  \\\n",
       "0          unknown           unknown            unknown          unknown   \n",
       "1               No           unknown                Yes              Yes   \n",
       "2               No           unknown                Yes              Yes   \n",
       "3               No           unknown                Yes              Yes   \n",
       "4               No           unknown                Yes              Yes   \n",
       "\n",
       "  hear_AA_1                           after_AA  \\\n",
       "0   unknown                            unknown   \n",
       "1    Friend           Finding a job/internship   \n",
       "2    Friend  Improving my data analysis skills   \n",
       "3      ESIH  Improving my data analysis skills   \n",
       "4  WhatsApp                         Mentorship   \n",
       "\n",
       "                               quest_id   age  \n",
       "0  905dc006-ce95-11eb-b2f9-7c67a234f601  22.0  \n",
       "1  905ddcf2-ce95-11eb-9a92-7c67a234f601  24.0  \n",
       "2  905e2608-ce95-11eb-809f-7c67a234f601  24.0  \n",
       "3  905e4cf5-ce95-11eb-96a9-7c67a234f601  24.0  \n",
       "4  905e73fd-ce95-11eb-a7b0-7c67a234f601  23.0  "
      ],
      "text/html": [
       "<div>\n",
       "<style scoped>\n",
       "    .dataframe tbody tr th:only-of-type {\n",
       "        vertical-align: middle;\n",
       "    }\n",
       "\n",
       "    .dataframe tbody tr th {\n",
       "        vertical-align: top;\n",
       "    }\n",
       "\n",
       "    .dataframe thead th {\n",
       "        text-align: right;\n",
       "    }\n",
       "</style>\n",
       "<table border=\"1\" class=\"dataframe\">\n",
       "  <thead>\n",
       "    <tr style=\"text-align: right;\">\n",
       "      <th></th>\n",
       "      <th>Unnamed: 0</th>\n",
       "      <th>gender</th>\n",
       "      <th>dob</th>\n",
       "      <th>commune</th>\n",
       "      <th>created_at</th>\n",
       "      <th>modified_at</th>\n",
       "      <th>department</th>\n",
       "      <th>education_level</th>\n",
       "      <th>university</th>\n",
       "      <th>study_domain</th>\n",
       "      <th>current_employed</th>\n",
       "      <th>formal_sector_job</th>\n",
       "      <th>have_computer_home</th>\n",
       "      <th>internet_at_home</th>\n",
       "      <th>hear_AA_1</th>\n",
       "      <th>after_AA</th>\n",
       "      <th>quest_id</th>\n",
       "      <th>age</th>\n",
       "    </tr>\n",
       "  </thead>\n",
       "  <tbody>\n",
       "    <tr>\n",
       "      <th>0</th>\n",
       "      <td>0</td>\n",
       "      <td>male</td>\n",
       "      <td>1998-08-25</td>\n",
       "      <td>ht0111</td>\n",
       "      <td>2021-02-14</td>\n",
       "      <td>2021-02-14T23:03:52.768462Z</td>\n",
       "      <td>NaN</td>\n",
       "      <td>unknown</td>\n",
       "      <td>unknown</td>\n",
       "      <td>[]</td>\n",
       "      <td>unknown</td>\n",
       "      <td>unknown</td>\n",
       "      <td>unknown</td>\n",
       "      <td>unknown</td>\n",
       "      <td>unknown</td>\n",
       "      <td>unknown</td>\n",
       "      <td>905dc006-ce95-11eb-b2f9-7c67a234f601</td>\n",
       "      <td>22.0</td>\n",
       "    </tr>\n",
       "    <tr>\n",
       "      <th>1</th>\n",
       "      <td>1</td>\n",
       "      <td>female</td>\n",
       "      <td>1996-09-29</td>\n",
       "      <td>ht0111</td>\n",
       "      <td>2021-02-16</td>\n",
       "      <td>2021-02-16T16:01:10.861899Z</td>\n",
       "      <td>ht01</td>\n",
       "      <td>Bachelors (bacc +4)</td>\n",
       "      <td>other</td>\n",
       "      <td>['other']</td>\n",
       "      <td>No</td>\n",
       "      <td>unknown</td>\n",
       "      <td>Yes</td>\n",
       "      <td>Yes</td>\n",
       "      <td>Friend</td>\n",
       "      <td>Finding a job/internship</td>\n",
       "      <td>905ddcf2-ce95-11eb-9a92-7c67a234f601</td>\n",
       "      <td>24.0</td>\n",
       "    </tr>\n",
       "    <tr>\n",
       "      <th>2</th>\n",
       "      <td>2</td>\n",
       "      <td>male</td>\n",
       "      <td>1996-05-17</td>\n",
       "      <td>ht0111</td>\n",
       "      <td>2021-02-16</td>\n",
       "      <td>2021-02-16T16:56:30.579563Z</td>\n",
       "      <td>ht01</td>\n",
       "      <td>Bachelors (bacc +4)</td>\n",
       "      <td>Université d'Etat d'Haïti (UEH)</td>\n",
       "      <td>[]</td>\n",
       "      <td>No</td>\n",
       "      <td>unknown</td>\n",
       "      <td>Yes</td>\n",
       "      <td>Yes</td>\n",
       "      <td>Friend</td>\n",
       "      <td>Improving my data analysis skills</td>\n",
       "      <td>905e2608-ce95-11eb-809f-7c67a234f601</td>\n",
       "      <td>24.0</td>\n",
       "    </tr>\n",
       "    <tr>\n",
       "      <th>3</th>\n",
       "      <td>3</td>\n",
       "      <td>male</td>\n",
       "      <td>1996-11-24</td>\n",
       "      <td>ht0111</td>\n",
       "      <td>2021-02-16</td>\n",
       "      <td>2021-02-16T16:57:55.754582Z</td>\n",
       "      <td>ht01</td>\n",
       "      <td>Bachelors (bacc +4)</td>\n",
       "      <td>Ecole Supérieure d'Infotronique d'Haïti (ESIH)</td>\n",
       "      <td>['item1', 'item6']</td>\n",
       "      <td>No</td>\n",
       "      <td>unknown</td>\n",
       "      <td>Yes</td>\n",
       "      <td>Yes</td>\n",
       "      <td>ESIH</td>\n",
       "      <td>Improving my data analysis skills</td>\n",
       "      <td>905e4cf5-ce95-11eb-96a9-7c67a234f601</td>\n",
       "      <td>24.0</td>\n",
       "    </tr>\n",
       "    <tr>\n",
       "      <th>4</th>\n",
       "      <td>4</td>\n",
       "      <td>male</td>\n",
       "      <td>1997-07-20</td>\n",
       "      <td>ht0111</td>\n",
       "      <td>2021-02-16</td>\n",
       "      <td>2021-02-16T17:05:40.907982Z</td>\n",
       "      <td>ht01</td>\n",
       "      <td>High School (16 years)</td>\n",
       "      <td>unknown</td>\n",
       "      <td>['other']</td>\n",
       "      <td>No</td>\n",
       "      <td>unknown</td>\n",
       "      <td>Yes</td>\n",
       "      <td>Yes</td>\n",
       "      <td>WhatsApp</td>\n",
       "      <td>Mentorship</td>\n",
       "      <td>905e73fd-ce95-11eb-a7b0-7c67a234f601</td>\n",
       "      <td>23.0</td>\n",
       "    </tr>\n",
       "  </tbody>\n",
       "</table>\n",
       "</div>"
      ]
     },
     "metadata": {},
     "execution_count": 12
    }
   ],
   "metadata": {}
  },
  {
   "cell_type": "code",
   "execution_count": 13,
   "source": [
    "quest.head()"
   ],
   "outputs": [
    {
     "output_type": "execute_result",
     "data": {
      "text/plain": [
       "   Unnamed: 0  gender        dob commune created_at  \\\n",
       "0           0    male 1998-08-25  ht0111 2021-02-14   \n",
       "1           1  female 1996-09-29  ht0111 2021-02-16   \n",
       "2           2    male 1996-05-17  ht0111 2021-02-16   \n",
       "3           3    male 1996-11-24  ht0111 2021-02-16   \n",
       "4           4    male 1997-07-20  ht0111 2021-02-16   \n",
       "\n",
       "                   modified_at department         education_level  \\\n",
       "0  2021-02-14T23:03:52.768462Z        NaN                 unknown   \n",
       "1  2021-02-16T16:01:10.861899Z       ht01     Bachelors (bacc +4)   \n",
       "2  2021-02-16T16:56:30.579563Z       ht01     Bachelors (bacc +4)   \n",
       "3  2021-02-16T16:57:55.754582Z       ht01     Bachelors (bacc +4)   \n",
       "4  2021-02-16T17:05:40.907982Z       ht01  High School (16 years)   \n",
       "\n",
       "                                       university        study_domain  \\\n",
       "0                                         unknown                  []   \n",
       "1                                           other           ['other']   \n",
       "2                 Université d'Etat d'Haïti (UEH)                  []   \n",
       "3  Ecole Supérieure d'Infotronique d'Haïti (ESIH)  ['item1', 'item6']   \n",
       "4                                         unknown           ['other']   \n",
       "\n",
       "  current_employed formal_sector_job have_computer_home internet_at_home  \\\n",
       "0          unknown           unknown            unknown          unknown   \n",
       "1               No           unknown                Yes              Yes   \n",
       "2               No           unknown                Yes              Yes   \n",
       "3               No           unknown                Yes              Yes   \n",
       "4               No           unknown                Yes              Yes   \n",
       "\n",
       "  hear_AA_1                           after_AA  \\\n",
       "0   unknown                            unknown   \n",
       "1    Friend           Finding a job/internship   \n",
       "2    Friend  Improving my data analysis skills   \n",
       "3      ESIH  Improving my data analysis skills   \n",
       "4  WhatsApp                         Mentorship   \n",
       "\n",
       "                               quest_id   age  \n",
       "0  905dc006-ce95-11eb-b2f9-7c67a234f601  22.0  \n",
       "1  905ddcf2-ce95-11eb-9a92-7c67a234f601  24.0  \n",
       "2  905e2608-ce95-11eb-809f-7c67a234f601  24.0  \n",
       "3  905e4cf5-ce95-11eb-96a9-7c67a234f601  24.0  \n",
       "4  905e73fd-ce95-11eb-a7b0-7c67a234f601  23.0  "
      ],
      "text/html": [
       "<div>\n",
       "<style scoped>\n",
       "    .dataframe tbody tr th:only-of-type {\n",
       "        vertical-align: middle;\n",
       "    }\n",
       "\n",
       "    .dataframe tbody tr th {\n",
       "        vertical-align: top;\n",
       "    }\n",
       "\n",
       "    .dataframe thead th {\n",
       "        text-align: right;\n",
       "    }\n",
       "</style>\n",
       "<table border=\"1\" class=\"dataframe\">\n",
       "  <thead>\n",
       "    <tr style=\"text-align: right;\">\n",
       "      <th></th>\n",
       "      <th>Unnamed: 0</th>\n",
       "      <th>gender</th>\n",
       "      <th>dob</th>\n",
       "      <th>commune</th>\n",
       "      <th>created_at</th>\n",
       "      <th>modified_at</th>\n",
       "      <th>department</th>\n",
       "      <th>education_level</th>\n",
       "      <th>university</th>\n",
       "      <th>study_domain</th>\n",
       "      <th>current_employed</th>\n",
       "      <th>formal_sector_job</th>\n",
       "      <th>have_computer_home</th>\n",
       "      <th>internet_at_home</th>\n",
       "      <th>hear_AA_1</th>\n",
       "      <th>after_AA</th>\n",
       "      <th>quest_id</th>\n",
       "      <th>age</th>\n",
       "    </tr>\n",
       "  </thead>\n",
       "  <tbody>\n",
       "    <tr>\n",
       "      <th>0</th>\n",
       "      <td>0</td>\n",
       "      <td>male</td>\n",
       "      <td>1998-08-25</td>\n",
       "      <td>ht0111</td>\n",
       "      <td>2021-02-14</td>\n",
       "      <td>2021-02-14T23:03:52.768462Z</td>\n",
       "      <td>NaN</td>\n",
       "      <td>unknown</td>\n",
       "      <td>unknown</td>\n",
       "      <td>[]</td>\n",
       "      <td>unknown</td>\n",
       "      <td>unknown</td>\n",
       "      <td>unknown</td>\n",
       "      <td>unknown</td>\n",
       "      <td>unknown</td>\n",
       "      <td>unknown</td>\n",
       "      <td>905dc006-ce95-11eb-b2f9-7c67a234f601</td>\n",
       "      <td>22.0</td>\n",
       "    </tr>\n",
       "    <tr>\n",
       "      <th>1</th>\n",
       "      <td>1</td>\n",
       "      <td>female</td>\n",
       "      <td>1996-09-29</td>\n",
       "      <td>ht0111</td>\n",
       "      <td>2021-02-16</td>\n",
       "      <td>2021-02-16T16:01:10.861899Z</td>\n",
       "      <td>ht01</td>\n",
       "      <td>Bachelors (bacc +4)</td>\n",
       "      <td>other</td>\n",
       "      <td>['other']</td>\n",
       "      <td>No</td>\n",
       "      <td>unknown</td>\n",
       "      <td>Yes</td>\n",
       "      <td>Yes</td>\n",
       "      <td>Friend</td>\n",
       "      <td>Finding a job/internship</td>\n",
       "      <td>905ddcf2-ce95-11eb-9a92-7c67a234f601</td>\n",
       "      <td>24.0</td>\n",
       "    </tr>\n",
       "    <tr>\n",
       "      <th>2</th>\n",
       "      <td>2</td>\n",
       "      <td>male</td>\n",
       "      <td>1996-05-17</td>\n",
       "      <td>ht0111</td>\n",
       "      <td>2021-02-16</td>\n",
       "      <td>2021-02-16T16:56:30.579563Z</td>\n",
       "      <td>ht01</td>\n",
       "      <td>Bachelors (bacc +4)</td>\n",
       "      <td>Université d'Etat d'Haïti (UEH)</td>\n",
       "      <td>[]</td>\n",
       "      <td>No</td>\n",
       "      <td>unknown</td>\n",
       "      <td>Yes</td>\n",
       "      <td>Yes</td>\n",
       "      <td>Friend</td>\n",
       "      <td>Improving my data analysis skills</td>\n",
       "      <td>905e2608-ce95-11eb-809f-7c67a234f601</td>\n",
       "      <td>24.0</td>\n",
       "    </tr>\n",
       "    <tr>\n",
       "      <th>3</th>\n",
       "      <td>3</td>\n",
       "      <td>male</td>\n",
       "      <td>1996-11-24</td>\n",
       "      <td>ht0111</td>\n",
       "      <td>2021-02-16</td>\n",
       "      <td>2021-02-16T16:57:55.754582Z</td>\n",
       "      <td>ht01</td>\n",
       "      <td>Bachelors (bacc +4)</td>\n",
       "      <td>Ecole Supérieure d'Infotronique d'Haïti (ESIH)</td>\n",
       "      <td>['item1', 'item6']</td>\n",
       "      <td>No</td>\n",
       "      <td>unknown</td>\n",
       "      <td>Yes</td>\n",
       "      <td>Yes</td>\n",
       "      <td>ESIH</td>\n",
       "      <td>Improving my data analysis skills</td>\n",
       "      <td>905e4cf5-ce95-11eb-96a9-7c67a234f601</td>\n",
       "      <td>24.0</td>\n",
       "    </tr>\n",
       "    <tr>\n",
       "      <th>4</th>\n",
       "      <td>4</td>\n",
       "      <td>male</td>\n",
       "      <td>1997-07-20</td>\n",
       "      <td>ht0111</td>\n",
       "      <td>2021-02-16</td>\n",
       "      <td>2021-02-16T17:05:40.907982Z</td>\n",
       "      <td>ht01</td>\n",
       "      <td>High School (16 years)</td>\n",
       "      <td>unknown</td>\n",
       "      <td>['other']</td>\n",
       "      <td>No</td>\n",
       "      <td>unknown</td>\n",
       "      <td>Yes</td>\n",
       "      <td>Yes</td>\n",
       "      <td>WhatsApp</td>\n",
       "      <td>Mentorship</td>\n",
       "      <td>905e73fd-ce95-11eb-a7b0-7c67a234f601</td>\n",
       "      <td>23.0</td>\n",
       "    </tr>\n",
       "  </tbody>\n",
       "</table>\n",
       "</div>"
      ]
     },
     "metadata": {},
     "execution_count": 13
    }
   ],
   "metadata": {}
  },
  {
   "cell_type": "code",
   "execution_count": 14,
   "source": [
    "#Rename columns Created_at in Transaction\r\n",
    "transaction.rename(columns={\"created_at\":\"moncash_date\"}, inplace=True)\r\n",
    "\r\n",
    "#Rename columns Created_at in Ord\r\n",
    "ord.rename(columns={\"created_at\":\"credit_card_date\"}, inplace=True)\r\n",
    "\r\n",
    "#Rename columns Created_at in enroll\r\n",
    "enroll.rename(columns={\"created_at\":\"Enroll_Date\"}, inplace=True)\r\n",
    "\r\n",
    "#rename columns created-at in quest\r\n",
    "quest.rename(columns={\"created_at\":\"Application_Date\"}, inplace=True)"
   ],
   "outputs": [],
   "metadata": {}
  },
  {
   "cell_type": "code",
   "execution_count": 15,
   "source": [
    "# list  Study domains (use get_dummies)\r\n",
    "study_domainok1 = pd.get_dummies(data=study_domain[[\"key\", \"quest_id\", \"values\"]], columns=['values'], prefix=\"\", prefix_sep=\"\")\r\n",
    "study_domainok2 = study_domainok1.groupby(\"quest_id\").sum()"
   ],
   "outputs": [],
   "metadata": {}
  },
  {
   "cell_type": "code",
   "execution_count": 16,
   "source": [
    "#list Technologies as columns based (use get_dummies)\r\n",
    "technologyok1 = pd.get_dummies(technology[[\"key\", \"quest_id\", \"values\"]], columns=['values'], prefix=\"\", prefix_sep=\"\")\r\n",
    "technologyok2 = technologyok1.groupby(\"quest_id\").sum()"
   ],
   "outputs": [],
   "metadata": {}
  },
  {
   "cell_type": "code",
   "execution_count": 17,
   "source": [
    "# list industry (use get_dummies)\r\n",
    "industryok1= pd.get_dummies(industry[[\"key\", \"quest_id\", \"values\"]], columns=['values'], prefix=\"\", prefix_sep=\"\")\r\n",
    "industryok2= industryok1.groupby(\"quest_id\").sum()"
   ],
   "outputs": [],
   "metadata": {}
  },
  {
   "cell_type": "code",
   "execution_count": 18,
   "source": [
    "\r\n",
    "# Format to date\r\n",
    "transaction.moncash_date = pd.to_datetime(transaction.moncash_date).dt.tz_localize(None)\r\n",
    "ord.credit_card_date= pd.to_datetime(ord.credit_card_date).dt.tz_localize(None)"
   ],
   "outputs": [],
   "metadata": {}
  },
  {
   "cell_type": "code",
   "execution_count": 19,
   "source": [
    "# Merge Tables by \"quest_id\"\r\n",
    "querry0=pd.merge(left=quest, right=enroll, how = 'left',on='quest_id')\r\n",
    "querry1=pd.merge(left=querry0, right=study_domainok2, how = 'left',on='quest_id')\r\n",
    "querry2=pd.merge(left=querry1, right=technologyok2, how = 'left',on='quest_id')\r\n",
    "querry4=pd.merge(left=querry2, right=industryok2, how = 'left',on='quest_id')\r\n"
   ],
   "outputs": [],
   "metadata": {}
  },
  {
   "cell_type": "code",
   "execution_count": 20,
   "source": [
    "querry4.shape"
   ],
   "outputs": [
    {
     "output_type": "execute_result",
     "data": {
      "text/plain": [
       "(250, 67)"
      ]
     },
     "metadata": {},
     "execution_count": 20
    }
   ],
   "metadata": {}
  },
  {
   "cell_type": "code",
   "execution_count": 21,
   "source": [
    "querry4.columns"
   ],
   "outputs": [
    {
     "output_type": "execute_result",
     "data": {
      "text/plain": [
       "Index(['Unnamed: 0_x', 'gender', 'dob', 'commune', 'Application_Date',\n",
       "       'modified_at', 'department', 'education_level', 'university',\n",
       "       'study_domain', 'current_employed', 'formal_sector_job',\n",
       "       'have_computer_home', 'internet_at_home', 'hear_AA_1', 'after_AA',\n",
       "       'quest_id', 'age', 'Unnamed: 0_y', 'Enroll_Date', 'expiry_date',\n",
       "       'user_id', 'course_name', 'course_id', 'percentage_completed',\n",
       "       'completed_at', 'expired', 'is_free_trial', 'completed', 'started_at',\n",
       "       'activated_at', 'updated_at', 'Accounting', 'Computer Science',\n",
       "       'Economics', 'Electrical Engineering', 'Law', 'Management', 'Medicine',\n",
       "       'Statistics', 'other_x', 'Bash', 'Excel', 'Git', 'Java', 'JavaScript',\n",
       "       'PHP', 'PowerBI or Tableau', 'Python', 'R', 'SQL', 'VBA', 'other_y',\n",
       "       'Communications', 'Consulting', 'Education', 'Energy', 'Finance',\n",
       "       'Healthcare', 'Insurance', 'Manufacturing', 'Marketing',\n",
       "       'Public Sector/ Non-Profit Agencies', 'Retail/ E-Commerce',\n",
       "       'Technology (Software/ Internet)', 'Transportation', 'other'],\n",
       "      dtype='object')"
      ]
     },
     "metadata": {},
     "execution_count": 21
    }
   ],
   "metadata": {}
  },
  {
   "cell_type": "code",
   "execution_count": 22,
   "source": [
    "#Merge \"transaction\" by \"user_id\"\r\n",
    "querry5 = pd.merge(left=querry4, right=transaction, how = 'left',on='user_id')\r\n",
    "#Merge \"Ord\" by \"quest_id\"\r\n",
    "querry6 = pd.merge(left=querry5, right=ord, how = 'left',on='quest_id')"
   ],
   "outputs": [],
   "metadata": {}
  },
  {
   "cell_type": "code",
   "execution_count": 23,
   "source": [
    "#rename columns in result6 file\r\n",
    "querry6.rename(columns={\"hear_AA_1\":\"communication_channel\",'after_AA':\"Bootcamp_Interest\",'other_x':\"Others_Study_Domain\",'other_y':\"Others_Technologies\",'other':\"other_industry\",'Commune_FR':\"commune_name\"}, inplace=True)"
   ],
   "outputs": [],
   "metadata": {}
  },
  {
   "cell_type": "code",
   "execution_count": 24,
   "source": [
    "querry6.head()"
   ],
   "outputs": [
    {
     "output_type": "execute_result",
     "data": {
      "text/plain": [
       "   Unnamed: 0_x  gender        dob commune Application_Date  \\\n",
       "0             0    male 1998-08-25  ht0111       2021-02-14   \n",
       "1             1  female 1996-09-29  ht0111       2021-02-16   \n",
       "2             2    male 1996-05-17  ht0111       2021-02-16   \n",
       "3             3    male 1996-11-24  ht0111       2021-02-16   \n",
       "4             4    male 1997-07-20  ht0111       2021-02-16   \n",
       "\n",
       "                 modified_at_x department         education_level  \\\n",
       "0  2021-02-14T23:03:52.768462Z        NaN                 unknown   \n",
       "1  2021-02-16T16:01:10.861899Z       ht01     Bachelors (bacc +4)   \n",
       "2  2021-02-16T16:56:30.579563Z       ht01     Bachelors (bacc +4)   \n",
       "3  2021-02-16T16:57:55.754582Z       ht01     Bachelors (bacc +4)   \n",
       "4  2021-02-16T17:05:40.907982Z       ht01  High School (16 years)   \n",
       "\n",
       "                                       university        study_domain  ...  \\\n",
       "0                                         unknown                  []  ...   \n",
       "1                                           other           ['other']  ...   \n",
       "2                 Université d'Etat d'Haïti (UEH)                  []  ...   \n",
       "3  Ecole Supérieure d'Infotronique d'Haïti (ESIH)  ['item1', 'item6']  ...   \n",
       "4                                         unknown           ['other']  ...   \n",
       "\n",
       "  user_id_y product_name product_id amount_dollars amount_cents subscription  \\\n",
       "0       NaN          NaN        NaN            NaN          NaN          NaN   \n",
       "1       NaN          NaN        NaN            NaN          NaN          NaN   \n",
       "2       NaN          NaN        NaN            NaN          NaN          NaN   \n",
       "3       NaN          NaN        NaN            NaN          NaN          NaN   \n",
       "4       NaN          NaN        NaN            NaN          NaN          NaN   \n",
       "\n",
       "  coupon_code  coupon_id  affiliate_referral_code status  \n",
       "0         NaN        NaN                      NaN    NaN  \n",
       "1         NaN        NaN                      NaN    NaN  \n",
       "2         NaN        NaN                      NaN    NaN  \n",
       "3         NaN        NaN                      NaN    NaN  \n",
       "4         NaN        NaN                      NaN    NaN  \n",
       "\n",
       "[5 rows x 84 columns]"
      ],
      "text/html": [
       "<div>\n",
       "<style scoped>\n",
       "    .dataframe tbody tr th:only-of-type {\n",
       "        vertical-align: middle;\n",
       "    }\n",
       "\n",
       "    .dataframe tbody tr th {\n",
       "        vertical-align: top;\n",
       "    }\n",
       "\n",
       "    .dataframe thead th {\n",
       "        text-align: right;\n",
       "    }\n",
       "</style>\n",
       "<table border=\"1\" class=\"dataframe\">\n",
       "  <thead>\n",
       "    <tr style=\"text-align: right;\">\n",
       "      <th></th>\n",
       "      <th>Unnamed: 0_x</th>\n",
       "      <th>gender</th>\n",
       "      <th>dob</th>\n",
       "      <th>commune</th>\n",
       "      <th>Application_Date</th>\n",
       "      <th>modified_at_x</th>\n",
       "      <th>department</th>\n",
       "      <th>education_level</th>\n",
       "      <th>university</th>\n",
       "      <th>study_domain</th>\n",
       "      <th>...</th>\n",
       "      <th>user_id_y</th>\n",
       "      <th>product_name</th>\n",
       "      <th>product_id</th>\n",
       "      <th>amount_dollars</th>\n",
       "      <th>amount_cents</th>\n",
       "      <th>subscription</th>\n",
       "      <th>coupon_code</th>\n",
       "      <th>coupon_id</th>\n",
       "      <th>affiliate_referral_code</th>\n",
       "      <th>status</th>\n",
       "    </tr>\n",
       "  </thead>\n",
       "  <tbody>\n",
       "    <tr>\n",
       "      <th>0</th>\n",
       "      <td>0</td>\n",
       "      <td>male</td>\n",
       "      <td>1998-08-25</td>\n",
       "      <td>ht0111</td>\n",
       "      <td>2021-02-14</td>\n",
       "      <td>2021-02-14T23:03:52.768462Z</td>\n",
       "      <td>NaN</td>\n",
       "      <td>unknown</td>\n",
       "      <td>unknown</td>\n",
       "      <td>[]</td>\n",
       "      <td>...</td>\n",
       "      <td>NaN</td>\n",
       "      <td>NaN</td>\n",
       "      <td>NaN</td>\n",
       "      <td>NaN</td>\n",
       "      <td>NaN</td>\n",
       "      <td>NaN</td>\n",
       "      <td>NaN</td>\n",
       "      <td>NaN</td>\n",
       "      <td>NaN</td>\n",
       "      <td>NaN</td>\n",
       "    </tr>\n",
       "    <tr>\n",
       "      <th>1</th>\n",
       "      <td>1</td>\n",
       "      <td>female</td>\n",
       "      <td>1996-09-29</td>\n",
       "      <td>ht0111</td>\n",
       "      <td>2021-02-16</td>\n",
       "      <td>2021-02-16T16:01:10.861899Z</td>\n",
       "      <td>ht01</td>\n",
       "      <td>Bachelors (bacc +4)</td>\n",
       "      <td>other</td>\n",
       "      <td>['other']</td>\n",
       "      <td>...</td>\n",
       "      <td>NaN</td>\n",
       "      <td>NaN</td>\n",
       "      <td>NaN</td>\n",
       "      <td>NaN</td>\n",
       "      <td>NaN</td>\n",
       "      <td>NaN</td>\n",
       "      <td>NaN</td>\n",
       "      <td>NaN</td>\n",
       "      <td>NaN</td>\n",
       "      <td>NaN</td>\n",
       "    </tr>\n",
       "    <tr>\n",
       "      <th>2</th>\n",
       "      <td>2</td>\n",
       "      <td>male</td>\n",
       "      <td>1996-05-17</td>\n",
       "      <td>ht0111</td>\n",
       "      <td>2021-02-16</td>\n",
       "      <td>2021-02-16T16:56:30.579563Z</td>\n",
       "      <td>ht01</td>\n",
       "      <td>Bachelors (bacc +4)</td>\n",
       "      <td>Université d'Etat d'Haïti (UEH)</td>\n",
       "      <td>[]</td>\n",
       "      <td>...</td>\n",
       "      <td>NaN</td>\n",
       "      <td>NaN</td>\n",
       "      <td>NaN</td>\n",
       "      <td>NaN</td>\n",
       "      <td>NaN</td>\n",
       "      <td>NaN</td>\n",
       "      <td>NaN</td>\n",
       "      <td>NaN</td>\n",
       "      <td>NaN</td>\n",
       "      <td>NaN</td>\n",
       "    </tr>\n",
       "    <tr>\n",
       "      <th>3</th>\n",
       "      <td>3</td>\n",
       "      <td>male</td>\n",
       "      <td>1996-11-24</td>\n",
       "      <td>ht0111</td>\n",
       "      <td>2021-02-16</td>\n",
       "      <td>2021-02-16T16:57:55.754582Z</td>\n",
       "      <td>ht01</td>\n",
       "      <td>Bachelors (bacc +4)</td>\n",
       "      <td>Ecole Supérieure d'Infotronique d'Haïti (ESIH)</td>\n",
       "      <td>['item1', 'item6']</td>\n",
       "      <td>...</td>\n",
       "      <td>NaN</td>\n",
       "      <td>NaN</td>\n",
       "      <td>NaN</td>\n",
       "      <td>NaN</td>\n",
       "      <td>NaN</td>\n",
       "      <td>NaN</td>\n",
       "      <td>NaN</td>\n",
       "      <td>NaN</td>\n",
       "      <td>NaN</td>\n",
       "      <td>NaN</td>\n",
       "    </tr>\n",
       "    <tr>\n",
       "      <th>4</th>\n",
       "      <td>4</td>\n",
       "      <td>male</td>\n",
       "      <td>1997-07-20</td>\n",
       "      <td>ht0111</td>\n",
       "      <td>2021-02-16</td>\n",
       "      <td>2021-02-16T17:05:40.907982Z</td>\n",
       "      <td>ht01</td>\n",
       "      <td>High School (16 years)</td>\n",
       "      <td>unknown</td>\n",
       "      <td>['other']</td>\n",
       "      <td>...</td>\n",
       "      <td>NaN</td>\n",
       "      <td>NaN</td>\n",
       "      <td>NaN</td>\n",
       "      <td>NaN</td>\n",
       "      <td>NaN</td>\n",
       "      <td>NaN</td>\n",
       "      <td>NaN</td>\n",
       "      <td>NaN</td>\n",
       "      <td>NaN</td>\n",
       "      <td>NaN</td>\n",
       "    </tr>\n",
       "  </tbody>\n",
       "</table>\n",
       "<p>5 rows × 84 columns</p>\n",
       "</div>"
      ]
     },
     "metadata": {},
     "execution_count": 24
    }
   ],
   "metadata": {}
  },
  {
   "cell_type": "code",
   "execution_count": 25,
   "source": [
    "# create columns named \"is_enroll\"and  \"payed\"\r\n",
    "querry6[\"is_enroll\"] = 'No'\r\n",
    "querry6.loc[~querry6.Enroll_Date.isna(),[\"is_enroll\"]] =\"Yes\"\r\n",
    "\r\n",
    "querry6[\"payed\"] = 'No'\r\n",
    "querry6.loc[~(querry6.credit_card_date.isna() & querry6.moncash_date.isna()),[\"payed\"]] =\"Yes\""
   ],
   "outputs": [],
   "metadata": {}
  },
  {
   "cell_type": "code",
   "execution_count": 26,
   "source": [
    "querry6.rename(columns={\"created_at\": \"application_date\", \"hear_AA_1\":\"channels\",\"after_AA\":\"interest\"}, inplace=True)"
   ],
   "outputs": [],
   "metadata": {}
  },
  {
   "cell_type": "code",
   "execution_count": 27,
   "source": [
    "commune[\"Commune_Id\"] = commune[\"Commune_Id\"].str.lower()\r\n",
    "commune.rename(columns = {\"Commune_Id\": \"commune\"}, inplace = True)"
   ],
   "outputs": [],
   "metadata": {}
  },
  {
   "cell_type": "code",
   "execution_count": 28,
   "source": [
    "# Merge Result3 and Commune\r\n",
    "querry7=pd.merge(left=querry6, right=commune[[\"Commune_FR\",\"Departement\", \"commune\"]], how = 'left',on='commune')"
   ],
   "outputs": [],
   "metadata": {}
  },
  {
   "cell_type": "code",
   "execution_count": 29,
   "source": [
    "querry7.head()"
   ],
   "outputs": [
    {
     "output_type": "execute_result",
     "data": {
      "text/plain": [
       "   Unnamed: 0_x  gender        dob commune Application_Date  \\\n",
       "0             0    male 1998-08-25  ht0111       2021-02-14   \n",
       "1             1  female 1996-09-29  ht0111       2021-02-16   \n",
       "2             2    male 1996-05-17  ht0111       2021-02-16   \n",
       "3             3    male 1996-11-24  ht0111       2021-02-16   \n",
       "4             4    male 1997-07-20  ht0111       2021-02-16   \n",
       "\n",
       "                 modified_at_x department         education_level  \\\n",
       "0  2021-02-14T23:03:52.768462Z        NaN                 unknown   \n",
       "1  2021-02-16T16:01:10.861899Z       ht01     Bachelors (bacc +4)   \n",
       "2  2021-02-16T16:56:30.579563Z       ht01     Bachelors (bacc +4)   \n",
       "3  2021-02-16T16:57:55.754582Z       ht01     Bachelors (bacc +4)   \n",
       "4  2021-02-16T17:05:40.907982Z       ht01  High School (16 years)   \n",
       "\n",
       "                                       university        study_domain  ...  \\\n",
       "0                                         unknown                  []  ...   \n",
       "1                                           other           ['other']  ...   \n",
       "2                 Université d'Etat d'Haïti (UEH)                  []  ...   \n",
       "3  Ecole Supérieure d'Infotronique d'Haïti (ESIH)  ['item1', 'item6']  ...   \n",
       "4                                         unknown           ['other']  ...   \n",
       "\n",
       "  amount_cents subscription coupon_code coupon_id affiliate_referral_code  \\\n",
       "0          NaN          NaN         NaN       NaN                     NaN   \n",
       "1          NaN          NaN         NaN       NaN                     NaN   \n",
       "2          NaN          NaN         NaN       NaN                     NaN   \n",
       "3          NaN          NaN         NaN       NaN                     NaN   \n",
       "4          NaN          NaN         NaN       NaN                     NaN   \n",
       "\n",
       "  status is_enroll  payed      Commune_FR Departement  \n",
       "0    NaN       Yes     No  Port-au-Prince        West  \n",
       "1    NaN        No     No  Port-au-Prince        West  \n",
       "2    NaN       Yes    Yes  Port-au-Prince        West  \n",
       "3    NaN        No     No  Port-au-Prince        West  \n",
       "4    NaN        No     No  Port-au-Prince        West  \n",
       "\n",
       "[5 rows x 88 columns]"
      ],
      "text/html": [
       "<div>\n",
       "<style scoped>\n",
       "    .dataframe tbody tr th:only-of-type {\n",
       "        vertical-align: middle;\n",
       "    }\n",
       "\n",
       "    .dataframe tbody tr th {\n",
       "        vertical-align: top;\n",
       "    }\n",
       "\n",
       "    .dataframe thead th {\n",
       "        text-align: right;\n",
       "    }\n",
       "</style>\n",
       "<table border=\"1\" class=\"dataframe\">\n",
       "  <thead>\n",
       "    <tr style=\"text-align: right;\">\n",
       "      <th></th>\n",
       "      <th>Unnamed: 0_x</th>\n",
       "      <th>gender</th>\n",
       "      <th>dob</th>\n",
       "      <th>commune</th>\n",
       "      <th>Application_Date</th>\n",
       "      <th>modified_at_x</th>\n",
       "      <th>department</th>\n",
       "      <th>education_level</th>\n",
       "      <th>university</th>\n",
       "      <th>study_domain</th>\n",
       "      <th>...</th>\n",
       "      <th>amount_cents</th>\n",
       "      <th>subscription</th>\n",
       "      <th>coupon_code</th>\n",
       "      <th>coupon_id</th>\n",
       "      <th>affiliate_referral_code</th>\n",
       "      <th>status</th>\n",
       "      <th>is_enroll</th>\n",
       "      <th>payed</th>\n",
       "      <th>Commune_FR</th>\n",
       "      <th>Departement</th>\n",
       "    </tr>\n",
       "  </thead>\n",
       "  <tbody>\n",
       "    <tr>\n",
       "      <th>0</th>\n",
       "      <td>0</td>\n",
       "      <td>male</td>\n",
       "      <td>1998-08-25</td>\n",
       "      <td>ht0111</td>\n",
       "      <td>2021-02-14</td>\n",
       "      <td>2021-02-14T23:03:52.768462Z</td>\n",
       "      <td>NaN</td>\n",
       "      <td>unknown</td>\n",
       "      <td>unknown</td>\n",
       "      <td>[]</td>\n",
       "      <td>...</td>\n",
       "      <td>NaN</td>\n",
       "      <td>NaN</td>\n",
       "      <td>NaN</td>\n",
       "      <td>NaN</td>\n",
       "      <td>NaN</td>\n",
       "      <td>NaN</td>\n",
       "      <td>Yes</td>\n",
       "      <td>No</td>\n",
       "      <td>Port-au-Prince</td>\n",
       "      <td>West</td>\n",
       "    </tr>\n",
       "    <tr>\n",
       "      <th>1</th>\n",
       "      <td>1</td>\n",
       "      <td>female</td>\n",
       "      <td>1996-09-29</td>\n",
       "      <td>ht0111</td>\n",
       "      <td>2021-02-16</td>\n",
       "      <td>2021-02-16T16:01:10.861899Z</td>\n",
       "      <td>ht01</td>\n",
       "      <td>Bachelors (bacc +4)</td>\n",
       "      <td>other</td>\n",
       "      <td>['other']</td>\n",
       "      <td>...</td>\n",
       "      <td>NaN</td>\n",
       "      <td>NaN</td>\n",
       "      <td>NaN</td>\n",
       "      <td>NaN</td>\n",
       "      <td>NaN</td>\n",
       "      <td>NaN</td>\n",
       "      <td>No</td>\n",
       "      <td>No</td>\n",
       "      <td>Port-au-Prince</td>\n",
       "      <td>West</td>\n",
       "    </tr>\n",
       "    <tr>\n",
       "      <th>2</th>\n",
       "      <td>2</td>\n",
       "      <td>male</td>\n",
       "      <td>1996-05-17</td>\n",
       "      <td>ht0111</td>\n",
       "      <td>2021-02-16</td>\n",
       "      <td>2021-02-16T16:56:30.579563Z</td>\n",
       "      <td>ht01</td>\n",
       "      <td>Bachelors (bacc +4)</td>\n",
       "      <td>Université d'Etat d'Haïti (UEH)</td>\n",
       "      <td>[]</td>\n",
       "      <td>...</td>\n",
       "      <td>NaN</td>\n",
       "      <td>NaN</td>\n",
       "      <td>NaN</td>\n",
       "      <td>NaN</td>\n",
       "      <td>NaN</td>\n",
       "      <td>NaN</td>\n",
       "      <td>Yes</td>\n",
       "      <td>Yes</td>\n",
       "      <td>Port-au-Prince</td>\n",
       "      <td>West</td>\n",
       "    </tr>\n",
       "    <tr>\n",
       "      <th>3</th>\n",
       "      <td>3</td>\n",
       "      <td>male</td>\n",
       "      <td>1996-11-24</td>\n",
       "      <td>ht0111</td>\n",
       "      <td>2021-02-16</td>\n",
       "      <td>2021-02-16T16:57:55.754582Z</td>\n",
       "      <td>ht01</td>\n",
       "      <td>Bachelors (bacc +4)</td>\n",
       "      <td>Ecole Supérieure d'Infotronique d'Haïti (ESIH)</td>\n",
       "      <td>['item1', 'item6']</td>\n",
       "      <td>...</td>\n",
       "      <td>NaN</td>\n",
       "      <td>NaN</td>\n",
       "      <td>NaN</td>\n",
       "      <td>NaN</td>\n",
       "      <td>NaN</td>\n",
       "      <td>NaN</td>\n",
       "      <td>No</td>\n",
       "      <td>No</td>\n",
       "      <td>Port-au-Prince</td>\n",
       "      <td>West</td>\n",
       "    </tr>\n",
       "    <tr>\n",
       "      <th>4</th>\n",
       "      <td>4</td>\n",
       "      <td>male</td>\n",
       "      <td>1997-07-20</td>\n",
       "      <td>ht0111</td>\n",
       "      <td>2021-02-16</td>\n",
       "      <td>2021-02-16T17:05:40.907982Z</td>\n",
       "      <td>ht01</td>\n",
       "      <td>High School (16 years)</td>\n",
       "      <td>unknown</td>\n",
       "      <td>['other']</td>\n",
       "      <td>...</td>\n",
       "      <td>NaN</td>\n",
       "      <td>NaN</td>\n",
       "      <td>NaN</td>\n",
       "      <td>NaN</td>\n",
       "      <td>NaN</td>\n",
       "      <td>NaN</td>\n",
       "      <td>No</td>\n",
       "      <td>No</td>\n",
       "      <td>Port-au-Prince</td>\n",
       "      <td>West</td>\n",
       "    </tr>\n",
       "  </tbody>\n",
       "</table>\n",
       "<p>5 rows × 88 columns</p>\n",
       "</div>"
      ]
     },
     "metadata": {},
     "execution_count": 29
    }
   ],
   "metadata": {}
  },
  {
   "cell_type": "code",
   "execution_count": 30,
   "source": [
    "#rename the columns\r\n",
    "querry7.rename(columns={'hear_AA_1':\"Communication_Channel\",\"after_AA\":\"Bootcamp_Interest\",\"other_x\":\"Other_Study_Domain\",\"created_at\":\"Inscription_Date\"}, inplace=True)"
   ],
   "outputs": [],
   "metadata": {}
  },
  {
   "cell_type": "code",
   "execution_count": 31,
   "source": [
    "querry7.columns"
   ],
   "outputs": [
    {
     "output_type": "execute_result",
     "data": {
      "text/plain": [
       "Index(['Unnamed: 0_x', 'gender', 'dob', 'commune', 'Application_Date',\n",
       "       'modified_at_x', 'department', 'education_level', 'university',\n",
       "       'study_domain', 'current_employed', 'formal_sector_job',\n",
       "       'have_computer_home', 'internet_at_home', 'communication_channel',\n",
       "       'Bootcamp_Interest', 'quest_id', 'age', 'Unnamed: 0_y', 'Enroll_Date',\n",
       "       'expiry_date', 'user_id_x', 'course_name', 'course_id_x',\n",
       "       'percentage_completed', 'completed_at', 'expired', 'is_free_trial',\n",
       "       'completed', 'started_at', 'activated_at', 'updated_at', 'Accounting',\n",
       "       'Computer Science', 'Economics', 'Electrical Engineering', 'Law',\n",
       "       'Management', 'Medicine', 'Statistics', 'Others_Study_Domain', 'Bash',\n",
       "       'Excel', 'Git', 'Java', 'JavaScript', 'PHP', 'PowerBI or Tableau',\n",
       "       'Python', 'R', 'SQL', 'VBA', 'Others_Technologies', 'Communications',\n",
       "       'Consulting', 'Education', 'Energy', 'Finance', 'Healthcare',\n",
       "       'Insurance', 'Manufacturing', 'Marketing',\n",
       "       'Public Sector/ Non-Profit Agencies', 'Retail/ E-Commerce',\n",
       "       'Technology (Software/ Internet)', 'Transportation', 'other_industry',\n",
       "       'Unnamed: 0_x', 'moncash_date', 'modified_at_y', 'course_id_y',\n",
       "       'transaction_id', 'Unnamed: 0_y', 'credit_card_date', 'user_id_y',\n",
       "       'product_name', 'product_id', 'amount_dollars', 'amount_cents',\n",
       "       'subscription', 'coupon_code', 'coupon_id', 'affiliate_referral_code',\n",
       "       'status', 'is_enroll', 'payed', 'Commune_FR', 'Departement'],\n",
       "      dtype='object')"
      ]
     },
     "metadata": {},
     "execution_count": 31
    }
   ],
   "metadata": {}
  },
  {
   "cell_type": "code",
   "execution_count": 32,
   "source": [
    "#Drop Columns\r\n",
    "querry7.drop([ 'user_id_y',\r\n",
    "       'product_name', 'product_id', 'amount_dollars', 'amount_cents',\r\n",
    "       'subscription', 'coupon_code', 'coupon_id', 'affiliate_referral_code',], axis=\"columns\" , inplace=True)"
   ],
   "outputs": [],
   "metadata": {}
  },
  {
   "cell_type": "code",
   "execution_count": 33,
   "source": [
    "#Drop Columns\r\n",
    "querry7.drop([ 'Technology (Software/ Internet)',\r\n",
    "       'Transportation', 'other_industry', 'moncash_date', 'modified_at_y',\r\n",
    "       'course_id_y', 'transaction_id', 'credit_card_date', 'status',], axis=\"columns\" , inplace=True)"
   ],
   "outputs": [],
   "metadata": {}
  },
  {
   "cell_type": "code",
   "execution_count": 34,
   "source": [
    "querry7.info()"
   ],
   "outputs": [
    {
     "output_type": "stream",
     "name": "stdout",
     "text": [
      "<class 'pandas.core.frame.DataFrame'>\n",
      "Int64Index: 250 entries, 0 to 249\n",
      "Data columns (total 70 columns):\n",
      " #   Column                              Non-Null Count  Dtype         \n",
      "---  ------                              --------------  -----         \n",
      " 0   Unnamed: 0_x                        250 non-null    int64         \n",
      " 1   gender                              250 non-null    object        \n",
      " 2   dob                                 244 non-null    datetime64[ns]\n",
      " 3   commune                             250 non-null    object        \n",
      " 4   Application_Date                    250 non-null    datetime64[ns]\n",
      " 5   modified_at_x                       250 non-null    object        \n",
      " 6   department                          249 non-null    object        \n",
      " 7   education_level                     250 non-null    object        \n",
      " 8   university                          250 non-null    object        \n",
      " 9   study_domain                        250 non-null    object        \n",
      " 10  current_employed                    250 non-null    object        \n",
      " 11  formal_sector_job                   250 non-null    object        \n",
      " 12  have_computer_home                  250 non-null    object        \n",
      " 13  internet_at_home                    250 non-null    object        \n",
      " 14  communication_channel               250 non-null    object        \n",
      " 15  Bootcamp_Interest                   250 non-null    object        \n",
      " 16  quest_id                            250 non-null    object        \n",
      " 17  age                                 237 non-null    float64       \n",
      " 18  Unnamed: 0_y                        102 non-null    float64       \n",
      " 19  Enroll_Date                         102 non-null    object        \n",
      " 20  expiry_date                         51 non-null     object        \n",
      " 21  user_id_x                           102 non-null    float64       \n",
      " 22  course_name                         102 non-null    object        \n",
      " 23  course_id_x                         102 non-null    float64       \n",
      " 24  percentage_completed                102 non-null    float64       \n",
      " 25  completed_at                        0 non-null      float64       \n",
      " 26  expired                             102 non-null    object        \n",
      " 27  is_free_trial                       102 non-null    object        \n",
      " 28  completed                           102 non-null    object        \n",
      " 29  started_at                          100 non-null    object        \n",
      " 30  activated_at                        65 non-null     object        \n",
      " 31  updated_at                          102 non-null    object        \n",
      " 32  Accounting                          244 non-null    float64       \n",
      " 33  Computer Science                    244 non-null    float64       \n",
      " 34  Economics                           244 non-null    float64       \n",
      " 35  Electrical Engineering              244 non-null    float64       \n",
      " 36  Law                                 244 non-null    float64       \n",
      " 37  Management                          244 non-null    float64       \n",
      " 38  Medicine                            244 non-null    float64       \n",
      " 39  Statistics                          244 non-null    float64       \n",
      " 40  Others_Study_Domain                 244 non-null    float64       \n",
      " 41  Bash                                244 non-null    float64       \n",
      " 42  Excel                               244 non-null    float64       \n",
      " 43  Git                                 244 non-null    float64       \n",
      " 44  Java                                244 non-null    float64       \n",
      " 45  JavaScript                          244 non-null    float64       \n",
      " 46  PHP                                 244 non-null    float64       \n",
      " 47  PowerBI or Tableau                  244 non-null    float64       \n",
      " 48  Python                              244 non-null    float64       \n",
      " 49  R                                   244 non-null    float64       \n",
      " 50  SQL                                 244 non-null    float64       \n",
      " 51  VBA                                 244 non-null    float64       \n",
      " 52  Others_Technologies                 244 non-null    float64       \n",
      " 53  Communications                      246 non-null    float64       \n",
      " 54  Consulting                          246 non-null    float64       \n",
      " 55  Education                           246 non-null    float64       \n",
      " 56  Energy                              246 non-null    float64       \n",
      " 57  Finance                             246 non-null    float64       \n",
      " 58  Healthcare                          246 non-null    float64       \n",
      " 59  Insurance                           246 non-null    float64       \n",
      " 60  Manufacturing                       246 non-null    float64       \n",
      " 61  Marketing                           246 non-null    float64       \n",
      " 62  Public Sector/ Non-Profit Agencies  246 non-null    float64       \n",
      " 63  Retail/ E-Commerce                  246 non-null    float64       \n",
      " 64  Unnamed: 0_x                        51 non-null     float64       \n",
      " 65  Unnamed: 0_y                        14 non-null     float64       \n",
      " 66  is_enroll                           250 non-null    object        \n",
      " 67  payed                               250 non-null    object        \n",
      " 68  Commune_FR                          250 non-null    object        \n",
      " 69  Departement                         250 non-null    object        \n",
      "dtypes: datetime64[ns](2), float64(40), int64(1), object(27)\n",
      "memory usage: 138.7+ KB\n"
     ]
    }
   ],
   "metadata": {}
  },
  {
   "cell_type": "code",
   "execution_count": 35,
   "source": [
    "querry7.columns"
   ],
   "outputs": [
    {
     "output_type": "execute_result",
     "data": {
      "text/plain": [
       "Index(['Unnamed: 0_x', 'gender', 'dob', 'commune', 'Application_Date',\n",
       "       'modified_at_x', 'department', 'education_level', 'university',\n",
       "       'study_domain', 'current_employed', 'formal_sector_job',\n",
       "       'have_computer_home', 'internet_at_home', 'communication_channel',\n",
       "       'Bootcamp_Interest', 'quest_id', 'age', 'Unnamed: 0_y', 'Enroll_Date',\n",
       "       'expiry_date', 'user_id_x', 'course_name', 'course_id_x',\n",
       "       'percentage_completed', 'completed_at', 'expired', 'is_free_trial',\n",
       "       'completed', 'started_at', 'activated_at', 'updated_at', 'Accounting',\n",
       "       'Computer Science', 'Economics', 'Electrical Engineering', 'Law',\n",
       "       'Management', 'Medicine', 'Statistics', 'Others_Study_Domain', 'Bash',\n",
       "       'Excel', 'Git', 'Java', 'JavaScript', 'PHP', 'PowerBI or Tableau',\n",
       "       'Python', 'R', 'SQL', 'VBA', 'Others_Technologies', 'Communications',\n",
       "       'Consulting', 'Education', 'Energy', 'Finance', 'Healthcare',\n",
       "       'Insurance', 'Manufacturing', 'Marketing',\n",
       "       'Public Sector/ Non-Profit Agencies', 'Retail/ E-Commerce',\n",
       "       'Unnamed: 0_x', 'Unnamed: 0_y', 'is_enroll', 'payed', 'Commune_FR',\n",
       "       'Departement'],\n",
       "      dtype='object')"
      ]
     },
     "metadata": {},
     "execution_count": 35
    }
   ],
   "metadata": {}
  },
  {
   "cell_type": "code",
   "execution_count": 36,
   "source": [
    "querry7.drop([ 'Unnamed: 0_x','dob', 'commune','modified_at_x','study_domain','current_employed','Unnamed: 0_y','expiry_date', 'user_id_x', 'course_name', 'course_id_x','percentage_completed', 'completed_at', 'expired', 'is_free_trial',\r\n",
    "       'completed', 'started_at', 'activated_at', 'updated_at','Bash', 'VBA', 'Communications',\r\n",
    "       'Consulting', 'Education', 'Energy', 'Finance', 'Healthcare',\r\n",
    "       'Insurance', 'Manufacturing', 'Marketing',\r\n",
    "       'Public Sector/ Non-Profit Agencies', 'Retail/ E-Commerce',\r\n",
    "       'Unnamed: 0_x', 'Unnamed: 0_y',], axis=\"columns\" , inplace=True)"
   ],
   "outputs": [],
   "metadata": {}
  },
  {
   "cell_type": "code",
   "execution_count": 37,
   "source": [
    "querry7.columns"
   ],
   "outputs": [
    {
     "output_type": "execute_result",
     "data": {
      "text/plain": [
       "Index(['gender', 'Application_Date', 'department', 'education_level',\n",
       "       'university', 'formal_sector_job', 'have_computer_home',\n",
       "       'internet_at_home', 'communication_channel', 'Bootcamp_Interest',\n",
       "       'quest_id', 'age', 'Enroll_Date', 'Accounting', 'Computer Science',\n",
       "       'Economics', 'Electrical Engineering', 'Law', 'Management', 'Medicine',\n",
       "       'Statistics', 'Others_Study_Domain', 'Excel', 'Git', 'Java',\n",
       "       'JavaScript', 'PHP', 'PowerBI or Tableau', 'Python', 'R', 'SQL',\n",
       "       'Others_Technologies', 'is_enroll', 'payed', 'Commune_FR',\n",
       "       'Departement'],\n",
       "      dtype='object')"
      ]
     },
     "metadata": {},
     "execution_count": 37
    }
   ],
   "metadata": {}
  },
  {
   "cell_type": "markdown",
   "source": [
    "###  1. How many observations and variables are there in the dataset\n",
    " "
   ],
   "metadata": {}
  },
  {
   "cell_type": "code",
   "execution_count": 38,
   "source": [
    "# here your codes\r\n",
    "x=querry7.shape\r\n",
    "print(\"the dataset have \"+str(x[0])+\" observations and \"+str(x[1])+\" variables\")"
   ],
   "outputs": [
    {
     "output_type": "stream",
     "name": "stdout",
     "text": [
      "the dataset have 250 observations and 36 variables\n"
     ]
    }
   ],
   "metadata": {}
  },
  {
   "cell_type": "markdown",
   "source": [
    "### 2.A Calculate the average age of the observations\n",
    "   * On the whole dataset\n",
    "   * On the whole male dataset\n",
    "   * On all the female dataset\n",
    "### 2.B Calculate \n",
    "   * variance of the whole datatset,male and female\n",
    "   * kurtosis of the whole datatset,male and female\n",
    "   * skewness of the whole datatset,male and female\n",
    "### 2.C Does the age distribution follow a normal distribution \n",
    "   "
   ],
   "metadata": {}
  },
  {
   "cell_type": "code",
   "execution_count": 39,
   "source": [
    "#2A\r\n",
    "B=querry7[\"age\"].mean()\r\n",
    "print(f\" The average age on the role dataset is {B} years. \")\r\n",
    "\r\n",
    "# Average age of the observation on the whole male dataset\r\n",
    "male=querry7[querry7[\"gender\"]==\"male\"]\r\n",
    "male_mean=male.age.mean()\r\n",
    "print(f\" The average age on the male dataset is {male_mean} years. \")\r\n",
    "\r\n",
    "# Average age of the observation on the whole female dataset\r\n",
    "female=querry7[querry7[\"gender\"]==\"female\"]\r\n",
    "female_mean=female.age.mean()\r\n",
    "print(f\" The average age on the female dataset is {female_mean} years. \")"
   ],
   "outputs": [
    {
     "output_type": "stream",
     "name": "stdout",
     "text": [
      " The average age on the role dataset is 27.282700421940927 years. \n",
      " The average age on the male dataset is 27.515463917525775 years. \n",
      " The average age on the female dataset is 26.232558139534884 years. \n"
     ]
    }
   ],
   "metadata": {}
  },
  {
   "cell_type": "code",
   "execution_count": 40,
   "source": [
    "#2B\r\n",
    "#variance of the whole dataset,male and female\r\n",
    "var=querry7['age'].var()\r\n",
    "print(f'The variance of the whole dataset is: {var}. ')\r\n",
    "\r\n",
    "# variance of the whole male dataset\r\n",
    "var1=male['age'].var()\r\n",
    "print(f'The variance of the whole male dataset is: {var1}. ')\r\n",
    "\r\n",
    "# variance of the whole female dataset\r\n",
    "var2=female['age'].var()\r\n",
    "print(f'The variance of the whole feamale dataset is: {var2}. ')\r\n"
   ],
   "outputs": [
    {
     "output_type": "stream",
     "name": "stdout",
     "text": [
      "The variance of the whole dataset is: 31.305335049703213. \n",
      "The variance of the whole male dataset is: 31.494578281074737. \n",
      "The variance of the whole feamale dataset is: 29.80177187153931. \n"
     ]
    }
   ],
   "metadata": {}
  },
  {
   "cell_type": "code",
   "execution_count": 41,
   "source": [
    "querry7[\"age\"].replace({np.nan: B}, inplace=True)"
   ],
   "outputs": [],
   "metadata": {}
  },
  {
   "cell_type": "code",
   "execution_count": 42,
   "source": [
    "fin_querry = querry7[[\"age\", \"gender\"]]"
   ],
   "outputs": [],
   "metadata": {}
  },
  {
   "cell_type": "code",
   "execution_count": 43,
   "source": [
    "#kurtosis of the whole dataset(male, female)\r\n",
    "print(\"The kurtosis for the whole dataset is \"+str(round(querry7[\"age\"].kurtosis(),1)))\r\n",
    "kurt_male = fin_querry[fin_querry[\"gender\"]=='male'].kurtosis()\r\n",
    "kurt_female = fin_querry[fin_querry[\"gender\"]=='female'].kurtosis()\r\n",
    "print(\"The kurtosis for male is: {}\".format(round(kurt_male,1)))\r\n",
    "print(\"The female's kurtosis is :\"+str(round(kurt_female,1)))"
   ],
   "outputs": [
    {
     "output_type": "stream",
     "name": "stdout",
     "text": [
      "The kurtosis for the whole dataset is 2.6\n",
      "The kurtosis for male is: age    2.5\n",
      "dtype: float64\n",
      "The female's kurtosis is :age    4.3\n",
      "dtype: float64\n"
     ]
    }
   ],
   "metadata": {}
  },
  {
   "cell_type": "code",
   "execution_count": 44,
   "source": [
    "#skewness of the whole dataset, male and female\r\n",
    "print(\"The Skewness for the whole dataset is \"+str(round(querry7[\"age\"].skew(),1)))\r\n",
    "skew_male = fin_querry[fin_querry[\"gender\"]=='male'].skew()\r\n",
    "skew_female = fin_querry[fin_querry[\"gender\"]=='female'].skew()\r\n",
    "print(\"The Skewness  male is {}\".format(round(skew_male,1)))\r\n",
    "print(\"The Skewness female is \"+str(round(skew_female,1)))"
   ],
   "outputs": [
    {
     "output_type": "stream",
     "name": "stdout",
     "text": [
      "The Skewness for the whole dataset is 1.5\n",
      "The Skewness  male is age    1.4\n",
      "dtype: float64\n",
      "The Skewness female is age    1.9\n",
      "dtype: float64\n"
     ]
    }
   ],
   "metadata": {}
  },
  {
   "cell_type": "code",
   "execution_count": 45,
   "source": [
    "rng = np.random.default_rng()\r\n",
    "x = querry7.age\r\n",
    "shapiro_test = shapiro(x)\r\n",
    "shapiro_test\r\n",
    "#perform Jarque-Bera test\r\n",
    "resultat = jarque_bera(x)\r\n",
    "if resultat[1]>0:\r\n",
    "  print(f\"Since this p-value = {resultat[1]} is not less than .05, we fail to reject the null hypothesis.\")\r\n",
    "else: \r\n",
    "  print(f\"Since this p-value = {resultat[1]}, is less than .05, we reject the null hypothesis. Thus, \\nwe have sufficient evidence to say that this data has skewness and kurtosis that is \\nsignificantly different from a normal distribution.\")"
   ],
   "outputs": [
    {
     "output_type": "stream",
     "name": "stdout",
     "text": [
      "Since this p-value = 0.0, is less than .05, we reject the null hypothesis. Thus, \n",
      "we have sufficient evidence to say that this data has skewness and kurtosis that is \n",
      "significantly different from a normal distribution.\n"
     ]
    }
   ],
   "metadata": {}
  },
  {
   "cell_type": "markdown",
   "source": [
    "### 3.Display the age frequency disbrution\n",
    "   * On the whole dataset\n",
    "   * On the whole male dataset\n",
    "   * On all the female dataset"
   ],
   "metadata": {}
  },
  {
   "cell_type": "code",
   "execution_count": 46,
   "source": [
    "#Display\r\n",
    "bins = 20\r\n",
    "sns.displot(fin_querry['age'],bins = bins,kde = True)\r\n",
    "\r\n",
    "sns.displot(fin_querry[fin_querry['gender']== 'male'].age, bins = bins,kde = True)"
   ],
   "outputs": [
    {
     "output_type": "execute_result",
     "data": {
      "text/plain": [
       "<seaborn.axisgrid.FacetGrid at 0x22082bf1cd0>"
      ]
     },
     "metadata": {},
     "execution_count": 46
    },
    {
     "output_type": "display_data",
     "data": {
      "text/plain": [
       "<Figure size 360x360 with 1 Axes>"
      ],
      "image/svg+xml": "<?xml version=\"1.0\" encoding=\"utf-8\" standalone=\"no\"?>\r\n<!DOCTYPE svg PUBLIC \"-//W3C//DTD SVG 1.1//EN\"\r\n  \"http://www.w3.org/Graphics/SVG/1.1/DTD/svg11.dtd\">\r\n<!-- Created with matplotlib (https://matplotlib.org/) -->\r\n<svg height=\"352.15625pt\" version=\"1.1\" viewBox=\"0 0 352.453125 352.15625\" width=\"352.453125pt\" xmlns=\"http://www.w3.org/2000/svg\" xmlns:xlink=\"http://www.w3.org/1999/xlink\">\r\n <metadata>\r\n  <rdf:RDF xmlns:cc=\"http://creativecommons.org/ns#\" xmlns:dc=\"http://purl.org/dc/elements/1.1/\" xmlns:rdf=\"http://www.w3.org/1999/02/22-rdf-syntax-ns#\">\r\n   <cc:Work>\r\n    <dc:type rdf:resource=\"http://purl.org/dc/dcmitype/StillImage\"/>\r\n    <dc:date>2021-08-06T22:26:42.409527</dc:date>\r\n    <dc:format>image/svg+xml</dc:format>\r\n    <dc:creator>\r\n     <cc:Agent>\r\n      <dc:title>Matplotlib v3.3.2, https://matplotlib.org/</dc:title>\r\n     </cc:Agent>\r\n    </dc:creator>\r\n   </cc:Work>\r\n  </rdf:RDF>\r\n </metadata>\r\n <defs>\r\n  <style type=\"text/css\">*{stroke-linecap:butt;stroke-linejoin:round;}</style>\r\n </defs>\r\n <g id=\"figure_1\">\r\n  <g id=\"patch_1\">\r\n   <path d=\"M -0 352.15625 \r\nL 352.453125 352.15625 \r\nL 352.453125 0 \r\nL -0 0 \r\nz\r\n\" style=\"fill:none;\"/>\r\n  </g>\r\n  <g id=\"axes_1\">\r\n   <g id=\"patch_2\">\r\n    <path d=\"M 40.603125 314.6 \r\nL 345.253125 314.6 \r\nL 345.253125 7.2 \r\nL 40.603125 7.2 \r\nz\r\n\" style=\"fill:#ffffff;\"/>\r\n   </g>\r\n   <g id=\"patch_3\">\r\n    <path clip-path=\"url(#p66b7508c28)\" d=\"M 54.450852 314.6 \r\nL 68.29858 314.6 \r\nL 68.29858 303.552381 \r\nL 54.450852 303.552381 \r\nz\r\n\" style=\"fill:#1f77b4;fill-opacity:0.5;stroke:#000000;stroke-linejoin:miter;\"/>\r\n   </g>\r\n   <g id=\"patch_4\">\r\n    <path clip-path=\"url(#p66b7508c28)\" d=\"M 68.29858 314.6 \r\nL 82.146307 314.6 \r\nL 82.146307 226.219048 \r\nL 68.29858 226.219048 \r\nz\r\n\" style=\"fill:#1f77b4;fill-opacity:0.5;stroke:#000000;stroke-linejoin:miter;\"/>\r\n   </g>\r\n   <g id=\"patch_5\">\r\n    <path clip-path=\"url(#p66b7508c28)\" d=\"M 82.146307 314.6 \r\nL 95.994034 314.6 \r\nL 95.994034 220.695238 \r\nL 82.146307 220.695238 \r\nz\r\n\" style=\"fill:#1f77b4;fill-opacity:0.5;stroke:#000000;stroke-linejoin:miter;\"/>\r\n   </g>\r\n   <g id=\"patch_6\">\r\n    <path clip-path=\"url(#p66b7508c28)\" d=\"M 95.994034 314.6 \r\nL 109.841761 314.6 \r\nL 109.841761 21.838095 \r\nL 95.994034 21.838095 \r\nz\r\n\" style=\"fill:#1f77b4;fill-opacity:0.5;stroke:#000000;stroke-linejoin:miter;\"/>\r\n   </g>\r\n   <g id=\"patch_7\">\r\n    <path clip-path=\"url(#p66b7508c28)\" d=\"M 109.841761 314.6 \r\nL 123.689489 314.6 \r\nL 123.689489 182.028571 \r\nL 109.841761 182.028571 \r\nz\r\n\" style=\"fill:#1f77b4;fill-opacity:0.5;stroke:#000000;stroke-linejoin:miter;\"/>\r\n   </g>\r\n   <g id=\"patch_8\">\r\n    <path clip-path=\"url(#p66b7508c28)\" d=\"M 123.689489 314.6 \r\nL 137.537216 314.6 \r\nL 137.537216 49.457143 \r\nL 123.689489 49.457143 \r\nz\r\n\" style=\"fill:#1f77b4;fill-opacity:0.5;stroke:#000000;stroke-linejoin:miter;\"/>\r\n   </g>\r\n   <g id=\"patch_9\">\r\n    <path clip-path=\"url(#p66b7508c28)\" d=\"M 137.537216 314.6 \r\nL 151.384943 314.6 \r\nL 151.384943 148.885714 \r\nL 137.537216 148.885714 \r\nz\r\n\" style=\"fill:#1f77b4;fill-opacity:0.5;stroke:#000000;stroke-linejoin:miter;\"/>\r\n   </g>\r\n   <g id=\"patch_10\">\r\n    <path clip-path=\"url(#p66b7508c28)\" d=\"M 151.384943 314.6 \r\nL 165.23267 314.6 \r\nL 165.23267 264.885714 \r\nL 151.384943 264.885714 \r\nz\r\n\" style=\"fill:#1f77b4;fill-opacity:0.5;stroke:#000000;stroke-linejoin:miter;\"/>\r\n   </g>\r\n   <g id=\"patch_11\">\r\n    <path clip-path=\"url(#p66b7508c28)\" d=\"M 165.23267 314.6 \r\nL 179.080398 314.6 \r\nL 179.080398 237.266667 \r\nL 165.23267 237.266667 \r\nz\r\n\" style=\"fill:#1f77b4;fill-opacity:0.5;stroke:#000000;stroke-linejoin:miter;\"/>\r\n   </g>\r\n   <g id=\"patch_12\">\r\n    <path clip-path=\"url(#p66b7508c28)\" d=\"M 179.080398 314.6 \r\nL 192.928125 314.6 \r\nL 192.928125 270.409524 \r\nL 179.080398 270.409524 \r\nz\r\n\" style=\"fill:#1f77b4;fill-opacity:0.5;stroke:#000000;stroke-linejoin:miter;\"/>\r\n   </g>\r\n   <g id=\"patch_13\">\r\n    <path clip-path=\"url(#p66b7508c28)\" d=\"M 192.928125 314.6 \r\nL 206.775852 314.6 \r\nL 206.775852 270.409524 \r\nL 192.928125 270.409524 \r\nz\r\n\" style=\"fill:#1f77b4;fill-opacity:0.5;stroke:#000000;stroke-linejoin:miter;\"/>\r\n   </g>\r\n   <g id=\"patch_14\">\r\n    <path clip-path=\"url(#p66b7508c28)\" d=\"M 206.775852 314.6 \r\nL 220.62358 314.6 \r\nL 220.62358 281.457143 \r\nL 206.775852 281.457143 \r\nz\r\n\" style=\"fill:#1f77b4;fill-opacity:0.5;stroke:#000000;stroke-linejoin:miter;\"/>\r\n   </g>\r\n   <g id=\"patch_15\">\r\n    <path clip-path=\"url(#p66b7508c28)\" d=\"M 220.62358 314.6 \r\nL 234.471307 314.6 \r\nL 234.471307 298.028571 \r\nL 220.62358 298.028571 \r\nz\r\n\" style=\"fill:#1f77b4;fill-opacity:0.5;stroke:#000000;stroke-linejoin:miter;\"/>\r\n   </g>\r\n   <g id=\"patch_16\">\r\n    <path clip-path=\"url(#p66b7508c28)\" d=\"M 234.471307 314.6 \r\nL 248.319034 314.6 \r\nL 248.319034 286.980952 \r\nL 234.471307 286.980952 \r\nz\r\n\" style=\"fill:#1f77b4;fill-opacity:0.5;stroke:#000000;stroke-linejoin:miter;\"/>\r\n   </g>\r\n   <g id=\"patch_17\">\r\n    <path clip-path=\"url(#p66b7508c28)\" d=\"M 248.319034 314.6 \r\nL 262.166761 314.6 \r\nL 262.166761 314.6 \r\nL 248.319034 314.6 \r\nz\r\n\" style=\"fill:#1f77b4;fill-opacity:0.5;stroke:#000000;stroke-linejoin:miter;\"/>\r\n   </g>\r\n   <g id=\"patch_18\">\r\n    <path clip-path=\"url(#p66b7508c28)\" d=\"M 262.166761 314.6 \r\nL 276.014489 314.6 \r\nL 276.014489 309.07619 \r\nL 262.166761 309.07619 \r\nz\r\n\" style=\"fill:#1f77b4;fill-opacity:0.5;stroke:#000000;stroke-linejoin:miter;\"/>\r\n   </g>\r\n   <g id=\"patch_19\">\r\n    <path clip-path=\"url(#p66b7508c28)\" d=\"M 276.014489 314.6 \r\nL 289.862216 314.6 \r\nL 289.862216 298.028571 \r\nL 276.014489 298.028571 \r\nz\r\n\" style=\"fill:#1f77b4;fill-opacity:0.5;stroke:#000000;stroke-linejoin:miter;\"/>\r\n   </g>\r\n   <g id=\"patch_20\">\r\n    <path clip-path=\"url(#p66b7508c28)\" d=\"M 289.862216 314.6 \r\nL 303.709943 314.6 \r\nL 303.709943 309.07619 \r\nL 289.862216 309.07619 \r\nz\r\n\" style=\"fill:#1f77b4;fill-opacity:0.5;stroke:#000000;stroke-linejoin:miter;\"/>\r\n   </g>\r\n   <g id=\"patch_21\">\r\n    <path clip-path=\"url(#p66b7508c28)\" d=\"M 303.709943 314.6 \r\nL 317.55767 314.6 \r\nL 317.55767 309.07619 \r\nL 303.709943 309.07619 \r\nz\r\n\" style=\"fill:#1f77b4;fill-opacity:0.5;stroke:#000000;stroke-linejoin:miter;\"/>\r\n   </g>\r\n   <g id=\"patch_22\">\r\n    <path clip-path=\"url(#p66b7508c28)\" d=\"M 317.55767 314.6 \r\nL 331.405398 314.6 \r\nL 331.405398 309.07619 \r\nL 317.55767 309.07619 \r\nz\r\n\" style=\"fill:#1f77b4;fill-opacity:0.5;stroke:#000000;stroke-linejoin:miter;\"/>\r\n   </g>\r\n   <g id=\"matplotlib.axis_1\">\r\n    <g id=\"xtick_1\">\r\n     <g id=\"line2d_1\">\r\n      <defs>\r\n       <path d=\"M 0 0 \r\nL 0 3.5 \r\n\" id=\"m6df016b9ad\" style=\"stroke:#000000;stroke-width:0.8;\"/>\r\n      </defs>\r\n      <g>\r\n       <use style=\"stroke:#000000;stroke-width:0.8;\" x=\"71.760511\" xlink:href=\"#m6df016b9ad\" y=\"314.6\"/>\r\n      </g>\r\n     </g>\r\n     <g id=\"text_1\">\r\n      <!-- 20 -->\r\n      <g transform=\"translate(65.398011 329.198437)scale(0.1 -0.1)\">\r\n       <defs>\r\n        <path d=\"M 19.1875 8.296875 \r\nL 53.609375 8.296875 \r\nL 53.609375 0 \r\nL 7.328125 0 \r\nL 7.328125 8.296875 \r\nQ 12.9375 14.109375 22.625 23.890625 \r\nQ 32.328125 33.6875 34.8125 36.53125 \r\nQ 39.546875 41.84375 41.421875 45.53125 \r\nQ 43.3125 49.21875 43.3125 52.78125 \r\nQ 43.3125 58.59375 39.234375 62.25 \r\nQ 35.15625 65.921875 28.609375 65.921875 \r\nQ 23.96875 65.921875 18.8125 64.3125 \r\nQ 13.671875 62.703125 7.8125 59.421875 \r\nL 7.8125 69.390625 \r\nQ 13.765625 71.78125 18.9375 73 \r\nQ 24.125 74.21875 28.421875 74.21875 \r\nQ 39.75 74.21875 46.484375 68.546875 \r\nQ 53.21875 62.890625 53.21875 53.421875 \r\nQ 53.21875 48.921875 51.53125 44.890625 \r\nQ 49.859375 40.875 45.40625 35.40625 \r\nQ 44.1875 33.984375 37.640625 27.21875 \r\nQ 31.109375 20.453125 19.1875 8.296875 \r\nz\r\n\" id=\"DejaVuSans-50\"/>\r\n        <path d=\"M 31.78125 66.40625 \r\nQ 24.171875 66.40625 20.328125 58.90625 \r\nQ 16.5 51.421875 16.5 36.375 \r\nQ 16.5 21.390625 20.328125 13.890625 \r\nQ 24.171875 6.390625 31.78125 6.390625 \r\nQ 39.453125 6.390625 43.28125 13.890625 \r\nQ 47.125 21.390625 47.125 36.375 \r\nQ 47.125 51.421875 43.28125 58.90625 \r\nQ 39.453125 66.40625 31.78125 66.40625 \r\nz\r\nM 31.78125 74.21875 \r\nQ 44.046875 74.21875 50.515625 64.515625 \r\nQ 56.984375 54.828125 56.984375 36.375 \r\nQ 56.984375 17.96875 50.515625 8.265625 \r\nQ 44.046875 -1.421875 31.78125 -1.421875 \r\nQ 19.53125 -1.421875 13.0625 8.265625 \r\nQ 6.59375 17.96875 6.59375 36.375 \r\nQ 6.59375 54.828125 13.0625 64.515625 \r\nQ 19.53125 74.21875 31.78125 74.21875 \r\nz\r\n\" id=\"DejaVuSans-48\"/>\r\n       </defs>\r\n       <use xlink:href=\"#DejaVuSans-50\"/>\r\n       <use x=\"63.623047\" xlink:href=\"#DejaVuSans-48\"/>\r\n      </g>\r\n     </g>\r\n    </g>\r\n    <g id=\"xtick_2\">\r\n     <g id=\"line2d_2\">\r\n      <g>\r\n       <use style=\"stroke:#000000;stroke-width:0.8;\" x=\"115.034659\" xlink:href=\"#m6df016b9ad\" y=\"314.6\"/>\r\n      </g>\r\n     </g>\r\n     <g id=\"text_2\">\r\n      <!-- 25 -->\r\n      <g transform=\"translate(108.672159 329.198437)scale(0.1 -0.1)\">\r\n       <defs>\r\n        <path d=\"M 10.796875 72.90625 \r\nL 49.515625 72.90625 \r\nL 49.515625 64.59375 \r\nL 19.828125 64.59375 \r\nL 19.828125 46.734375 \r\nQ 21.96875 47.46875 24.109375 47.828125 \r\nQ 26.265625 48.1875 28.421875 48.1875 \r\nQ 40.625 48.1875 47.75 41.5 \r\nQ 54.890625 34.8125 54.890625 23.390625 \r\nQ 54.890625 11.625 47.5625 5.09375 \r\nQ 40.234375 -1.421875 26.90625 -1.421875 \r\nQ 22.3125 -1.421875 17.546875 -0.640625 \r\nQ 12.796875 0.140625 7.71875 1.703125 \r\nL 7.71875 11.625 \r\nQ 12.109375 9.234375 16.796875 8.0625 \r\nQ 21.484375 6.890625 26.703125 6.890625 \r\nQ 35.15625 6.890625 40.078125 11.328125 \r\nQ 45.015625 15.765625 45.015625 23.390625 \r\nQ 45.015625 31 40.078125 35.4375 \r\nQ 35.15625 39.890625 26.703125 39.890625 \r\nQ 22.75 39.890625 18.8125 39.015625 \r\nQ 14.890625 38.140625 10.796875 36.28125 \r\nz\r\n\" id=\"DejaVuSans-53\"/>\r\n       </defs>\r\n       <use xlink:href=\"#DejaVuSans-50\"/>\r\n       <use x=\"63.623047\" xlink:href=\"#DejaVuSans-53\"/>\r\n      </g>\r\n     </g>\r\n    </g>\r\n    <g id=\"xtick_3\">\r\n     <g id=\"line2d_3\">\r\n      <g>\r\n       <use style=\"stroke:#000000;stroke-width:0.8;\" x=\"158.308807\" xlink:href=\"#m6df016b9ad\" y=\"314.6\"/>\r\n      </g>\r\n     </g>\r\n     <g id=\"text_3\">\r\n      <!-- 30 -->\r\n      <g transform=\"translate(151.946307 329.198437)scale(0.1 -0.1)\">\r\n       <defs>\r\n        <path d=\"M 40.578125 39.3125 \r\nQ 47.65625 37.796875 51.625 33 \r\nQ 55.609375 28.21875 55.609375 21.1875 \r\nQ 55.609375 10.40625 48.1875 4.484375 \r\nQ 40.765625 -1.421875 27.09375 -1.421875 \r\nQ 22.515625 -1.421875 17.65625 -0.515625 \r\nQ 12.796875 0.390625 7.625 2.203125 \r\nL 7.625 11.71875 \r\nQ 11.71875 9.328125 16.59375 8.109375 \r\nQ 21.484375 6.890625 26.8125 6.890625 \r\nQ 36.078125 6.890625 40.9375 10.546875 \r\nQ 45.796875 14.203125 45.796875 21.1875 \r\nQ 45.796875 27.640625 41.28125 31.265625 \r\nQ 36.765625 34.90625 28.71875 34.90625 \r\nL 20.21875 34.90625 \r\nL 20.21875 43.015625 \r\nL 29.109375 43.015625 \r\nQ 36.375 43.015625 40.234375 45.921875 \r\nQ 44.09375 48.828125 44.09375 54.296875 \r\nQ 44.09375 59.90625 40.109375 62.90625 \r\nQ 36.140625 65.921875 28.71875 65.921875 \r\nQ 24.65625 65.921875 20.015625 65.03125 \r\nQ 15.375 64.15625 9.8125 62.3125 \r\nL 9.8125 71.09375 \r\nQ 15.4375 72.65625 20.34375 73.4375 \r\nQ 25.25 74.21875 29.59375 74.21875 \r\nQ 40.828125 74.21875 47.359375 69.109375 \r\nQ 53.90625 64.015625 53.90625 55.328125 \r\nQ 53.90625 49.265625 50.4375 45.09375 \r\nQ 46.96875 40.921875 40.578125 39.3125 \r\nz\r\n\" id=\"DejaVuSans-51\"/>\r\n       </defs>\r\n       <use xlink:href=\"#DejaVuSans-51\"/>\r\n       <use x=\"63.623047\" xlink:href=\"#DejaVuSans-48\"/>\r\n      </g>\r\n     </g>\r\n    </g>\r\n    <g id=\"xtick_4\">\r\n     <g id=\"line2d_4\">\r\n      <g>\r\n       <use style=\"stroke:#000000;stroke-width:0.8;\" x=\"201.582955\" xlink:href=\"#m6df016b9ad\" y=\"314.6\"/>\r\n      </g>\r\n     </g>\r\n     <g id=\"text_4\">\r\n      <!-- 35 -->\r\n      <g transform=\"translate(195.220455 329.198437)scale(0.1 -0.1)\">\r\n       <use xlink:href=\"#DejaVuSans-51\"/>\r\n       <use x=\"63.623047\" xlink:href=\"#DejaVuSans-53\"/>\r\n      </g>\r\n     </g>\r\n    </g>\r\n    <g id=\"xtick_5\">\r\n     <g id=\"line2d_5\">\r\n      <g>\r\n       <use style=\"stroke:#000000;stroke-width:0.8;\" x=\"244.857102\" xlink:href=\"#m6df016b9ad\" y=\"314.6\"/>\r\n      </g>\r\n     </g>\r\n     <g id=\"text_5\">\r\n      <!-- 40 -->\r\n      <g transform=\"translate(238.494602 329.198437)scale(0.1 -0.1)\">\r\n       <defs>\r\n        <path d=\"M 37.796875 64.3125 \r\nL 12.890625 25.390625 \r\nL 37.796875 25.390625 \r\nz\r\nM 35.203125 72.90625 \r\nL 47.609375 72.90625 \r\nL 47.609375 25.390625 \r\nL 58.015625 25.390625 \r\nL 58.015625 17.1875 \r\nL 47.609375 17.1875 \r\nL 47.609375 0 \r\nL 37.796875 0 \r\nL 37.796875 17.1875 \r\nL 4.890625 17.1875 \r\nL 4.890625 26.703125 \r\nz\r\n\" id=\"DejaVuSans-52\"/>\r\n       </defs>\r\n       <use xlink:href=\"#DejaVuSans-52\"/>\r\n       <use x=\"63.623047\" xlink:href=\"#DejaVuSans-48\"/>\r\n      </g>\r\n     </g>\r\n    </g>\r\n    <g id=\"xtick_6\">\r\n     <g id=\"line2d_6\">\r\n      <g>\r\n       <use style=\"stroke:#000000;stroke-width:0.8;\" x=\"288.13125\" xlink:href=\"#m6df016b9ad\" y=\"314.6\"/>\r\n      </g>\r\n     </g>\r\n     <g id=\"text_6\">\r\n      <!-- 45 -->\r\n      <g transform=\"translate(281.76875 329.198437)scale(0.1 -0.1)\">\r\n       <use xlink:href=\"#DejaVuSans-52\"/>\r\n       <use x=\"63.623047\" xlink:href=\"#DejaVuSans-53\"/>\r\n      </g>\r\n     </g>\r\n    </g>\r\n    <g id=\"xtick_7\">\r\n     <g id=\"line2d_7\">\r\n      <g>\r\n       <use style=\"stroke:#000000;stroke-width:0.8;\" x=\"331.405398\" xlink:href=\"#m6df016b9ad\" y=\"314.6\"/>\r\n      </g>\r\n     </g>\r\n     <g id=\"text_7\">\r\n      <!-- 50 -->\r\n      <g transform=\"translate(325.042898 329.198437)scale(0.1 -0.1)\">\r\n       <use xlink:href=\"#DejaVuSans-53\"/>\r\n       <use x=\"63.623047\" xlink:href=\"#DejaVuSans-48\"/>\r\n      </g>\r\n     </g>\r\n    </g>\r\n    <g id=\"text_8\">\r\n     <!-- age -->\r\n     <g transform=\"translate(183.613281 342.876562)scale(0.1 -0.1)\">\r\n      <defs>\r\n       <path d=\"M 34.28125 27.484375 \r\nQ 23.390625 27.484375 19.1875 25 \r\nQ 14.984375 22.515625 14.984375 16.5 \r\nQ 14.984375 11.71875 18.140625 8.90625 \r\nQ 21.296875 6.109375 26.703125 6.109375 \r\nQ 34.1875 6.109375 38.703125 11.40625 \r\nQ 43.21875 16.703125 43.21875 25.484375 \r\nL 43.21875 27.484375 \r\nz\r\nM 52.203125 31.203125 \r\nL 52.203125 0 \r\nL 43.21875 0 \r\nL 43.21875 8.296875 \r\nQ 40.140625 3.328125 35.546875 0.953125 \r\nQ 30.953125 -1.421875 24.3125 -1.421875 \r\nQ 15.921875 -1.421875 10.953125 3.296875 \r\nQ 6 8.015625 6 15.921875 \r\nQ 6 25.140625 12.171875 29.828125 \r\nQ 18.359375 34.515625 30.609375 34.515625 \r\nL 43.21875 34.515625 \r\nL 43.21875 35.40625 \r\nQ 43.21875 41.609375 39.140625 45 \r\nQ 35.0625 48.390625 27.6875 48.390625 \r\nQ 23 48.390625 18.546875 47.265625 \r\nQ 14.109375 46.140625 10.015625 43.890625 \r\nL 10.015625 52.203125 \r\nQ 14.9375 54.109375 19.578125 55.046875 \r\nQ 24.21875 56 28.609375 56 \r\nQ 40.484375 56 46.34375 49.84375 \r\nQ 52.203125 43.703125 52.203125 31.203125 \r\nz\r\n\" id=\"DejaVuSans-97\"/>\r\n       <path d=\"M 45.40625 27.984375 \r\nQ 45.40625 37.75 41.375 43.109375 \r\nQ 37.359375 48.484375 30.078125 48.484375 \r\nQ 22.859375 48.484375 18.828125 43.109375 \r\nQ 14.796875 37.75 14.796875 27.984375 \r\nQ 14.796875 18.265625 18.828125 12.890625 \r\nQ 22.859375 7.515625 30.078125 7.515625 \r\nQ 37.359375 7.515625 41.375 12.890625 \r\nQ 45.40625 18.265625 45.40625 27.984375 \r\nz\r\nM 54.390625 6.78125 \r\nQ 54.390625 -7.171875 48.1875 -13.984375 \r\nQ 42 -20.796875 29.203125 -20.796875 \r\nQ 24.46875 -20.796875 20.265625 -20.09375 \r\nQ 16.0625 -19.390625 12.109375 -17.921875 \r\nL 12.109375 -9.1875 \r\nQ 16.0625 -11.328125 19.921875 -12.34375 \r\nQ 23.78125 -13.375 27.78125 -13.375 \r\nQ 36.625 -13.375 41.015625 -8.765625 \r\nQ 45.40625 -4.15625 45.40625 5.171875 \r\nL 45.40625 9.625 \r\nQ 42.625 4.78125 38.28125 2.390625 \r\nQ 33.9375 0 27.875 0 \r\nQ 17.828125 0 11.671875 7.65625 \r\nQ 5.515625 15.328125 5.515625 27.984375 \r\nQ 5.515625 40.671875 11.671875 48.328125 \r\nQ 17.828125 56 27.875 56 \r\nQ 33.9375 56 38.28125 53.609375 \r\nQ 42.625 51.21875 45.40625 46.390625 \r\nL 45.40625 54.6875 \r\nL 54.390625 54.6875 \r\nz\r\n\" id=\"DejaVuSans-103\"/>\r\n       <path d=\"M 56.203125 29.59375 \r\nL 56.203125 25.203125 \r\nL 14.890625 25.203125 \r\nQ 15.484375 15.921875 20.484375 11.0625 \r\nQ 25.484375 6.203125 34.421875 6.203125 \r\nQ 39.59375 6.203125 44.453125 7.46875 \r\nQ 49.3125 8.734375 54.109375 11.28125 \r\nL 54.109375 2.78125 \r\nQ 49.265625 0.734375 44.1875 -0.34375 \r\nQ 39.109375 -1.421875 33.890625 -1.421875 \r\nQ 20.796875 -1.421875 13.15625 6.1875 \r\nQ 5.515625 13.8125 5.515625 26.8125 \r\nQ 5.515625 40.234375 12.765625 48.109375 \r\nQ 20.015625 56 32.328125 56 \r\nQ 43.359375 56 49.78125 48.890625 \r\nQ 56.203125 41.796875 56.203125 29.59375 \r\nz\r\nM 47.21875 32.234375 \r\nQ 47.125 39.59375 43.09375 43.984375 \r\nQ 39.0625 48.390625 32.421875 48.390625 \r\nQ 24.90625 48.390625 20.390625 44.140625 \r\nQ 15.875 39.890625 15.1875 32.171875 \r\nz\r\n\" id=\"DejaVuSans-101\"/>\r\n      </defs>\r\n      <use xlink:href=\"#DejaVuSans-97\"/>\r\n      <use x=\"61.279297\" xlink:href=\"#DejaVuSans-103\"/>\r\n      <use x=\"124.755859\" xlink:href=\"#DejaVuSans-101\"/>\r\n     </g>\r\n    </g>\r\n   </g>\r\n   <g id=\"matplotlib.axis_2\">\r\n    <g id=\"ytick_1\">\r\n     <g id=\"line2d_8\">\r\n      <defs>\r\n       <path d=\"M 0 0 \r\nL -3.5 0 \r\n\" id=\"md14d9a4044\" style=\"stroke:#000000;stroke-width:0.8;\"/>\r\n      </defs>\r\n      <g>\r\n       <use style=\"stroke:#000000;stroke-width:0.8;\" x=\"40.603125\" xlink:href=\"#md14d9a4044\" y=\"314.6\"/>\r\n      </g>\r\n     </g>\r\n     <g id=\"text_9\">\r\n      <!-- 0 -->\r\n      <g transform=\"translate(27.240625 318.399219)scale(0.1 -0.1)\">\r\n       <use xlink:href=\"#DejaVuSans-48\"/>\r\n      </g>\r\n     </g>\r\n    </g>\r\n    <g id=\"ytick_2\">\r\n     <g id=\"line2d_9\">\r\n      <g>\r\n       <use style=\"stroke:#000000;stroke-width:0.8;\" x=\"40.603125\" xlink:href=\"#md14d9a4044\" y=\"259.361905\"/>\r\n      </g>\r\n     </g>\r\n     <g id=\"text_10\">\r\n      <!-- 10 -->\r\n      <g transform=\"translate(20.878125 263.161124)scale(0.1 -0.1)\">\r\n       <defs>\r\n        <path d=\"M 12.40625 8.296875 \r\nL 28.515625 8.296875 \r\nL 28.515625 63.921875 \r\nL 10.984375 60.40625 \r\nL 10.984375 69.390625 \r\nL 28.421875 72.90625 \r\nL 38.28125 72.90625 \r\nL 38.28125 8.296875 \r\nL 54.390625 8.296875 \r\nL 54.390625 0 \r\nL 12.40625 0 \r\nz\r\n\" id=\"DejaVuSans-49\"/>\r\n       </defs>\r\n       <use xlink:href=\"#DejaVuSans-49\"/>\r\n       <use x=\"63.623047\" xlink:href=\"#DejaVuSans-48\"/>\r\n      </g>\r\n     </g>\r\n    </g>\r\n    <g id=\"ytick_3\">\r\n     <g id=\"line2d_10\">\r\n      <g>\r\n       <use style=\"stroke:#000000;stroke-width:0.8;\" x=\"40.603125\" xlink:href=\"#md14d9a4044\" y=\"204.12381\"/>\r\n      </g>\r\n     </g>\r\n     <g id=\"text_11\">\r\n      <!-- 20 -->\r\n      <g transform=\"translate(20.878125 207.923028)scale(0.1 -0.1)\">\r\n       <use xlink:href=\"#DejaVuSans-50\"/>\r\n       <use x=\"63.623047\" xlink:href=\"#DejaVuSans-48\"/>\r\n      </g>\r\n     </g>\r\n    </g>\r\n    <g id=\"ytick_4\">\r\n     <g id=\"line2d_11\">\r\n      <g>\r\n       <use style=\"stroke:#000000;stroke-width:0.8;\" x=\"40.603125\" xlink:href=\"#md14d9a4044\" y=\"148.885714\"/>\r\n      </g>\r\n     </g>\r\n     <g id=\"text_12\">\r\n      <!-- 30 -->\r\n      <g transform=\"translate(20.878125 152.684933)scale(0.1 -0.1)\">\r\n       <use xlink:href=\"#DejaVuSans-51\"/>\r\n       <use x=\"63.623047\" xlink:href=\"#DejaVuSans-48\"/>\r\n      </g>\r\n     </g>\r\n    </g>\r\n    <g id=\"ytick_5\">\r\n     <g id=\"line2d_12\">\r\n      <g>\r\n       <use style=\"stroke:#000000;stroke-width:0.8;\" x=\"40.603125\" xlink:href=\"#md14d9a4044\" y=\"93.647619\"/>\r\n      </g>\r\n     </g>\r\n     <g id=\"text_13\">\r\n      <!-- 40 -->\r\n      <g transform=\"translate(20.878125 97.446838)scale(0.1 -0.1)\">\r\n       <use xlink:href=\"#DejaVuSans-52\"/>\r\n       <use x=\"63.623047\" xlink:href=\"#DejaVuSans-48\"/>\r\n      </g>\r\n     </g>\r\n    </g>\r\n    <g id=\"ytick_6\">\r\n     <g id=\"line2d_13\">\r\n      <g>\r\n       <use style=\"stroke:#000000;stroke-width:0.8;\" x=\"40.603125\" xlink:href=\"#md14d9a4044\" y=\"38.409524\"/>\r\n      </g>\r\n     </g>\r\n     <g id=\"text_14\">\r\n      <!-- 50 -->\r\n      <g transform=\"translate(20.878125 42.208743)scale(0.1 -0.1)\">\r\n       <use xlink:href=\"#DejaVuSans-53\"/>\r\n       <use x=\"63.623047\" xlink:href=\"#DejaVuSans-48\"/>\r\n      </g>\r\n     </g>\r\n    </g>\r\n    <g id=\"text_15\">\r\n     <!-- Count -->\r\n     <g transform=\"translate(14.798438 175.748437)rotate(-90)scale(0.1 -0.1)\">\r\n      <defs>\r\n       <path d=\"M 64.40625 67.28125 \r\nL 64.40625 56.890625 \r\nQ 59.421875 61.53125 53.78125 63.8125 \r\nQ 48.140625 66.109375 41.796875 66.109375 \r\nQ 29.296875 66.109375 22.65625 58.46875 \r\nQ 16.015625 50.828125 16.015625 36.375 \r\nQ 16.015625 21.96875 22.65625 14.328125 \r\nQ 29.296875 6.6875 41.796875 6.6875 \r\nQ 48.140625 6.6875 53.78125 8.984375 \r\nQ 59.421875 11.28125 64.40625 15.921875 \r\nL 64.40625 5.609375 \r\nQ 59.234375 2.09375 53.4375 0.328125 \r\nQ 47.65625 -1.421875 41.21875 -1.421875 \r\nQ 24.65625 -1.421875 15.125 8.703125 \r\nQ 5.609375 18.84375 5.609375 36.375 \r\nQ 5.609375 53.953125 15.125 64.078125 \r\nQ 24.65625 74.21875 41.21875 74.21875 \r\nQ 47.75 74.21875 53.53125 72.484375 \r\nQ 59.328125 70.75 64.40625 67.28125 \r\nz\r\n\" id=\"DejaVuSans-67\"/>\r\n       <path d=\"M 30.609375 48.390625 \r\nQ 23.390625 48.390625 19.1875 42.75 \r\nQ 14.984375 37.109375 14.984375 27.296875 \r\nQ 14.984375 17.484375 19.15625 11.84375 \r\nQ 23.34375 6.203125 30.609375 6.203125 \r\nQ 37.796875 6.203125 41.984375 11.859375 \r\nQ 46.1875 17.53125 46.1875 27.296875 \r\nQ 46.1875 37.015625 41.984375 42.703125 \r\nQ 37.796875 48.390625 30.609375 48.390625 \r\nz\r\nM 30.609375 56 \r\nQ 42.328125 56 49.015625 48.375 \r\nQ 55.71875 40.765625 55.71875 27.296875 \r\nQ 55.71875 13.875 49.015625 6.21875 \r\nQ 42.328125 -1.421875 30.609375 -1.421875 \r\nQ 18.84375 -1.421875 12.171875 6.21875 \r\nQ 5.515625 13.875 5.515625 27.296875 \r\nQ 5.515625 40.765625 12.171875 48.375 \r\nQ 18.84375 56 30.609375 56 \r\nz\r\n\" id=\"DejaVuSans-111\"/>\r\n       <path d=\"M 8.5 21.578125 \r\nL 8.5 54.6875 \r\nL 17.484375 54.6875 \r\nL 17.484375 21.921875 \r\nQ 17.484375 14.15625 20.5 10.265625 \r\nQ 23.53125 6.390625 29.59375 6.390625 \r\nQ 36.859375 6.390625 41.078125 11.03125 \r\nQ 45.3125 15.671875 45.3125 23.6875 \r\nL 45.3125 54.6875 \r\nL 54.296875 54.6875 \r\nL 54.296875 0 \r\nL 45.3125 0 \r\nL 45.3125 8.40625 \r\nQ 42.046875 3.421875 37.71875 1 \r\nQ 33.40625 -1.421875 27.6875 -1.421875 \r\nQ 18.265625 -1.421875 13.375 4.4375 \r\nQ 8.5 10.296875 8.5 21.578125 \r\nz\r\nM 31.109375 56 \r\nz\r\n\" id=\"DejaVuSans-117\"/>\r\n       <path d=\"M 54.890625 33.015625 \r\nL 54.890625 0 \r\nL 45.90625 0 \r\nL 45.90625 32.71875 \r\nQ 45.90625 40.484375 42.875 44.328125 \r\nQ 39.84375 48.1875 33.796875 48.1875 \r\nQ 26.515625 48.1875 22.3125 43.546875 \r\nQ 18.109375 38.921875 18.109375 30.90625 \r\nL 18.109375 0 \r\nL 9.078125 0 \r\nL 9.078125 54.6875 \r\nL 18.109375 54.6875 \r\nL 18.109375 46.1875 \r\nQ 21.34375 51.125 25.703125 53.5625 \r\nQ 30.078125 56 35.796875 56 \r\nQ 45.21875 56 50.046875 50.171875 \r\nQ 54.890625 44.34375 54.890625 33.015625 \r\nz\r\n\" id=\"DejaVuSans-110\"/>\r\n       <path d=\"M 18.3125 70.21875 \r\nL 18.3125 54.6875 \r\nL 36.8125 54.6875 \r\nL 36.8125 47.703125 \r\nL 18.3125 47.703125 \r\nL 18.3125 18.015625 \r\nQ 18.3125 11.328125 20.140625 9.421875 \r\nQ 21.96875 7.515625 27.59375 7.515625 \r\nL 36.8125 7.515625 \r\nL 36.8125 0 \r\nL 27.59375 0 \r\nQ 17.1875 0 13.234375 3.875 \r\nQ 9.28125 7.765625 9.28125 18.015625 \r\nL 9.28125 47.703125 \r\nL 2.6875 47.703125 \r\nL 2.6875 54.6875 \r\nL 9.28125 54.6875 \r\nL 9.28125 70.21875 \r\nz\r\n\" id=\"DejaVuSans-116\"/>\r\n      </defs>\r\n      <use xlink:href=\"#DejaVuSans-67\"/>\r\n      <use x=\"69.824219\" xlink:href=\"#DejaVuSans-111\"/>\r\n      <use x=\"131.005859\" xlink:href=\"#DejaVuSans-117\"/>\r\n      <use x=\"194.384766\" xlink:href=\"#DejaVuSans-110\"/>\r\n      <use x=\"257.763672\" xlink:href=\"#DejaVuSans-116\"/>\r\n     </g>\r\n    </g>\r\n   </g>\r\n   <g id=\"line2d_14\">\r\n    <path clip-path=\"url(#p66b7508c28)\" d=\"M 54.450852 294.997315 \r\nL 57.234315 289.825026 \r\nL 60.017778 283.720593 \r\nL 62.801241 276.630162 \r\nL 65.584703 268.524085 \r\nL 68.368166 259.402836 \r\nL 71.151629 249.302865 \r\nL 73.935092 238.302103 \r\nL 76.718554 226.524537 \r\nL 80.893749 207.792886 \r\nL 89.244137 169.606724 \r\nL 92.0276 157.765625 \r\nL 94.811062 146.882191 \r\nL 97.594525 137.223143 \r\nL 98.986257 132.92076 \r\nL 100.377988 128.997322 \r\nL 101.769719 125.467366 \r\nL 103.161451 122.340346 \r\nL 104.553182 119.620659 \r\nL 105.944913 117.307842 \r\nL 107.336645 115.396922 \r\nL 108.728376 113.878926 \r\nL 110.120108 112.741517 \r\nL 111.511839 111.969725 \r\nL 112.90357 111.54675 \r\nL 114.295302 111.454786 \r\nL 115.687033 111.675837 \r\nL 117.078765 112.192466 \r\nL 118.470496 112.988466 \r\nL 119.862227 114.049383 \r\nL 121.253959 115.362899 \r\nL 122.64569 116.919028 \r\nL 124.037421 118.710133 \r\nL 125.429153 120.730759 \r\nL 126.820884 122.977295 \r\nL 129.604347 128.139826 \r\nL 132.38781 134.184575 \r\nL 135.171273 141.088055 \r\nL 137.954735 148.795224 \r\nL 140.738198 157.203964 \r\nL 144.913392 170.779376 \r\nL 153.263781 198.625778 \r\nL 156.047243 207.244659 \r\nL 158.830706 215.20868 \r\nL 161.614169 222.40611 \r\nL 164.397632 228.793078 \r\nL 167.181094 234.392203 \r\nL 169.964557 239.283975 \r\nL 172.74802 243.592386 \r\nL 175.531483 247.4667 \r\nL 179.706677 252.798738 \r\nL 192.232259 268.41828 \r\nL 196.407453 273.546306 \r\nL 199.190916 276.719565 \r\nL 201.974379 279.579112 \r\nL 204.757842 282.048086 \r\nL 207.541305 284.086361 \r\nL 210.324767 285.697269 \r\nL 213.10823 286.926327 \r\nL 215.891693 287.852758 \r\nL 220.066887 288.894425 \r\nL 227.025544 290.517032 \r\nL 231.200738 291.800605 \r\nL 235.375932 293.422657 \r\nL 239.551126 295.340004 \r\nL 253.46844 302.077612 \r\nL 256.251903 303.118101 \r\nL 259.035366 303.963446 \r\nL 261.818829 304.599691 \r\nL 264.602291 305.031473 \r\nL 267.385754 305.281879 \r\nL 271.560948 305.405191 \r\nL 282.694799 305.445646 \r\nL 286.869993 305.724502 \r\nL 291.045188 306.208253 \r\nL 298.003845 307.316347 \r\nL 307.745964 308.883464 \r\nL 314.704621 309.727769 \r\nL 331.405398 311.363047 \r\nL 331.405398 311.363047 \r\n\" style=\"fill:none;stroke:#1f77b4;stroke-linecap:square;stroke-width:1.5;\"/>\r\n   </g>\r\n   <g id=\"patch_23\">\r\n    <path d=\"M 40.603125 314.6 \r\nL 40.603125 7.2 \r\n\" style=\"fill:none;stroke:#000000;stroke-linecap:square;stroke-linejoin:miter;stroke-width:0.8;\"/>\r\n   </g>\r\n   <g id=\"patch_24\">\r\n    <path d=\"M 40.603125 314.6 \r\nL 345.253125 314.6 \r\n\" style=\"fill:none;stroke:#000000;stroke-linecap:square;stroke-linejoin:miter;stroke-width:0.8;\"/>\r\n   </g>\r\n  </g>\r\n </g>\r\n <defs>\r\n  <clipPath id=\"p66b7508c28\">\r\n   <rect height=\"307.4\" width=\"304.65\" x=\"40.603125\" y=\"7.2\"/>\r\n  </clipPath>\r\n </defs>\r\n</svg>\r\n",
      "image/png": "[encoded data removed]"
     },
     "metadata": {
      "needs_background": "light"
     }
    },
    {
     "output_type": "display_data",
     "data": {
      "text/plain": [
       "<Figure size 360x360 with 1 Axes>"
      ],
      "image/svg+xml": "<?xml version=\"1.0\" encoding=\"utf-8\" standalone=\"no\"?>\r\n<!DOCTYPE svg PUBLIC \"-//W3C//DTD SVG 1.1//EN\"\r\n  \"http://www.w3.org/Graphics/SVG/1.1/DTD/svg11.dtd\">\r\n<!-- Created with matplotlib (https://matplotlib.org/) -->\r\n<svg height=\"352.15625pt\" version=\"1.1\" viewBox=\"0 0 352.453125 352.15625\" width=\"352.453125pt\" xmlns=\"http://www.w3.org/2000/svg\" xmlns:xlink=\"http://www.w3.org/1999/xlink\">\r\n <metadata>\r\n  <rdf:RDF xmlns:cc=\"http://creativecommons.org/ns#\" xmlns:dc=\"http://purl.org/dc/elements/1.1/\" xmlns:rdf=\"http://www.w3.org/1999/02/22-rdf-syntax-ns#\">\r\n   <cc:Work>\r\n    <dc:type rdf:resource=\"http://purl.org/dc/dcmitype/StillImage\"/>\r\n    <dc:date>2021-08-06T22:26:43.395954</dc:date>\r\n    <dc:format>image/svg+xml</dc:format>\r\n    <dc:creator>\r\n     <cc:Agent>\r\n      <dc:title>Matplotlib v3.3.2, https://matplotlib.org/</dc:title>\r\n     </cc:Agent>\r\n    </dc:creator>\r\n   </cc:Work>\r\n  </rdf:RDF>\r\n </metadata>\r\n <defs>\r\n  <style type=\"text/css\">*{stroke-linecap:butt;stroke-linejoin:round;}</style>\r\n </defs>\r\n <g id=\"figure_1\">\r\n  <g id=\"patch_1\">\r\n   <path d=\"M -0 352.15625 \r\nL 352.453125 352.15625 \r\nL 352.453125 0 \r\nL -0 0 \r\nz\r\n\" style=\"fill:none;\"/>\r\n  </g>\r\n  <g id=\"axes_1\">\r\n   <g id=\"patch_2\">\r\n    <path d=\"M 40.603125 314.6 \r\nL 345.253125 314.6 \r\nL 345.253125 7.2 \r\nL 40.603125 7.2 \r\nz\r\n\" style=\"fill:#ffffff;\"/>\r\n   </g>\r\n   <g id=\"patch_3\">\r\n    <path clip-path=\"url(#p90a32f68fe)\" d=\"M 54.450852 314.6 \r\nL 68.29858 314.6 \r\nL 68.29858 301.58836 \r\nL 54.450852 301.58836 \r\nz\r\n\" style=\"fill:#1f77b4;fill-opacity:0.5;stroke:#000000;stroke-linejoin:miter;\"/>\r\n   </g>\r\n   <g id=\"patch_4\">\r\n    <path clip-path=\"url(#p90a32f68fe)\" d=\"M 68.29858 314.6 \r\nL 82.146307 314.6 \r\nL 82.146307 230.024339 \r\nL 68.29858 230.024339 \r\nz\r\n\" style=\"fill:#1f77b4;fill-opacity:0.5;stroke:#000000;stroke-linejoin:miter;\"/>\r\n   </g>\r\n   <g id=\"patch_5\">\r\n    <path clip-path=\"url(#p90a32f68fe)\" d=\"M 82.146307 314.6 \r\nL 95.994034 314.6 \r\nL 95.994034 262.553439 \r\nL 82.146307 262.553439 \r\nz\r\n\" style=\"fill:#1f77b4;fill-opacity:0.5;stroke:#000000;stroke-linejoin:miter;\"/>\r\n   </g>\r\n   <g id=\"patch_6\">\r\n    <path clip-path=\"url(#p90a32f68fe)\" d=\"M 95.994034 314.6 \r\nL 109.841761 314.6 \r\nL 109.841761 21.838095 \r\nL 95.994034 21.838095 \r\nz\r\n\" style=\"fill:#1f77b4;fill-opacity:0.5;stroke:#000000;stroke-linejoin:miter;\"/>\r\n   </g>\r\n   <g id=\"patch_7\">\r\n    <path clip-path=\"url(#p90a32f68fe)\" d=\"M 109.841761 314.6 \r\nL 123.689489 314.6 \r\nL 123.689489 177.977778 \r\nL 109.841761 177.977778 \r\nz\r\n\" style=\"fill:#1f77b4;fill-opacity:0.5;stroke:#000000;stroke-linejoin:miter;\"/>\r\n   </g>\r\n   <g id=\"patch_8\">\r\n    <path clip-path=\"url(#p90a32f68fe)\" d=\"M 123.689489 314.6 \r\nL 137.537216 314.6 \r\nL 137.537216 80.390476 \r\nL 123.689489 80.390476 \r\nz\r\n\" style=\"fill:#1f77b4;fill-opacity:0.5;stroke:#000000;stroke-linejoin:miter;\"/>\r\n   </g>\r\n   <g id=\"patch_9\">\r\n    <path clip-path=\"url(#p90a32f68fe)\" d=\"M 137.537216 314.6 \r\nL 151.384943 314.6 \r\nL 151.384943 151.954497 \r\nL 137.537216 151.954497 \r\nz\r\n\" style=\"fill:#1f77b4;fill-opacity:0.5;stroke:#000000;stroke-linejoin:miter;\"/>\r\n   </g>\r\n   <g id=\"patch_10\">\r\n    <path clip-path=\"url(#p90a32f68fe)\" d=\"M 151.384943 314.6 \r\nL 165.23267 314.6 \r\nL 165.23267 256.047619 \r\nL 151.384943 256.047619 \r\nz\r\n\" style=\"fill:#1f77b4;fill-opacity:0.5;stroke:#000000;stroke-linejoin:miter;\"/>\r\n   </g>\r\n   <g id=\"patch_11\">\r\n    <path clip-path=\"url(#p90a32f68fe)\" d=\"M 165.23267 314.6 \r\nL 179.080398 314.6 \r\nL 179.080398 243.035979 \r\nL 165.23267 243.035979 \r\nz\r\n\" style=\"fill:#1f77b4;fill-opacity:0.5;stroke:#000000;stroke-linejoin:miter;\"/>\r\n   </g>\r\n   <g id=\"patch_12\">\r\n    <path clip-path=\"url(#p90a32f68fe)\" d=\"M 179.080398 314.6 \r\nL 192.928125 314.6 \r\nL 192.928125 262.553439 \r\nL 179.080398 262.553439 \r\nz\r\n\" style=\"fill:#1f77b4;fill-opacity:0.5;stroke:#000000;stroke-linejoin:miter;\"/>\r\n   </g>\r\n   <g id=\"patch_13\">\r\n    <path clip-path=\"url(#p90a32f68fe)\" d=\"M 192.928125 314.6 \r\nL 206.775852 314.6 \r\nL 206.775852 269.059259 \r\nL 192.928125 269.059259 \r\nz\r\n\" style=\"fill:#1f77b4;fill-opacity:0.5;stroke:#000000;stroke-linejoin:miter;\"/>\r\n   </g>\r\n   <g id=\"patch_14\">\r\n    <path clip-path=\"url(#p90a32f68fe)\" d=\"M 206.775852 314.6 \r\nL 220.62358 314.6 \r\nL 220.62358 282.070899 \r\nL 206.775852 282.070899 \r\nz\r\n\" style=\"fill:#1f77b4;fill-opacity:0.5;stroke:#000000;stroke-linejoin:miter;\"/>\r\n   </g>\r\n   <g id=\"patch_15\">\r\n    <path clip-path=\"url(#p90a32f68fe)\" d=\"M 220.62358 314.6 \r\nL 234.471307 314.6 \r\nL 234.471307 295.08254 \r\nL 220.62358 295.08254 \r\nz\r\n\" style=\"fill:#1f77b4;fill-opacity:0.5;stroke:#000000;stroke-linejoin:miter;\"/>\r\n   </g>\r\n   <g id=\"patch_16\">\r\n    <path clip-path=\"url(#p90a32f68fe)\" d=\"M 234.471307 314.6 \r\nL 248.319034 314.6 \r\nL 248.319034 282.070899 \r\nL 234.471307 282.070899 \r\nz\r\n\" style=\"fill:#1f77b4;fill-opacity:0.5;stroke:#000000;stroke-linejoin:miter;\"/>\r\n   </g>\r\n   <g id=\"patch_17\">\r\n    <path clip-path=\"url(#p90a32f68fe)\" d=\"M 248.319034 314.6 \r\nL 262.166761 314.6 \r\nL 262.166761 314.6 \r\nL 248.319034 314.6 \r\nz\r\n\" style=\"fill:#1f77b4;fill-opacity:0.5;stroke:#000000;stroke-linejoin:miter;\"/>\r\n   </g>\r\n   <g id=\"patch_18\">\r\n    <path clip-path=\"url(#p90a32f68fe)\" d=\"M 262.166761 314.6 \r\nL 276.014489 314.6 \r\nL 276.014489 314.6 \r\nL 262.166761 314.6 \r\nz\r\n\" style=\"fill:#1f77b4;fill-opacity:0.5;stroke:#000000;stroke-linejoin:miter;\"/>\r\n   </g>\r\n   <g id=\"patch_19\">\r\n    <path clip-path=\"url(#p90a32f68fe)\" d=\"M 276.014489 314.6 \r\nL 289.862216 314.6 \r\nL 289.862216 301.58836 \r\nL 276.014489 301.58836 \r\nz\r\n\" style=\"fill:#1f77b4;fill-opacity:0.5;stroke:#000000;stroke-linejoin:miter;\"/>\r\n   </g>\r\n   <g id=\"patch_20\">\r\n    <path clip-path=\"url(#p90a32f68fe)\" d=\"M 289.862216 314.6 \r\nL 303.709943 314.6 \r\nL 303.709943 308.09418 \r\nL 289.862216 308.09418 \r\nz\r\n\" style=\"fill:#1f77b4;fill-opacity:0.5;stroke:#000000;stroke-linejoin:miter;\"/>\r\n   </g>\r\n   <g id=\"patch_21\">\r\n    <path clip-path=\"url(#p90a32f68fe)\" d=\"M 303.709943 314.6 \r\nL 317.55767 314.6 \r\nL 317.55767 308.09418 \r\nL 303.709943 308.09418 \r\nz\r\n\" style=\"fill:#1f77b4;fill-opacity:0.5;stroke:#000000;stroke-linejoin:miter;\"/>\r\n   </g>\r\n   <g id=\"patch_22\">\r\n    <path clip-path=\"url(#p90a32f68fe)\" d=\"M 317.55767 314.6 \r\nL 331.405398 314.6 \r\nL 331.405398 308.09418 \r\nL 317.55767 308.09418 \r\nz\r\n\" style=\"fill:#1f77b4;fill-opacity:0.5;stroke:#000000;stroke-linejoin:miter;\"/>\r\n   </g>\r\n   <g id=\"matplotlib.axis_1\">\r\n    <g id=\"xtick_1\">\r\n     <g id=\"line2d_1\">\r\n      <defs>\r\n       <path d=\"M 0 0 \r\nL 0 3.5 \r\n\" id=\"m74e83775bd\" style=\"stroke:#000000;stroke-width:0.8;\"/>\r\n      </defs>\r\n      <g>\r\n       <use style=\"stroke:#000000;stroke-width:0.8;\" x=\"71.760511\" xlink:href=\"#m74e83775bd\" y=\"314.6\"/>\r\n      </g>\r\n     </g>\r\n     <g id=\"text_1\">\r\n      <!-- 20 -->\r\n      <g transform=\"translate(65.398011 329.198437)scale(0.1 -0.1)\">\r\n       <defs>\r\n        <path d=\"M 19.1875 8.296875 \r\nL 53.609375 8.296875 \r\nL 53.609375 0 \r\nL 7.328125 0 \r\nL 7.328125 8.296875 \r\nQ 12.9375 14.109375 22.625 23.890625 \r\nQ 32.328125 33.6875 34.8125 36.53125 \r\nQ 39.546875 41.84375 41.421875 45.53125 \r\nQ 43.3125 49.21875 43.3125 52.78125 \r\nQ 43.3125 58.59375 39.234375 62.25 \r\nQ 35.15625 65.921875 28.609375 65.921875 \r\nQ 23.96875 65.921875 18.8125 64.3125 \r\nQ 13.671875 62.703125 7.8125 59.421875 \r\nL 7.8125 69.390625 \r\nQ 13.765625 71.78125 18.9375 73 \r\nQ 24.125 74.21875 28.421875 74.21875 \r\nQ 39.75 74.21875 46.484375 68.546875 \r\nQ 53.21875 62.890625 53.21875 53.421875 \r\nQ 53.21875 48.921875 51.53125 44.890625 \r\nQ 49.859375 40.875 45.40625 35.40625 \r\nQ 44.1875 33.984375 37.640625 27.21875 \r\nQ 31.109375 20.453125 19.1875 8.296875 \r\nz\r\n\" id=\"DejaVuSans-50\"/>\r\n        <path d=\"M 31.78125 66.40625 \r\nQ 24.171875 66.40625 20.328125 58.90625 \r\nQ 16.5 51.421875 16.5 36.375 \r\nQ 16.5 21.390625 20.328125 13.890625 \r\nQ 24.171875 6.390625 31.78125 6.390625 \r\nQ 39.453125 6.390625 43.28125 13.890625 \r\nQ 47.125 21.390625 47.125 36.375 \r\nQ 47.125 51.421875 43.28125 58.90625 \r\nQ 39.453125 66.40625 31.78125 66.40625 \r\nz\r\nM 31.78125 74.21875 \r\nQ 44.046875 74.21875 50.515625 64.515625 \r\nQ 56.984375 54.828125 56.984375 36.375 \r\nQ 56.984375 17.96875 50.515625 8.265625 \r\nQ 44.046875 -1.421875 31.78125 -1.421875 \r\nQ 19.53125 -1.421875 13.0625 8.265625 \r\nQ 6.59375 17.96875 6.59375 36.375 \r\nQ 6.59375 54.828125 13.0625 64.515625 \r\nQ 19.53125 74.21875 31.78125 74.21875 \r\nz\r\n\" id=\"DejaVuSans-48\"/>\r\n       </defs>\r\n       <use xlink:href=\"#DejaVuSans-50\"/>\r\n       <use x=\"63.623047\" xlink:href=\"#DejaVuSans-48\"/>\r\n      </g>\r\n     </g>\r\n    </g>\r\n    <g id=\"xtick_2\">\r\n     <g id=\"line2d_2\">\r\n      <g>\r\n       <use style=\"stroke:#000000;stroke-width:0.8;\" x=\"115.034659\" xlink:href=\"#m74e83775bd\" y=\"314.6\"/>\r\n      </g>\r\n     </g>\r\n     <g id=\"text_2\">\r\n      <!-- 25 -->\r\n      <g transform=\"translate(108.672159 329.198437)scale(0.1 -0.1)\">\r\n       <defs>\r\n        <path d=\"M 10.796875 72.90625 \r\nL 49.515625 72.90625 \r\nL 49.515625 64.59375 \r\nL 19.828125 64.59375 \r\nL 19.828125 46.734375 \r\nQ 21.96875 47.46875 24.109375 47.828125 \r\nQ 26.265625 48.1875 28.421875 48.1875 \r\nQ 40.625 48.1875 47.75 41.5 \r\nQ 54.890625 34.8125 54.890625 23.390625 \r\nQ 54.890625 11.625 47.5625 5.09375 \r\nQ 40.234375 -1.421875 26.90625 -1.421875 \r\nQ 22.3125 -1.421875 17.546875 -0.640625 \r\nQ 12.796875 0.140625 7.71875 1.703125 \r\nL 7.71875 11.625 \r\nQ 12.109375 9.234375 16.796875 8.0625 \r\nQ 21.484375 6.890625 26.703125 6.890625 \r\nQ 35.15625 6.890625 40.078125 11.328125 \r\nQ 45.015625 15.765625 45.015625 23.390625 \r\nQ 45.015625 31 40.078125 35.4375 \r\nQ 35.15625 39.890625 26.703125 39.890625 \r\nQ 22.75 39.890625 18.8125 39.015625 \r\nQ 14.890625 38.140625 10.796875 36.28125 \r\nz\r\n\" id=\"DejaVuSans-53\"/>\r\n       </defs>\r\n       <use xlink:href=\"#DejaVuSans-50\"/>\r\n       <use x=\"63.623047\" xlink:href=\"#DejaVuSans-53\"/>\r\n      </g>\r\n     </g>\r\n    </g>\r\n    <g id=\"xtick_3\">\r\n     <g id=\"line2d_3\">\r\n      <g>\r\n       <use style=\"stroke:#000000;stroke-width:0.8;\" x=\"158.308807\" xlink:href=\"#m74e83775bd\" y=\"314.6\"/>\r\n      </g>\r\n     </g>\r\n     <g id=\"text_3\">\r\n      <!-- 30 -->\r\n      <g transform=\"translate(151.946307 329.198437)scale(0.1 -0.1)\">\r\n       <defs>\r\n        <path d=\"M 40.578125 39.3125 \r\nQ 47.65625 37.796875 51.625 33 \r\nQ 55.609375 28.21875 55.609375 21.1875 \r\nQ 55.609375 10.40625 48.1875 4.484375 \r\nQ 40.765625 -1.421875 27.09375 -1.421875 \r\nQ 22.515625 -1.421875 17.65625 -0.515625 \r\nQ 12.796875 0.390625 7.625 2.203125 \r\nL 7.625 11.71875 \r\nQ 11.71875 9.328125 16.59375 8.109375 \r\nQ 21.484375 6.890625 26.8125 6.890625 \r\nQ 36.078125 6.890625 40.9375 10.546875 \r\nQ 45.796875 14.203125 45.796875 21.1875 \r\nQ 45.796875 27.640625 41.28125 31.265625 \r\nQ 36.765625 34.90625 28.71875 34.90625 \r\nL 20.21875 34.90625 \r\nL 20.21875 43.015625 \r\nL 29.109375 43.015625 \r\nQ 36.375 43.015625 40.234375 45.921875 \r\nQ 44.09375 48.828125 44.09375 54.296875 \r\nQ 44.09375 59.90625 40.109375 62.90625 \r\nQ 36.140625 65.921875 28.71875 65.921875 \r\nQ 24.65625 65.921875 20.015625 65.03125 \r\nQ 15.375 64.15625 9.8125 62.3125 \r\nL 9.8125 71.09375 \r\nQ 15.4375 72.65625 20.34375 73.4375 \r\nQ 25.25 74.21875 29.59375 74.21875 \r\nQ 40.828125 74.21875 47.359375 69.109375 \r\nQ 53.90625 64.015625 53.90625 55.328125 \r\nQ 53.90625 49.265625 50.4375 45.09375 \r\nQ 46.96875 40.921875 40.578125 39.3125 \r\nz\r\n\" id=\"DejaVuSans-51\"/>\r\n       </defs>\r\n       <use xlink:href=\"#DejaVuSans-51\"/>\r\n       <use x=\"63.623047\" xlink:href=\"#DejaVuSans-48\"/>\r\n      </g>\r\n     </g>\r\n    </g>\r\n    <g id=\"xtick_4\">\r\n     <g id=\"line2d_4\">\r\n      <g>\r\n       <use style=\"stroke:#000000;stroke-width:0.8;\" x=\"201.582955\" xlink:href=\"#m74e83775bd\" y=\"314.6\"/>\r\n      </g>\r\n     </g>\r\n     <g id=\"text_4\">\r\n      <!-- 35 -->\r\n      <g transform=\"translate(195.220455 329.198437)scale(0.1 -0.1)\">\r\n       <use xlink:href=\"#DejaVuSans-51\"/>\r\n       <use x=\"63.623047\" xlink:href=\"#DejaVuSans-53\"/>\r\n      </g>\r\n     </g>\r\n    </g>\r\n    <g id=\"xtick_5\">\r\n     <g id=\"line2d_5\">\r\n      <g>\r\n       <use style=\"stroke:#000000;stroke-width:0.8;\" x=\"244.857102\" xlink:href=\"#m74e83775bd\" y=\"314.6\"/>\r\n      </g>\r\n     </g>\r\n     <g id=\"text_5\">\r\n      <!-- 40 -->\r\n      <g transform=\"translate(238.494602 329.198437)scale(0.1 -0.1)\">\r\n       <defs>\r\n        <path d=\"M 37.796875 64.3125 \r\nL 12.890625 25.390625 \r\nL 37.796875 25.390625 \r\nz\r\nM 35.203125 72.90625 \r\nL 47.609375 72.90625 \r\nL 47.609375 25.390625 \r\nL 58.015625 25.390625 \r\nL 58.015625 17.1875 \r\nL 47.609375 17.1875 \r\nL 47.609375 0 \r\nL 37.796875 0 \r\nL 37.796875 17.1875 \r\nL 4.890625 17.1875 \r\nL 4.890625 26.703125 \r\nz\r\n\" id=\"DejaVuSans-52\"/>\r\n       </defs>\r\n       <use xlink:href=\"#DejaVuSans-52\"/>\r\n       <use x=\"63.623047\" xlink:href=\"#DejaVuSans-48\"/>\r\n      </g>\r\n     </g>\r\n    </g>\r\n    <g id=\"xtick_6\">\r\n     <g id=\"line2d_6\">\r\n      <g>\r\n       <use style=\"stroke:#000000;stroke-width:0.8;\" x=\"288.13125\" xlink:href=\"#m74e83775bd\" y=\"314.6\"/>\r\n      </g>\r\n     </g>\r\n     <g id=\"text_6\">\r\n      <!-- 45 -->\r\n      <g transform=\"translate(281.76875 329.198437)scale(0.1 -0.1)\">\r\n       <use xlink:href=\"#DejaVuSans-52\"/>\r\n       <use x=\"63.623047\" xlink:href=\"#DejaVuSans-53\"/>\r\n      </g>\r\n     </g>\r\n    </g>\r\n    <g id=\"xtick_7\">\r\n     <g id=\"line2d_7\">\r\n      <g>\r\n       <use style=\"stroke:#000000;stroke-width:0.8;\" x=\"331.405398\" xlink:href=\"#m74e83775bd\" y=\"314.6\"/>\r\n      </g>\r\n     </g>\r\n     <g id=\"text_7\">\r\n      <!-- 50 -->\r\n      <g transform=\"translate(325.042898 329.198437)scale(0.1 -0.1)\">\r\n       <use xlink:href=\"#DejaVuSans-53\"/>\r\n       <use x=\"63.623047\" xlink:href=\"#DejaVuSans-48\"/>\r\n      </g>\r\n     </g>\r\n    </g>\r\n    <g id=\"text_8\">\r\n     <!-- age -->\r\n     <g transform=\"translate(183.613281 342.876562)scale(0.1 -0.1)\">\r\n      <defs>\r\n       <path d=\"M 34.28125 27.484375 \r\nQ 23.390625 27.484375 19.1875 25 \r\nQ 14.984375 22.515625 14.984375 16.5 \r\nQ 14.984375 11.71875 18.140625 8.90625 \r\nQ 21.296875 6.109375 26.703125 6.109375 \r\nQ 34.1875 6.109375 38.703125 11.40625 \r\nQ 43.21875 16.703125 43.21875 25.484375 \r\nL 43.21875 27.484375 \r\nz\r\nM 52.203125 31.203125 \r\nL 52.203125 0 \r\nL 43.21875 0 \r\nL 43.21875 8.296875 \r\nQ 40.140625 3.328125 35.546875 0.953125 \r\nQ 30.953125 -1.421875 24.3125 -1.421875 \r\nQ 15.921875 -1.421875 10.953125 3.296875 \r\nQ 6 8.015625 6 15.921875 \r\nQ 6 25.140625 12.171875 29.828125 \r\nQ 18.359375 34.515625 30.609375 34.515625 \r\nL 43.21875 34.515625 \r\nL 43.21875 35.40625 \r\nQ 43.21875 41.609375 39.140625 45 \r\nQ 35.0625 48.390625 27.6875 48.390625 \r\nQ 23 48.390625 18.546875 47.265625 \r\nQ 14.109375 46.140625 10.015625 43.890625 \r\nL 10.015625 52.203125 \r\nQ 14.9375 54.109375 19.578125 55.046875 \r\nQ 24.21875 56 28.609375 56 \r\nQ 40.484375 56 46.34375 49.84375 \r\nQ 52.203125 43.703125 52.203125 31.203125 \r\nz\r\n\" id=\"DejaVuSans-97\"/>\r\n       <path d=\"M 45.40625 27.984375 \r\nQ 45.40625 37.75 41.375 43.109375 \r\nQ 37.359375 48.484375 30.078125 48.484375 \r\nQ 22.859375 48.484375 18.828125 43.109375 \r\nQ 14.796875 37.75 14.796875 27.984375 \r\nQ 14.796875 18.265625 18.828125 12.890625 \r\nQ 22.859375 7.515625 30.078125 7.515625 \r\nQ 37.359375 7.515625 41.375 12.890625 \r\nQ 45.40625 18.265625 45.40625 27.984375 \r\nz\r\nM 54.390625 6.78125 \r\nQ 54.390625 -7.171875 48.1875 -13.984375 \r\nQ 42 -20.796875 29.203125 -20.796875 \r\nQ 24.46875 -20.796875 20.265625 -20.09375 \r\nQ 16.0625 -19.390625 12.109375 -17.921875 \r\nL 12.109375 -9.1875 \r\nQ 16.0625 -11.328125 19.921875 -12.34375 \r\nQ 23.78125 -13.375 27.78125 -13.375 \r\nQ 36.625 -13.375 41.015625 -8.765625 \r\nQ 45.40625 -4.15625 45.40625 5.171875 \r\nL 45.40625 9.625 \r\nQ 42.625 4.78125 38.28125 2.390625 \r\nQ 33.9375 0 27.875 0 \r\nQ 17.828125 0 11.671875 7.65625 \r\nQ 5.515625 15.328125 5.515625 27.984375 \r\nQ 5.515625 40.671875 11.671875 48.328125 \r\nQ 17.828125 56 27.875 56 \r\nQ 33.9375 56 38.28125 53.609375 \r\nQ 42.625 51.21875 45.40625 46.390625 \r\nL 45.40625 54.6875 \r\nL 54.390625 54.6875 \r\nz\r\n\" id=\"DejaVuSans-103\"/>\r\n       <path d=\"M 56.203125 29.59375 \r\nL 56.203125 25.203125 \r\nL 14.890625 25.203125 \r\nQ 15.484375 15.921875 20.484375 11.0625 \r\nQ 25.484375 6.203125 34.421875 6.203125 \r\nQ 39.59375 6.203125 44.453125 7.46875 \r\nQ 49.3125 8.734375 54.109375 11.28125 \r\nL 54.109375 2.78125 \r\nQ 49.265625 0.734375 44.1875 -0.34375 \r\nQ 39.109375 -1.421875 33.890625 -1.421875 \r\nQ 20.796875 -1.421875 13.15625 6.1875 \r\nQ 5.515625 13.8125 5.515625 26.8125 \r\nQ 5.515625 40.234375 12.765625 48.109375 \r\nQ 20.015625 56 32.328125 56 \r\nQ 43.359375 56 49.78125 48.890625 \r\nQ 56.203125 41.796875 56.203125 29.59375 \r\nz\r\nM 47.21875 32.234375 \r\nQ 47.125 39.59375 43.09375 43.984375 \r\nQ 39.0625 48.390625 32.421875 48.390625 \r\nQ 24.90625 48.390625 20.390625 44.140625 \r\nQ 15.875 39.890625 15.1875 32.171875 \r\nz\r\n\" id=\"DejaVuSans-101\"/>\r\n      </defs>\r\n      <use xlink:href=\"#DejaVuSans-97\"/>\r\n      <use x=\"61.279297\" xlink:href=\"#DejaVuSans-103\"/>\r\n      <use x=\"124.755859\" xlink:href=\"#DejaVuSans-101\"/>\r\n     </g>\r\n    </g>\r\n   </g>\r\n   <g id=\"matplotlib.axis_2\">\r\n    <g id=\"ytick_1\">\r\n     <g id=\"line2d_8\">\r\n      <defs>\r\n       <path d=\"M 0 0 \r\nL -3.5 0 \r\n\" id=\"m44a2afff6b\" style=\"stroke:#000000;stroke-width:0.8;\"/>\r\n      </defs>\r\n      <g>\r\n       <use style=\"stroke:#000000;stroke-width:0.8;\" x=\"40.603125\" xlink:href=\"#m44a2afff6b\" y=\"314.6\"/>\r\n      </g>\r\n     </g>\r\n     <g id=\"text_9\">\r\n      <!-- 0 -->\r\n      <g transform=\"translate(27.240625 318.399219)scale(0.1 -0.1)\">\r\n       <use xlink:href=\"#DejaVuSans-48\"/>\r\n      </g>\r\n     </g>\r\n    </g>\r\n    <g id=\"ytick_2\">\r\n     <g id=\"line2d_9\">\r\n      <g>\r\n       <use style=\"stroke:#000000;stroke-width:0.8;\" x=\"40.603125\" xlink:href=\"#m44a2afff6b\" y=\"249.541799\"/>\r\n      </g>\r\n     </g>\r\n     <g id=\"text_10\">\r\n      <!-- 10 -->\r\n      <g transform=\"translate(20.878125 253.341018)scale(0.1 -0.1)\">\r\n       <defs>\r\n        <path d=\"M 12.40625 8.296875 \r\nL 28.515625 8.296875 \r\nL 28.515625 63.921875 \r\nL 10.984375 60.40625 \r\nL 10.984375 69.390625 \r\nL 28.421875 72.90625 \r\nL 38.28125 72.90625 \r\nL 38.28125 8.296875 \r\nL 54.390625 8.296875 \r\nL 54.390625 0 \r\nL 12.40625 0 \r\nz\r\n\" id=\"DejaVuSans-49\"/>\r\n       </defs>\r\n       <use xlink:href=\"#DejaVuSans-49\"/>\r\n       <use x=\"63.623047\" xlink:href=\"#DejaVuSans-48\"/>\r\n      </g>\r\n     </g>\r\n    </g>\r\n    <g id=\"ytick_3\">\r\n     <g id=\"line2d_10\">\r\n      <g>\r\n       <use style=\"stroke:#000000;stroke-width:0.8;\" x=\"40.603125\" xlink:href=\"#m44a2afff6b\" y=\"184.483598\"/>\r\n      </g>\r\n     </g>\r\n     <g id=\"text_11\">\r\n      <!-- 20 -->\r\n      <g transform=\"translate(20.878125 188.282817)scale(0.1 -0.1)\">\r\n       <use xlink:href=\"#DejaVuSans-50\"/>\r\n       <use x=\"63.623047\" xlink:href=\"#DejaVuSans-48\"/>\r\n      </g>\r\n     </g>\r\n    </g>\r\n    <g id=\"ytick_4\">\r\n     <g id=\"line2d_11\">\r\n      <g>\r\n       <use style=\"stroke:#000000;stroke-width:0.8;\" x=\"40.603125\" xlink:href=\"#m44a2afff6b\" y=\"119.425397\"/>\r\n      </g>\r\n     </g>\r\n     <g id=\"text_12\">\r\n      <!-- 30 -->\r\n      <g transform=\"translate(20.878125 123.224616)scale(0.1 -0.1)\">\r\n       <use xlink:href=\"#DejaVuSans-51\"/>\r\n       <use x=\"63.623047\" xlink:href=\"#DejaVuSans-48\"/>\r\n      </g>\r\n     </g>\r\n    </g>\r\n    <g id=\"ytick_5\">\r\n     <g id=\"line2d_12\">\r\n      <g>\r\n       <use style=\"stroke:#000000;stroke-width:0.8;\" x=\"40.603125\" xlink:href=\"#m44a2afff6b\" y=\"54.367196\"/>\r\n      </g>\r\n     </g>\r\n     <g id=\"text_13\">\r\n      <!-- 40 -->\r\n      <g transform=\"translate(20.878125 58.166415)scale(0.1 -0.1)\">\r\n       <use xlink:href=\"#DejaVuSans-52\"/>\r\n       <use x=\"63.623047\" xlink:href=\"#DejaVuSans-48\"/>\r\n      </g>\r\n     </g>\r\n    </g>\r\n    <g id=\"text_14\">\r\n     <!-- Count -->\r\n     <g transform=\"translate(14.798438 175.748437)rotate(-90)scale(0.1 -0.1)\">\r\n      <defs>\r\n       <path d=\"M 64.40625 67.28125 \r\nL 64.40625 56.890625 \r\nQ 59.421875 61.53125 53.78125 63.8125 \r\nQ 48.140625 66.109375 41.796875 66.109375 \r\nQ 29.296875 66.109375 22.65625 58.46875 \r\nQ 16.015625 50.828125 16.015625 36.375 \r\nQ 16.015625 21.96875 22.65625 14.328125 \r\nQ 29.296875 6.6875 41.796875 6.6875 \r\nQ 48.140625 6.6875 53.78125 8.984375 \r\nQ 59.421875 11.28125 64.40625 15.921875 \r\nL 64.40625 5.609375 \r\nQ 59.234375 2.09375 53.4375 0.328125 \r\nQ 47.65625 -1.421875 41.21875 -1.421875 \r\nQ 24.65625 -1.421875 15.125 8.703125 \r\nQ 5.609375 18.84375 5.609375 36.375 \r\nQ 5.609375 53.953125 15.125 64.078125 \r\nQ 24.65625 74.21875 41.21875 74.21875 \r\nQ 47.75 74.21875 53.53125 72.484375 \r\nQ 59.328125 70.75 64.40625 67.28125 \r\nz\r\n\" id=\"DejaVuSans-67\"/>\r\n       <path d=\"M 30.609375 48.390625 \r\nQ 23.390625 48.390625 19.1875 42.75 \r\nQ 14.984375 37.109375 14.984375 27.296875 \r\nQ 14.984375 17.484375 19.15625 11.84375 \r\nQ 23.34375 6.203125 30.609375 6.203125 \r\nQ 37.796875 6.203125 41.984375 11.859375 \r\nQ 46.1875 17.53125 46.1875 27.296875 \r\nQ 46.1875 37.015625 41.984375 42.703125 \r\nQ 37.796875 48.390625 30.609375 48.390625 \r\nz\r\nM 30.609375 56 \r\nQ 42.328125 56 49.015625 48.375 \r\nQ 55.71875 40.765625 55.71875 27.296875 \r\nQ 55.71875 13.875 49.015625 6.21875 \r\nQ 42.328125 -1.421875 30.609375 -1.421875 \r\nQ 18.84375 -1.421875 12.171875 6.21875 \r\nQ 5.515625 13.875 5.515625 27.296875 \r\nQ 5.515625 40.765625 12.171875 48.375 \r\nQ 18.84375 56 30.609375 56 \r\nz\r\n\" id=\"DejaVuSans-111\"/>\r\n       <path d=\"M 8.5 21.578125 \r\nL 8.5 54.6875 \r\nL 17.484375 54.6875 \r\nL 17.484375 21.921875 \r\nQ 17.484375 14.15625 20.5 10.265625 \r\nQ 23.53125 6.390625 29.59375 6.390625 \r\nQ 36.859375 6.390625 41.078125 11.03125 \r\nQ 45.3125 15.671875 45.3125 23.6875 \r\nL 45.3125 54.6875 \r\nL 54.296875 54.6875 \r\nL 54.296875 0 \r\nL 45.3125 0 \r\nL 45.3125 8.40625 \r\nQ 42.046875 3.421875 37.71875 1 \r\nQ 33.40625 -1.421875 27.6875 -1.421875 \r\nQ 18.265625 -1.421875 13.375 4.4375 \r\nQ 8.5 10.296875 8.5 21.578125 \r\nz\r\nM 31.109375 56 \r\nz\r\n\" id=\"DejaVuSans-117\"/>\r\n       <path d=\"M 54.890625 33.015625 \r\nL 54.890625 0 \r\nL 45.90625 0 \r\nL 45.90625 32.71875 \r\nQ 45.90625 40.484375 42.875 44.328125 \r\nQ 39.84375 48.1875 33.796875 48.1875 \r\nQ 26.515625 48.1875 22.3125 43.546875 \r\nQ 18.109375 38.921875 18.109375 30.90625 \r\nL 18.109375 0 \r\nL 9.078125 0 \r\nL 9.078125 54.6875 \r\nL 18.109375 54.6875 \r\nL 18.109375 46.1875 \r\nQ 21.34375 51.125 25.703125 53.5625 \r\nQ 30.078125 56 35.796875 56 \r\nQ 45.21875 56 50.046875 50.171875 \r\nQ 54.890625 44.34375 54.890625 33.015625 \r\nz\r\n\" id=\"DejaVuSans-110\"/>\r\n       <path d=\"M 18.3125 70.21875 \r\nL 18.3125 54.6875 \r\nL 36.8125 54.6875 \r\nL 36.8125 47.703125 \r\nL 18.3125 47.703125 \r\nL 18.3125 18.015625 \r\nQ 18.3125 11.328125 20.140625 9.421875 \r\nQ 21.96875 7.515625 27.59375 7.515625 \r\nL 36.8125 7.515625 \r\nL 36.8125 0 \r\nL 27.59375 0 \r\nQ 17.1875 0 13.234375 3.875 \r\nQ 9.28125 7.765625 9.28125 18.015625 \r\nL 9.28125 47.703125 \r\nL 2.6875 47.703125 \r\nL 2.6875 54.6875 \r\nL 9.28125 54.6875 \r\nL 9.28125 70.21875 \r\nz\r\n\" id=\"DejaVuSans-116\"/>\r\n      </defs>\r\n      <use xlink:href=\"#DejaVuSans-67\"/>\r\n      <use x=\"69.824219\" xlink:href=\"#DejaVuSans-111\"/>\r\n      <use x=\"131.005859\" xlink:href=\"#DejaVuSans-117\"/>\r\n      <use x=\"194.384766\" xlink:href=\"#DejaVuSans-110\"/>\r\n      <use x=\"257.763672\" xlink:href=\"#DejaVuSans-116\"/>\r\n     </g>\r\n    </g>\r\n   </g>\r\n   <g id=\"line2d_13\">\r\n    <path clip-path=\"url(#p90a32f68fe)\" d=\"M 54.450852 294.922711 \r\nL 57.234315 290.382385 \r\nL 60.017778 285.153214 \r\nL 62.801241 279.198333 \r\nL 65.584703 272.486531 \r\nL 68.368166 264.993772 \r\nL 71.151629 256.706682 \r\nL 73.935092 247.628592 \r\nL 76.718554 237.788083 \r\nL 79.502017 227.249191 \r\nL 83.677211 210.38552 \r\nL 93.419331 169.772195 \r\nL 96.202794 159.12914 \r\nL 98.986257 149.489406 \r\nL 101.769719 141.128504 \r\nL 103.161451 137.49719 \r\nL 104.553182 134.259525 \r\nL 105.944913 131.429517 \r\nL 107.336645 129.015644 \r\nL 108.728376 127.020914 \r\nL 110.120108 125.44311 \r\nL 111.511839 124.275193 \r\nL 112.90357 123.505867 \r\nL 114.295302 123.120254 \r\nL 115.687033 123.100648 \r\nL 117.078765 123.427321 \r\nL 118.470496 124.07932 \r\nL 119.862227 125.035232 \r\nL 121.253959 126.273875 \r\nL 122.64569 127.774884 \r\nL 124.037421 129.519163 \r\nL 125.429153 131.4892 \r\nL 128.212616 136.045259 \r\nL 130.996078 141.337231 \r\nL 133.779541 147.280942 \r\nL 136.563004 153.802688 \r\nL 139.346467 160.825978 \r\nL 143.521661 172.0968 \r\nL 156.047243 207.042804 \r\nL 158.830706 214.097659 \r\nL 161.614169 220.636733 \r\nL 164.397632 226.605968 \r\nL 167.181094 231.996156 \r\nL 169.964557 236.841413 \r\nL 172.74802 241.21264 \r\nL 175.531483 245.206641 \r\nL 179.706677 250.727606 \r\nL 188.057065 261.178431 \r\nL 195.015722 269.721659 \r\nL 199.190916 274.462784 \r\nL 201.974379 277.293885 \r\nL 204.757842 279.778983 \r\nL 207.541305 281.876652 \r\nL 210.324767 283.579767 \r\nL 213.10823 284.916736 \r\nL 215.891693 285.946985 \r\nL 218.675156 286.752046 \r\nL 231.200738 289.944991 \r\nL 233.984201 290.952091 \r\nL 236.767664 292.130668 \r\nL 240.942858 294.194743 \r\nL 246.509783 297.325605 \r\nL 253.46844 301.282099 \r\nL 257.643634 303.351796 \r\nL 260.427097 304.51345 \r\nL 263.21056 305.472436 \r\nL 265.994023 306.223466 \r\nL 268.777485 306.777873 \r\nL 272.95268 307.299372 \r\nL 277.127874 307.560232 \r\nL 298.003845 308.420994 \r\nL 325.838472 310.298572 \r\nL 331.405398 310.887964 \r\nL 331.405398 310.887964 \r\n\" style=\"fill:none;stroke:#1f77b4;stroke-linecap:square;stroke-width:1.5;\"/>\r\n   </g>\r\n   <g id=\"patch_23\">\r\n    <path d=\"M 40.603125 314.6 \r\nL 40.603125 7.2 \r\n\" style=\"fill:none;stroke:#000000;stroke-linecap:square;stroke-linejoin:miter;stroke-width:0.8;\"/>\r\n   </g>\r\n   <g id=\"patch_24\">\r\n    <path d=\"M 40.603125 314.6 \r\nL 345.253125 314.6 \r\n\" style=\"fill:none;stroke:#000000;stroke-linecap:square;stroke-linejoin:miter;stroke-width:0.8;\"/>\r\n   </g>\r\n  </g>\r\n </g>\r\n <defs>\r\n  <clipPath id=\"p90a32f68fe\">\r\n   <rect height=\"307.4\" width=\"304.65\" x=\"40.603125\" y=\"7.2\"/>\r\n  </clipPath>\r\n </defs>\r\n</svg>\r\n",
      "image/png": "[encoded data removed]"
     },
     "metadata": {
      "needs_background": "light"
     }
    }
   ],
   "metadata": {}
  },
  {
   "cell_type": "markdown",
   "source": [
    "### 4. Can we say that the average age (24 years old) of the observations can be considered as the average age of the population likely to participate in this bootcamp. Justify your answer"
   ],
   "metadata": {}
  },
  {
   "cell_type": "code",
   "execution_count": 47,
   "source": [
    "stat, p = stats.ttest_1samp(fin_querry.age.dropna(), popmean=24)\r\n",
    "print('Statistics=%.2f, p=%.2f' % (stat, p))\r\n",
    "# interpretation\r\n",
    "alpha = 0.05\r\n",
    "if p > alpha:\r\n",
    "\tprint('ho mu=24 (fail to reject H0)')\r\n",
    "else:\r\n",
    "\tprint('h1 mu!= 24 (reject H0)')"
   ],
   "outputs": [
    {
     "output_type": "stream",
     "name": "stdout",
     "text": [
      "Statistics=9.53, p=0.00\n",
      "h1 mu!= 24 (reject H0)\n"
     ]
    }
   ],
   "metadata": {}
  },
  {
   "cell_type": "markdown",
   "source": [
    "### 5. Calculate the average age of participants for each communication channel"
   ],
   "metadata": {}
  },
  {
   "cell_type": "code",
   "execution_count": 48,
   "source": [
    "#communication_channel\r\n",
    "com_chanel_mean_age = pd.pivot_table(data=querry7, index= \"communication_channel\", values='age', aggfunc='mean')\r\n",
    "com_chanel_mean_age.age.round(1)"
   ],
   "outputs": [
    {
     "output_type": "execute_result",
     "data": {
      "text/plain": [
       "communication_channel\n",
       "Ayiti Analytics Website    27.0\n",
       "Bootcamp Alumni            26.3\n",
       "ESIH                       25.1\n",
       "Facebook                   27.5\n",
       "Friend                     27.0\n",
       "Instagram                  24.6\n",
       "LinkedIn                   30.0\n",
       "WhatsApp                   27.8\n",
       "other                      28.4\n",
       "unknown                    22.0\n",
       "Name: age, dtype: float64"
      ]
     },
     "metadata": {},
     "execution_count": 48
    }
   ],
   "metadata": {}
  },
  {
   "cell_type": "markdown",
   "source": [
    "### 6. Display an age boxplot for each communication channel"
   ],
   "metadata": {}
  },
  {
   "cell_type": "code",
   "execution_count": 49,
   "source": [
    "plt.figure(figsize=(14,8))\r\n",
    "sns.boxplot( x=querry7[\"communication_channel\"], y=querry7[\"age\"]);\r\n",
    "plt.title(\"Age distribution by communication channel\")\r\n",
    "plt.show()"
   ],
   "outputs": [
    {
     "output_type": "display_data",
     "data": {
      "text/plain": [
       "<Figure size 1008x576 with 1 Axes>"
      ],
      "image/svg+xml": "<?xml version=\"1.0\" encoding=\"utf-8\" standalone=\"no\"?>\r\n<!DOCTYPE svg PUBLIC \"-//W3C//DTD SVG 1.1//EN\"\r\n  \"http://www.w3.org/Graphics/SVG/1.1/DTD/svg11.dtd\">\r\n<!-- Created with matplotlib (https://matplotlib.org/) -->\r\n<svg height=\"495.0325pt\" version=\"1.1\" viewBox=\"0 0 829.003125 495.0325\" width=\"829.003125pt\" xmlns=\"http://www.w3.org/2000/svg\" xmlns:xlink=\"http://www.w3.org/1999/xlink\">\r\n <metadata>\r\n  <rdf:RDF xmlns:cc=\"http://creativecommons.org/ns#\" xmlns:dc=\"http://purl.org/dc/elements/1.1/\" xmlns:rdf=\"http://www.w3.org/1999/02/22-rdf-syntax-ns#\">\r\n   <cc:Work>\r\n    <dc:type rdf:resource=\"http://purl.org/dc/dcmitype/StillImage\"/>\r\n    <dc:date>2021-08-06T22:26:45.134609</dc:date>\r\n    <dc:format>image/svg+xml</dc:format>\r\n    <dc:creator>\r\n     <cc:Agent>\r\n      <dc:title>Matplotlib v3.3.2, https://matplotlib.org/</dc:title>\r\n     </cc:Agent>\r\n    </dc:creator>\r\n   </cc:Work>\r\n  </rdf:RDF>\r\n </metadata>\r\n <defs>\r\n  <style type=\"text/css\">*{stroke-linecap:butt;stroke-linejoin:round;}</style>\r\n </defs>\r\n <g id=\"figure_1\">\r\n  <g id=\"patch_1\">\r\n   <path d=\"M 0 495.0325 \r\nL 829.003125 495.0325 \r\nL 829.003125 0 \r\nL 0 0 \r\nz\r\n\" style=\"fill:none;\"/>\r\n  </g>\r\n  <g id=\"axes_1\">\r\n   <g id=\"patch_2\">\r\n    <path d=\"M 40.603125 457.198125 \r\nL 821.803125 457.198125 \r\nL 821.803125 22.318125 \r\nL 40.603125 22.318125 \r\nz\r\n\" style=\"fill:#ffffff;\"/>\r\n   </g>\r\n   <g id=\"patch_3\">\r\n    <path clip-path=\"url(#p44868b7d0e)\" d=\"M 48.415125 388.01267 \r\nL 110.911125 388.01267 \r\nL 110.911125 388.01267 \r\nL 48.415125 388.01267 \r\nL 48.415125 388.01267 \r\nz\r\n\" style=\"fill:#3274a1;stroke:#3d3d3d;stroke-linejoin:miter;stroke-width:1.5;\"/>\r\n   </g>\r\n   <g id=\"patch_4\">\r\n    <path clip-path=\"url(#p44868b7d0e)\" d=\"M 126.535125 363.30358 \r\nL 189.031125 363.30358 \r\nL 189.031125 301.530852 \r\nL 126.535125 301.530852 \r\nL 126.535125 363.30358 \r\nz\r\n\" style=\"fill:#e1812c;stroke:#3d3d3d;stroke-linejoin:miter;stroke-width:1.5;\"/>\r\n   </g>\r\n   <g id=\"patch_5\">\r\n    <path clip-path=\"url(#p44868b7d0e)\" d=\"M 204.655125 375.658125 \r\nL 267.151125 375.658125 \r\nL 267.151125 322.747308 \r\nL 204.655125 322.747308 \r\nL 204.655125 375.658125 \r\nz\r\n\" style=\"fill:#3a923a;stroke:#3d3d3d;stroke-linejoin:miter;stroke-width:1.5;\"/>\r\n   </g>\r\n   <g id=\"patch_6\">\r\n    <path clip-path=\"url(#p44868b7d0e)\" d=\"M 282.775125 363.30358 \r\nL 345.271125 363.30358 \r\nL 345.271125 292.264943 \r\nL 282.775125 292.264943 \r\nL 282.775125 363.30358 \r\nz\r\n\" style=\"fill:#c03d3e;stroke:#3d3d3d;stroke-linejoin:miter;stroke-width:1.5;\"/>\r\n   </g>\r\n   <g id=\"patch_7\">\r\n    <path clip-path=\"url(#p44868b7d0e)\" d=\"M 360.895125 369.480852 \r\nL 423.391125 369.480852 \r\nL 423.391125 316.974034 \r\nL 360.895125 316.974034 \r\nL 360.895125 369.480852 \r\nz\r\n\" style=\"fill:#9372b2;stroke:#3d3d3d;stroke-linejoin:miter;stroke-width:1.5;\"/>\r\n   </g>\r\n   <g id=\"patch_8\">\r\n    <path clip-path=\"url(#p44868b7d0e)\" d=\"M 439.015125 363.30358 \r\nL 501.511125 363.30358 \r\nL 501.511125 289.176307 \r\nL 439.015125 289.176307 \r\nL 439.015125 363.30358 \r\nz\r\n\" style=\"fill:#845b53;stroke:#3d3d3d;stroke-linejoin:miter;stroke-width:1.5;\"/>\r\n   </g>\r\n   <g id=\"patch_9\">\r\n    <path clip-path=\"url(#p44868b7d0e)\" d=\"M 517.135125 350.949034 \r\nL 579.631125 350.949034 \r\nL 579.631125 258.289943 \r\nL 517.135125 258.289943 \r\nL 517.135125 350.949034 \r\nz\r\n\" style=\"fill:#d684bd;stroke:#3d3d3d;stroke-linejoin:miter;stroke-width:1.5;\"/>\r\n   </g>\r\n   <g id=\"patch_10\">\r\n    <path clip-path=\"url(#p44868b7d0e)\" d=\"M 595.255125 375.658125 \r\nL 657.751125 375.658125 \r\nL 657.751125 326.239943 \r\nL 595.255125 326.239943 \r\nL 595.255125 375.658125 \r\nz\r\n\" style=\"fill:#7f7f7f;stroke:#3d3d3d;stroke-linejoin:miter;stroke-width:1.5;\"/>\r\n   </g>\r\n   <g id=\"patch_11\">\r\n    <path clip-path=\"url(#p44868b7d0e)\" d=\"M 673.375125 388.01267 \r\nL 735.871125 388.01267 \r\nL 735.871125 239.758125 \r\nL 673.375125 239.758125 \r\nL 673.375125 388.01267 \r\nz\r\n\" style=\"fill:#a9aa35;stroke:#3d3d3d;stroke-linejoin:miter;stroke-width:1.5;\"/>\r\n   </g>\r\n   <g id=\"patch_12\">\r\n    <path clip-path=\"url(#p44868b7d0e)\" d=\"M 751.495125 388.01267 \r\nL 813.991125 388.01267 \r\nL 813.991125 363.30358 \r\nL 751.495125 363.30358 \r\nL 751.495125 388.01267 \r\nz\r\n\" style=\"fill:#2eabb8;stroke:#3d3d3d;stroke-linejoin:miter;stroke-width:1.5;\"/>\r\n   </g>\r\n   <g id=\"matplotlib.axis_1\">\r\n    <g id=\"xtick_1\">\r\n     <g id=\"line2d_1\">\r\n      <defs>\r\n       <path d=\"M 0 0 \r\nL 0 3.5 \r\n\" id=\"m40169702eb\" style=\"stroke:#000000;stroke-width:0.8;\"/>\r\n      </defs>\r\n      <g>\r\n       <use style=\"stroke:#000000;stroke-width:0.8;\" x=\"79.663125\" xlink:href=\"#m40169702eb\" y=\"457.198125\"/>\r\n      </g>\r\n     </g>\r\n     <g id=\"text_1\">\r\n      <!-- unknown -->\r\n      <g transform=\"translate(56.944375 471.796562)scale(0.1 -0.1)\">\r\n       <defs>\r\n        <path d=\"M 8.5 21.578125 \r\nL 8.5 54.6875 \r\nL 17.484375 54.6875 \r\nL 17.484375 21.921875 \r\nQ 17.484375 14.15625 20.5 10.265625 \r\nQ 23.53125 6.390625 29.59375 6.390625 \r\nQ 36.859375 6.390625 41.078125 11.03125 \r\nQ 45.3125 15.671875 45.3125 23.6875 \r\nL 45.3125 54.6875 \r\nL 54.296875 54.6875 \r\nL 54.296875 0 \r\nL 45.3125 0 \r\nL 45.3125 8.40625 \r\nQ 42.046875 3.421875 37.71875 1 \r\nQ 33.40625 -1.421875 27.6875 -1.421875 \r\nQ 18.265625 -1.421875 13.375 4.4375 \r\nQ 8.5 10.296875 8.5 21.578125 \r\nz\r\nM 31.109375 56 \r\nz\r\n\" id=\"DejaVuSans-117\"/>\r\n        <path d=\"M 54.890625 33.015625 \r\nL 54.890625 0 \r\nL 45.90625 0 \r\nL 45.90625 32.71875 \r\nQ 45.90625 40.484375 42.875 44.328125 \r\nQ 39.84375 48.1875 33.796875 48.1875 \r\nQ 26.515625 48.1875 22.3125 43.546875 \r\nQ 18.109375 38.921875 18.109375 30.90625 \r\nL 18.109375 0 \r\nL 9.078125 0 \r\nL 9.078125 54.6875 \r\nL 18.109375 54.6875 \r\nL 18.109375 46.1875 \r\nQ 21.34375 51.125 25.703125 53.5625 \r\nQ 30.078125 56 35.796875 56 \r\nQ 45.21875 56 50.046875 50.171875 \r\nQ 54.890625 44.34375 54.890625 33.015625 \r\nz\r\n\" id=\"DejaVuSans-110\"/>\r\n        <path d=\"M 9.078125 75.984375 \r\nL 18.109375 75.984375 \r\nL 18.109375 31.109375 \r\nL 44.921875 54.6875 \r\nL 56.390625 54.6875 \r\nL 27.390625 29.109375 \r\nL 57.625 0 \r\nL 45.90625 0 \r\nL 18.109375 26.703125 \r\nL 18.109375 0 \r\nL 9.078125 0 \r\nz\r\n\" id=\"DejaVuSans-107\"/>\r\n        <path d=\"M 30.609375 48.390625 \r\nQ 23.390625 48.390625 19.1875 42.75 \r\nQ 14.984375 37.109375 14.984375 27.296875 \r\nQ 14.984375 17.484375 19.15625 11.84375 \r\nQ 23.34375 6.203125 30.609375 6.203125 \r\nQ 37.796875 6.203125 41.984375 11.859375 \r\nQ 46.1875 17.53125 46.1875 27.296875 \r\nQ 46.1875 37.015625 41.984375 42.703125 \r\nQ 37.796875 48.390625 30.609375 48.390625 \r\nz\r\nM 30.609375 56 \r\nQ 42.328125 56 49.015625 48.375 \r\nQ 55.71875 40.765625 55.71875 27.296875 \r\nQ 55.71875 13.875 49.015625 6.21875 \r\nQ 42.328125 -1.421875 30.609375 -1.421875 \r\nQ 18.84375 -1.421875 12.171875 6.21875 \r\nQ 5.515625 13.875 5.515625 27.296875 \r\nQ 5.515625 40.765625 12.171875 48.375 \r\nQ 18.84375 56 30.609375 56 \r\nz\r\n\" id=\"DejaVuSans-111\"/>\r\n        <path d=\"M 4.203125 54.6875 \r\nL 13.1875 54.6875 \r\nL 24.421875 12.015625 \r\nL 35.59375 54.6875 \r\nL 46.1875 54.6875 \r\nL 57.421875 12.015625 \r\nL 68.609375 54.6875 \r\nL 77.59375 54.6875 \r\nL 63.28125 0 \r\nL 52.6875 0 \r\nL 40.921875 44.828125 \r\nL 29.109375 0 \r\nL 18.5 0 \r\nz\r\n\" id=\"DejaVuSans-119\"/>\r\n       </defs>\r\n       <use xlink:href=\"#DejaVuSans-117\"/>\r\n       <use x=\"63.378906\" xlink:href=\"#DejaVuSans-110\"/>\r\n       <use x=\"126.757812\" xlink:href=\"#DejaVuSans-107\"/>\r\n       <use x=\"184.667969\" xlink:href=\"#DejaVuSans-110\"/>\r\n       <use x=\"248.046875\" xlink:href=\"#DejaVuSans-111\"/>\r\n       <use x=\"309.228516\" xlink:href=\"#DejaVuSans-119\"/>\r\n       <use x=\"391.015625\" xlink:href=\"#DejaVuSans-110\"/>\r\n      </g>\r\n     </g>\r\n    </g>\r\n    <g id=\"xtick_2\">\r\n     <g id=\"line2d_2\">\r\n      <g>\r\n       <use style=\"stroke:#000000;stroke-width:0.8;\" x=\"157.783125\" xlink:href=\"#m40169702eb\" y=\"457.198125\"/>\r\n      </g>\r\n     </g>\r\n     <g id=\"text_2\">\r\n      <!-- Friend -->\r\n      <g transform=\"translate(142.405781 471.796562)scale(0.1 -0.1)\">\r\n       <defs>\r\n        <path d=\"M 9.8125 72.90625 \r\nL 51.703125 72.90625 \r\nL 51.703125 64.59375 \r\nL 19.671875 64.59375 \r\nL 19.671875 43.109375 \r\nL 48.578125 43.109375 \r\nL 48.578125 34.8125 \r\nL 19.671875 34.8125 \r\nL 19.671875 0 \r\nL 9.8125 0 \r\nz\r\n\" id=\"DejaVuSans-70\"/>\r\n        <path d=\"M 41.109375 46.296875 \r\nQ 39.59375 47.171875 37.8125 47.578125 \r\nQ 36.03125 48 33.890625 48 \r\nQ 26.265625 48 22.1875 43.046875 \r\nQ 18.109375 38.09375 18.109375 28.8125 \r\nL 18.109375 0 \r\nL 9.078125 0 \r\nL 9.078125 54.6875 \r\nL 18.109375 54.6875 \r\nL 18.109375 46.1875 \r\nQ 20.953125 51.171875 25.484375 53.578125 \r\nQ 30.03125 56 36.53125 56 \r\nQ 37.453125 56 38.578125 55.875 \r\nQ 39.703125 55.765625 41.0625 55.515625 \r\nz\r\n\" id=\"DejaVuSans-114\"/>\r\n        <path d=\"M 9.421875 54.6875 \r\nL 18.40625 54.6875 \r\nL 18.40625 0 \r\nL 9.421875 0 \r\nz\r\nM 9.421875 75.984375 \r\nL 18.40625 75.984375 \r\nL 18.40625 64.59375 \r\nL 9.421875 64.59375 \r\nz\r\n\" id=\"DejaVuSans-105\"/>\r\n        <path d=\"M 56.203125 29.59375 \r\nL 56.203125 25.203125 \r\nL 14.890625 25.203125 \r\nQ 15.484375 15.921875 20.484375 11.0625 \r\nQ 25.484375 6.203125 34.421875 6.203125 \r\nQ 39.59375 6.203125 44.453125 7.46875 \r\nQ 49.3125 8.734375 54.109375 11.28125 \r\nL 54.109375 2.78125 \r\nQ 49.265625 0.734375 44.1875 -0.34375 \r\nQ 39.109375 -1.421875 33.890625 -1.421875 \r\nQ 20.796875 -1.421875 13.15625 6.1875 \r\nQ 5.515625 13.8125 5.515625 26.8125 \r\nQ 5.515625 40.234375 12.765625 48.109375 \r\nQ 20.015625 56 32.328125 56 \r\nQ 43.359375 56 49.78125 48.890625 \r\nQ 56.203125 41.796875 56.203125 29.59375 \r\nz\r\nM 47.21875 32.234375 \r\nQ 47.125 39.59375 43.09375 43.984375 \r\nQ 39.0625 48.390625 32.421875 48.390625 \r\nQ 24.90625 48.390625 20.390625 44.140625 \r\nQ 15.875 39.890625 15.1875 32.171875 \r\nz\r\n\" id=\"DejaVuSans-101\"/>\r\n        <path d=\"M 45.40625 46.390625 \r\nL 45.40625 75.984375 \r\nL 54.390625 75.984375 \r\nL 54.390625 0 \r\nL 45.40625 0 \r\nL 45.40625 8.203125 \r\nQ 42.578125 3.328125 38.25 0.953125 \r\nQ 33.9375 -1.421875 27.875 -1.421875 \r\nQ 17.96875 -1.421875 11.734375 6.484375 \r\nQ 5.515625 14.40625 5.515625 27.296875 \r\nQ 5.515625 40.1875 11.734375 48.09375 \r\nQ 17.96875 56 27.875 56 \r\nQ 33.9375 56 38.25 53.625 \r\nQ 42.578125 51.265625 45.40625 46.390625 \r\nz\r\nM 14.796875 27.296875 \r\nQ 14.796875 17.390625 18.875 11.75 \r\nQ 22.953125 6.109375 30.078125 6.109375 \r\nQ 37.203125 6.109375 41.296875 11.75 \r\nQ 45.40625 17.390625 45.40625 27.296875 \r\nQ 45.40625 37.203125 41.296875 42.84375 \r\nQ 37.203125 48.484375 30.078125 48.484375 \r\nQ 22.953125 48.484375 18.875 42.84375 \r\nQ 14.796875 37.203125 14.796875 27.296875 \r\nz\r\n\" id=\"DejaVuSans-100\"/>\r\n       </defs>\r\n       <use xlink:href=\"#DejaVuSans-70\"/>\r\n       <use x=\"50.269531\" xlink:href=\"#DejaVuSans-114\"/>\r\n       <use x=\"91.382812\" xlink:href=\"#DejaVuSans-105\"/>\r\n       <use x=\"119.166016\" xlink:href=\"#DejaVuSans-101\"/>\r\n       <use x=\"180.689453\" xlink:href=\"#DejaVuSans-110\"/>\r\n       <use x=\"244.068359\" xlink:href=\"#DejaVuSans-100\"/>\r\n      </g>\r\n     </g>\r\n    </g>\r\n    <g id=\"xtick_3\">\r\n     <g id=\"line2d_3\">\r\n      <g>\r\n       <use style=\"stroke:#000000;stroke-width:0.8;\" x=\"235.903125\" xlink:href=\"#m40169702eb\" y=\"457.198125\"/>\r\n      </g>\r\n     </g>\r\n     <g id=\"text_3\">\r\n      <!-- ESIH -->\r\n      <g transform=\"translate(224.334375 471.796562)scale(0.1 -0.1)\">\r\n       <defs>\r\n        <path d=\"M 9.8125 72.90625 \r\nL 55.90625 72.90625 \r\nL 55.90625 64.59375 \r\nL 19.671875 64.59375 \r\nL 19.671875 43.015625 \r\nL 54.390625 43.015625 \r\nL 54.390625 34.71875 \r\nL 19.671875 34.71875 \r\nL 19.671875 8.296875 \r\nL 56.78125 8.296875 \r\nL 56.78125 0 \r\nL 9.8125 0 \r\nz\r\n\" id=\"DejaVuSans-69\"/>\r\n        <path d=\"M 53.515625 70.515625 \r\nL 53.515625 60.890625 \r\nQ 47.90625 63.578125 42.921875 64.890625 \r\nQ 37.9375 66.21875 33.296875 66.21875 \r\nQ 25.25 66.21875 20.875 63.09375 \r\nQ 16.5 59.96875 16.5 54.203125 \r\nQ 16.5 49.359375 19.40625 46.890625 \r\nQ 22.3125 44.4375 30.421875 42.921875 \r\nL 36.375 41.703125 \r\nQ 47.40625 39.59375 52.65625 34.296875 \r\nQ 57.90625 29 57.90625 20.125 \r\nQ 57.90625 9.515625 50.796875 4.046875 \r\nQ 43.703125 -1.421875 29.984375 -1.421875 \r\nQ 24.8125 -1.421875 18.96875 -0.25 \r\nQ 13.140625 0.921875 6.890625 3.21875 \r\nL 6.890625 13.375 \r\nQ 12.890625 10.015625 18.65625 8.296875 \r\nQ 24.421875 6.59375 29.984375 6.59375 \r\nQ 38.421875 6.59375 43.015625 9.90625 \r\nQ 47.609375 13.234375 47.609375 19.390625 \r\nQ 47.609375 24.75 44.3125 27.78125 \r\nQ 41.015625 30.8125 33.5 32.328125 \r\nL 27.484375 33.5 \r\nQ 16.453125 35.6875 11.515625 40.375 \r\nQ 6.59375 45.0625 6.59375 53.421875 \r\nQ 6.59375 63.09375 13.40625 68.65625 \r\nQ 20.21875 74.21875 32.171875 74.21875 \r\nQ 37.3125 74.21875 42.625 73.28125 \r\nQ 47.953125 72.359375 53.515625 70.515625 \r\nz\r\n\" id=\"DejaVuSans-83\"/>\r\n        <path d=\"M 9.8125 72.90625 \r\nL 19.671875 72.90625 \r\nL 19.671875 0 \r\nL 9.8125 0 \r\nz\r\n\" id=\"DejaVuSans-73\"/>\r\n        <path d=\"M 9.8125 72.90625 \r\nL 19.671875 72.90625 \r\nL 19.671875 43.015625 \r\nL 55.515625 43.015625 \r\nL 55.515625 72.90625 \r\nL 65.375 72.90625 \r\nL 65.375 0 \r\nL 55.515625 0 \r\nL 55.515625 34.71875 \r\nL 19.671875 34.71875 \r\nL 19.671875 0 \r\nL 9.8125 0 \r\nz\r\n\" id=\"DejaVuSans-72\"/>\r\n       </defs>\r\n       <use xlink:href=\"#DejaVuSans-69\"/>\r\n       <use x=\"63.183594\" xlink:href=\"#DejaVuSans-83\"/>\r\n       <use x=\"126.660156\" xlink:href=\"#DejaVuSans-73\"/>\r\n       <use x=\"156.152344\" xlink:href=\"#DejaVuSans-72\"/>\r\n      </g>\r\n     </g>\r\n    </g>\r\n    <g id=\"xtick_4\">\r\n     <g id=\"line2d_4\">\r\n      <g>\r\n       <use style=\"stroke:#000000;stroke-width:0.8;\" x=\"314.023125\" xlink:href=\"#m40169702eb\" y=\"457.198125\"/>\r\n      </g>\r\n     </g>\r\n     <g id=\"text_4\">\r\n      <!-- WhatsApp -->\r\n      <g transform=\"translate(288.512969 471.796562)scale(0.1 -0.1)\">\r\n       <defs>\r\n        <path d=\"M 3.328125 72.90625 \r\nL 13.28125 72.90625 \r\nL 28.609375 11.28125 \r\nL 43.890625 72.90625 \r\nL 54.984375 72.90625 \r\nL 70.3125 11.28125 \r\nL 85.59375 72.90625 \r\nL 95.609375 72.90625 \r\nL 77.296875 0 \r\nL 64.890625 0 \r\nL 49.515625 63.28125 \r\nL 33.984375 0 \r\nL 21.578125 0 \r\nz\r\n\" id=\"DejaVuSans-87\"/>\r\n        <path d=\"M 54.890625 33.015625 \r\nL 54.890625 0 \r\nL 45.90625 0 \r\nL 45.90625 32.71875 \r\nQ 45.90625 40.484375 42.875 44.328125 \r\nQ 39.84375 48.1875 33.796875 48.1875 \r\nQ 26.515625 48.1875 22.3125 43.546875 \r\nQ 18.109375 38.921875 18.109375 30.90625 \r\nL 18.109375 0 \r\nL 9.078125 0 \r\nL 9.078125 75.984375 \r\nL 18.109375 75.984375 \r\nL 18.109375 46.1875 \r\nQ 21.34375 51.125 25.703125 53.5625 \r\nQ 30.078125 56 35.796875 56 \r\nQ 45.21875 56 50.046875 50.171875 \r\nQ 54.890625 44.34375 54.890625 33.015625 \r\nz\r\n\" id=\"DejaVuSans-104\"/>\r\n        <path d=\"M 34.28125 27.484375 \r\nQ 23.390625 27.484375 19.1875 25 \r\nQ 14.984375 22.515625 14.984375 16.5 \r\nQ 14.984375 11.71875 18.140625 8.90625 \r\nQ 21.296875 6.109375 26.703125 6.109375 \r\nQ 34.1875 6.109375 38.703125 11.40625 \r\nQ 43.21875 16.703125 43.21875 25.484375 \r\nL 43.21875 27.484375 \r\nz\r\nM 52.203125 31.203125 \r\nL 52.203125 0 \r\nL 43.21875 0 \r\nL 43.21875 8.296875 \r\nQ 40.140625 3.328125 35.546875 0.953125 \r\nQ 30.953125 -1.421875 24.3125 -1.421875 \r\nQ 15.921875 -1.421875 10.953125 3.296875 \r\nQ 6 8.015625 6 15.921875 \r\nQ 6 25.140625 12.171875 29.828125 \r\nQ 18.359375 34.515625 30.609375 34.515625 \r\nL 43.21875 34.515625 \r\nL 43.21875 35.40625 \r\nQ 43.21875 41.609375 39.140625 45 \r\nQ 35.0625 48.390625 27.6875 48.390625 \r\nQ 23 48.390625 18.546875 47.265625 \r\nQ 14.109375 46.140625 10.015625 43.890625 \r\nL 10.015625 52.203125 \r\nQ 14.9375 54.109375 19.578125 55.046875 \r\nQ 24.21875 56 28.609375 56 \r\nQ 40.484375 56 46.34375 49.84375 \r\nQ 52.203125 43.703125 52.203125 31.203125 \r\nz\r\n\" id=\"DejaVuSans-97\"/>\r\n        <path d=\"M 18.3125 70.21875 \r\nL 18.3125 54.6875 \r\nL 36.8125 54.6875 \r\nL 36.8125 47.703125 \r\nL 18.3125 47.703125 \r\nL 18.3125 18.015625 \r\nQ 18.3125 11.328125 20.140625 9.421875 \r\nQ 21.96875 7.515625 27.59375 7.515625 \r\nL 36.8125 7.515625 \r\nL 36.8125 0 \r\nL 27.59375 0 \r\nQ 17.1875 0 13.234375 3.875 \r\nQ 9.28125 7.765625 9.28125 18.015625 \r\nL 9.28125 47.703125 \r\nL 2.6875 47.703125 \r\nL 2.6875 54.6875 \r\nL 9.28125 54.6875 \r\nL 9.28125 70.21875 \r\nz\r\n\" id=\"DejaVuSans-116\"/>\r\n        <path d=\"M 44.28125 53.078125 \r\nL 44.28125 44.578125 \r\nQ 40.484375 46.53125 36.375 47.5 \r\nQ 32.28125 48.484375 27.875 48.484375 \r\nQ 21.1875 48.484375 17.84375 46.4375 \r\nQ 14.5 44.390625 14.5 40.28125 \r\nQ 14.5 37.15625 16.890625 35.375 \r\nQ 19.28125 33.59375 26.515625 31.984375 \r\nL 29.59375 31.296875 \r\nQ 39.15625 29.25 43.1875 25.515625 \r\nQ 47.21875 21.78125 47.21875 15.09375 \r\nQ 47.21875 7.46875 41.1875 3.015625 \r\nQ 35.15625 -1.421875 24.609375 -1.421875 \r\nQ 20.21875 -1.421875 15.453125 -0.5625 \r\nQ 10.6875 0.296875 5.421875 2 \r\nL 5.421875 11.28125 \r\nQ 10.40625 8.6875 15.234375 7.390625 \r\nQ 20.0625 6.109375 24.8125 6.109375 \r\nQ 31.15625 6.109375 34.5625 8.28125 \r\nQ 37.984375 10.453125 37.984375 14.40625 \r\nQ 37.984375 18.0625 35.515625 20.015625 \r\nQ 33.0625 21.96875 24.703125 23.78125 \r\nL 21.578125 24.515625 \r\nQ 13.234375 26.265625 9.515625 29.90625 \r\nQ 5.8125 33.546875 5.8125 39.890625 \r\nQ 5.8125 47.609375 11.28125 51.796875 \r\nQ 16.75 56 26.8125 56 \r\nQ 31.78125 56 36.171875 55.265625 \r\nQ 40.578125 54.546875 44.28125 53.078125 \r\nz\r\n\" id=\"DejaVuSans-115\"/>\r\n        <path d=\"M 34.1875 63.1875 \r\nL 20.796875 26.90625 \r\nL 47.609375 26.90625 \r\nz\r\nM 28.609375 72.90625 \r\nL 39.796875 72.90625 \r\nL 67.578125 0 \r\nL 57.328125 0 \r\nL 50.6875 18.703125 \r\nL 17.828125 18.703125 \r\nL 11.1875 0 \r\nL 0.78125 0 \r\nz\r\n\" id=\"DejaVuSans-65\"/>\r\n        <path d=\"M 18.109375 8.203125 \r\nL 18.109375 -20.796875 \r\nL 9.078125 -20.796875 \r\nL 9.078125 54.6875 \r\nL 18.109375 54.6875 \r\nL 18.109375 46.390625 \r\nQ 20.953125 51.265625 25.265625 53.625 \r\nQ 29.59375 56 35.59375 56 \r\nQ 45.5625 56 51.78125 48.09375 \r\nQ 58.015625 40.1875 58.015625 27.296875 \r\nQ 58.015625 14.40625 51.78125 6.484375 \r\nQ 45.5625 -1.421875 35.59375 -1.421875 \r\nQ 29.59375 -1.421875 25.265625 0.953125 \r\nQ 20.953125 3.328125 18.109375 8.203125 \r\nz\r\nM 48.6875 27.296875 \r\nQ 48.6875 37.203125 44.609375 42.84375 \r\nQ 40.53125 48.484375 33.40625 48.484375 \r\nQ 26.265625 48.484375 22.1875 42.84375 \r\nQ 18.109375 37.203125 18.109375 27.296875 \r\nQ 18.109375 17.390625 22.1875 11.75 \r\nQ 26.265625 6.109375 33.40625 6.109375 \r\nQ 40.53125 6.109375 44.609375 11.75 \r\nQ 48.6875 17.390625 48.6875 27.296875 \r\nz\r\n\" id=\"DejaVuSans-112\"/>\r\n       </defs>\r\n       <use xlink:href=\"#DejaVuSans-87\"/>\r\n       <use x=\"98.876953\" xlink:href=\"#DejaVuSans-104\"/>\r\n       <use x=\"162.255859\" xlink:href=\"#DejaVuSans-97\"/>\r\n       <use x=\"223.535156\" xlink:href=\"#DejaVuSans-116\"/>\r\n       <use x=\"262.744141\" xlink:href=\"#DejaVuSans-115\"/>\r\n       <use x=\"314.84375\" xlink:href=\"#DejaVuSans-65\"/>\r\n       <use x=\"383.251953\" xlink:href=\"#DejaVuSans-112\"/>\r\n       <use x=\"446.728516\" xlink:href=\"#DejaVuSans-112\"/>\r\n      </g>\r\n     </g>\r\n    </g>\r\n    <g id=\"xtick_5\">\r\n     <g id=\"line2d_5\">\r\n      <g>\r\n       <use style=\"stroke:#000000;stroke-width:0.8;\" x=\"392.143125\" xlink:href=\"#m40169702eb\" y=\"457.198125\"/>\r\n      </g>\r\n     </g>\r\n     <g id=\"text_5\">\r\n      <!-- Bootcamp Alumni -->\r\n      <g transform=\"translate(347.780625 471.796562)scale(0.1 -0.1)\">\r\n       <defs>\r\n        <path d=\"M 19.671875 34.8125 \r\nL 19.671875 8.109375 \r\nL 35.5 8.109375 \r\nQ 43.453125 8.109375 47.28125 11.40625 \r\nQ 51.125 14.703125 51.125 21.484375 \r\nQ 51.125 28.328125 47.28125 31.5625 \r\nQ 43.453125 34.8125 35.5 34.8125 \r\nz\r\nM 19.671875 64.796875 \r\nL 19.671875 42.828125 \r\nL 34.28125 42.828125 \r\nQ 41.5 42.828125 45.03125 45.53125 \r\nQ 48.578125 48.25 48.578125 53.8125 \r\nQ 48.578125 59.328125 45.03125 62.0625 \r\nQ 41.5 64.796875 34.28125 64.796875 \r\nz\r\nM 9.8125 72.90625 \r\nL 35.015625 72.90625 \r\nQ 46.296875 72.90625 52.390625 68.21875 \r\nQ 58.5 63.53125 58.5 54.890625 \r\nQ 58.5 48.1875 55.375 44.234375 \r\nQ 52.25 40.28125 46.1875 39.3125 \r\nQ 53.46875 37.75 57.5 32.78125 \r\nQ 61.53125 27.828125 61.53125 20.40625 \r\nQ 61.53125 10.640625 54.890625 5.3125 \r\nQ 48.25 0 35.984375 0 \r\nL 9.8125 0 \r\nz\r\n\" id=\"DejaVuSans-66\"/>\r\n        <path d=\"M 48.78125 52.59375 \r\nL 48.78125 44.1875 \r\nQ 44.96875 46.296875 41.140625 47.34375 \r\nQ 37.3125 48.390625 33.40625 48.390625 \r\nQ 24.65625 48.390625 19.8125 42.84375 \r\nQ 14.984375 37.3125 14.984375 27.296875 \r\nQ 14.984375 17.28125 19.8125 11.734375 \r\nQ 24.65625 6.203125 33.40625 6.203125 \r\nQ 37.3125 6.203125 41.140625 7.25 \r\nQ 44.96875 8.296875 48.78125 10.40625 \r\nL 48.78125 2.09375 \r\nQ 45.015625 0.34375 40.984375 -0.53125 \r\nQ 36.96875 -1.421875 32.421875 -1.421875 \r\nQ 20.0625 -1.421875 12.78125 6.34375 \r\nQ 5.515625 14.109375 5.515625 27.296875 \r\nQ 5.515625 40.671875 12.859375 48.328125 \r\nQ 20.21875 56 33.015625 56 \r\nQ 37.15625 56 41.109375 55.140625 \r\nQ 45.0625 54.296875 48.78125 52.59375 \r\nz\r\n\" id=\"DejaVuSans-99\"/>\r\n        <path d=\"M 52 44.1875 \r\nQ 55.375 50.25 60.0625 53.125 \r\nQ 64.75 56 71.09375 56 \r\nQ 79.640625 56 84.28125 50.015625 \r\nQ 88.921875 44.046875 88.921875 33.015625 \r\nL 88.921875 0 \r\nL 79.890625 0 \r\nL 79.890625 32.71875 \r\nQ 79.890625 40.578125 77.09375 44.375 \r\nQ 74.3125 48.1875 68.609375 48.1875 \r\nQ 61.625 48.1875 57.5625 43.546875 \r\nQ 53.515625 38.921875 53.515625 30.90625 \r\nL 53.515625 0 \r\nL 44.484375 0 \r\nL 44.484375 32.71875 \r\nQ 44.484375 40.625 41.703125 44.40625 \r\nQ 38.921875 48.1875 33.109375 48.1875 \r\nQ 26.21875 48.1875 22.15625 43.53125 \r\nQ 18.109375 38.875 18.109375 30.90625 \r\nL 18.109375 0 \r\nL 9.078125 0 \r\nL 9.078125 54.6875 \r\nL 18.109375 54.6875 \r\nL 18.109375 46.1875 \r\nQ 21.1875 51.21875 25.484375 53.609375 \r\nQ 29.78125 56 35.6875 56 \r\nQ 41.65625 56 45.828125 52.96875 \r\nQ 50 49.953125 52 44.1875 \r\nz\r\n\" id=\"DejaVuSans-109\"/>\r\n        <path id=\"DejaVuSans-32\"/>\r\n        <path d=\"M 9.421875 75.984375 \r\nL 18.40625 75.984375 \r\nL 18.40625 0 \r\nL 9.421875 0 \r\nz\r\n\" id=\"DejaVuSans-108\"/>\r\n       </defs>\r\n       <use xlink:href=\"#DejaVuSans-66\"/>\r\n       <use x=\"68.603516\" xlink:href=\"#DejaVuSans-111\"/>\r\n       <use x=\"129.785156\" xlink:href=\"#DejaVuSans-111\"/>\r\n       <use x=\"190.966797\" xlink:href=\"#DejaVuSans-116\"/>\r\n       <use x=\"230.175781\" xlink:href=\"#DejaVuSans-99\"/>\r\n       <use x=\"285.15625\" xlink:href=\"#DejaVuSans-97\"/>\r\n       <use x=\"346.435547\" xlink:href=\"#DejaVuSans-109\"/>\r\n       <use x=\"443.847656\" xlink:href=\"#DejaVuSans-112\"/>\r\n       <use x=\"507.324219\" xlink:href=\"#DejaVuSans-32\"/>\r\n       <use x=\"539.111328\" xlink:href=\"#DejaVuSans-65\"/>\r\n       <use x=\"607.519531\" xlink:href=\"#DejaVuSans-108\"/>\r\n       <use x=\"635.302734\" xlink:href=\"#DejaVuSans-117\"/>\r\n       <use x=\"698.681641\" xlink:href=\"#DejaVuSans-109\"/>\r\n       <use x=\"796.09375\" xlink:href=\"#DejaVuSans-110\"/>\r\n       <use x=\"859.472656\" xlink:href=\"#DejaVuSans-105\"/>\r\n      </g>\r\n     </g>\r\n    </g>\r\n    <g id=\"xtick_6\">\r\n     <g id=\"line2d_6\">\r\n      <g>\r\n       <use style=\"stroke:#000000;stroke-width:0.8;\" x=\"470.263125\" xlink:href=\"#m40169702eb\" y=\"457.198125\"/>\r\n      </g>\r\n     </g>\r\n     <g id=\"text_6\">\r\n      <!-- Facebook -->\r\n      <g transform=\"translate(446.765469 471.796562)scale(0.1 -0.1)\">\r\n       <defs>\r\n        <path d=\"M 48.6875 27.296875 \r\nQ 48.6875 37.203125 44.609375 42.84375 \r\nQ 40.53125 48.484375 33.40625 48.484375 \r\nQ 26.265625 48.484375 22.1875 42.84375 \r\nQ 18.109375 37.203125 18.109375 27.296875 \r\nQ 18.109375 17.390625 22.1875 11.75 \r\nQ 26.265625 6.109375 33.40625 6.109375 \r\nQ 40.53125 6.109375 44.609375 11.75 \r\nQ 48.6875 17.390625 48.6875 27.296875 \r\nz\r\nM 18.109375 46.390625 \r\nQ 20.953125 51.265625 25.265625 53.625 \r\nQ 29.59375 56 35.59375 56 \r\nQ 45.5625 56 51.78125 48.09375 \r\nQ 58.015625 40.1875 58.015625 27.296875 \r\nQ 58.015625 14.40625 51.78125 6.484375 \r\nQ 45.5625 -1.421875 35.59375 -1.421875 \r\nQ 29.59375 -1.421875 25.265625 0.953125 \r\nQ 20.953125 3.328125 18.109375 8.203125 \r\nL 18.109375 0 \r\nL 9.078125 0 \r\nL 9.078125 75.984375 \r\nL 18.109375 75.984375 \r\nz\r\n\" id=\"DejaVuSans-98\"/>\r\n       </defs>\r\n       <use xlink:href=\"#DejaVuSans-70\"/>\r\n       <use x=\"48.394531\" xlink:href=\"#DejaVuSans-97\"/>\r\n       <use x=\"109.673828\" xlink:href=\"#DejaVuSans-99\"/>\r\n       <use x=\"164.654297\" xlink:href=\"#DejaVuSans-101\"/>\r\n       <use x=\"226.177734\" xlink:href=\"#DejaVuSans-98\"/>\r\n       <use x=\"289.654297\" xlink:href=\"#DejaVuSans-111\"/>\r\n       <use x=\"350.835938\" xlink:href=\"#DejaVuSans-111\"/>\r\n       <use x=\"412.017578\" xlink:href=\"#DejaVuSans-107\"/>\r\n      </g>\r\n     </g>\r\n    </g>\r\n    <g id=\"xtick_7\">\r\n     <g id=\"line2d_7\">\r\n      <g>\r\n       <use style=\"stroke:#000000;stroke-width:0.8;\" x=\"548.383125\" xlink:href=\"#m40169702eb\" y=\"457.198125\"/>\r\n      </g>\r\n     </g>\r\n     <g id=\"text_7\">\r\n      <!-- LinkedIn -->\r\n      <g transform=\"translate(527.430781 471.796562)scale(0.1 -0.1)\">\r\n       <defs>\r\n        <path d=\"M 9.8125 72.90625 \r\nL 19.671875 72.90625 \r\nL 19.671875 8.296875 \r\nL 55.171875 8.296875 \r\nL 55.171875 0 \r\nL 9.8125 0 \r\nz\r\n\" id=\"DejaVuSans-76\"/>\r\n       </defs>\r\n       <use xlink:href=\"#DejaVuSans-76\"/>\r\n       <use x=\"55.712891\" xlink:href=\"#DejaVuSans-105\"/>\r\n       <use x=\"83.496094\" xlink:href=\"#DejaVuSans-110\"/>\r\n       <use x=\"146.875\" xlink:href=\"#DejaVuSans-107\"/>\r\n       <use x=\"201.160156\" xlink:href=\"#DejaVuSans-101\"/>\r\n       <use x=\"262.683594\" xlink:href=\"#DejaVuSans-100\"/>\r\n       <use x=\"326.160156\" xlink:href=\"#DejaVuSans-73\"/>\r\n       <use x=\"355.652344\" xlink:href=\"#DejaVuSans-110\"/>\r\n      </g>\r\n     </g>\r\n    </g>\r\n    <g id=\"xtick_8\">\r\n     <g id=\"line2d_8\">\r\n      <g>\r\n       <use style=\"stroke:#000000;stroke-width:0.8;\" x=\"626.503125\" xlink:href=\"#m40169702eb\" y=\"457.198125\"/>\r\n      </g>\r\n     </g>\r\n     <g id=\"text_8\">\r\n      <!-- Ayiti Analytics Website -->\r\n      <g transform=\"translate(569.908594 471.796562)scale(0.1 -0.1)\">\r\n       <defs>\r\n        <path d=\"M 32.171875 -5.078125 \r\nQ 28.375 -14.84375 24.75 -17.8125 \r\nQ 21.140625 -20.796875 15.09375 -20.796875 \r\nL 7.90625 -20.796875 \r\nL 7.90625 -13.28125 \r\nL 13.1875 -13.28125 \r\nQ 16.890625 -13.28125 18.9375 -11.515625 \r\nQ 21 -9.765625 23.484375 -3.21875 \r\nL 25.09375 0.875 \r\nL 2.984375 54.6875 \r\nL 12.5 54.6875 \r\nL 29.59375 11.921875 \r\nL 46.6875 54.6875 \r\nL 56.203125 54.6875 \r\nz\r\n\" id=\"DejaVuSans-121\"/>\r\n       </defs>\r\n       <use xlink:href=\"#DejaVuSans-65\"/>\r\n       <use x=\"61.658203\" xlink:href=\"#DejaVuSans-121\"/>\r\n       <use x=\"120.837891\" xlink:href=\"#DejaVuSans-105\"/>\r\n       <use x=\"148.621094\" xlink:href=\"#DejaVuSans-116\"/>\r\n       <use x=\"187.830078\" xlink:href=\"#DejaVuSans-105\"/>\r\n       <use x=\"215.613281\" xlink:href=\"#DejaVuSans-32\"/>\r\n       <use x=\"247.400391\" xlink:href=\"#DejaVuSans-65\"/>\r\n       <use x=\"315.808594\" xlink:href=\"#DejaVuSans-110\"/>\r\n       <use x=\"379.1875\" xlink:href=\"#DejaVuSans-97\"/>\r\n       <use x=\"440.466797\" xlink:href=\"#DejaVuSans-108\"/>\r\n       <use x=\"468.25\" xlink:href=\"#DejaVuSans-121\"/>\r\n       <use x=\"527.429688\" xlink:href=\"#DejaVuSans-116\"/>\r\n       <use x=\"566.638672\" xlink:href=\"#DejaVuSans-105\"/>\r\n       <use x=\"594.421875\" xlink:href=\"#DejaVuSans-99\"/>\r\n       <use x=\"649.402344\" xlink:href=\"#DejaVuSans-115\"/>\r\n       <use x=\"701.501953\" xlink:href=\"#DejaVuSans-32\"/>\r\n       <use x=\"733.289062\" xlink:href=\"#DejaVuSans-87\"/>\r\n       <use x=\"826.291016\" xlink:href=\"#DejaVuSans-101\"/>\r\n       <use x=\"887.814453\" xlink:href=\"#DejaVuSans-98\"/>\r\n       <use x=\"951.291016\" xlink:href=\"#DejaVuSans-115\"/>\r\n       <use x=\"1003.390625\" xlink:href=\"#DejaVuSans-105\"/>\r\n       <use x=\"1031.173828\" xlink:href=\"#DejaVuSans-116\"/>\r\n       <use x=\"1070.382812\" xlink:href=\"#DejaVuSans-101\"/>\r\n      </g>\r\n     </g>\r\n    </g>\r\n    <g id=\"xtick_9\">\r\n     <g id=\"line2d_9\">\r\n      <g>\r\n       <use style=\"stroke:#000000;stroke-width:0.8;\" x=\"704.623125\" xlink:href=\"#m40169702eb\" y=\"457.198125\"/>\r\n      </g>\r\n     </g>\r\n     <g id=\"text_9\">\r\n      <!-- other -->\r\n      <g transform=\"translate(691.302813 471.796562)scale(0.1 -0.1)\">\r\n       <use xlink:href=\"#DejaVuSans-111\"/>\r\n       <use x=\"61.181641\" xlink:href=\"#DejaVuSans-116\"/>\r\n       <use x=\"100.390625\" xlink:href=\"#DejaVuSans-104\"/>\r\n       <use x=\"163.769531\" xlink:href=\"#DejaVuSans-101\"/>\r\n       <use x=\"225.292969\" xlink:href=\"#DejaVuSans-114\"/>\r\n      </g>\r\n     </g>\r\n    </g>\r\n    <g id=\"xtick_10\">\r\n     <g id=\"line2d_10\">\r\n      <g>\r\n       <use style=\"stroke:#000000;stroke-width:0.8;\" x=\"782.743125\" xlink:href=\"#m40169702eb\" y=\"457.198125\"/>\r\n      </g>\r\n     </g>\r\n     <g id=\"text_10\">\r\n      <!-- Instagram -->\r\n      <g transform=\"translate(757.306406 471.796562)scale(0.1 -0.1)\">\r\n       <defs>\r\n        <path d=\"M 45.40625 27.984375 \r\nQ 45.40625 37.75 41.375 43.109375 \r\nQ 37.359375 48.484375 30.078125 48.484375 \r\nQ 22.859375 48.484375 18.828125 43.109375 \r\nQ 14.796875 37.75 14.796875 27.984375 \r\nQ 14.796875 18.265625 18.828125 12.890625 \r\nQ 22.859375 7.515625 30.078125 7.515625 \r\nQ 37.359375 7.515625 41.375 12.890625 \r\nQ 45.40625 18.265625 45.40625 27.984375 \r\nz\r\nM 54.390625 6.78125 \r\nQ 54.390625 -7.171875 48.1875 -13.984375 \r\nQ 42 -20.796875 29.203125 -20.796875 \r\nQ 24.46875 -20.796875 20.265625 -20.09375 \r\nQ 16.0625 -19.390625 12.109375 -17.921875 \r\nL 12.109375 -9.1875 \r\nQ 16.0625 -11.328125 19.921875 -12.34375 \r\nQ 23.78125 -13.375 27.78125 -13.375 \r\nQ 36.625 -13.375 41.015625 -8.765625 \r\nQ 45.40625 -4.15625 45.40625 5.171875 \r\nL 45.40625 9.625 \r\nQ 42.625 4.78125 38.28125 2.390625 \r\nQ 33.9375 0 27.875 0 \r\nQ 17.828125 0 11.671875 7.65625 \r\nQ 5.515625 15.328125 5.515625 27.984375 \r\nQ 5.515625 40.671875 11.671875 48.328125 \r\nQ 17.828125 56 27.875 56 \r\nQ 33.9375 56 38.28125 53.609375 \r\nQ 42.625 51.21875 45.40625 46.390625 \r\nL 45.40625 54.6875 \r\nL 54.390625 54.6875 \r\nz\r\n\" id=\"DejaVuSans-103\"/>\r\n       </defs>\r\n       <use xlink:href=\"#DejaVuSans-73\"/>\r\n       <use x=\"29.492188\" xlink:href=\"#DejaVuSans-110\"/>\r\n       <use x=\"92.871094\" xlink:href=\"#DejaVuSans-115\"/>\r\n       <use x=\"144.970703\" xlink:href=\"#DejaVuSans-116\"/>\r\n       <use x=\"184.179688\" xlink:href=\"#DejaVuSans-97\"/>\r\n       <use x=\"245.458984\" xlink:href=\"#DejaVuSans-103\"/>\r\n       <use x=\"308.935547\" xlink:href=\"#DejaVuSans-114\"/>\r\n       <use x=\"350.048828\" xlink:href=\"#DejaVuSans-97\"/>\r\n       <use x=\"411.328125\" xlink:href=\"#DejaVuSans-109\"/>\r\n      </g>\r\n     </g>\r\n    </g>\r\n    <g id=\"text_11\">\r\n     <!-- communication_channel -->\r\n     <g transform=\"translate(370.251562 485.474687)scale(0.1 -0.1)\">\r\n      <defs>\r\n       <path d=\"M 50.984375 -16.609375 \r\nL 50.984375 -23.578125 \r\nL -0.984375 -23.578125 \r\nL -0.984375 -16.609375 \r\nz\r\n\" id=\"DejaVuSans-95\"/>\r\n      </defs>\r\n      <use xlink:href=\"#DejaVuSans-99\"/>\r\n      <use x=\"54.980469\" xlink:href=\"#DejaVuSans-111\"/>\r\n      <use x=\"116.162109\" xlink:href=\"#DejaVuSans-109\"/>\r\n      <use x=\"213.574219\" xlink:href=\"#DejaVuSans-109\"/>\r\n      <use x=\"310.986328\" xlink:href=\"#DejaVuSans-117\"/>\r\n      <use x=\"374.365234\" xlink:href=\"#DejaVuSans-110\"/>\r\n      <use x=\"437.744141\" xlink:href=\"#DejaVuSans-105\"/>\r\n      <use x=\"465.527344\" xlink:href=\"#DejaVuSans-99\"/>\r\n      <use x=\"520.507812\" xlink:href=\"#DejaVuSans-97\"/>\r\n      <use x=\"581.787109\" xlink:href=\"#DejaVuSans-116\"/>\r\n      <use x=\"620.996094\" xlink:href=\"#DejaVuSans-105\"/>\r\n      <use x=\"648.779297\" xlink:href=\"#DejaVuSans-111\"/>\r\n      <use x=\"709.960938\" xlink:href=\"#DejaVuSans-110\"/>\r\n      <use x=\"773.339844\" xlink:href=\"#DejaVuSans-95\"/>\r\n      <use x=\"823.339844\" xlink:href=\"#DejaVuSans-99\"/>\r\n      <use x=\"878.320312\" xlink:href=\"#DejaVuSans-104\"/>\r\n      <use x=\"941.699219\" xlink:href=\"#DejaVuSans-97\"/>\r\n      <use x=\"1002.978516\" xlink:href=\"#DejaVuSans-110\"/>\r\n      <use x=\"1066.357422\" xlink:href=\"#DejaVuSans-110\"/>\r\n      <use x=\"1129.736328\" xlink:href=\"#DejaVuSans-101\"/>\r\n      <use x=\"1191.259766\" xlink:href=\"#DejaVuSans-108\"/>\r\n     </g>\r\n    </g>\r\n   </g>\r\n   <g id=\"matplotlib.axis_2\">\r\n    <g id=\"ytick_1\">\r\n     <g id=\"line2d_11\">\r\n      <defs>\r\n       <path d=\"M 0 0 \r\nL -3.5 0 \r\n\" id=\"mb1002e0ed5\" style=\"stroke:#000000;stroke-width:0.8;\"/>\r\n      </defs>\r\n      <g>\r\n       <use style=\"stroke:#000000;stroke-width:0.8;\" x=\"40.603125\" xlink:href=\"#mb1002e0ed5\" y=\"412.721761\"/>\r\n      </g>\r\n     </g>\r\n     <g id=\"text_12\">\r\n      <!-- 20 -->\r\n      <g transform=\"translate(20.878125 416.52098)scale(0.1 -0.1)\">\r\n       <defs>\r\n        <path d=\"M 19.1875 8.296875 \r\nL 53.609375 8.296875 \r\nL 53.609375 0 \r\nL 7.328125 0 \r\nL 7.328125 8.296875 \r\nQ 12.9375 14.109375 22.625 23.890625 \r\nQ 32.328125 33.6875 34.8125 36.53125 \r\nQ 39.546875 41.84375 41.421875 45.53125 \r\nQ 43.3125 49.21875 43.3125 52.78125 \r\nQ 43.3125 58.59375 39.234375 62.25 \r\nQ 35.15625 65.921875 28.609375 65.921875 \r\nQ 23.96875 65.921875 18.8125 64.3125 \r\nQ 13.671875 62.703125 7.8125 59.421875 \r\nL 7.8125 69.390625 \r\nQ 13.765625 71.78125 18.9375 73 \r\nQ 24.125 74.21875 28.421875 74.21875 \r\nQ 39.75 74.21875 46.484375 68.546875 \r\nQ 53.21875 62.890625 53.21875 53.421875 \r\nQ 53.21875 48.921875 51.53125 44.890625 \r\nQ 49.859375 40.875 45.40625 35.40625 \r\nQ 44.1875 33.984375 37.640625 27.21875 \r\nQ 31.109375 20.453125 19.1875 8.296875 \r\nz\r\n\" id=\"DejaVuSans-50\"/>\r\n        <path d=\"M 31.78125 66.40625 \r\nQ 24.171875 66.40625 20.328125 58.90625 \r\nQ 16.5 51.421875 16.5 36.375 \r\nQ 16.5 21.390625 20.328125 13.890625 \r\nQ 24.171875 6.390625 31.78125 6.390625 \r\nQ 39.453125 6.390625 43.28125 13.890625 \r\nQ 47.125 21.390625 47.125 36.375 \r\nQ 47.125 51.421875 43.28125 58.90625 \r\nQ 39.453125 66.40625 31.78125 66.40625 \r\nz\r\nM 31.78125 74.21875 \r\nQ 44.046875 74.21875 50.515625 64.515625 \r\nQ 56.984375 54.828125 56.984375 36.375 \r\nQ 56.984375 17.96875 50.515625 8.265625 \r\nQ 44.046875 -1.421875 31.78125 -1.421875 \r\nQ 19.53125 -1.421875 13.0625 8.265625 \r\nQ 6.59375 17.96875 6.59375 36.375 \r\nQ 6.59375 54.828125 13.0625 64.515625 \r\nQ 19.53125 74.21875 31.78125 74.21875 \r\nz\r\n\" id=\"DejaVuSans-48\"/>\r\n       </defs>\r\n       <use xlink:href=\"#DejaVuSans-50\"/>\r\n       <use x=\"63.623047\" xlink:href=\"#DejaVuSans-48\"/>\r\n      </g>\r\n     </g>\r\n    </g>\r\n    <g id=\"ytick_2\">\r\n     <g id=\"line2d_12\">\r\n      <g>\r\n       <use style=\"stroke:#000000;stroke-width:0.8;\" x=\"40.603125\" xlink:href=\"#mb1002e0ed5\" y=\"350.949034\"/>\r\n      </g>\r\n     </g>\r\n     <g id=\"text_13\">\r\n      <!-- 25 -->\r\n      <g transform=\"translate(20.878125 354.748253)scale(0.1 -0.1)\">\r\n       <defs>\r\n        <path d=\"M 10.796875 72.90625 \r\nL 49.515625 72.90625 \r\nL 49.515625 64.59375 \r\nL 19.828125 64.59375 \r\nL 19.828125 46.734375 \r\nQ 21.96875 47.46875 24.109375 47.828125 \r\nQ 26.265625 48.1875 28.421875 48.1875 \r\nQ 40.625 48.1875 47.75 41.5 \r\nQ 54.890625 34.8125 54.890625 23.390625 \r\nQ 54.890625 11.625 47.5625 5.09375 \r\nQ 40.234375 -1.421875 26.90625 -1.421875 \r\nQ 22.3125 -1.421875 17.546875 -0.640625 \r\nQ 12.796875 0.140625 7.71875 1.703125 \r\nL 7.71875 11.625 \r\nQ 12.109375 9.234375 16.796875 8.0625 \r\nQ 21.484375 6.890625 26.703125 6.890625 \r\nQ 35.15625 6.890625 40.078125 11.328125 \r\nQ 45.015625 15.765625 45.015625 23.390625 \r\nQ 45.015625 31 40.078125 35.4375 \r\nQ 35.15625 39.890625 26.703125 39.890625 \r\nQ 22.75 39.890625 18.8125 39.015625 \r\nQ 14.890625 38.140625 10.796875 36.28125 \r\nz\r\n\" id=\"DejaVuSans-53\"/>\r\n       </defs>\r\n       <use xlink:href=\"#DejaVuSans-50\"/>\r\n       <use x=\"63.623047\" xlink:href=\"#DejaVuSans-53\"/>\r\n      </g>\r\n     </g>\r\n    </g>\r\n    <g id=\"ytick_3\">\r\n     <g id=\"line2d_13\">\r\n      <g>\r\n       <use style=\"stroke:#000000;stroke-width:0.8;\" x=\"40.603125\" xlink:href=\"#mb1002e0ed5\" y=\"289.176307\"/>\r\n      </g>\r\n     </g>\r\n     <g id=\"text_14\">\r\n      <!-- 30 -->\r\n      <g transform=\"translate(20.878125 292.975526)scale(0.1 -0.1)\">\r\n       <defs>\r\n        <path d=\"M 40.578125 39.3125 \r\nQ 47.65625 37.796875 51.625 33 \r\nQ 55.609375 28.21875 55.609375 21.1875 \r\nQ 55.609375 10.40625 48.1875 4.484375 \r\nQ 40.765625 -1.421875 27.09375 -1.421875 \r\nQ 22.515625 -1.421875 17.65625 -0.515625 \r\nQ 12.796875 0.390625 7.625 2.203125 \r\nL 7.625 11.71875 \r\nQ 11.71875 9.328125 16.59375 8.109375 \r\nQ 21.484375 6.890625 26.8125 6.890625 \r\nQ 36.078125 6.890625 40.9375 10.546875 \r\nQ 45.796875 14.203125 45.796875 21.1875 \r\nQ 45.796875 27.640625 41.28125 31.265625 \r\nQ 36.765625 34.90625 28.71875 34.90625 \r\nL 20.21875 34.90625 \r\nL 20.21875 43.015625 \r\nL 29.109375 43.015625 \r\nQ 36.375 43.015625 40.234375 45.921875 \r\nQ 44.09375 48.828125 44.09375 54.296875 \r\nQ 44.09375 59.90625 40.109375 62.90625 \r\nQ 36.140625 65.921875 28.71875 65.921875 \r\nQ 24.65625 65.921875 20.015625 65.03125 \r\nQ 15.375 64.15625 9.8125 62.3125 \r\nL 9.8125 71.09375 \r\nQ 15.4375 72.65625 20.34375 73.4375 \r\nQ 25.25 74.21875 29.59375 74.21875 \r\nQ 40.828125 74.21875 47.359375 69.109375 \r\nQ 53.90625 64.015625 53.90625 55.328125 \r\nQ 53.90625 49.265625 50.4375 45.09375 \r\nQ 46.96875 40.921875 40.578125 39.3125 \r\nz\r\n\" id=\"DejaVuSans-51\"/>\r\n       </defs>\r\n       <use xlink:href=\"#DejaVuSans-51\"/>\r\n       <use x=\"63.623047\" xlink:href=\"#DejaVuSans-48\"/>\r\n      </g>\r\n     </g>\r\n    </g>\r\n    <g id=\"ytick_4\">\r\n     <g id=\"line2d_14\">\r\n      <g>\r\n       <use style=\"stroke:#000000;stroke-width:0.8;\" x=\"40.603125\" xlink:href=\"#mb1002e0ed5\" y=\"227.40358\"/>\r\n      </g>\r\n     </g>\r\n     <g id=\"text_15\">\r\n      <!-- 35 -->\r\n      <g transform=\"translate(20.878125 231.202798)scale(0.1 -0.1)\">\r\n       <use xlink:href=\"#DejaVuSans-51\"/>\r\n       <use x=\"63.623047\" xlink:href=\"#DejaVuSans-53\"/>\r\n      </g>\r\n     </g>\r\n    </g>\r\n    <g id=\"ytick_5\">\r\n     <g id=\"line2d_15\">\r\n      <g>\r\n       <use style=\"stroke:#000000;stroke-width:0.8;\" x=\"40.603125\" xlink:href=\"#mb1002e0ed5\" y=\"165.630852\"/>\r\n      </g>\r\n     </g>\r\n     <g id=\"text_16\">\r\n      <!-- 40 -->\r\n      <g transform=\"translate(20.878125 169.430071)scale(0.1 -0.1)\">\r\n       <defs>\r\n        <path d=\"M 37.796875 64.3125 \r\nL 12.890625 25.390625 \r\nL 37.796875 25.390625 \r\nz\r\nM 35.203125 72.90625 \r\nL 47.609375 72.90625 \r\nL 47.609375 25.390625 \r\nL 58.015625 25.390625 \r\nL 58.015625 17.1875 \r\nL 47.609375 17.1875 \r\nL 47.609375 0 \r\nL 37.796875 0 \r\nL 37.796875 17.1875 \r\nL 4.890625 17.1875 \r\nL 4.890625 26.703125 \r\nz\r\n\" id=\"DejaVuSans-52\"/>\r\n       </defs>\r\n       <use xlink:href=\"#DejaVuSans-52\"/>\r\n       <use x=\"63.623047\" xlink:href=\"#DejaVuSans-48\"/>\r\n      </g>\r\n     </g>\r\n    </g>\r\n    <g id=\"ytick_6\">\r\n     <g id=\"line2d_16\">\r\n      <g>\r\n       <use style=\"stroke:#000000;stroke-width:0.8;\" x=\"40.603125\" xlink:href=\"#mb1002e0ed5\" y=\"103.858125\"/>\r\n      </g>\r\n     </g>\r\n     <g id=\"text_17\">\r\n      <!-- 45 -->\r\n      <g transform=\"translate(20.878125 107.657344)scale(0.1 -0.1)\">\r\n       <use xlink:href=\"#DejaVuSans-52\"/>\r\n       <use x=\"63.623047\" xlink:href=\"#DejaVuSans-53\"/>\r\n      </g>\r\n     </g>\r\n    </g>\r\n    <g id=\"ytick_7\">\r\n     <g id=\"line2d_17\">\r\n      <g>\r\n       <use style=\"stroke:#000000;stroke-width:0.8;\" x=\"40.603125\" xlink:href=\"#mb1002e0ed5\" y=\"42.085398\"/>\r\n      </g>\r\n     </g>\r\n     <g id=\"text_18\">\r\n      <!-- 50 -->\r\n      <g transform=\"translate(20.878125 45.884616)scale(0.1 -0.1)\">\r\n       <use xlink:href=\"#DejaVuSans-53\"/>\r\n       <use x=\"63.623047\" xlink:href=\"#DejaVuSans-48\"/>\r\n      </g>\r\n     </g>\r\n    </g>\r\n    <g id=\"text_19\">\r\n     <!-- age -->\r\n     <g transform=\"translate(14.798438 249.072969)rotate(-90)scale(0.1 -0.1)\">\r\n      <use xlink:href=\"#DejaVuSans-97\"/>\r\n      <use x=\"61.279297\" xlink:href=\"#DejaVuSans-103\"/>\r\n      <use x=\"124.755859\" xlink:href=\"#DejaVuSans-101\"/>\r\n     </g>\r\n    </g>\r\n   </g>\r\n   <g id=\"line2d_18\">\r\n    <path clip-path=\"url(#p44868b7d0e)\" d=\"M 79.663125 388.01267 \r\nL 79.663125 388.01267 \r\n\" style=\"fill:none;stroke:#3d3d3d;stroke-linecap:square;stroke-width:1.5;\"/>\r\n   </g>\r\n   <g id=\"line2d_19\">\r\n    <path clip-path=\"url(#p44868b7d0e)\" d=\"M 79.663125 388.01267 \r\nL 79.663125 388.01267 \r\n\" style=\"fill:none;stroke:#3d3d3d;stroke-linecap:square;stroke-width:1.5;\"/>\r\n   </g>\r\n   <g id=\"line2d_20\">\r\n    <path clip-path=\"url(#p44868b7d0e)\" d=\"M 64.039125 388.01267 \r\nL 95.287125 388.01267 \r\n\" style=\"fill:none;stroke:#3d3d3d;stroke-linecap:square;stroke-width:1.5;\"/>\r\n   </g>\r\n   <g id=\"line2d_21\">\r\n    <path clip-path=\"url(#p44868b7d0e)\" d=\"M 64.039125 388.01267 \r\nL 95.287125 388.01267 \r\n\" style=\"fill:none;stroke:#3d3d3d;stroke-linecap:square;stroke-width:1.5;\"/>\r\n   </g>\r\n   <g id=\"line2d_22\"/>\r\n   <g id=\"line2d_23\">\r\n    <path clip-path=\"url(#p44868b7d0e)\" d=\"M 157.783125 363.30358 \r\nL 157.783125 437.430852 \r\n\" style=\"fill:none;stroke:#3d3d3d;stroke-linecap:square;stroke-width:1.5;\"/>\r\n   </g>\r\n   <g id=\"line2d_24\">\r\n    <path clip-path=\"url(#p44868b7d0e)\" d=\"M 157.783125 301.530852 \r\nL 157.783125 227.40358 \r\n\" style=\"fill:none;stroke:#3d3d3d;stroke-linecap:square;stroke-width:1.5;\"/>\r\n   </g>\r\n   <g id=\"line2d_25\">\r\n    <path clip-path=\"url(#p44868b7d0e)\" d=\"M 142.159125 437.430852 \r\nL 173.407125 437.430852 \r\n\" style=\"fill:none;stroke:#3d3d3d;stroke-linecap:square;stroke-width:1.5;\"/>\r\n   </g>\r\n   <g id=\"line2d_26\">\r\n    <path clip-path=\"url(#p44868b7d0e)\" d=\"M 142.159125 227.40358 \r\nL 173.407125 227.40358 \r\n\" style=\"fill:none;stroke:#3d3d3d;stroke-linecap:square;stroke-width:1.5;\"/>\r\n   </g>\r\n   <g id=\"line2d_27\">\r\n    <defs>\r\n     <path d=\"M 0 3.535534 \r\nL 2.12132 0 \r\nL 0 -3.535534 \r\nL -2.12132 0 \r\nz\r\n\" id=\"mea58e779ef\" style=\"stroke:#3d3d3d;stroke-linejoin:miter;\"/>\r\n    </defs>\r\n    <g clip-path=\"url(#p44868b7d0e)\">\r\n     <use style=\"fill:#3d3d3d;stroke:#3d3d3d;stroke-linejoin:miter;\" x=\"157.783125\" xlink:href=\"#mea58e779ef\" y=\"116.21267\"/>\r\n     <use style=\"fill:#3d3d3d;stroke:#3d3d3d;stroke-linejoin:miter;\" x=\"157.783125\" xlink:href=\"#mea58e779ef\" y=\"202.694489\"/>\r\n     <use style=\"fill:#3d3d3d;stroke:#3d3d3d;stroke-linejoin:miter;\" x=\"157.783125\" xlink:href=\"#mea58e779ef\" y=\"177.985398\"/>\r\n     <use style=\"fill:#3d3d3d;stroke:#3d3d3d;stroke-linejoin:miter;\" x=\"157.783125\" xlink:href=\"#mea58e779ef\" y=\"190.339943\"/>\r\n     <use style=\"fill:#3d3d3d;stroke:#3d3d3d;stroke-linejoin:miter;\" x=\"157.783125\" xlink:href=\"#mea58e779ef\" y=\"103.858125\"/>\r\n     <use style=\"fill:#3d3d3d;stroke:#3d3d3d;stroke-linejoin:miter;\" x=\"157.783125\" xlink:href=\"#mea58e779ef\" y=\"202.694489\"/>\r\n    </g>\r\n   </g>\r\n   <g id=\"line2d_28\">\r\n    <path clip-path=\"url(#p44868b7d0e)\" d=\"M 235.903125 375.658125 \r\nL 235.903125 412.721761 \r\n\" style=\"fill:none;stroke:#3d3d3d;stroke-linecap:square;stroke-width:1.5;\"/>\r\n   </g>\r\n   <g id=\"line2d_29\">\r\n    <path clip-path=\"url(#p44868b7d0e)\" d=\"M 235.903125 322.747308 \r\nL 235.903125 252.11267 \r\n\" style=\"fill:none;stroke:#3d3d3d;stroke-linecap:square;stroke-width:1.5;\"/>\r\n   </g>\r\n   <g id=\"line2d_30\">\r\n    <path clip-path=\"url(#p44868b7d0e)\" d=\"M 220.279125 412.721761 \r\nL 251.527125 412.721761 \r\n\" style=\"fill:none;stroke:#3d3d3d;stroke-linecap:square;stroke-width:1.5;\"/>\r\n   </g>\r\n   <g id=\"line2d_31\">\r\n    <path clip-path=\"url(#p44868b7d0e)\" d=\"M 220.279125 252.11267 \r\nL 251.527125 252.11267 \r\n\" style=\"fill:none;stroke:#3d3d3d;stroke-linecap:square;stroke-width:1.5;\"/>\r\n   </g>\r\n   <g id=\"line2d_32\"/>\r\n   <g id=\"line2d_33\">\r\n    <path clip-path=\"url(#p44868b7d0e)\" d=\"M 314.023125 363.30358 \r\nL 314.023125 412.721761 \r\n\" style=\"fill:none;stroke:#3d3d3d;stroke-linecap:square;stroke-width:1.5;\"/>\r\n   </g>\r\n   <g id=\"line2d_34\">\r\n    <path clip-path=\"url(#p44868b7d0e)\" d=\"M 314.023125 292.264943 \r\nL 314.023125 190.339943 \r\n\" style=\"fill:none;stroke:#3d3d3d;stroke-linecap:square;stroke-width:1.5;\"/>\r\n   </g>\r\n   <g id=\"line2d_35\">\r\n    <path clip-path=\"url(#p44868b7d0e)\" d=\"M 298.399125 412.721761 \r\nL 329.647125 412.721761 \r\n\" style=\"fill:none;stroke:#3d3d3d;stroke-linecap:square;stroke-width:1.5;\"/>\r\n   </g>\r\n   <g id=\"line2d_36\">\r\n    <path clip-path=\"url(#p44868b7d0e)\" d=\"M 298.399125 190.339943 \r\nL 329.647125 190.339943 \r\n\" style=\"fill:none;stroke:#3d3d3d;stroke-linecap:square;stroke-width:1.5;\"/>\r\n   </g>\r\n   <g id=\"line2d_37\">\r\n    <g clip-path=\"url(#p44868b7d0e)\">\r\n     <use style=\"fill:#3d3d3d;stroke:#3d3d3d;stroke-linejoin:miter;\" x=\"314.023125\" xlink:href=\"#mea58e779ef\" y=\"66.794489\"/>\r\n     <use style=\"fill:#3d3d3d;stroke:#3d3d3d;stroke-linejoin:miter;\" x=\"314.023125\" xlink:href=\"#mea58e779ef\" y=\"116.21267\"/>\r\n     <use style=\"fill:#3d3d3d;stroke:#3d3d3d;stroke-linejoin:miter;\" x=\"314.023125\" xlink:href=\"#mea58e779ef\" y=\"165.630852\"/>\r\n    </g>\r\n   </g>\r\n   <g id=\"line2d_38\">\r\n    <path clip-path=\"url(#p44868b7d0e)\" d=\"M 392.143125 369.480852 \r\nL 392.143125 375.658125 \r\n\" style=\"fill:none;stroke:#3d3d3d;stroke-linecap:square;stroke-width:1.5;\"/>\r\n   </g>\r\n   <g id=\"line2d_39\">\r\n    <path clip-path=\"url(#p44868b7d0e)\" d=\"M 392.143125 316.974034 \r\nL 392.143125 264.467216 \r\n\" style=\"fill:none;stroke:#3d3d3d;stroke-linecap:square;stroke-width:1.5;\"/>\r\n   </g>\r\n   <g id=\"line2d_40\">\r\n    <path clip-path=\"url(#p44868b7d0e)\" d=\"M 376.519125 375.658125 \r\nL 407.767125 375.658125 \r\n\" style=\"fill:none;stroke:#3d3d3d;stroke-linecap:square;stroke-width:1.5;\"/>\r\n   </g>\r\n   <g id=\"line2d_41\">\r\n    <path clip-path=\"url(#p44868b7d0e)\" d=\"M 376.519125 264.467216 \r\nL 407.767125 264.467216 \r\n\" style=\"fill:none;stroke:#3d3d3d;stroke-linecap:square;stroke-width:1.5;\"/>\r\n   </g>\r\n   <g id=\"line2d_42\"/>\r\n   <g id=\"line2d_43\">\r\n    <path clip-path=\"url(#p44868b7d0e)\" d=\"M 470.263125 363.30358 \r\nL 470.263125 412.721761 \r\n\" style=\"fill:none;stroke:#3d3d3d;stroke-linecap:square;stroke-width:1.5;\"/>\r\n   </g>\r\n   <g id=\"line2d_44\">\r\n    <path clip-path=\"url(#p44868b7d0e)\" d=\"M 470.263125 289.176307 \r\nL 470.263125 239.758125 \r\n\" style=\"fill:none;stroke:#3d3d3d;stroke-linecap:square;stroke-width:1.5;\"/>\r\n   </g>\r\n   <g id=\"line2d_45\">\r\n    <path clip-path=\"url(#p44868b7d0e)\" d=\"M 454.639125 412.721761 \r\nL 485.887125 412.721761 \r\n\" style=\"fill:none;stroke:#3d3d3d;stroke-linecap:square;stroke-width:1.5;\"/>\r\n   </g>\r\n   <g id=\"line2d_46\">\r\n    <path clip-path=\"url(#p44868b7d0e)\" d=\"M 454.639125 239.758125 \r\nL 485.887125 239.758125 \r\n\" style=\"fill:none;stroke:#3d3d3d;stroke-linecap:square;stroke-width:1.5;\"/>\r\n   </g>\r\n   <g id=\"line2d_47\">\r\n    <g clip-path=\"url(#p44868b7d0e)\">\r\n     <use style=\"fill:#3d3d3d;stroke:#3d3d3d;stroke-linejoin:miter;\" x=\"470.263125\" xlink:href=\"#mea58e779ef\" y=\"128.567216\"/>\r\n     <use style=\"fill:#3d3d3d;stroke:#3d3d3d;stroke-linejoin:miter;\" x=\"470.263125\" xlink:href=\"#mea58e779ef\" y=\"165.630852\"/>\r\n    </g>\r\n   </g>\r\n   <g id=\"line2d_48\">\r\n    <path clip-path=\"url(#p44868b7d0e)\" d=\"M 548.383125 350.949034 \r\nL 548.383125 388.01267 \r\n\" style=\"fill:none;stroke:#3d3d3d;stroke-linecap:square;stroke-width:1.5;\"/>\r\n   </g>\r\n   <g id=\"line2d_49\">\r\n    <path clip-path=\"url(#p44868b7d0e)\" d=\"M 548.383125 258.289943 \r\nL 548.383125 165.630852 \r\n\" style=\"fill:none;stroke:#3d3d3d;stroke-linecap:square;stroke-width:1.5;\"/>\r\n   </g>\r\n   <g id=\"line2d_50\">\r\n    <path clip-path=\"url(#p44868b7d0e)\" d=\"M 532.759125 388.01267 \r\nL 564.007125 388.01267 \r\n\" style=\"fill:none;stroke:#3d3d3d;stroke-linecap:square;stroke-width:1.5;\"/>\r\n   </g>\r\n   <g id=\"line2d_51\">\r\n    <path clip-path=\"url(#p44868b7d0e)\" d=\"M 532.759125 165.630852 \r\nL 564.007125 165.630852 \r\n\" style=\"fill:none;stroke:#3d3d3d;stroke-linecap:square;stroke-width:1.5;\"/>\r\n   </g>\r\n   <g id=\"line2d_52\">\r\n    <g clip-path=\"url(#p44868b7d0e)\">\r\n     <use style=\"fill:#3d3d3d;stroke:#3d3d3d;stroke-linejoin:miter;\" x=\"548.383125\" xlink:href=\"#mea58e779ef\" y=\"91.50358\"/>\r\n    </g>\r\n   </g>\r\n   <g id=\"line2d_53\">\r\n    <path clip-path=\"url(#p44868b7d0e)\" d=\"M 626.503125 375.658125 \r\nL 626.503125 412.721761 \r\n\" style=\"fill:none;stroke:#3d3d3d;stroke-linecap:square;stroke-width:1.5;\"/>\r\n   </g>\r\n   <g id=\"line2d_54\">\r\n    <path clip-path=\"url(#p44868b7d0e)\" d=\"M 626.503125 326.239943 \r\nL 626.503125 326.239943 \r\n\" style=\"fill:none;stroke:#3d3d3d;stroke-linecap:square;stroke-width:1.5;\"/>\r\n   </g>\r\n   <g id=\"line2d_55\">\r\n    <path clip-path=\"url(#p44868b7d0e)\" d=\"M 610.879125 412.721761 \r\nL 642.127125 412.721761 \r\n\" style=\"fill:none;stroke:#3d3d3d;stroke-linecap:square;stroke-width:1.5;\"/>\r\n   </g>\r\n   <g id=\"line2d_56\">\r\n    <path clip-path=\"url(#p44868b7d0e)\" d=\"M 610.879125 326.239943 \r\nL 642.127125 326.239943 \r\n\" style=\"fill:none;stroke:#3d3d3d;stroke-linecap:square;stroke-width:1.5;\"/>\r\n   </g>\r\n   <g id=\"line2d_57\">\r\n    <g clip-path=\"url(#p44868b7d0e)\">\r\n     <use style=\"fill:#3d3d3d;stroke:#3d3d3d;stroke-linejoin:miter;\" x=\"626.503125\" xlink:href=\"#mea58e779ef\" y=\"239.758125\"/>\r\n     <use style=\"fill:#3d3d3d;stroke:#3d3d3d;stroke-linejoin:miter;\" x=\"626.503125\" xlink:href=\"#mea58e779ef\" y=\"202.694489\"/>\r\n     <use style=\"fill:#3d3d3d;stroke:#3d3d3d;stroke-linejoin:miter;\" x=\"626.503125\" xlink:href=\"#mea58e779ef\" y=\"165.630852\"/>\r\n    </g>\r\n   </g>\r\n   <g id=\"line2d_58\">\r\n    <path clip-path=\"url(#p44868b7d0e)\" d=\"M 704.623125 388.01267 \r\nL 704.623125 425.076307 \r\n\" style=\"fill:none;stroke:#3d3d3d;stroke-linecap:square;stroke-width:1.5;\"/>\r\n   </g>\r\n   <g id=\"line2d_59\">\r\n    <path clip-path=\"url(#p44868b7d0e)\" d=\"M 704.623125 239.758125 \r\nL 704.623125 42.085398 \r\n\" style=\"fill:none;stroke:#3d3d3d;stroke-linecap:square;stroke-width:1.5;\"/>\r\n   </g>\r\n   <g id=\"line2d_60\">\r\n    <path clip-path=\"url(#p44868b7d0e)\" d=\"M 688.999125 425.076307 \r\nL 720.247125 425.076307 \r\n\" style=\"fill:none;stroke:#3d3d3d;stroke-linecap:square;stroke-width:1.5;\"/>\r\n   </g>\r\n   <g id=\"line2d_61\">\r\n    <path clip-path=\"url(#p44868b7d0e)\" d=\"M 688.999125 42.085398 \r\nL 720.247125 42.085398 \r\n\" style=\"fill:none;stroke:#3d3d3d;stroke-linecap:square;stroke-width:1.5;\"/>\r\n   </g>\r\n   <g id=\"line2d_62\"/>\r\n   <g id=\"line2d_63\">\r\n    <path clip-path=\"url(#p44868b7d0e)\" d=\"M 782.743125 388.01267 \r\nL 782.743125 400.367216 \r\n\" style=\"fill:none;stroke:#3d3d3d;stroke-linecap:square;stroke-width:1.5;\"/>\r\n   </g>\r\n   <g id=\"line2d_64\">\r\n    <path clip-path=\"url(#p44868b7d0e)\" d=\"M 782.743125 363.30358 \r\nL 782.743125 363.30358 \r\n\" style=\"fill:none;stroke:#3d3d3d;stroke-linecap:square;stroke-width:1.5;\"/>\r\n   </g>\r\n   <g id=\"line2d_65\">\r\n    <path clip-path=\"url(#p44868b7d0e)\" d=\"M 767.119125 400.367216 \r\nL 798.367125 400.367216 \r\n\" style=\"fill:none;stroke:#3d3d3d;stroke-linecap:square;stroke-width:1.5;\"/>\r\n   </g>\r\n   <g id=\"line2d_66\">\r\n    <path clip-path=\"url(#p44868b7d0e)\" d=\"M 767.119125 363.30358 \r\nL 798.367125 363.30358 \r\n\" style=\"fill:none;stroke:#3d3d3d;stroke-linecap:square;stroke-width:1.5;\"/>\r\n   </g>\r\n   <g id=\"line2d_67\">\r\n    <g clip-path=\"url(#p44868b7d0e)\">\r\n     <use style=\"fill:#3d3d3d;stroke:#3d3d3d;stroke-linejoin:miter;\" x=\"782.743125\" xlink:href=\"#mea58e779ef\" y=\"252.11267\"/>\r\n    </g>\r\n   </g>\r\n   <g id=\"line2d_68\">\r\n    <path clip-path=\"url(#p44868b7d0e)\" d=\"M 48.415125 388.01267 \r\nL 110.911125 388.01267 \r\n\" style=\"fill:none;stroke:#3d3d3d;stroke-linecap:square;stroke-width:1.5;\"/>\r\n   </g>\r\n   <g id=\"line2d_69\">\r\n    <path clip-path=\"url(#p44868b7d0e)\" d=\"M 126.535125 338.594489 \r\nL 189.031125 338.594489 \r\n\" style=\"fill:none;stroke:#3d3d3d;stroke-linecap:square;stroke-width:1.5;\"/>\r\n   </g>\r\n   <g id=\"line2d_70\">\r\n    <path clip-path=\"url(#p44868b7d0e)\" d=\"M 204.655125 357.126307 \r\nL 267.151125 357.126307 \r\n\" style=\"fill:none;stroke:#3d3d3d;stroke-linecap:square;stroke-width:1.5;\"/>\r\n   </g>\r\n   <g id=\"line2d_71\">\r\n    <path clip-path=\"url(#p44868b7d0e)\" d=\"M 282.775125 326.239943 \r\nL 345.271125 326.239943 \r\n\" style=\"fill:none;stroke:#3d3d3d;stroke-linecap:square;stroke-width:1.5;\"/>\r\n   </g>\r\n   <g id=\"line2d_72\">\r\n    <path clip-path=\"url(#p44868b7d0e)\" d=\"M 360.895125 338.594489 \r\nL 423.391125 338.594489 \r\n\" style=\"fill:none;stroke:#3d3d3d;stroke-linecap:square;stroke-width:1.5;\"/>\r\n   </g>\r\n   <g id=\"line2d_73\">\r\n    <path clip-path=\"url(#p44868b7d0e)\" d=\"M 439.015125 324.493626 \r\nL 501.511125 324.493626 \r\n\" style=\"fill:none;stroke:#3d3d3d;stroke-linecap:square;stroke-width:1.5;\"/>\r\n   </g>\r\n   <g id=\"line2d_74\">\r\n    <path clip-path=\"url(#p44868b7d0e)\" d=\"M 517.135125 313.885398 \r\nL 579.631125 313.885398 \r\n\" style=\"fill:none;stroke:#3d3d3d;stroke-linecap:square;stroke-width:1.5;\"/>\r\n   </g>\r\n   <g id=\"line2d_75\">\r\n    <path clip-path=\"url(#p44868b7d0e)\" d=\"M 595.255125 338.594489 \r\nL 657.751125 338.594489 \r\n\" style=\"fill:none;stroke:#3d3d3d;stroke-linecap:square;stroke-width:1.5;\"/>\r\n   </g>\r\n   <g id=\"line2d_76\">\r\n    <path clip-path=\"url(#p44868b7d0e)\" d=\"M 673.375125 363.30358 \r\nL 735.871125 363.30358 \r\n\" style=\"fill:none;stroke:#3d3d3d;stroke-linecap:square;stroke-width:1.5;\"/>\r\n   </g>\r\n   <g id=\"line2d_77\">\r\n    <path clip-path=\"url(#p44868b7d0e)\" d=\"M 751.495125 375.658125 \r\nL 813.991125 375.658125 \r\n\" style=\"fill:none;stroke:#3d3d3d;stroke-linecap:square;stroke-width:1.5;\"/>\r\n   </g>\r\n   <g id=\"patch_13\">\r\n    <path d=\"M 40.603125 457.198125 \r\nL 40.603125 22.318125 \r\n\" style=\"fill:none;stroke:#000000;stroke-linecap:square;stroke-linejoin:miter;stroke-width:0.8;\"/>\r\n   </g>\r\n   <g id=\"patch_14\">\r\n    <path d=\"M 821.803125 457.198125 \r\nL 821.803125 22.318125 \r\n\" style=\"fill:none;stroke:#000000;stroke-linecap:square;stroke-linejoin:miter;stroke-width:0.8;\"/>\r\n   </g>\r\n   <g id=\"patch_15\">\r\n    <path d=\"M 40.603125 457.198125 \r\nL 821.803125 457.198125 \r\n\" style=\"fill:none;stroke:#000000;stroke-linecap:square;stroke-linejoin:miter;stroke-width:0.8;\"/>\r\n   </g>\r\n   <g id=\"patch_16\">\r\n    <path d=\"M 40.603125 22.318125 \r\nL 821.803125 22.318125 \r\n\" style=\"fill:none;stroke:#000000;stroke-linecap:square;stroke-linejoin:miter;stroke-width:0.8;\"/>\r\n   </g>\r\n   <g id=\"text_20\">\r\n    <!-- Age distribution by communication channel -->\r\n    <g transform=\"translate(300.276563 16.318125)scale(0.12 -0.12)\">\r\n     <use xlink:href=\"#DejaVuSans-65\"/>\r\n     <use x=\"68.408203\" xlink:href=\"#DejaVuSans-103\"/>\r\n     <use x=\"131.884766\" xlink:href=\"#DejaVuSans-101\"/>\r\n     <use x=\"193.408203\" xlink:href=\"#DejaVuSans-32\"/>\r\n     <use x=\"225.195312\" xlink:href=\"#DejaVuSans-100\"/>\r\n     <use x=\"288.671875\" xlink:href=\"#DejaVuSans-105\"/>\r\n     <use x=\"316.455078\" xlink:href=\"#DejaVuSans-115\"/>\r\n     <use x=\"368.554688\" xlink:href=\"#DejaVuSans-116\"/>\r\n     <use x=\"407.763672\" xlink:href=\"#DejaVuSans-114\"/>\r\n     <use x=\"448.876953\" xlink:href=\"#DejaVuSans-105\"/>\r\n     <use x=\"476.660156\" xlink:href=\"#DejaVuSans-98\"/>\r\n     <use x=\"540.136719\" xlink:href=\"#DejaVuSans-117\"/>\r\n     <use x=\"603.515625\" xlink:href=\"#DejaVuSans-116\"/>\r\n     <use x=\"642.724609\" xlink:href=\"#DejaVuSans-105\"/>\r\n     <use x=\"670.507812\" xlink:href=\"#DejaVuSans-111\"/>\r\n     <use x=\"731.689453\" xlink:href=\"#DejaVuSans-110\"/>\r\n     <use x=\"795.068359\" xlink:href=\"#DejaVuSans-32\"/>\r\n     <use x=\"826.855469\" xlink:href=\"#DejaVuSans-98\"/>\r\n     <use x=\"890.332031\" xlink:href=\"#DejaVuSans-121\"/>\r\n     <use x=\"949.511719\" xlink:href=\"#DejaVuSans-32\"/>\r\n     <use x=\"981.298828\" xlink:href=\"#DejaVuSans-99\"/>\r\n     <use x=\"1036.279297\" xlink:href=\"#DejaVuSans-111\"/>\r\n     <use x=\"1097.460938\" xlink:href=\"#DejaVuSans-109\"/>\r\n     <use x=\"1194.873047\" xlink:href=\"#DejaVuSans-109\"/>\r\n     <use x=\"1292.285156\" xlink:href=\"#DejaVuSans-117\"/>\r\n     <use x=\"1355.664062\" xlink:href=\"#DejaVuSans-110\"/>\r\n     <use x=\"1419.042969\" xlink:href=\"#DejaVuSans-105\"/>\r\n     <use x=\"1446.826172\" xlink:href=\"#DejaVuSans-99\"/>\r\n     <use x=\"1501.806641\" xlink:href=\"#DejaVuSans-97\"/>\r\n     <use x=\"1563.085938\" xlink:href=\"#DejaVuSans-116\"/>\r\n     <use x=\"1602.294922\" xlink:href=\"#DejaVuSans-105\"/>\r\n     <use x=\"1630.078125\" xlink:href=\"#DejaVuSans-111\"/>\r\n     <use x=\"1691.259766\" xlink:href=\"#DejaVuSans-110\"/>\r\n     <use x=\"1754.638672\" xlink:href=\"#DejaVuSans-32\"/>\r\n     <use x=\"1786.425781\" xlink:href=\"#DejaVuSans-99\"/>\r\n     <use x=\"1841.40625\" xlink:href=\"#DejaVuSans-104\"/>\r\n     <use x=\"1904.785156\" xlink:href=\"#DejaVuSans-97\"/>\r\n     <use x=\"1966.064453\" xlink:href=\"#DejaVuSans-110\"/>\r\n     <use x=\"2029.443359\" xlink:href=\"#DejaVuSans-110\"/>\r\n     <use x=\"2092.822266\" xlink:href=\"#DejaVuSans-101\"/>\r\n     <use x=\"2154.345703\" xlink:href=\"#DejaVuSans-108\"/>\r\n    </g>\r\n   </g>\r\n  </g>\r\n </g>\r\n <defs>\r\n  <clipPath id=\"p44868b7d0e\">\r\n   <rect height=\"434.88\" width=\"781.2\" x=\"40.603125\" y=\"22.318125\"/>\r\n  </clipPath>\r\n </defs>\r\n</svg>\r\n",
      "image/png": "[encoded data removed]"
     },
     "metadata": {
      "needs_background": "light"
     }
    }
   ],
   "metadata": {}
  },
  {
   "cell_type": "markdown",
   "source": [
    "### 7 .Is there a significant age difference between these groups"
   ],
   "metadata": {}
  },
  {
   "cell_type": "code",
   "execution_count": 50,
   "source": [
    "\r\n",
    "#here your codes\r\n",
    "oklist = list(querry7[\"communication_channel\"].unique())\r\n",
    "\r\n",
    "quer = [querry7[querry7[\"communication_channel\"] == i].age.dropna() for i in oklist]\r\n",
    "\r\n",
    "\r\n",
    "stat, r = stats.f_oneway(quer[0], quer[1], quer[2], quer[3], quer[4], quer[5], quer[6], quer[7], quer[8], quer[9])\r\n",
    "print(r)\r\n",
    "if r < 0.05:\r\n",
    " print(\"Null Hypothesis Rejected\")\r\n",
    "else:\r\n",
    " print(\"0 Hypothesis Failed to be Rejected\")"
   ],
   "outputs": [
    {
     "output_type": "stream",
     "name": "stdout",
     "text": [
      "0.3162470467664811\n",
      "0 Hypothesis Failed to be Rejected\n"
     ]
    }
   ],
   "metadata": {}
  },
  {
   "cell_type": "markdown",
   "source": [
    "### 8.Plan a BA strategy for each communication channel regarding the age group"
   ],
   "metadata": {}
  },
  {
   "cell_type": "code",
   "execution_count": 51,
   "source": [
    "BA=querry7.groupby(by=[\"communication_channel\"]).age.mean().round(1).to_frame()\r\n",
    "BA"
   ],
   "outputs": [
    {
     "output_type": "execute_result",
     "data": {
      "text/plain": [
       "                          age\n",
       "communication_channel        \n",
       "Ayiti Analytics Website  27.0\n",
       "Bootcamp Alumni          26.3\n",
       "ESIH                     25.1\n",
       "Facebook                 27.5\n",
       "Friend                   27.0\n",
       "Instagram                24.6\n",
       "LinkedIn                 30.0\n",
       "WhatsApp                 27.8\n",
       "other                    28.4\n",
       "unknown                  22.0"
      ],
      "text/html": [
       "<div>\n",
       "<style scoped>\n",
       "    .dataframe tbody tr th:only-of-type {\n",
       "        vertical-align: middle;\n",
       "    }\n",
       "\n",
       "    .dataframe tbody tr th {\n",
       "        vertical-align: top;\n",
       "    }\n",
       "\n",
       "    .dataframe thead th {\n",
       "        text-align: right;\n",
       "    }\n",
       "</style>\n",
       "<table border=\"1\" class=\"dataframe\">\n",
       "  <thead>\n",
       "    <tr style=\"text-align: right;\">\n",
       "      <th></th>\n",
       "      <th>age</th>\n",
       "    </tr>\n",
       "    <tr>\n",
       "      <th>communication_channel</th>\n",
       "      <th></th>\n",
       "    </tr>\n",
       "  </thead>\n",
       "  <tbody>\n",
       "    <tr>\n",
       "      <th>Ayiti Analytics Website</th>\n",
       "      <td>27.0</td>\n",
       "    </tr>\n",
       "    <tr>\n",
       "      <th>Bootcamp Alumni</th>\n",
       "      <td>26.3</td>\n",
       "    </tr>\n",
       "    <tr>\n",
       "      <th>ESIH</th>\n",
       "      <td>25.1</td>\n",
       "    </tr>\n",
       "    <tr>\n",
       "      <th>Facebook</th>\n",
       "      <td>27.5</td>\n",
       "    </tr>\n",
       "    <tr>\n",
       "      <th>Friend</th>\n",
       "      <td>27.0</td>\n",
       "    </tr>\n",
       "    <tr>\n",
       "      <th>Instagram</th>\n",
       "      <td>24.6</td>\n",
       "    </tr>\n",
       "    <tr>\n",
       "      <th>LinkedIn</th>\n",
       "      <td>30.0</td>\n",
       "    </tr>\n",
       "    <tr>\n",
       "      <th>WhatsApp</th>\n",
       "      <td>27.8</td>\n",
       "    </tr>\n",
       "    <tr>\n",
       "      <th>other</th>\n",
       "      <td>28.4</td>\n",
       "    </tr>\n",
       "    <tr>\n",
       "      <th>unknown</th>\n",
       "      <td>22.0</td>\n",
       "    </tr>\n",
       "  </tbody>\n",
       "</table>\n",
       "</div>"
      ]
     },
     "metadata": {},
     "execution_count": 51
    }
   ],
   "metadata": {}
  },
  {
   "cell_type": "code",
   "execution_count": 52,
   "source": [
    "# BA plan"
   ],
   "outputs": [],
   "metadata": {}
  },
  {
   "cell_type": "markdown",
   "source": [
    "### 9.According to the observations what is the probability of being in each channel of communication knowing your are a woman"
   ],
   "metadata": {}
  },
  {
   "cell_type": "code",
   "execution_count": 53,
   "source": [
    "print(\"\\n*** The probability of being in each channel of communication knowing your are a woman ***\")\r\n",
    "prob_querry = querry7[querry7[\"gender\"]==\"female\"][\"communication_channel\"]\r\n",
    "prob_querry.value_counts(normalize=1).round(2)"
   ],
   "outputs": [
    {
     "output_type": "stream",
     "name": "stdout",
     "text": [
      "\n",
      "*** The probability of being in each channel of communication knowing your are a woman ***\n"
     ]
    },
    {
     "output_type": "execute_result",
     "data": {
      "text/plain": [
       "Friend                     0.23\n",
       "WhatsApp                   0.19\n",
       "Bootcamp Alumni            0.17\n",
       "Facebook                   0.13\n",
       "ESIH                       0.11\n",
       "Ayiti Analytics Website    0.09\n",
       "other                      0.04\n",
       "LinkedIn                   0.02\n",
       "Instagram                  0.02\n",
       "Name: communication_channel, dtype: float64"
      ]
     },
     "metadata": {},
     "execution_count": 53
    }
   ],
   "metadata": {}
  },
  {
   "cell_type": "markdown",
   "source": [
    "### 10.According to the observations what is the probability of being in each channel of communication knowing your are a man"
   ],
   "metadata": {}
  },
  {
   "cell_type": "code",
   "execution_count": 54,
   "source": [
    "print(\"\\n *** The probability of being in each channel of communication knowing your are a man ***\")\r\n",
    "prob_querry = querry7[querry7[\"gender\"]==\"male\"][\"communication_channel\"]\r\n",
    "prob_querry.value_counts(normalize=1).round(2)"
   ],
   "outputs": [
    {
     "output_type": "stream",
     "name": "stdout",
     "text": [
      "\n",
      " *** The probability of being in each channel of communication knowing your are a man ***\n"
     ]
    },
    {
     "output_type": "execute_result",
     "data": {
      "text/plain": [
       "WhatsApp                   0.28\n",
       "Friend                     0.28\n",
       "Facebook                   0.17\n",
       "LinkedIn                   0.07\n",
       "ESIH                       0.06\n",
       "Ayiti Analytics Website    0.05\n",
       "other                      0.03\n",
       "Bootcamp Alumni            0.03\n",
       "Instagram                  0.02\n",
       "unknown                    0.00\n",
       "Name: communication_channel, dtype: float64"
      ]
     },
     "metadata": {},
     "execution_count": 54
    }
   ],
   "metadata": {}
  },
  {
   "cell_type": "markdown",
   "source": [
    "### 11. Deduce the probability of being a woman knowing each communication channel"
   ],
   "metadata": {}
  },
  {
   "cell_type": "code",
   "execution_count": 55,
   "source": [
    "probab = []\r\n",
    "for _ in oklist:\r\n",
    "    if _ != \"unknown\":\r\n",
    "        ab = querry7[querry7[\"communication_channel\"]== _][\"gender\"]\r\n",
    "        a = ab.value_counts(normalize = 1)\r\n",
    "        b = a.to_frame(name = \"Hear_AA\")\r\n",
    "        c = b.loc[\"female\", \"Hear_AA\"]\r\n",
    "        probab.append(c)\r\n",
    "        print(\"The probability of being a woman knowing the Communication Channels {} is : {}\".format(_, c))"
   ],
   "outputs": [
    {
     "output_type": "stream",
     "name": "stdout",
     "text": [
      "The probability of being a woman knowing the Communication Channels Friend is : 0.16417910447761194\n",
      "The probability of being a woman knowing the Communication Channels ESIH is : 0.2777777777777778\n",
      "The probability of being a woman knowing the Communication Channels WhatsApp is : 0.13636363636363635\n",
      "The probability of being a woman knowing the Communication Channels Bootcamp Alumni is : 0.5714285714285714\n",
      "The probability of being a woman knowing the Communication Channels Facebook is : 0.15\n",
      "The probability of being a woman knowing the Communication Channels LinkedIn is : 0.06666666666666667\n",
      "The probability of being a woman knowing the Communication Channels Ayiti Analytics Website is : 0.26666666666666666\n",
      "The probability of being a woman knowing the Communication Channels other is : 0.2222222222222222\n",
      "The probability of being a woman knowing the Communication Channels Instagram is : 0.2\n"
     ]
    }
   ],
   "metadata": {}
  },
  {
   "cell_type": "markdown",
   "source": [
    "### 13. Deduce the probability of being a woman knowing each communication channel"
   ],
   "metadata": {}
  },
  {
   "cell_type": "code",
   "execution_count": 65,
   "source": [
    "probab = []\r\n",
    "for _ in oklist:\r\n",
    "    if _ != \"unknown\":\r\n",
    "        ab = querry7[querry7[\"communication_channel\"]== _][\"gender\"]\r\n",
    "        a = ab.value_counts(normalize = 1)\r\n",
    "        b = a.to_frame(name = \"Hear_AA\")\r\n",
    "        c = b.loc[\"female\", \"Hear_AA\"].round(4)\r\n",
    "        probab.append(c)\r\n",
    "        print(\"The probability of being a woman knowing the Communication Channels {} is : {}\\n\".format(_, c))"
   ],
   "outputs": [
    {
     "output_type": "stream",
     "name": "stdout",
     "text": [
      "The probability of being a woman knowing the Communication Channels Friend is : 0.1642\n",
      "\n",
      "The probability of being a woman knowing the Communication Channels ESIH is : 0.2778\n",
      "\n",
      "The probability of being a woman knowing the Communication Channels WhatsApp is : 0.1364\n",
      "\n",
      "The probability of being a woman knowing the Communication Channels Bootcamp Alumni is : 0.5714\n",
      "\n",
      "The probability of being a woman knowing the Communication Channels Facebook is : 0.15\n",
      "\n",
      "The probability of being a woman knowing the Communication Channels LinkedIn is : 0.0667\n",
      "\n",
      "The probability of being a woman knowing the Communication Channels Ayiti Analytics Website is : 0.2667\n",
      "\n",
      "The probability of being a woman knowing the Communication Channels other is : 0.2222\n",
      "\n",
      "The probability of being a woman knowing the Communication Channels Instagram is : 0.2\n",
      "\n"
     ]
    }
   ],
   "metadata": {}
  },
  {
   "cell_type": "markdown",
   "source": [
    "### 14. Deduce the probability of being a man knowing each communication channel"
   ],
   "metadata": {}
  },
  {
   "cell_type": "code",
   "execution_count": 66,
   "source": [
    "probab = []\r\n",
    "for _ in oklist:\r\n",
    "    if _ != \"unknown\":\r\n",
    "        ab = querry7[querry7[\"communication_channel\"]== _][\"gender\"]\r\n",
    "        a = ab.value_counts(normalize = 1)\r\n",
    "        b = a.to_frame(name = \"Hear_AA\")\r\n",
    "        c = b.loc[\"male\", \"Hear_AA\"].round(4)\r\n",
    "        probab.append(c)\r\n",
    "        print(\"** The probability of being a woman knowing the Communication Channels {} is: {}\\n\".format(_, c))"
   ],
   "outputs": [
    {
     "output_type": "stream",
     "name": "stdout",
     "text": [
      "** The probability of being a woman knowing the Communication Channels Friend is: 0.8358\n",
      "\n",
      "** The probability of being a woman knowing the Communication Channels ESIH is: 0.7222\n",
      "\n",
      "** The probability of being a woman knowing the Communication Channels WhatsApp is: 0.8636\n",
      "\n",
      "** The probability of being a woman knowing the Communication Channels Bootcamp Alumni is: 0.4286\n",
      "\n",
      "** The probability of being a woman knowing the Communication Channels Facebook is: 0.85\n",
      "\n",
      "** The probability of being a woman knowing the Communication Channels LinkedIn is: 0.9333\n",
      "\n",
      "** The probability of being a woman knowing the Communication Channels Ayiti Analytics Website is: 0.7333\n",
      "\n",
      "** The probability of being a woman knowing the Communication Channels other is: 0.7778\n",
      "\n",
      "** The probability of being a woman knowing the Communication Channels Instagram is: 0.8\n",
      "\n"
     ]
    }
   ],
   "metadata": {}
  },
  {
   "cell_type": "markdown",
   "source": [
    "### 15 Display a plot to see Gender vs Communication Channels .Is there any dependency between communication channels and gender?"
   ],
   "metadata": {}
  },
  {
   "cell_type": "code",
   "execution_count": 67,
   "source": [
    "#add a columns \r\n",
    "querry7[\"index\"]=querry7.index"
   ],
   "outputs": [],
   "metadata": {}
  },
  {
   "cell_type": "code",
   "execution_count": 76,
   "source": [
    "# pivot table: gender & communication channel\r\n",
    "gender_com=pd.pivot_table(querry7,values=\"index\", index=['gender',],\r\n",
    " columns=['communication_channel'], aggfunc=\"count\",fill_value =0)\r\n",
    "\r\n",
    "gender_com"
   ],
   "outputs": [
    {
     "output_type": "execute_result",
     "data": {
      "text/plain": [
       "communication_channel  Ayiti Analytics Website  Bootcamp Alumni  ESIH  \\\n",
       "gender                                                                  \n",
       "female                                       4                8     5   \n",
       "male                                        11                6    13   \n",
       "\n",
       "communication_channel  Facebook  Friend  Instagram  LinkedIn  WhatsApp  other  \\\n",
       "gender                                                                          \n",
       "female                        6      11          1         1         9      2   \n",
       "male                         34      56          4        14        57      7   \n",
       "\n",
       "communication_channel  unknown  \n",
       "gender                          \n",
       "female                       0  \n",
       "male                         1  "
      ],
      "text/html": [
       "<div>\n",
       "<style scoped>\n",
       "    .dataframe tbody tr th:only-of-type {\n",
       "        vertical-align: middle;\n",
       "    }\n",
       "\n",
       "    .dataframe tbody tr th {\n",
       "        vertical-align: top;\n",
       "    }\n",
       "\n",
       "    .dataframe thead th {\n",
       "        text-align: right;\n",
       "    }\n",
       "</style>\n",
       "<table border=\"1\" class=\"dataframe\">\n",
       "  <thead>\n",
       "    <tr style=\"text-align: right;\">\n",
       "      <th>communication_channel</th>\n",
       "      <th>Ayiti Analytics Website</th>\n",
       "      <th>Bootcamp Alumni</th>\n",
       "      <th>ESIH</th>\n",
       "      <th>Facebook</th>\n",
       "      <th>Friend</th>\n",
       "      <th>Instagram</th>\n",
       "      <th>LinkedIn</th>\n",
       "      <th>WhatsApp</th>\n",
       "      <th>other</th>\n",
       "      <th>unknown</th>\n",
       "    </tr>\n",
       "    <tr>\n",
       "      <th>gender</th>\n",
       "      <th></th>\n",
       "      <th></th>\n",
       "      <th></th>\n",
       "      <th></th>\n",
       "      <th></th>\n",
       "      <th></th>\n",
       "      <th></th>\n",
       "      <th></th>\n",
       "      <th></th>\n",
       "      <th></th>\n",
       "    </tr>\n",
       "  </thead>\n",
       "  <tbody>\n",
       "    <tr>\n",
       "      <th>female</th>\n",
       "      <td>4</td>\n",
       "      <td>8</td>\n",
       "      <td>5</td>\n",
       "      <td>6</td>\n",
       "      <td>11</td>\n",
       "      <td>1</td>\n",
       "      <td>1</td>\n",
       "      <td>9</td>\n",
       "      <td>2</td>\n",
       "      <td>0</td>\n",
       "    </tr>\n",
       "    <tr>\n",
       "      <th>male</th>\n",
       "      <td>11</td>\n",
       "      <td>6</td>\n",
       "      <td>13</td>\n",
       "      <td>34</td>\n",
       "      <td>56</td>\n",
       "      <td>4</td>\n",
       "      <td>14</td>\n",
       "      <td>57</td>\n",
       "      <td>7</td>\n",
       "      <td>1</td>\n",
       "    </tr>\n",
       "  </tbody>\n",
       "</table>\n",
       "</div>"
      ]
     },
     "metadata": {},
     "execution_count": 76
    }
   ],
   "metadata": {}
  },
  {
   "cell_type": "code",
   "execution_count": 122,
   "source": [
    "stat, p, dof, expected = chi2_contingency(gender_com.values)\r\n",
    "print(\"p-values:\",p)\r\n",
    "if p < 0.05:\r\n",
    " print(\"Hypothesis Rejected\", \"That is mean we have a dependency between gender and communication channel\")\r\n",
    "else:\r\n",
    " print(\"Hypothesis Accepted\", \"That is mean we do not have any dependency between gender and communication channel\")"
   ],
   "outputs": [
    {
     "output_type": "stream",
     "name": "stdout",
     "text": [
      "p-values: 0.02907484414773651\n",
      "Hypothesis Rejected That is mean we have a dependency between gender and communication channel\n"
     ]
    }
   ],
   "metadata": {}
  },
  {
   "cell_type": "markdown",
   "source": [
    "### 16 Use the same method to display plot and know if is there any dependency between communication channels and Bootcamp Insterest?"
   ],
   "metadata": {}
  },
  {
   "cell_type": "code",
   "execution_count": 123,
   "source": [
    "#pivot table: communication channel &  Bootcamp Interest\r\n",
    "boot_com=pd.pivot_table(querry7,values=\"index\", index=['Bootcamp_Interest',],\r\n",
    " columns=['communication_channel'], aggfunc=\"count\",fill_value =0)\r\n",
    "\r\n",
    "boot_com"
   ],
   "outputs": [
    {
     "output_type": "execute_result",
     "data": {
      "text/plain": [
       "communication_channel              Ayiti Analytics Website  Bootcamp Alumni  \\\n",
       "Bootcamp_Interest                                                             \n",
       "Finding a job/internship                                 1                3   \n",
       "Improving my data analysis skills                        9                8   \n",
       "Mentorship                                               1                0   \n",
       "Switching careers                                        2                1   \n",
       "Training to start my own company                         2                1   \n",
       "other                                                    0                0   \n",
       "unknown                                                  0                1   \n",
       "\n",
       "communication_channel              ESIH  Facebook  Friend  Instagram  \\\n",
       "Bootcamp_Interest                                                      \n",
       "Finding a job/internship              2        10      10          2   \n",
       "Improving my data analysis skills    12        20      38          0   \n",
       "Mentorship                            1         3       1          0   \n",
       "Switching careers                     0         3       4          1   \n",
       "Training to start my own company      2         4      14          2   \n",
       "other                                 1         0       0          0   \n",
       "unknown                               0         0       0          0   \n",
       "\n",
       "communication_channel              LinkedIn  WhatsApp  other  unknown  \n",
       "Bootcamp_Interest                                                      \n",
       "Finding a job/internship                  2        11      2        0  \n",
       "Improving my data analysis skills        10        29      4        0  \n",
       "Mentorship                                0         6      1        0  \n",
       "Switching careers                         1         8      0        0  \n",
       "Training to start my own company          2        11      1        0  \n",
       "other                                     0         1      1        0  \n",
       "unknown                                   0         0      0        1  "
      ],
      "text/html": [
       "<div>\n",
       "<style scoped>\n",
       "    .dataframe tbody tr th:only-of-type {\n",
       "        vertical-align: middle;\n",
       "    }\n",
       "\n",
       "    .dataframe tbody tr th {\n",
       "        vertical-align: top;\n",
       "    }\n",
       "\n",
       "    .dataframe thead th {\n",
       "        text-align: right;\n",
       "    }\n",
       "</style>\n",
       "<table border=\"1\" class=\"dataframe\">\n",
       "  <thead>\n",
       "    <tr style=\"text-align: right;\">\n",
       "      <th>communication_channel</th>\n",
       "      <th>Ayiti Analytics Website</th>\n",
       "      <th>Bootcamp Alumni</th>\n",
       "      <th>ESIH</th>\n",
       "      <th>Facebook</th>\n",
       "      <th>Friend</th>\n",
       "      <th>Instagram</th>\n",
       "      <th>LinkedIn</th>\n",
       "      <th>WhatsApp</th>\n",
       "      <th>other</th>\n",
       "      <th>unknown</th>\n",
       "    </tr>\n",
       "    <tr>\n",
       "      <th>Bootcamp_Interest</th>\n",
       "      <th></th>\n",
       "      <th></th>\n",
       "      <th></th>\n",
       "      <th></th>\n",
       "      <th></th>\n",
       "      <th></th>\n",
       "      <th></th>\n",
       "      <th></th>\n",
       "      <th></th>\n",
       "      <th></th>\n",
       "    </tr>\n",
       "  </thead>\n",
       "  <tbody>\n",
       "    <tr>\n",
       "      <th>Finding a job/internship</th>\n",
       "      <td>1</td>\n",
       "      <td>3</td>\n",
       "      <td>2</td>\n",
       "      <td>10</td>\n",
       "      <td>10</td>\n",
       "      <td>2</td>\n",
       "      <td>2</td>\n",
       "      <td>11</td>\n",
       "      <td>2</td>\n",
       "      <td>0</td>\n",
       "    </tr>\n",
       "    <tr>\n",
       "      <th>Improving my data analysis skills</th>\n",
       "      <td>9</td>\n",
       "      <td>8</td>\n",
       "      <td>12</td>\n",
       "      <td>20</td>\n",
       "      <td>38</td>\n",
       "      <td>0</td>\n",
       "      <td>10</td>\n",
       "      <td>29</td>\n",
       "      <td>4</td>\n",
       "      <td>0</td>\n",
       "    </tr>\n",
       "    <tr>\n",
       "      <th>Mentorship</th>\n",
       "      <td>1</td>\n",
       "      <td>0</td>\n",
       "      <td>1</td>\n",
       "      <td>3</td>\n",
       "      <td>1</td>\n",
       "      <td>0</td>\n",
       "      <td>0</td>\n",
       "      <td>6</td>\n",
       "      <td>1</td>\n",
       "      <td>0</td>\n",
       "    </tr>\n",
       "    <tr>\n",
       "      <th>Switching careers</th>\n",
       "      <td>2</td>\n",
       "      <td>1</td>\n",
       "      <td>0</td>\n",
       "      <td>3</td>\n",
       "      <td>4</td>\n",
       "      <td>1</td>\n",
       "      <td>1</td>\n",
       "      <td>8</td>\n",
       "      <td>0</td>\n",
       "      <td>0</td>\n",
       "    </tr>\n",
       "    <tr>\n",
       "      <th>Training to start my own company</th>\n",
       "      <td>2</td>\n",
       "      <td>1</td>\n",
       "      <td>2</td>\n",
       "      <td>4</td>\n",
       "      <td>14</td>\n",
       "      <td>2</td>\n",
       "      <td>2</td>\n",
       "      <td>11</td>\n",
       "      <td>1</td>\n",
       "      <td>0</td>\n",
       "    </tr>\n",
       "    <tr>\n",
       "      <th>other</th>\n",
       "      <td>0</td>\n",
       "      <td>0</td>\n",
       "      <td>1</td>\n",
       "      <td>0</td>\n",
       "      <td>0</td>\n",
       "      <td>0</td>\n",
       "      <td>0</td>\n",
       "      <td>1</td>\n",
       "      <td>1</td>\n",
       "      <td>0</td>\n",
       "    </tr>\n",
       "    <tr>\n",
       "      <th>unknown</th>\n",
       "      <td>0</td>\n",
       "      <td>1</td>\n",
       "      <td>0</td>\n",
       "      <td>0</td>\n",
       "      <td>0</td>\n",
       "      <td>0</td>\n",
       "      <td>0</td>\n",
       "      <td>0</td>\n",
       "      <td>0</td>\n",
       "      <td>1</td>\n",
       "    </tr>\n",
       "  </tbody>\n",
       "</table>\n",
       "</div>"
      ]
     },
     "metadata": {},
     "execution_count": 123
    }
   ],
   "metadata": {}
  },
  {
   "cell_type": "code",
   "execution_count": 124,
   "source": [
    "stat, p, dof, expected = chi2_contingency(boot_com.values)\r\n",
    "print(\"p-values:\",p)\r\n",
    "if p < 0.05:\r\n",
    " print(\"Hypothesis Rejected\", \"That is mean we have a dependency between bootcamp interest and communication channel\")\r\n",
    "else:\r\n",
    " print(\"Hypothesis Accepted\", \"That is mean we do not have any dependency between bootacmp interest and communication channel\")"
   ],
   "outputs": [
    {
     "output_type": "stream",
     "name": "stdout",
     "text": [
      "p-values: 2.7040922010696464e-14\n",
      "Hypothesis Rejected That is mean we have a dependency between bootcamp interest and communication channel\n"
     ]
    }
   ],
   "metadata": {}
  },
  {
   "cell_type": "markdown",
   "source": [
    "### 17.Plan a BA  strategy for each communication channel, Bootcamp Insterest regarding the gender "
   ],
   "metadata": {}
  },
  {
   "cell_type": "code",
   "execution_count": 128,
   "source": [
    "com_boot_gen=pd.pivot_table(data=querry7,values=\"quest_id\",index=\"communication_channel\",columns=\"gender\",aggfunc=\"count\")\r\n",
    "print(com_boot_gen)\r\n",
    "\r\n",
    "#Filt Bootcamp Interest by quest_id and gender\r\n",
    "com_boot_gen=pd.pivot_table(data=querry7,values=\"quest_id\",index=\"Bootcamp_Interest\",columns=\"gender\",aggfunc=\"count\")\r\n",
    "print(com_boot_gen)"
   ],
   "outputs": [
    {
     "output_type": "stream",
     "name": "stdout",
     "text": [
      "gender                   female  male\n",
      "communication_channel                \n",
      "Ayiti Analytics Website     4.0  11.0\n",
      "Bootcamp Alumni             8.0   6.0\n",
      "ESIH                        5.0  13.0\n",
      "Facebook                    6.0  34.0\n",
      "Friend                     11.0  56.0\n",
      "Instagram                   1.0   4.0\n",
      "LinkedIn                    1.0  14.0\n",
      "WhatsApp                    9.0  57.0\n",
      "other                       2.0   7.0\n",
      "unknown                     NaN   1.0\n",
      "gender                             female   male\n",
      "Bootcamp_Interest                               \n",
      "Finding a job/internship             10.0   33.0\n",
      "Improving my data analysis skills    24.0  106.0\n",
      "Mentorship                            4.0    9.0\n",
      "Switching careers                     3.0   17.0\n",
      "Training to start my own company      6.0   33.0\n",
      "other                                 NaN    3.0\n",
      "unknown                               NaN    2.0\n"
     ]
    }
   ],
   "metadata": {}
  },
  {
   "cell_type": "code",
   "execution_count": null,
   "source": [],
   "outputs": [],
   "metadata": {}
  },
  {
   "cell_type": "markdown",
   "source": [
    "### 18.Plan a BA  strategy for each communication channel, Bootcamp Insterest regarding the gender"
   ],
   "metadata": {}
  },
  {
   "cell_type": "code",
   "execution_count": 60,
   "source": [
    "# here your codes"
   ],
   "outputs": [],
   "metadata": {}
  },
  {
   "cell_type": "markdown",
   "source": [
    "### 19. Calculate \n",
    "    * P(Bootcamp Insterest,Communication channels,Gender/Payed=yes)\n",
    "    * P(Bootcamp Insterest,Communication channels,Gender/Payed=no)"
   ],
   "metadata": {}
  },
  {
   "cell_type": "code",
   "execution_count": 99,
   "source": [
    "Yes=len(querry7[querry7[\"payed\"]==\"Yes\"])\r\n",
    "No=len(querry7)-Yes"
   ],
   "outputs": [],
   "metadata": {}
  },
  {
   "cell_type": "code",
   "execution_count": 100,
   "source": [
    "\r\n",
    "#here your code\r\n",
    "querry_pay=pd.pivot_table(querry7[querry7['payed']==\"Yes\"], values=\"quest_id\", index=['Bootcamp_Interest', 'communication_channel','gender'], aggfunc=\"count\")\r\n",
    "querry_pay=querry_pay/Yes\r\n",
    "print(\"Probabilities for a payed applicant by Bootcamp interest , communication channel and gender category\")\r\n",
    "print(querry_pay)\r\n",
    "#here your code\r\n",
    "querry_pay1=pd.pivot_table(querry7[querry7['payed']==\"No\"], values=\"quest_id\", index=['Bootcamp_Interest', 'communication_channel','gender'], aggfunc=\"count\")\r\n",
    "querry_pay1=querry_pay/No\r\n",
    "print(\"Probabilities for a non-payed applicant by Bootcamp interest , communication channel and gender category\")\r\n",
    "print(querry_pay1)"
   ],
   "outputs": [
    {
     "output_type": "stream",
     "name": "stdout",
     "text": [
      "Probabilities for a payed applicant by Bootcamp interest , communication channel and gender category\n",
      "                                                                  quest_id\n",
      "Bootcamp_Interest                 communication_channel   gender          \n",
      "Finding a job/internship          Ayiti Analytics Website male    0.015385\n",
      "                                  Bootcamp Alumni         female  0.015385\n",
      "                                  ESIH                    male    0.015385\n",
      "                                  Facebook                male    0.015385\n",
      "                                  Friend                  female  0.015385\n",
      "                                                          male    0.030769\n",
      "                                  Instagram               male    0.015385\n",
      "                                  LinkedIn                male    0.015385\n",
      "                                  WhatsApp                female  0.015385\n",
      "                                                          male    0.046154\n",
      "Improving my data analysis skills Ayiti Analytics Website male    0.015385\n",
      "                                  Bootcamp Alumni         female  0.015385\n",
      "                                                          male    0.076923\n",
      "                                  ESIH                    male    0.030769\n",
      "                                  Facebook                female  0.030769\n",
      "                                                          male    0.076923\n",
      "                                  Friend                  female  0.030769\n",
      "                                                          male    0.215385\n",
      "                                  LinkedIn                female  0.015385\n",
      "                                                          male    0.015385\n",
      "                                  WhatsApp                female  0.046154\n",
      "                                                          male    0.046154\n",
      "                                  other                   male    0.015385\n",
      "Mentorship                        other                   female  0.015385\n",
      "Switching careers                 Bootcamp Alumni         female  0.015385\n",
      "Training to start my own company  Ayiti Analytics Website male    0.015385\n",
      "                                  Facebook                male    0.015385\n",
      "                                  Friend                  male    0.046154\n",
      "                                  WhatsApp                male    0.030769\n",
      "other                             ESIH                    male    0.015385\n",
      "                                  WhatsApp                male    0.015385\n",
      "Probabilities for a non-payed applicant by Bootcamp interest , communication channel and gender category\n",
      "                                                                  quest_id\n",
      "Bootcamp_Interest                 communication_channel   gender          \n",
      "Finding a job/internship          Ayiti Analytics Website male    0.000083\n",
      "                                  Bootcamp Alumni         female  0.000083\n",
      "                                  ESIH                    male    0.000083\n",
      "                                  Facebook                male    0.000083\n",
      "                                  Friend                  female  0.000083\n",
      "                                                          male    0.000166\n",
      "                                  Instagram               male    0.000083\n",
      "                                  LinkedIn                male    0.000083\n",
      "                                  WhatsApp                female  0.000083\n",
      "                                                          male    0.000249\n",
      "Improving my data analysis skills Ayiti Analytics Website male    0.000083\n",
      "                                  Bootcamp Alumni         female  0.000083\n",
      "                                                          male    0.000416\n",
      "                                  ESIH                    male    0.000166\n",
      "                                  Facebook                female  0.000166\n",
      "                                                          male    0.000416\n",
      "                                  Friend                  female  0.000166\n",
      "                                                          male    0.001164\n",
      "                                  LinkedIn                female  0.000083\n",
      "                                                          male    0.000083\n",
      "                                  WhatsApp                female  0.000249\n",
      "                                                          male    0.000249\n",
      "                                  other                   male    0.000083\n",
      "Mentorship                        other                   female  0.000083\n",
      "Switching careers                 Bootcamp Alumni         female  0.000083\n",
      "Training to start my own company  Ayiti Analytics Website male    0.000083\n",
      "                                  Facebook                male    0.000083\n",
      "                                  Friend                  male    0.000249\n",
      "                                  WhatsApp                male    0.000166\n",
      "other                             ESIH                    male    0.000083\n",
      "                                  WhatsApp                male    0.000083\n"
     ]
    }
   ],
   "metadata": {}
  },
  {
   "cell_type": "markdown",
   "source": [
    "### 20 deduce \r\n",
    "* P(Payed=\"yes\"/Bootcamp Insterest=\"Increase Skill\",Communication channels=\"Friend\",Gender=\"male\")\r\n",
    "* P(Payed=\"no\"/Bootcamp Insterest=\"Increase Skill\",Communication channels=\"Friend\",Gender=\"male\")"
   ],
   "metadata": {}
  },
  {
   "cell_type": "code",
   "execution_count": 125,
   "source": [
    "deduce = querry7[(querry7[\"Bootcamp_Interest\"]==\"Improving my data analysis skills\") & (querry7[\"communication_channel\"] == \"Friend\") & (querry7[\"gender\"]==\"male\")]\r\n",
    "\r\n",
    "deduce1 = querry7[\"payed\"].value_counts(normalize=1)\r\n",
    "\r\n",
    "deduce1.rename(index={\"Yes\": \"Probability that the applicant pays knowing he wants to improve her skills, he is a male, and he is invited by a Friend\",\r\n",
    "'No': \"Probability that the applicant doesn't pay knowing he wants to improve her skills, he is a male, and he is invited by a Friend\"}, inplace=True)\r\n",
    "deduce1"
   ],
   "outputs": [
    {
     "output_type": "execute_result",
     "data": {
      "text/plain": [
       "Probability that the applicant doesn't pay knowing he wants to improve her skills, he is a male, and he is invited by a Friend    0.74\n",
       "Probability that the applicant pays knowing he wants to improve her skills, he is a male, and he is invited by a Friend           0.26\n",
       "Name: payed, dtype: float64"
      ]
     },
     "metadata": {},
     "execution_count": 125
    }
   ],
   "metadata": {}
  },
  {
   "cell_type": "code",
   "execution_count": 127,
   "source": [
    "figure =deduce1.plot(kind='bar', stacked=False,\r\n",
    "          colormap=ListedColormap(sns.color_palette(\"pastel\", 4)), \r\n",
    "          figsize=(15,8))"
   ],
   "outputs": [
    {
     "output_type": "display_data",
     "data": {
      "text/plain": [
       "<Figure size 1080x576 with 1 Axes>"
      ],
      "image/svg+xml": "<?xml version=\"1.0\" encoding=\"utf-8\" standalone=\"no\"?>\r\n<!DOCTYPE svg PUBLIC \"-//W3C//DTD SVG 1.1//EN\"\r\n  \"http://www.w3.org/Graphics/SVG/1.1/DTD/svg11.dtd\">\r\n<!-- Created with matplotlib (https://matplotlib.org/) -->\r\n<svg height=\"1077.169062pt\" version=\"1.1\" viewBox=\"0 0 874.303125 1077.169062\" width=\"874.303125pt\" xmlns=\"http://www.w3.org/2000/svg\" xmlns:xlink=\"http://www.w3.org/1999/xlink\">\r\n <metadata>\r\n  <rdf:RDF xmlns:cc=\"http://creativecommons.org/ns#\" xmlns:dc=\"http://purl.org/dc/elements/1.1/\" xmlns:rdf=\"http://www.w3.org/1999/02/22-rdf-syntax-ns#\">\r\n   <cc:Work>\r\n    <dc:type rdf:resource=\"http://purl.org/dc/dcmitype/StillImage\"/>\r\n    <dc:date>2021-08-06T23:53:35.386740</dc:date>\r\n    <dc:format>image/svg+xml</dc:format>\r\n    <dc:creator>\r\n     <cc:Agent>\r\n      <dc:title>Matplotlib v3.3.2, https://matplotlib.org/</dc:title>\r\n     </cc:Agent>\r\n    </dc:creator>\r\n   </cc:Work>\r\n  </rdf:RDF>\r\n </metadata>\r\n <defs>\r\n  <style type=\"text/css\">*{stroke-linecap:butt;stroke-linejoin:round;}</style>\r\n </defs>\r\n <g id=\"figure_1\">\r\n  <g id=\"patch_1\">\r\n   <path d=\"M 0 1077.169062 \r\nL 874.303125 1077.169062 \r\nL 874.303125 0 \r\nL 0 0 \r\nz\r\n\" style=\"fill:none;\"/>\r\n  </g>\r\n  <g id=\"axes_1\">\r\n   <g id=\"patch_2\">\r\n    <path d=\"M 30.103125 442.08 \r\nL 867.103125 442.08 \r\nL 867.103125 7.2 \r\nL 30.103125 7.2 \r\nz\r\n\" style=\"fill:#ffffff;\"/>\r\n   </g>\r\n   <g id=\"patch_3\">\r\n    <path clip-path=\"url(#pabd7cf60aa)\" d=\"M 134.728125 442.08 \r\nL 343.978125 442.08 \r\nL 343.978125 27.908571 \r\nL 134.728125 27.908571 \r\nz\r\n\" style=\"fill:#a1c9f4;\"/>\r\n   </g>\r\n   <g id=\"patch_4\">\r\n    <path clip-path=\"url(#pabd7cf60aa)\" d=\"M 553.228125 442.08 \r\nL 762.478125 442.08 \r\nL 762.478125 296.560309 \r\nL 553.228125 296.560309 \r\nz\r\n\" style=\"fill:#a1c9f4;\"/>\r\n   </g>\r\n   <g id=\"matplotlib.axis_1\">\r\n    <g id=\"xtick_1\">\r\n     <g id=\"line2d_1\">\r\n      <defs>\r\n       <path d=\"M 0 0 \r\nL 0 3.5 \r\n\" id=\"m93109d90b2\" style=\"stroke:#000000;stroke-width:0.8;\"/>\r\n      </defs>\r\n      <g>\r\n       <use style=\"stroke:#000000;stroke-width:0.8;\" x=\"239.353125\" xlink:href=\"#m93109d90b2\" y=\"442.08\"/>\r\n      </g>\r\n     </g>\r\n     <g id=\"text_1\">\r\n      <!-- Probability that the applicant doesn't pay knowing he wants to improve her skills, he is a male, and he is invited by a Friend -->\r\n      <g transform=\"translate(242.1125 1069.969062)rotate(-90)scale(0.1 -0.1)\">\r\n       <defs>\r\n        <path d=\"M 19.671875 64.796875 \r\nL 19.671875 37.40625 \r\nL 32.078125 37.40625 \r\nQ 38.96875 37.40625 42.71875 40.96875 \r\nQ 46.484375 44.53125 46.484375 51.125 \r\nQ 46.484375 57.671875 42.71875 61.234375 \r\nQ 38.96875 64.796875 32.078125 64.796875 \r\nz\r\nM 9.8125 72.90625 \r\nL 32.078125 72.90625 \r\nQ 44.34375 72.90625 50.609375 67.359375 \r\nQ 56.890625 61.8125 56.890625 51.125 \r\nQ 56.890625 40.328125 50.609375 34.8125 \r\nQ 44.34375 29.296875 32.078125 29.296875 \r\nL 19.671875 29.296875 \r\nL 19.671875 0 \r\nL 9.8125 0 \r\nz\r\n\" id=\"DejaVuSans-80\"/>\r\n        <path d=\"M 41.109375 46.296875 \r\nQ 39.59375 47.171875 37.8125 47.578125 \r\nQ 36.03125 48 33.890625 48 \r\nQ 26.265625 48 22.1875 43.046875 \r\nQ 18.109375 38.09375 18.109375 28.8125 \r\nL 18.109375 0 \r\nL 9.078125 0 \r\nL 9.078125 54.6875 \r\nL 18.109375 54.6875 \r\nL 18.109375 46.1875 \r\nQ 20.953125 51.171875 25.484375 53.578125 \r\nQ 30.03125 56 36.53125 56 \r\nQ 37.453125 56 38.578125 55.875 \r\nQ 39.703125 55.765625 41.0625 55.515625 \r\nz\r\n\" id=\"DejaVuSans-114\"/>\r\n        <path d=\"M 30.609375 48.390625 \r\nQ 23.390625 48.390625 19.1875 42.75 \r\nQ 14.984375 37.109375 14.984375 27.296875 \r\nQ 14.984375 17.484375 19.15625 11.84375 \r\nQ 23.34375 6.203125 30.609375 6.203125 \r\nQ 37.796875 6.203125 41.984375 11.859375 \r\nQ 46.1875 17.53125 46.1875 27.296875 \r\nQ 46.1875 37.015625 41.984375 42.703125 \r\nQ 37.796875 48.390625 30.609375 48.390625 \r\nz\r\nM 30.609375 56 \r\nQ 42.328125 56 49.015625 48.375 \r\nQ 55.71875 40.765625 55.71875 27.296875 \r\nQ 55.71875 13.875 49.015625 6.21875 \r\nQ 42.328125 -1.421875 30.609375 -1.421875 \r\nQ 18.84375 -1.421875 12.171875 6.21875 \r\nQ 5.515625 13.875 5.515625 27.296875 \r\nQ 5.515625 40.765625 12.171875 48.375 \r\nQ 18.84375 56 30.609375 56 \r\nz\r\n\" id=\"DejaVuSans-111\"/>\r\n        <path d=\"M 48.6875 27.296875 \r\nQ 48.6875 37.203125 44.609375 42.84375 \r\nQ 40.53125 48.484375 33.40625 48.484375 \r\nQ 26.265625 48.484375 22.1875 42.84375 \r\nQ 18.109375 37.203125 18.109375 27.296875 \r\nQ 18.109375 17.390625 22.1875 11.75 \r\nQ 26.265625 6.109375 33.40625 6.109375 \r\nQ 40.53125 6.109375 44.609375 11.75 \r\nQ 48.6875 17.390625 48.6875 27.296875 \r\nz\r\nM 18.109375 46.390625 \r\nQ 20.953125 51.265625 25.265625 53.625 \r\nQ 29.59375 56 35.59375 56 \r\nQ 45.5625 56 51.78125 48.09375 \r\nQ 58.015625 40.1875 58.015625 27.296875 \r\nQ 58.015625 14.40625 51.78125 6.484375 \r\nQ 45.5625 -1.421875 35.59375 -1.421875 \r\nQ 29.59375 -1.421875 25.265625 0.953125 \r\nQ 20.953125 3.328125 18.109375 8.203125 \r\nL 18.109375 0 \r\nL 9.078125 0 \r\nL 9.078125 75.984375 \r\nL 18.109375 75.984375 \r\nz\r\n\" id=\"DejaVuSans-98\"/>\r\n        <path d=\"M 34.28125 27.484375 \r\nQ 23.390625 27.484375 19.1875 25 \r\nQ 14.984375 22.515625 14.984375 16.5 \r\nQ 14.984375 11.71875 18.140625 8.90625 \r\nQ 21.296875 6.109375 26.703125 6.109375 \r\nQ 34.1875 6.109375 38.703125 11.40625 \r\nQ 43.21875 16.703125 43.21875 25.484375 \r\nL 43.21875 27.484375 \r\nz\r\nM 52.203125 31.203125 \r\nL 52.203125 0 \r\nL 43.21875 0 \r\nL 43.21875 8.296875 \r\nQ 40.140625 3.328125 35.546875 0.953125 \r\nQ 30.953125 -1.421875 24.3125 -1.421875 \r\nQ 15.921875 -1.421875 10.953125 3.296875 \r\nQ 6 8.015625 6 15.921875 \r\nQ 6 25.140625 12.171875 29.828125 \r\nQ 18.359375 34.515625 30.609375 34.515625 \r\nL 43.21875 34.515625 \r\nL 43.21875 35.40625 \r\nQ 43.21875 41.609375 39.140625 45 \r\nQ 35.0625 48.390625 27.6875 48.390625 \r\nQ 23 48.390625 18.546875 47.265625 \r\nQ 14.109375 46.140625 10.015625 43.890625 \r\nL 10.015625 52.203125 \r\nQ 14.9375 54.109375 19.578125 55.046875 \r\nQ 24.21875 56 28.609375 56 \r\nQ 40.484375 56 46.34375 49.84375 \r\nQ 52.203125 43.703125 52.203125 31.203125 \r\nz\r\n\" id=\"DejaVuSans-97\"/>\r\n        <path d=\"M 9.421875 54.6875 \r\nL 18.40625 54.6875 \r\nL 18.40625 0 \r\nL 9.421875 0 \r\nz\r\nM 9.421875 75.984375 \r\nL 18.40625 75.984375 \r\nL 18.40625 64.59375 \r\nL 9.421875 64.59375 \r\nz\r\n\" id=\"DejaVuSans-105\"/>\r\n        <path d=\"M 9.421875 75.984375 \r\nL 18.40625 75.984375 \r\nL 18.40625 0 \r\nL 9.421875 0 \r\nz\r\n\" id=\"DejaVuSans-108\"/>\r\n        <path d=\"M 18.3125 70.21875 \r\nL 18.3125 54.6875 \r\nL 36.8125 54.6875 \r\nL 36.8125 47.703125 \r\nL 18.3125 47.703125 \r\nL 18.3125 18.015625 \r\nQ 18.3125 11.328125 20.140625 9.421875 \r\nQ 21.96875 7.515625 27.59375 7.515625 \r\nL 36.8125 7.515625 \r\nL 36.8125 0 \r\nL 27.59375 0 \r\nQ 17.1875 0 13.234375 3.875 \r\nQ 9.28125 7.765625 9.28125 18.015625 \r\nL 9.28125 47.703125 \r\nL 2.6875 47.703125 \r\nL 2.6875 54.6875 \r\nL 9.28125 54.6875 \r\nL 9.28125 70.21875 \r\nz\r\n\" id=\"DejaVuSans-116\"/>\r\n        <path d=\"M 32.171875 -5.078125 \r\nQ 28.375 -14.84375 24.75 -17.8125 \r\nQ 21.140625 -20.796875 15.09375 -20.796875 \r\nL 7.90625 -20.796875 \r\nL 7.90625 -13.28125 \r\nL 13.1875 -13.28125 \r\nQ 16.890625 -13.28125 18.9375 -11.515625 \r\nQ 21 -9.765625 23.484375 -3.21875 \r\nL 25.09375 0.875 \r\nL 2.984375 54.6875 \r\nL 12.5 54.6875 \r\nL 29.59375 11.921875 \r\nL 46.6875 54.6875 \r\nL 56.203125 54.6875 \r\nz\r\n\" id=\"DejaVuSans-121\"/>\r\n        <path id=\"DejaVuSans-32\"/>\r\n        <path d=\"M 54.890625 33.015625 \r\nL 54.890625 0 \r\nL 45.90625 0 \r\nL 45.90625 32.71875 \r\nQ 45.90625 40.484375 42.875 44.328125 \r\nQ 39.84375 48.1875 33.796875 48.1875 \r\nQ 26.515625 48.1875 22.3125 43.546875 \r\nQ 18.109375 38.921875 18.109375 30.90625 \r\nL 18.109375 0 \r\nL 9.078125 0 \r\nL 9.078125 75.984375 \r\nL 18.109375 75.984375 \r\nL 18.109375 46.1875 \r\nQ 21.34375 51.125 25.703125 53.5625 \r\nQ 30.078125 56 35.796875 56 \r\nQ 45.21875 56 50.046875 50.171875 \r\nQ 54.890625 44.34375 54.890625 33.015625 \r\nz\r\n\" id=\"DejaVuSans-104\"/>\r\n        <path d=\"M 56.203125 29.59375 \r\nL 56.203125 25.203125 \r\nL 14.890625 25.203125 \r\nQ 15.484375 15.921875 20.484375 11.0625 \r\nQ 25.484375 6.203125 34.421875 6.203125 \r\nQ 39.59375 6.203125 44.453125 7.46875 \r\nQ 49.3125 8.734375 54.109375 11.28125 \r\nL 54.109375 2.78125 \r\nQ 49.265625 0.734375 44.1875 -0.34375 \r\nQ 39.109375 -1.421875 33.890625 -1.421875 \r\nQ 20.796875 -1.421875 13.15625 6.1875 \r\nQ 5.515625 13.8125 5.515625 26.8125 \r\nQ 5.515625 40.234375 12.765625 48.109375 \r\nQ 20.015625 56 32.328125 56 \r\nQ 43.359375 56 49.78125 48.890625 \r\nQ 56.203125 41.796875 56.203125 29.59375 \r\nz\r\nM 47.21875 32.234375 \r\nQ 47.125 39.59375 43.09375 43.984375 \r\nQ 39.0625 48.390625 32.421875 48.390625 \r\nQ 24.90625 48.390625 20.390625 44.140625 \r\nQ 15.875 39.890625 15.1875 32.171875 \r\nz\r\n\" id=\"DejaVuSans-101\"/>\r\n        <path d=\"M 18.109375 8.203125 \r\nL 18.109375 -20.796875 \r\nL 9.078125 -20.796875 \r\nL 9.078125 54.6875 \r\nL 18.109375 54.6875 \r\nL 18.109375 46.390625 \r\nQ 20.953125 51.265625 25.265625 53.625 \r\nQ 29.59375 56 35.59375 56 \r\nQ 45.5625 56 51.78125 48.09375 \r\nQ 58.015625 40.1875 58.015625 27.296875 \r\nQ 58.015625 14.40625 51.78125 6.484375 \r\nQ 45.5625 -1.421875 35.59375 -1.421875 \r\nQ 29.59375 -1.421875 25.265625 0.953125 \r\nQ 20.953125 3.328125 18.109375 8.203125 \r\nz\r\nM 48.6875 27.296875 \r\nQ 48.6875 37.203125 44.609375 42.84375 \r\nQ 40.53125 48.484375 33.40625 48.484375 \r\nQ 26.265625 48.484375 22.1875 42.84375 \r\nQ 18.109375 37.203125 18.109375 27.296875 \r\nQ 18.109375 17.390625 22.1875 11.75 \r\nQ 26.265625 6.109375 33.40625 6.109375 \r\nQ 40.53125 6.109375 44.609375 11.75 \r\nQ 48.6875 17.390625 48.6875 27.296875 \r\nz\r\n\" id=\"DejaVuSans-112\"/>\r\n        <path d=\"M 48.78125 52.59375 \r\nL 48.78125 44.1875 \r\nQ 44.96875 46.296875 41.140625 47.34375 \r\nQ 37.3125 48.390625 33.40625 48.390625 \r\nQ 24.65625 48.390625 19.8125 42.84375 \r\nQ 14.984375 37.3125 14.984375 27.296875 \r\nQ 14.984375 17.28125 19.8125 11.734375 \r\nQ 24.65625 6.203125 33.40625 6.203125 \r\nQ 37.3125 6.203125 41.140625 7.25 \r\nQ 44.96875 8.296875 48.78125 10.40625 \r\nL 48.78125 2.09375 \r\nQ 45.015625 0.34375 40.984375 -0.53125 \r\nQ 36.96875 -1.421875 32.421875 -1.421875 \r\nQ 20.0625 -1.421875 12.78125 6.34375 \r\nQ 5.515625 14.109375 5.515625 27.296875 \r\nQ 5.515625 40.671875 12.859375 48.328125 \r\nQ 20.21875 56 33.015625 56 \r\nQ 37.15625 56 41.109375 55.140625 \r\nQ 45.0625 54.296875 48.78125 52.59375 \r\nz\r\n\" id=\"DejaVuSans-99\"/>\r\n        <path d=\"M 54.890625 33.015625 \r\nL 54.890625 0 \r\nL 45.90625 0 \r\nL 45.90625 32.71875 \r\nQ 45.90625 40.484375 42.875 44.328125 \r\nQ 39.84375 48.1875 33.796875 48.1875 \r\nQ 26.515625 48.1875 22.3125 43.546875 \r\nQ 18.109375 38.921875 18.109375 30.90625 \r\nL 18.109375 0 \r\nL 9.078125 0 \r\nL 9.078125 54.6875 \r\nL 18.109375 54.6875 \r\nL 18.109375 46.1875 \r\nQ 21.34375 51.125 25.703125 53.5625 \r\nQ 30.078125 56 35.796875 56 \r\nQ 45.21875 56 50.046875 50.171875 \r\nQ 54.890625 44.34375 54.890625 33.015625 \r\nz\r\n\" id=\"DejaVuSans-110\"/>\r\n        <path d=\"M 45.40625 46.390625 \r\nL 45.40625 75.984375 \r\nL 54.390625 75.984375 \r\nL 54.390625 0 \r\nL 45.40625 0 \r\nL 45.40625 8.203125 \r\nQ 42.578125 3.328125 38.25 0.953125 \r\nQ 33.9375 -1.421875 27.875 -1.421875 \r\nQ 17.96875 -1.421875 11.734375 6.484375 \r\nQ 5.515625 14.40625 5.515625 27.296875 \r\nQ 5.515625 40.1875 11.734375 48.09375 \r\nQ 17.96875 56 27.875 56 \r\nQ 33.9375 56 38.25 53.625 \r\nQ 42.578125 51.265625 45.40625 46.390625 \r\nz\r\nM 14.796875 27.296875 \r\nQ 14.796875 17.390625 18.875 11.75 \r\nQ 22.953125 6.109375 30.078125 6.109375 \r\nQ 37.203125 6.109375 41.296875 11.75 \r\nQ 45.40625 17.390625 45.40625 27.296875 \r\nQ 45.40625 37.203125 41.296875 42.84375 \r\nQ 37.203125 48.484375 30.078125 48.484375 \r\nQ 22.953125 48.484375 18.875 42.84375 \r\nQ 14.796875 37.203125 14.796875 27.296875 \r\nz\r\n\" id=\"DejaVuSans-100\"/>\r\n        <path d=\"M 44.28125 53.078125 \r\nL 44.28125 44.578125 \r\nQ 40.484375 46.53125 36.375 47.5 \r\nQ 32.28125 48.484375 27.875 48.484375 \r\nQ 21.1875 48.484375 17.84375 46.4375 \r\nQ 14.5 44.390625 14.5 40.28125 \r\nQ 14.5 37.15625 16.890625 35.375 \r\nQ 19.28125 33.59375 26.515625 31.984375 \r\nL 29.59375 31.296875 \r\nQ 39.15625 29.25 43.1875 25.515625 \r\nQ 47.21875 21.78125 47.21875 15.09375 \r\nQ 47.21875 7.46875 41.1875 3.015625 \r\nQ 35.15625 -1.421875 24.609375 -1.421875 \r\nQ 20.21875 -1.421875 15.453125 -0.5625 \r\nQ 10.6875 0.296875 5.421875 2 \r\nL 5.421875 11.28125 \r\nQ 10.40625 8.6875 15.234375 7.390625 \r\nQ 20.0625 6.109375 24.8125 6.109375 \r\nQ 31.15625 6.109375 34.5625 8.28125 \r\nQ 37.984375 10.453125 37.984375 14.40625 \r\nQ 37.984375 18.0625 35.515625 20.015625 \r\nQ 33.0625 21.96875 24.703125 23.78125 \r\nL 21.578125 24.515625 \r\nQ 13.234375 26.265625 9.515625 29.90625 \r\nQ 5.8125 33.546875 5.8125 39.890625 \r\nQ 5.8125 47.609375 11.28125 51.796875 \r\nQ 16.75 56 26.8125 56 \r\nQ 31.78125 56 36.171875 55.265625 \r\nQ 40.578125 54.546875 44.28125 53.078125 \r\nz\r\n\" id=\"DejaVuSans-115\"/>\r\n        <path d=\"M 17.921875 72.90625 \r\nL 17.921875 45.796875 \r\nL 9.625 45.796875 \r\nL 9.625 72.90625 \r\nz\r\n\" id=\"DejaVuSans-39\"/>\r\n        <path d=\"M 9.078125 75.984375 \r\nL 18.109375 75.984375 \r\nL 18.109375 31.109375 \r\nL 44.921875 54.6875 \r\nL 56.390625 54.6875 \r\nL 27.390625 29.109375 \r\nL 57.625 0 \r\nL 45.90625 0 \r\nL 18.109375 26.703125 \r\nL 18.109375 0 \r\nL 9.078125 0 \r\nz\r\n\" id=\"DejaVuSans-107\"/>\r\n        <path d=\"M 4.203125 54.6875 \r\nL 13.1875 54.6875 \r\nL 24.421875 12.015625 \r\nL 35.59375 54.6875 \r\nL 46.1875 54.6875 \r\nL 57.421875 12.015625 \r\nL 68.609375 54.6875 \r\nL 77.59375 54.6875 \r\nL 63.28125 0 \r\nL 52.6875 0 \r\nL 40.921875 44.828125 \r\nL 29.109375 0 \r\nL 18.5 0 \r\nz\r\n\" id=\"DejaVuSans-119\"/>\r\n        <path d=\"M 45.40625 27.984375 \r\nQ 45.40625 37.75 41.375 43.109375 \r\nQ 37.359375 48.484375 30.078125 48.484375 \r\nQ 22.859375 48.484375 18.828125 43.109375 \r\nQ 14.796875 37.75 14.796875 27.984375 \r\nQ 14.796875 18.265625 18.828125 12.890625 \r\nQ 22.859375 7.515625 30.078125 7.515625 \r\nQ 37.359375 7.515625 41.375 12.890625 \r\nQ 45.40625 18.265625 45.40625 27.984375 \r\nz\r\nM 54.390625 6.78125 \r\nQ 54.390625 -7.171875 48.1875 -13.984375 \r\nQ 42 -20.796875 29.203125 -20.796875 \r\nQ 24.46875 -20.796875 20.265625 -20.09375 \r\nQ 16.0625 -19.390625 12.109375 -17.921875 \r\nL 12.109375 -9.1875 \r\nQ 16.0625 -11.328125 19.921875 -12.34375 \r\nQ 23.78125 -13.375 27.78125 -13.375 \r\nQ 36.625 -13.375 41.015625 -8.765625 \r\nQ 45.40625 -4.15625 45.40625 5.171875 \r\nL 45.40625 9.625 \r\nQ 42.625 4.78125 38.28125 2.390625 \r\nQ 33.9375 0 27.875 0 \r\nQ 17.828125 0 11.671875 7.65625 \r\nQ 5.515625 15.328125 5.515625 27.984375 \r\nQ 5.515625 40.671875 11.671875 48.328125 \r\nQ 17.828125 56 27.875 56 \r\nQ 33.9375 56 38.28125 53.609375 \r\nQ 42.625 51.21875 45.40625 46.390625 \r\nL 45.40625 54.6875 \r\nL 54.390625 54.6875 \r\nz\r\n\" id=\"DejaVuSans-103\"/>\r\n        <path d=\"M 52 44.1875 \r\nQ 55.375 50.25 60.0625 53.125 \r\nQ 64.75 56 71.09375 56 \r\nQ 79.640625 56 84.28125 50.015625 \r\nQ 88.921875 44.046875 88.921875 33.015625 \r\nL 88.921875 0 \r\nL 79.890625 0 \r\nL 79.890625 32.71875 \r\nQ 79.890625 40.578125 77.09375 44.375 \r\nQ 74.3125 48.1875 68.609375 48.1875 \r\nQ 61.625 48.1875 57.5625 43.546875 \r\nQ 53.515625 38.921875 53.515625 30.90625 \r\nL 53.515625 0 \r\nL 44.484375 0 \r\nL 44.484375 32.71875 \r\nQ 44.484375 40.625 41.703125 44.40625 \r\nQ 38.921875 48.1875 33.109375 48.1875 \r\nQ 26.21875 48.1875 22.15625 43.53125 \r\nQ 18.109375 38.875 18.109375 30.90625 \r\nL 18.109375 0 \r\nL 9.078125 0 \r\nL 9.078125 54.6875 \r\nL 18.109375 54.6875 \r\nL 18.109375 46.1875 \r\nQ 21.1875 51.21875 25.484375 53.609375 \r\nQ 29.78125 56 35.6875 56 \r\nQ 41.65625 56 45.828125 52.96875 \r\nQ 50 49.953125 52 44.1875 \r\nz\r\n\" id=\"DejaVuSans-109\"/>\r\n        <path d=\"M 2.984375 54.6875 \r\nL 12.5 54.6875 \r\nL 29.59375 8.796875 \r\nL 46.6875 54.6875 \r\nL 56.203125 54.6875 \r\nL 35.6875 0 \r\nL 23.484375 0 \r\nz\r\n\" id=\"DejaVuSans-118\"/>\r\n        <path d=\"M 11.71875 12.40625 \r\nL 22.015625 12.40625 \r\nL 22.015625 4 \r\nL 14.015625 -11.625 \r\nL 7.71875 -11.625 \r\nL 11.71875 4 \r\nz\r\n\" id=\"DejaVuSans-44\"/>\r\n        <path d=\"M 9.8125 72.90625 \r\nL 51.703125 72.90625 \r\nL 51.703125 64.59375 \r\nL 19.671875 64.59375 \r\nL 19.671875 43.109375 \r\nL 48.578125 43.109375 \r\nL 48.578125 34.8125 \r\nL 19.671875 34.8125 \r\nL 19.671875 0 \r\nL 9.8125 0 \r\nz\r\n\" id=\"DejaVuSans-70\"/>\r\n       </defs>\r\n       <use xlink:href=\"#DejaVuSans-80\"/>\r\n       <use x=\"58.552734\" xlink:href=\"#DejaVuSans-114\"/>\r\n       <use x=\"97.416016\" xlink:href=\"#DejaVuSans-111\"/>\r\n       <use x=\"158.597656\" xlink:href=\"#DejaVuSans-98\"/>\r\n       <use x=\"222.074219\" xlink:href=\"#DejaVuSans-97\"/>\r\n       <use x=\"283.353516\" xlink:href=\"#DejaVuSans-98\"/>\r\n       <use x=\"346.830078\" xlink:href=\"#DejaVuSans-105\"/>\r\n       <use x=\"374.613281\" xlink:href=\"#DejaVuSans-108\"/>\r\n       <use x=\"402.396484\" xlink:href=\"#DejaVuSans-105\"/>\r\n       <use x=\"430.179688\" xlink:href=\"#DejaVuSans-116\"/>\r\n       <use x=\"469.388672\" xlink:href=\"#DejaVuSans-121\"/>\r\n       <use x=\"528.568359\" xlink:href=\"#DejaVuSans-32\"/>\r\n       <use x=\"560.355469\" xlink:href=\"#DejaVuSans-116\"/>\r\n       <use x=\"599.564453\" xlink:href=\"#DejaVuSans-104\"/>\r\n       <use x=\"662.943359\" xlink:href=\"#DejaVuSans-97\"/>\r\n       <use x=\"724.222656\" xlink:href=\"#DejaVuSans-116\"/>\r\n       <use x=\"763.431641\" xlink:href=\"#DejaVuSans-32\"/>\r\n       <use x=\"795.21875\" xlink:href=\"#DejaVuSans-116\"/>\r\n       <use x=\"834.427734\" xlink:href=\"#DejaVuSans-104\"/>\r\n       <use x=\"897.806641\" xlink:href=\"#DejaVuSans-101\"/>\r\n       <use x=\"959.330078\" xlink:href=\"#DejaVuSans-32\"/>\r\n       <use x=\"991.117188\" xlink:href=\"#DejaVuSans-97\"/>\r\n       <use x=\"1052.396484\" xlink:href=\"#DejaVuSans-112\"/>\r\n       <use x=\"1115.873047\" xlink:href=\"#DejaVuSans-112\"/>\r\n       <use x=\"1179.349609\" xlink:href=\"#DejaVuSans-108\"/>\r\n       <use x=\"1207.132812\" xlink:href=\"#DejaVuSans-105\"/>\r\n       <use x=\"1234.916016\" xlink:href=\"#DejaVuSans-99\"/>\r\n       <use x=\"1289.896484\" xlink:href=\"#DejaVuSans-97\"/>\r\n       <use x=\"1351.175781\" xlink:href=\"#DejaVuSans-110\"/>\r\n       <use x=\"1414.554688\" xlink:href=\"#DejaVuSans-116\"/>\r\n       <use x=\"1453.763672\" xlink:href=\"#DejaVuSans-32\"/>\r\n       <use x=\"1485.550781\" xlink:href=\"#DejaVuSans-100\"/>\r\n       <use x=\"1549.027344\" xlink:href=\"#DejaVuSans-111\"/>\r\n       <use x=\"1610.208984\" xlink:href=\"#DejaVuSans-101\"/>\r\n       <use x=\"1671.732422\" xlink:href=\"#DejaVuSans-115\"/>\r\n       <use x=\"1723.832031\" xlink:href=\"#DejaVuSans-110\"/>\r\n       <use x=\"1787.210938\" xlink:href=\"#DejaVuSans-39\"/>\r\n       <use x=\"1814.701172\" xlink:href=\"#DejaVuSans-116\"/>\r\n       <use x=\"1853.910156\" xlink:href=\"#DejaVuSans-32\"/>\r\n       <use x=\"1885.697266\" xlink:href=\"#DejaVuSans-112\"/>\r\n       <use x=\"1949.173828\" xlink:href=\"#DejaVuSans-97\"/>\r\n       <use x=\"2010.453125\" xlink:href=\"#DejaVuSans-121\"/>\r\n       <use x=\"2069.632812\" xlink:href=\"#DejaVuSans-32\"/>\r\n       <use x=\"2101.419922\" xlink:href=\"#DejaVuSans-107\"/>\r\n       <use x=\"2159.330078\" xlink:href=\"#DejaVuSans-110\"/>\r\n       <use x=\"2222.708984\" xlink:href=\"#DejaVuSans-111\"/>\r\n       <use x=\"2283.890625\" xlink:href=\"#DejaVuSans-119\"/>\r\n       <use x=\"2365.677734\" xlink:href=\"#DejaVuSans-105\"/>\r\n       <use x=\"2393.460938\" xlink:href=\"#DejaVuSans-110\"/>\r\n       <use x=\"2456.839844\" xlink:href=\"#DejaVuSans-103\"/>\r\n       <use x=\"2520.316406\" xlink:href=\"#DejaVuSans-32\"/>\r\n       <use x=\"2552.103516\" xlink:href=\"#DejaVuSans-104\"/>\r\n       <use x=\"2615.482422\" xlink:href=\"#DejaVuSans-101\"/>\r\n       <use x=\"2677.005859\" xlink:href=\"#DejaVuSans-32\"/>\r\n       <use x=\"2708.792969\" xlink:href=\"#DejaVuSans-119\"/>\r\n       <use x=\"2790.580078\" xlink:href=\"#DejaVuSans-97\"/>\r\n       <use x=\"2851.859375\" xlink:href=\"#DejaVuSans-110\"/>\r\n       <use x=\"2915.238281\" xlink:href=\"#DejaVuSans-116\"/>\r\n       <use x=\"2954.447266\" xlink:href=\"#DejaVuSans-115\"/>\r\n       <use x=\"3006.546875\" xlink:href=\"#DejaVuSans-32\"/>\r\n       <use x=\"3038.333984\" xlink:href=\"#DejaVuSans-116\"/>\r\n       <use x=\"3077.542969\" xlink:href=\"#DejaVuSans-111\"/>\r\n       <use x=\"3138.724609\" xlink:href=\"#DejaVuSans-32\"/>\r\n       <use x=\"3170.511719\" xlink:href=\"#DejaVuSans-105\"/>\r\n       <use x=\"3198.294922\" xlink:href=\"#DejaVuSans-109\"/>\r\n       <use x=\"3295.707031\" xlink:href=\"#DejaVuSans-112\"/>\r\n       <use x=\"3359.183594\" xlink:href=\"#DejaVuSans-114\"/>\r\n       <use x=\"3398.046875\" xlink:href=\"#DejaVuSans-111\"/>\r\n       <use x=\"3459.228516\" xlink:href=\"#DejaVuSans-118\"/>\r\n       <use x=\"3518.408203\" xlink:href=\"#DejaVuSans-101\"/>\r\n       <use x=\"3579.931641\" xlink:href=\"#DejaVuSans-32\"/>\r\n       <use x=\"3611.71875\" xlink:href=\"#DejaVuSans-104\"/>\r\n       <use x=\"3675.097656\" xlink:href=\"#DejaVuSans-101\"/>\r\n       <use x=\"3736.621094\" xlink:href=\"#DejaVuSans-114\"/>\r\n       <use x=\"3777.734375\" xlink:href=\"#DejaVuSans-32\"/>\r\n       <use x=\"3809.521484\" xlink:href=\"#DejaVuSans-115\"/>\r\n       <use x=\"3861.621094\" xlink:href=\"#DejaVuSans-107\"/>\r\n       <use x=\"3919.53125\" xlink:href=\"#DejaVuSans-105\"/>\r\n       <use x=\"3947.314453\" xlink:href=\"#DejaVuSans-108\"/>\r\n       <use x=\"3975.097656\" xlink:href=\"#DejaVuSans-108\"/>\r\n       <use x=\"4002.880859\" xlink:href=\"#DejaVuSans-115\"/>\r\n       <use x=\"4054.980469\" xlink:href=\"#DejaVuSans-44\"/>\r\n       <use x=\"4086.767578\" xlink:href=\"#DejaVuSans-32\"/>\r\n       <use x=\"4118.554688\" xlink:href=\"#DejaVuSans-104\"/>\r\n       <use x=\"4181.933594\" xlink:href=\"#DejaVuSans-101\"/>\r\n       <use x=\"4243.457031\" xlink:href=\"#DejaVuSans-32\"/>\r\n       <use x=\"4275.244141\" xlink:href=\"#DejaVuSans-105\"/>\r\n       <use x=\"4303.027344\" xlink:href=\"#DejaVuSans-115\"/>\r\n       <use x=\"4355.126953\" xlink:href=\"#DejaVuSans-32\"/>\r\n       <use x=\"4386.914062\" xlink:href=\"#DejaVuSans-97\"/>\r\n       <use x=\"4448.193359\" xlink:href=\"#DejaVuSans-32\"/>\r\n       <use x=\"4479.980469\" xlink:href=\"#DejaVuSans-109\"/>\r\n       <use x=\"4577.392578\" xlink:href=\"#DejaVuSans-97\"/>\r\n       <use x=\"4638.671875\" xlink:href=\"#DejaVuSans-108\"/>\r\n       <use x=\"4666.455078\" xlink:href=\"#DejaVuSans-101\"/>\r\n       <use x=\"4727.978516\" xlink:href=\"#DejaVuSans-44\"/>\r\n       <use x=\"4759.765625\" xlink:href=\"#DejaVuSans-32\"/>\r\n       <use x=\"4791.552734\" xlink:href=\"#DejaVuSans-97\"/>\r\n       <use x=\"4852.832031\" xlink:href=\"#DejaVuSans-110\"/>\r\n       <use x=\"4916.210938\" xlink:href=\"#DejaVuSans-100\"/>\r\n       <use x=\"4979.6875\" xlink:href=\"#DejaVuSans-32\"/>\r\n       <use x=\"5011.474609\" xlink:href=\"#DejaVuSans-104\"/>\r\n       <use x=\"5074.853516\" xlink:href=\"#DejaVuSans-101\"/>\r\n       <use x=\"5136.376953\" xlink:href=\"#DejaVuSans-32\"/>\r\n       <use x=\"5168.164062\" xlink:href=\"#DejaVuSans-105\"/>\r\n       <use x=\"5195.947266\" xlink:href=\"#DejaVuSans-115\"/>\r\n       <use x=\"5248.046875\" xlink:href=\"#DejaVuSans-32\"/>\r\n       <use x=\"5279.833984\" xlink:href=\"#DejaVuSans-105\"/>\r\n       <use x=\"5307.617188\" xlink:href=\"#DejaVuSans-110\"/>\r\n       <use x=\"5370.996094\" xlink:href=\"#DejaVuSans-118\"/>\r\n       <use x=\"5430.175781\" xlink:href=\"#DejaVuSans-105\"/>\r\n       <use x=\"5457.958984\" xlink:href=\"#DejaVuSans-116\"/>\r\n       <use x=\"5497.167969\" xlink:href=\"#DejaVuSans-101\"/>\r\n       <use x=\"5558.691406\" xlink:href=\"#DejaVuSans-100\"/>\r\n       <use x=\"5622.167969\" xlink:href=\"#DejaVuSans-32\"/>\r\n       <use x=\"5653.955078\" xlink:href=\"#DejaVuSans-98\"/>\r\n       <use x=\"5717.431641\" xlink:href=\"#DejaVuSans-121\"/>\r\n       <use x=\"5776.611328\" xlink:href=\"#DejaVuSans-32\"/>\r\n       <use x=\"5808.398438\" xlink:href=\"#DejaVuSans-97\"/>\r\n       <use x=\"5869.677734\" xlink:href=\"#DejaVuSans-32\"/>\r\n       <use x=\"5901.464844\" xlink:href=\"#DejaVuSans-70\"/>\r\n       <use x=\"5951.734375\" xlink:href=\"#DejaVuSans-114\"/>\r\n       <use x=\"5992.847656\" xlink:href=\"#DejaVuSans-105\"/>\r\n       <use x=\"6020.630859\" xlink:href=\"#DejaVuSans-101\"/>\r\n       <use x=\"6082.154297\" xlink:href=\"#DejaVuSans-110\"/>\r\n       <use x=\"6145.533203\" xlink:href=\"#DejaVuSans-100\"/>\r\n      </g>\r\n     </g>\r\n    </g>\r\n    <g id=\"xtick_2\">\r\n     <g id=\"line2d_2\">\r\n      <g>\r\n       <use style=\"stroke:#000000;stroke-width:0.8;\" x=\"657.853125\" xlink:href=\"#m93109d90b2\" y=\"442.08\"/>\r\n      </g>\r\n     </g>\r\n     <g id=\"text_2\">\r\n      <!-- Probability that the applicant pays knowing he wants to improve her skills, he is a male, and he is invited by a Friend -->\r\n      <g transform=\"translate(660.6125 1035.164375)rotate(-90)scale(0.1 -0.1)\">\r\n       <use xlink:href=\"#DejaVuSans-80\"/>\r\n       <use x=\"58.552734\" xlink:href=\"#DejaVuSans-114\"/>\r\n       <use x=\"97.416016\" xlink:href=\"#DejaVuSans-111\"/>\r\n       <use x=\"158.597656\" xlink:href=\"#DejaVuSans-98\"/>\r\n       <use x=\"222.074219\" xlink:href=\"#DejaVuSans-97\"/>\r\n       <use x=\"283.353516\" xlink:href=\"#DejaVuSans-98\"/>\r\n       <use x=\"346.830078\" xlink:href=\"#DejaVuSans-105\"/>\r\n       <use x=\"374.613281\" xlink:href=\"#DejaVuSans-108\"/>\r\n       <use x=\"402.396484\" xlink:href=\"#DejaVuSans-105\"/>\r\n       <use x=\"430.179688\" xlink:href=\"#DejaVuSans-116\"/>\r\n       <use x=\"469.388672\" xlink:href=\"#DejaVuSans-121\"/>\r\n       <use x=\"528.568359\" xlink:href=\"#DejaVuSans-32\"/>\r\n       <use x=\"560.355469\" xlink:href=\"#DejaVuSans-116\"/>\r\n       <use x=\"599.564453\" xlink:href=\"#DejaVuSans-104\"/>\r\n       <use x=\"662.943359\" xlink:href=\"#DejaVuSans-97\"/>\r\n       <use x=\"724.222656\" xlink:href=\"#DejaVuSans-116\"/>\r\n       <use x=\"763.431641\" xlink:href=\"#DejaVuSans-32\"/>\r\n       <use x=\"795.21875\" xlink:href=\"#DejaVuSans-116\"/>\r\n       <use x=\"834.427734\" xlink:href=\"#DejaVuSans-104\"/>\r\n       <use x=\"897.806641\" xlink:href=\"#DejaVuSans-101\"/>\r\n       <use x=\"959.330078\" xlink:href=\"#DejaVuSans-32\"/>\r\n       <use x=\"991.117188\" xlink:href=\"#DejaVuSans-97\"/>\r\n       <use x=\"1052.396484\" xlink:href=\"#DejaVuSans-112\"/>\r\n       <use x=\"1115.873047\" xlink:href=\"#DejaVuSans-112\"/>\r\n       <use x=\"1179.349609\" xlink:href=\"#DejaVuSans-108\"/>\r\n       <use x=\"1207.132812\" xlink:href=\"#DejaVuSans-105\"/>\r\n       <use x=\"1234.916016\" xlink:href=\"#DejaVuSans-99\"/>\r\n       <use x=\"1289.896484\" xlink:href=\"#DejaVuSans-97\"/>\r\n       <use x=\"1351.175781\" xlink:href=\"#DejaVuSans-110\"/>\r\n       <use x=\"1414.554688\" xlink:href=\"#DejaVuSans-116\"/>\r\n       <use x=\"1453.763672\" xlink:href=\"#DejaVuSans-32\"/>\r\n       <use x=\"1485.550781\" xlink:href=\"#DejaVuSans-112\"/>\r\n       <use x=\"1549.027344\" xlink:href=\"#DejaVuSans-97\"/>\r\n       <use x=\"1610.306641\" xlink:href=\"#DejaVuSans-121\"/>\r\n       <use x=\"1669.486328\" xlink:href=\"#DejaVuSans-115\"/>\r\n       <use x=\"1721.585938\" xlink:href=\"#DejaVuSans-32\"/>\r\n       <use x=\"1753.373047\" xlink:href=\"#DejaVuSans-107\"/>\r\n       <use x=\"1811.283203\" xlink:href=\"#DejaVuSans-110\"/>\r\n       <use x=\"1874.662109\" xlink:href=\"#DejaVuSans-111\"/>\r\n       <use x=\"1935.84375\" xlink:href=\"#DejaVuSans-119\"/>\r\n       <use x=\"2017.630859\" xlink:href=\"#DejaVuSans-105\"/>\r\n       <use x=\"2045.414062\" xlink:href=\"#DejaVuSans-110\"/>\r\n       <use x=\"2108.792969\" xlink:href=\"#DejaVuSans-103\"/>\r\n       <use x=\"2172.269531\" xlink:href=\"#DejaVuSans-32\"/>\r\n       <use x=\"2204.056641\" xlink:href=\"#DejaVuSans-104\"/>\r\n       <use x=\"2267.435547\" xlink:href=\"#DejaVuSans-101\"/>\r\n       <use x=\"2328.958984\" xlink:href=\"#DejaVuSans-32\"/>\r\n       <use x=\"2360.746094\" xlink:href=\"#DejaVuSans-119\"/>\r\n       <use x=\"2442.533203\" xlink:href=\"#DejaVuSans-97\"/>\r\n       <use x=\"2503.8125\" xlink:href=\"#DejaVuSans-110\"/>\r\n       <use x=\"2567.191406\" xlink:href=\"#DejaVuSans-116\"/>\r\n       <use x=\"2606.400391\" xlink:href=\"#DejaVuSans-115\"/>\r\n       <use x=\"2658.5\" xlink:href=\"#DejaVuSans-32\"/>\r\n       <use x=\"2690.287109\" xlink:href=\"#DejaVuSans-116\"/>\r\n       <use x=\"2729.496094\" xlink:href=\"#DejaVuSans-111\"/>\r\n       <use x=\"2790.677734\" xlink:href=\"#DejaVuSans-32\"/>\r\n       <use x=\"2822.464844\" xlink:href=\"#DejaVuSans-105\"/>\r\n       <use x=\"2850.248047\" xlink:href=\"#DejaVuSans-109\"/>\r\n       <use x=\"2947.660156\" xlink:href=\"#DejaVuSans-112\"/>\r\n       <use x=\"3011.136719\" xlink:href=\"#DejaVuSans-114\"/>\r\n       <use x=\"3050\" xlink:href=\"#DejaVuSans-111\"/>\r\n       <use x=\"3111.181641\" xlink:href=\"#DejaVuSans-118\"/>\r\n       <use x=\"3170.361328\" xlink:href=\"#DejaVuSans-101\"/>\r\n       <use x=\"3231.884766\" xlink:href=\"#DejaVuSans-32\"/>\r\n       <use x=\"3263.671875\" xlink:href=\"#DejaVuSans-104\"/>\r\n       <use x=\"3327.050781\" xlink:href=\"#DejaVuSans-101\"/>\r\n       <use x=\"3388.574219\" xlink:href=\"#DejaVuSans-114\"/>\r\n       <use x=\"3429.6875\" xlink:href=\"#DejaVuSans-32\"/>\r\n       <use x=\"3461.474609\" xlink:href=\"#DejaVuSans-115\"/>\r\n       <use x=\"3513.574219\" xlink:href=\"#DejaVuSans-107\"/>\r\n       <use x=\"3571.484375\" xlink:href=\"#DejaVuSans-105\"/>\r\n       <use x=\"3599.267578\" xlink:href=\"#DejaVuSans-108\"/>\r\n       <use x=\"3627.050781\" xlink:href=\"#DejaVuSans-108\"/>\r\n       <use x=\"3654.833984\" xlink:href=\"#DejaVuSans-115\"/>\r\n       <use x=\"3706.933594\" xlink:href=\"#DejaVuSans-44\"/>\r\n       <use x=\"3738.720703\" xlink:href=\"#DejaVuSans-32\"/>\r\n       <use x=\"3770.507812\" xlink:href=\"#DejaVuSans-104\"/>\r\n       <use x=\"3833.886719\" xlink:href=\"#DejaVuSans-101\"/>\r\n       <use x=\"3895.410156\" xlink:href=\"#DejaVuSans-32\"/>\r\n       <use x=\"3927.197266\" xlink:href=\"#DejaVuSans-105\"/>\r\n       <use x=\"3954.980469\" xlink:href=\"#DejaVuSans-115\"/>\r\n       <use x=\"4007.080078\" xlink:href=\"#DejaVuSans-32\"/>\r\n       <use x=\"4038.867188\" xlink:href=\"#DejaVuSans-97\"/>\r\n       <use x=\"4100.146484\" xlink:href=\"#DejaVuSans-32\"/>\r\n       <use x=\"4131.933594\" xlink:href=\"#DejaVuSans-109\"/>\r\n       <use x=\"4229.345703\" xlink:href=\"#DejaVuSans-97\"/>\r\n       <use x=\"4290.625\" xlink:href=\"#DejaVuSans-108\"/>\r\n       <use x=\"4318.408203\" xlink:href=\"#DejaVuSans-101\"/>\r\n       <use x=\"4379.931641\" xlink:href=\"#DejaVuSans-44\"/>\r\n       <use x=\"4411.71875\" xlink:href=\"#DejaVuSans-32\"/>\r\n       <use x=\"4443.505859\" xlink:href=\"#DejaVuSans-97\"/>\r\n       <use x=\"4504.785156\" xlink:href=\"#DejaVuSans-110\"/>\r\n       <use x=\"4568.164062\" xlink:href=\"#DejaVuSans-100\"/>\r\n       <use x=\"4631.640625\" xlink:href=\"#DejaVuSans-32\"/>\r\n       <use x=\"4663.427734\" xlink:href=\"#DejaVuSans-104\"/>\r\n       <use x=\"4726.806641\" xlink:href=\"#DejaVuSans-101\"/>\r\n       <use x=\"4788.330078\" xlink:href=\"#DejaVuSans-32\"/>\r\n       <use x=\"4820.117188\" xlink:href=\"#DejaVuSans-105\"/>\r\n       <use x=\"4847.900391\" xlink:href=\"#DejaVuSans-115\"/>\r\n       <use x=\"4900\" xlink:href=\"#DejaVuSans-32\"/>\r\n       <use x=\"4931.787109\" xlink:href=\"#DejaVuSans-105\"/>\r\n       <use x=\"4959.570312\" xlink:href=\"#DejaVuSans-110\"/>\r\n       <use x=\"5022.949219\" xlink:href=\"#DejaVuSans-118\"/>\r\n       <use x=\"5082.128906\" xlink:href=\"#DejaVuSans-105\"/>\r\n       <use x=\"5109.912109\" xlink:href=\"#DejaVuSans-116\"/>\r\n       <use x=\"5149.121094\" xlink:href=\"#DejaVuSans-101\"/>\r\n       <use x=\"5210.644531\" xlink:href=\"#DejaVuSans-100\"/>\r\n       <use x=\"5274.121094\" xlink:href=\"#DejaVuSans-32\"/>\r\n       <use x=\"5305.908203\" xlink:href=\"#DejaVuSans-98\"/>\r\n       <use x=\"5369.384766\" xlink:href=\"#DejaVuSans-121\"/>\r\n       <use x=\"5428.564453\" xlink:href=\"#DejaVuSans-32\"/>\r\n       <use x=\"5460.351562\" xlink:href=\"#DejaVuSans-97\"/>\r\n       <use x=\"5521.630859\" xlink:href=\"#DejaVuSans-32\"/>\r\n       <use x=\"5553.417969\" xlink:href=\"#DejaVuSans-70\"/>\r\n       <use x=\"5603.6875\" xlink:href=\"#DejaVuSans-114\"/>\r\n       <use x=\"5644.800781\" xlink:href=\"#DejaVuSans-105\"/>\r\n       <use x=\"5672.583984\" xlink:href=\"#DejaVuSans-101\"/>\r\n       <use x=\"5734.107422\" xlink:href=\"#DejaVuSans-110\"/>\r\n       <use x=\"5797.486328\" xlink:href=\"#DejaVuSans-100\"/>\r\n      </g>\r\n     </g>\r\n    </g>\r\n   </g>\r\n   <g id=\"matplotlib.axis_2\">\r\n    <g id=\"ytick_1\">\r\n     <g id=\"line2d_3\">\r\n      <defs>\r\n       <path d=\"M 0 0 \r\nL -3.5 0 \r\n\" id=\"maf1ef756f3\" style=\"stroke:#000000;stroke-width:0.8;\"/>\r\n      </defs>\r\n      <g>\r\n       <use style=\"stroke:#000000;stroke-width:0.8;\" x=\"30.103125\" xlink:href=\"#maf1ef756f3\" y=\"442.08\"/>\r\n      </g>\r\n     </g>\r\n     <g id=\"text_3\">\r\n      <!-- 0.0 -->\r\n      <g transform=\"translate(7.2 445.879219)scale(0.1 -0.1)\">\r\n       <defs>\r\n        <path d=\"M 31.78125 66.40625 \r\nQ 24.171875 66.40625 20.328125 58.90625 \r\nQ 16.5 51.421875 16.5 36.375 \r\nQ 16.5 21.390625 20.328125 13.890625 \r\nQ 24.171875 6.390625 31.78125 6.390625 \r\nQ 39.453125 6.390625 43.28125 13.890625 \r\nQ 47.125 21.390625 47.125 36.375 \r\nQ 47.125 51.421875 43.28125 58.90625 \r\nQ 39.453125 66.40625 31.78125 66.40625 \r\nz\r\nM 31.78125 74.21875 \r\nQ 44.046875 74.21875 50.515625 64.515625 \r\nQ 56.984375 54.828125 56.984375 36.375 \r\nQ 56.984375 17.96875 50.515625 8.265625 \r\nQ 44.046875 -1.421875 31.78125 -1.421875 \r\nQ 19.53125 -1.421875 13.0625 8.265625 \r\nQ 6.59375 17.96875 6.59375 36.375 \r\nQ 6.59375 54.828125 13.0625 64.515625 \r\nQ 19.53125 74.21875 31.78125 74.21875 \r\nz\r\n\" id=\"DejaVuSans-48\"/>\r\n        <path d=\"M 10.6875 12.40625 \r\nL 21 12.40625 \r\nL 21 0 \r\nL 10.6875 0 \r\nz\r\n\" id=\"DejaVuSans-46\"/>\r\n       </defs>\r\n       <use xlink:href=\"#DejaVuSans-48\"/>\r\n       <use x=\"63.623047\" xlink:href=\"#DejaVuSans-46\"/>\r\n       <use x=\"95.410156\" xlink:href=\"#DejaVuSans-48\"/>\r\n      </g>\r\n     </g>\r\n    </g>\r\n    <g id=\"ytick_2\">\r\n     <g id=\"line2d_4\">\r\n      <g>\r\n       <use style=\"stroke:#000000;stroke-width:0.8;\" x=\"30.103125\" xlink:href=\"#maf1ef756f3\" y=\"386.110888\"/>\r\n      </g>\r\n     </g>\r\n     <g id=\"text_4\">\r\n      <!-- 0.1 -->\r\n      <g transform=\"translate(7.2 389.910107)scale(0.1 -0.1)\">\r\n       <defs>\r\n        <path d=\"M 12.40625 8.296875 \r\nL 28.515625 8.296875 \r\nL 28.515625 63.921875 \r\nL 10.984375 60.40625 \r\nL 10.984375 69.390625 \r\nL 28.421875 72.90625 \r\nL 38.28125 72.90625 \r\nL 38.28125 8.296875 \r\nL 54.390625 8.296875 \r\nL 54.390625 0 \r\nL 12.40625 0 \r\nz\r\n\" id=\"DejaVuSans-49\"/>\r\n       </defs>\r\n       <use xlink:href=\"#DejaVuSans-48\"/>\r\n       <use x=\"63.623047\" xlink:href=\"#DejaVuSans-46\"/>\r\n       <use x=\"95.410156\" xlink:href=\"#DejaVuSans-49\"/>\r\n      </g>\r\n     </g>\r\n    </g>\r\n    <g id=\"ytick_3\">\r\n     <g id=\"line2d_5\">\r\n      <g>\r\n       <use style=\"stroke:#000000;stroke-width:0.8;\" x=\"30.103125\" xlink:href=\"#maf1ef756f3\" y=\"330.141776\"/>\r\n      </g>\r\n     </g>\r\n     <g id=\"text_5\">\r\n      <!-- 0.2 -->\r\n      <g transform=\"translate(7.2 333.940995)scale(0.1 -0.1)\">\r\n       <defs>\r\n        <path d=\"M 19.1875 8.296875 \r\nL 53.609375 8.296875 \r\nL 53.609375 0 \r\nL 7.328125 0 \r\nL 7.328125 8.296875 \r\nQ 12.9375 14.109375 22.625 23.890625 \r\nQ 32.328125 33.6875 34.8125 36.53125 \r\nQ 39.546875 41.84375 41.421875 45.53125 \r\nQ 43.3125 49.21875 43.3125 52.78125 \r\nQ 43.3125 58.59375 39.234375 62.25 \r\nQ 35.15625 65.921875 28.609375 65.921875 \r\nQ 23.96875 65.921875 18.8125 64.3125 \r\nQ 13.671875 62.703125 7.8125 59.421875 \r\nL 7.8125 69.390625 \r\nQ 13.765625 71.78125 18.9375 73 \r\nQ 24.125 74.21875 28.421875 74.21875 \r\nQ 39.75 74.21875 46.484375 68.546875 \r\nQ 53.21875 62.890625 53.21875 53.421875 \r\nQ 53.21875 48.921875 51.53125 44.890625 \r\nQ 49.859375 40.875 45.40625 35.40625 \r\nQ 44.1875 33.984375 37.640625 27.21875 \r\nQ 31.109375 20.453125 19.1875 8.296875 \r\nz\r\n\" id=\"DejaVuSans-50\"/>\r\n       </defs>\r\n       <use xlink:href=\"#DejaVuSans-48\"/>\r\n       <use x=\"63.623047\" xlink:href=\"#DejaVuSans-46\"/>\r\n       <use x=\"95.410156\" xlink:href=\"#DejaVuSans-50\"/>\r\n      </g>\r\n     </g>\r\n    </g>\r\n    <g id=\"ytick_4\">\r\n     <g id=\"line2d_6\">\r\n      <g>\r\n       <use style=\"stroke:#000000;stroke-width:0.8;\" x=\"30.103125\" xlink:href=\"#maf1ef756f3\" y=\"274.172664\"/>\r\n      </g>\r\n     </g>\r\n     <g id=\"text_6\">\r\n      <!-- 0.3 -->\r\n      <g transform=\"translate(7.2 277.971883)scale(0.1 -0.1)\">\r\n       <defs>\r\n        <path d=\"M 40.578125 39.3125 \r\nQ 47.65625 37.796875 51.625 33 \r\nQ 55.609375 28.21875 55.609375 21.1875 \r\nQ 55.609375 10.40625 48.1875 4.484375 \r\nQ 40.765625 -1.421875 27.09375 -1.421875 \r\nQ 22.515625 -1.421875 17.65625 -0.515625 \r\nQ 12.796875 0.390625 7.625 2.203125 \r\nL 7.625 11.71875 \r\nQ 11.71875 9.328125 16.59375 8.109375 \r\nQ 21.484375 6.890625 26.8125 6.890625 \r\nQ 36.078125 6.890625 40.9375 10.546875 \r\nQ 45.796875 14.203125 45.796875 21.1875 \r\nQ 45.796875 27.640625 41.28125 31.265625 \r\nQ 36.765625 34.90625 28.71875 34.90625 \r\nL 20.21875 34.90625 \r\nL 20.21875 43.015625 \r\nL 29.109375 43.015625 \r\nQ 36.375 43.015625 40.234375 45.921875 \r\nQ 44.09375 48.828125 44.09375 54.296875 \r\nQ 44.09375 59.90625 40.109375 62.90625 \r\nQ 36.140625 65.921875 28.71875 65.921875 \r\nQ 24.65625 65.921875 20.015625 65.03125 \r\nQ 15.375 64.15625 9.8125 62.3125 \r\nL 9.8125 71.09375 \r\nQ 15.4375 72.65625 20.34375 73.4375 \r\nQ 25.25 74.21875 29.59375 74.21875 \r\nQ 40.828125 74.21875 47.359375 69.109375 \r\nQ 53.90625 64.015625 53.90625 55.328125 \r\nQ 53.90625 49.265625 50.4375 45.09375 \r\nQ 46.96875 40.921875 40.578125 39.3125 \r\nz\r\n\" id=\"DejaVuSans-51\"/>\r\n       </defs>\r\n       <use xlink:href=\"#DejaVuSans-48\"/>\r\n       <use x=\"63.623047\" xlink:href=\"#DejaVuSans-46\"/>\r\n       <use x=\"95.410156\" xlink:href=\"#DejaVuSans-51\"/>\r\n      </g>\r\n     </g>\r\n    </g>\r\n    <g id=\"ytick_5\">\r\n     <g id=\"line2d_7\">\r\n      <g>\r\n       <use style=\"stroke:#000000;stroke-width:0.8;\" x=\"30.103125\" xlink:href=\"#maf1ef756f3\" y=\"218.203552\"/>\r\n      </g>\r\n     </g>\r\n     <g id=\"text_7\">\r\n      <!-- 0.4 -->\r\n      <g transform=\"translate(7.2 222.002771)scale(0.1 -0.1)\">\r\n       <defs>\r\n        <path d=\"M 37.796875 64.3125 \r\nL 12.890625 25.390625 \r\nL 37.796875 25.390625 \r\nz\r\nM 35.203125 72.90625 \r\nL 47.609375 72.90625 \r\nL 47.609375 25.390625 \r\nL 58.015625 25.390625 \r\nL 58.015625 17.1875 \r\nL 47.609375 17.1875 \r\nL 47.609375 0 \r\nL 37.796875 0 \r\nL 37.796875 17.1875 \r\nL 4.890625 17.1875 \r\nL 4.890625 26.703125 \r\nz\r\n\" id=\"DejaVuSans-52\"/>\r\n       </defs>\r\n       <use xlink:href=\"#DejaVuSans-48\"/>\r\n       <use x=\"63.623047\" xlink:href=\"#DejaVuSans-46\"/>\r\n       <use x=\"95.410156\" xlink:href=\"#DejaVuSans-52\"/>\r\n      </g>\r\n     </g>\r\n    </g>\r\n    <g id=\"ytick_6\">\r\n     <g id=\"line2d_8\">\r\n      <g>\r\n       <use style=\"stroke:#000000;stroke-width:0.8;\" x=\"30.103125\" xlink:href=\"#maf1ef756f3\" y=\"162.23444\"/>\r\n      </g>\r\n     </g>\r\n     <g id=\"text_8\">\r\n      <!-- 0.5 -->\r\n      <g transform=\"translate(7.2 166.033659)scale(0.1 -0.1)\">\r\n       <defs>\r\n        <path d=\"M 10.796875 72.90625 \r\nL 49.515625 72.90625 \r\nL 49.515625 64.59375 \r\nL 19.828125 64.59375 \r\nL 19.828125 46.734375 \r\nQ 21.96875 47.46875 24.109375 47.828125 \r\nQ 26.265625 48.1875 28.421875 48.1875 \r\nQ 40.625 48.1875 47.75 41.5 \r\nQ 54.890625 34.8125 54.890625 23.390625 \r\nQ 54.890625 11.625 47.5625 5.09375 \r\nQ 40.234375 -1.421875 26.90625 -1.421875 \r\nQ 22.3125 -1.421875 17.546875 -0.640625 \r\nQ 12.796875 0.140625 7.71875 1.703125 \r\nL 7.71875 11.625 \r\nQ 12.109375 9.234375 16.796875 8.0625 \r\nQ 21.484375 6.890625 26.703125 6.890625 \r\nQ 35.15625 6.890625 40.078125 11.328125 \r\nQ 45.015625 15.765625 45.015625 23.390625 \r\nQ 45.015625 31 40.078125 35.4375 \r\nQ 35.15625 39.890625 26.703125 39.890625 \r\nQ 22.75 39.890625 18.8125 39.015625 \r\nQ 14.890625 38.140625 10.796875 36.28125 \r\nz\r\n\" id=\"DejaVuSans-53\"/>\r\n       </defs>\r\n       <use xlink:href=\"#DejaVuSans-48\"/>\r\n       <use x=\"63.623047\" xlink:href=\"#DejaVuSans-46\"/>\r\n       <use x=\"95.410156\" xlink:href=\"#DejaVuSans-53\"/>\r\n      </g>\r\n     </g>\r\n    </g>\r\n    <g id=\"ytick_7\">\r\n     <g id=\"line2d_9\">\r\n      <g>\r\n       <use style=\"stroke:#000000;stroke-width:0.8;\" x=\"30.103125\" xlink:href=\"#maf1ef756f3\" y=\"106.265328\"/>\r\n      </g>\r\n     </g>\r\n     <g id=\"text_9\">\r\n      <!-- 0.6 -->\r\n      <g transform=\"translate(7.2 110.064547)scale(0.1 -0.1)\">\r\n       <defs>\r\n        <path d=\"M 33.015625 40.375 \r\nQ 26.375 40.375 22.484375 35.828125 \r\nQ 18.609375 31.296875 18.609375 23.390625 \r\nQ 18.609375 15.53125 22.484375 10.953125 \r\nQ 26.375 6.390625 33.015625 6.390625 \r\nQ 39.65625 6.390625 43.53125 10.953125 \r\nQ 47.40625 15.53125 47.40625 23.390625 \r\nQ 47.40625 31.296875 43.53125 35.828125 \r\nQ 39.65625 40.375 33.015625 40.375 \r\nz\r\nM 52.59375 71.296875 \r\nL 52.59375 62.3125 \r\nQ 48.875 64.0625 45.09375 64.984375 \r\nQ 41.3125 65.921875 37.59375 65.921875 \r\nQ 27.828125 65.921875 22.671875 59.328125 \r\nQ 17.53125 52.734375 16.796875 39.40625 \r\nQ 19.671875 43.65625 24.015625 45.921875 \r\nQ 28.375 48.1875 33.59375 48.1875 \r\nQ 44.578125 48.1875 50.953125 41.515625 \r\nQ 57.328125 34.859375 57.328125 23.390625 \r\nQ 57.328125 12.15625 50.6875 5.359375 \r\nQ 44.046875 -1.421875 33.015625 -1.421875 \r\nQ 20.359375 -1.421875 13.671875 8.265625 \r\nQ 6.984375 17.96875 6.984375 36.375 \r\nQ 6.984375 53.65625 15.1875 63.9375 \r\nQ 23.390625 74.21875 37.203125 74.21875 \r\nQ 40.921875 74.21875 44.703125 73.484375 \r\nQ 48.484375 72.75 52.59375 71.296875 \r\nz\r\n\" id=\"DejaVuSans-54\"/>\r\n       </defs>\r\n       <use xlink:href=\"#DejaVuSans-48\"/>\r\n       <use x=\"63.623047\" xlink:href=\"#DejaVuSans-46\"/>\r\n       <use x=\"95.410156\" xlink:href=\"#DejaVuSans-54\"/>\r\n      </g>\r\n     </g>\r\n    </g>\r\n    <g id=\"ytick_8\">\r\n     <g id=\"line2d_10\">\r\n      <g>\r\n       <use style=\"stroke:#000000;stroke-width:0.8;\" x=\"30.103125\" xlink:href=\"#maf1ef756f3\" y=\"50.296216\"/>\r\n      </g>\r\n     </g>\r\n     <g id=\"text_10\">\r\n      <!-- 0.7 -->\r\n      <g transform=\"translate(7.2 54.095435)scale(0.1 -0.1)\">\r\n       <defs>\r\n        <path d=\"M 8.203125 72.90625 \r\nL 55.078125 72.90625 \r\nL 55.078125 68.703125 \r\nL 28.609375 0 \r\nL 18.3125 0 \r\nL 43.21875 64.59375 \r\nL 8.203125 64.59375 \r\nz\r\n\" id=\"DejaVuSans-55\"/>\r\n       </defs>\r\n       <use xlink:href=\"#DejaVuSans-48\"/>\r\n       <use x=\"63.623047\" xlink:href=\"#DejaVuSans-46\"/>\r\n       <use x=\"95.410156\" xlink:href=\"#DejaVuSans-55\"/>\r\n      </g>\r\n     </g>\r\n    </g>\r\n   </g>\r\n   <g id=\"patch_5\">\r\n    <path d=\"M 30.103125 442.08 \r\nL 30.103125 7.2 \r\n\" style=\"fill:none;stroke:#000000;stroke-linecap:square;stroke-linejoin:miter;stroke-width:0.8;\"/>\r\n   </g>\r\n   <g id=\"patch_6\">\r\n    <path d=\"M 867.103125 442.08 \r\nL 867.103125 7.2 \r\n\" style=\"fill:none;stroke:#000000;stroke-linecap:square;stroke-linejoin:miter;stroke-width:0.8;\"/>\r\n   </g>\r\n   <g id=\"patch_7\">\r\n    <path d=\"M 30.103125 442.08 \r\nL 867.103125 442.08 \r\n\" style=\"fill:none;stroke:#000000;stroke-linecap:square;stroke-linejoin:miter;stroke-width:0.8;\"/>\r\n   </g>\r\n   <g id=\"patch_8\">\r\n    <path d=\"M 30.103125 7.2 \r\nL 867.103125 7.2 \r\n\" style=\"fill:none;stroke:#000000;stroke-linecap:square;stroke-linejoin:miter;stroke-width:0.8;\"/>\r\n   </g>\r\n  </g>\r\n </g>\r\n <defs>\r\n  <clipPath id=\"pabd7cf60aa\">\r\n   <rect height=\"434.88\" width=\"837\" x=\"30.103125\" y=\"7.2\"/>\r\n  </clipPath>\r\n </defs>\r\n</svg>\r\n",
      "image/png": "[encoded data removed]"
     },
     "metadata": {
      "needs_background": "light"
     }
    }
   ],
   "metadata": {}
  },
  {
   "cell_type": "code",
   "execution_count": null,
   "source": [
    "\r\n"
   ],
   "outputs": [],
   "metadata": {}
  },
  {
   "cell_type": "markdown",
   "source": [
    "### Based on these findings, propose strategies to increase our sales?"
   ],
   "metadata": {}
  },
  {
   "cell_type": "code",
   "execution_count": 61,
   "source": [
    "#here your codes"
   ],
   "outputs": [],
   "metadata": {}
  },
  {
   "cell_type": "markdown",
   "source": [],
   "metadata": {}
  }
 ],
 "metadata": {
  "interpreter": {
   "hash": "b3ba2566441a7c06988d0923437866b63cedc61552a5af99d1f4fb67d367b25f"
  },
  "kernelspec": {
   "name": "python3",
   "display_name": "Python 3.8.5 64-bit ('base': conda)"
  },
  "language_info": {
   "codemirror_mode": {
    "name": "ipython",
    "version": 3
   },
   "file_extension": ".py",
   "mimetype": "text/x-python",
   "name": "python",
   "nbconvert_exporter": "python",
   "pygments_lexer": "ipython3",
   "version": "3.8.5"
  },
  "orig_nbformat": 4
 },
 "nbformat": 4,
 "nbformat_minor": 2
}