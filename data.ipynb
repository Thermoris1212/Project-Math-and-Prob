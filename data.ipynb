{
 "cells": [
  {
   "cell_type": "code",
   "execution_count": 139,
   "metadata": {},
   "outputs": [],
   "source": [
    "import numpy as np\r\n",
    "import pandas as pd\r\n",
    "import matplotlib.pyplot as plt\r\n",
    "import datetime as dt\r\n",
    "import seaborn as sns"
   ]
  },
  {
   "cell_type": "code",
   "execution_count": 140,
   "metadata": {},
   "outputs": [],
   "source": [
    "# reading files\r\n",
    "commune=pd.read_excel(r\"commune.xlsx\")\r\n",
    "enroll = pd.read_csv(r\"enroll.csv\")\r\n",
    "quest = pd.read_csv(r\"quest.csv\")\r\n",
    "industry = pd.read_csv(r\"industry.csv\")\r\n",
    "ord = pd.read_csv(r\"ord.csv\")\r\n",
    "study_domain = pd.read_csv(r\"study_domain.csv\")\r\n",
    "transaction = pd.read_csv(r\"transaction.csv\")\r\n",
    "technology = pd.read_csv(r\"technology.csv\")"
   ]
  },
  {
   "cell_type": "code",
   "execution_count": 197,
   "metadata": {},
   "outputs": [
    {
     "data": {
      "text/html": [
       "<div>\n",
       "<style scoped>\n",
       "    .dataframe tbody tr th:only-of-type {\n",
       "        vertical-align: middle;\n",
       "    }\n",
       "\n",
       "    .dataframe tbody tr th {\n",
       "        vertical-align: top;\n",
       "    }\n",
       "\n",
       "    .dataframe thead th {\n",
       "        text-align: right;\n",
       "    }\n",
       "</style>\n",
       "<table border=\"1\" class=\"dataframe\">\n",
       "  <thead>\n",
       "    <tr style=\"text-align: right;\">\n",
       "      <th></th>\n",
       "      <th>Commune_en</th>\n",
       "      <th>Commune_FR</th>\n",
       "      <th>commune</th>\n",
       "      <th>Departement</th>\n",
       "      <th>ADM1_PCODE</th>\n",
       "    </tr>\n",
       "  </thead>\n",
       "  <tbody>\n",
       "    <tr>\n",
       "      <th>0</th>\n",
       "      <td>Abricots</td>\n",
       "      <td>Abricots</td>\n",
       "      <td>ht0812</td>\n",
       "      <td>Grande'Anse</td>\n",
       "      <td>HT08</td>\n",
       "    </tr>\n",
       "    <tr>\n",
       "      <th>1</th>\n",
       "      <td>Acul du Nord</td>\n",
       "      <td>Acul du Nord</td>\n",
       "      <td>ht0321</td>\n",
       "      <td>North</td>\n",
       "      <td>HT03</td>\n",
       "    </tr>\n",
       "    <tr>\n",
       "      <th>2</th>\n",
       "      <td>Anse-a-Foleur</td>\n",
       "      <td>Anse-à-Foleur</td>\n",
       "      <td>ht0922</td>\n",
       "      <td>North-West</td>\n",
       "      <td>HT09</td>\n",
       "    </tr>\n",
       "    <tr>\n",
       "      <th>3</th>\n",
       "      <td>Anse-a-Pitre</td>\n",
       "      <td>Anse-à-Pître</td>\n",
       "      <td>ht0234</td>\n",
       "      <td>South-East</td>\n",
       "      <td>HT02</td>\n",
       "    </tr>\n",
       "    <tr>\n",
       "      <th>4</th>\n",
       "      <td>Anse-a-Veau</td>\n",
       "      <td>Anse-à-Veau</td>\n",
       "      <td>ht1021</td>\n",
       "      <td>Nippes</td>\n",
       "      <td>HT10</td>\n",
       "    </tr>\n",
       "  </tbody>\n",
       "</table>\n",
       "</div>"
      ],
      "text/plain": [
       "      Commune_en     Commune_FR commune  Departement ADM1_PCODE\n",
       "0       Abricots       Abricots  ht0812  Grande'Anse       HT08\n",
       "1   Acul du Nord   Acul du Nord  ht0321        North       HT03\n",
       "2  Anse-a-Foleur  Anse-à-Foleur  ht0922   North-West       HT09\n",
       "3   Anse-a-Pitre   Anse-à-Pître  ht0234   South-East       HT02\n",
       "4    Anse-a-Veau    Anse-à-Veau  ht1021       Nippes       HT10"
      ]
     },
     "execution_count": 197,
     "metadata": {},
     "output_type": "execute_result"
    }
   ],
   "source": [
    "commune.head()"
   ]
  },
  {
   "cell_type": "markdown",
   "metadata": {},
   "source": [
    "Use all the files to have a final datasets to have the following columns\r\n",
    "   <ul>\r\n",
    "    <li>questid</li>\r\n",
    "    <li>gender</li>\r\n",
    "    <li>age (age of applicant)</li>\r\n",
    "    <li>communeName (use data prep in commune file)</li>\r\n",
    "    <li>application_date (created at in quest file)</li>\r\n",
    "    <li>enroll_date (created_at in enroll file)</li>\r\n",
    "    <li>is_enroll (Yes/No) (use data prep in enroll file)</li>\r\n",
    "    <li>Education Level</li>\r\n",
    "   <li>Communication channels(hear_AA1)</li>\r\n",
    "    <li>Bootcamp Insterest (after_AA)</li>\r\n",
    "    <li>Payement Date (use ord and transaction files)</li>\r\n",
    "    <li>Payed (Yes/No)</li>\r\n",
    "    <li>list Technologies as columns based (use get_dummies)</li>\r\n",
    "    <li>list  Study domains (use get_dummies)</li>\r\n",
    "    <li>Job is formal</li>\r\n",
    "    <li>Have computer at home</li>\r\n",
    "    <li>Have internet at home</li>\r\n",
    "    \r\n",
    "   </ul>\r\n",
    "   "
   ]
  },
  {
   "cell_type": "markdown",
   "metadata": {},
   "source": [
    "## Data Processing"
   ]
  },
  {
   "cell_type": "code",
   "execution_count": 156,
   "metadata": {},
   "outputs": [],
   "source": [
    "# list  Study domains (use get_dummies)\r\n",
    "study_domainok1 = pd.get_dummies(data=study_domain[[\"key\", \"quest_id\", \"values\"]], columns=['values'], prefix=\"\", prefix_sep=\"\")\r\n",
    "study_domainok2 = study_domainok1.groupby(\"quest_id\").sum()"
   ]
  },
  {
   "cell_type": "code",
   "execution_count": 157,
   "metadata": {},
   "outputs": [],
   "source": [
    "#list Technologies as columns based (use get_dummies)\r\n",
    "technologyok1 = pd.get_dummies(technology[[\"key\", \"quest_id\", \"values\"]], columns=['values'], prefix=\"\", prefix_sep=\"\")\r\n",
    "technologyok2 = technologyok1.groupby(\"quest_id\").sum()"
   ]
  },
  {
   "cell_type": "code",
   "execution_count": 143,
   "metadata": {},
   "outputs": [],
   "source": [
    "# list industry (use get_dummies)\r\n",
    "industryok1= pd.get_dummies(industry[[\"key\", \"quest_id\", \"values\"]], columns=['values'], prefix=\"\", prefix_sep=\"\")\r\n",
    "industryok2= industryok1.groupby(\"quest_id\").sum()"
   ]
  },
  {
   "cell_type": "code",
   "execution_count": 188,
   "metadata": {},
   "outputs": [],
   "source": [
    "# Merge Tables by \"quest_id\"\r\n",
    "resultok=pd.merge(left=quest, right=enroll[[\"user_id\",\"percentage_completed\",'quest_id']], how = 'left',on='quest_id')\r\n",
    "resultok1=pd.merge(left=resultok, right=study_domainok2, how = 'left',on='quest_id')\r\n",
    "resultok2=pd.merge(left=resultok1, right=technologyok2, how = 'left',on='quest_id')\r\n",
    "resultok3=pd.merge(left=resultok2, right=industryok2, how = 'left',on='quest_id')\r\n"
   ]
  },
  {
   "cell_type": "code",
   "execution_count": 191,
   "metadata": {},
   "outputs": [],
   "source": [
    "#Merge \"transaction\" by \"user_id\"\r\n",
    "resultok5 = pd.merge(left=resultok4, right=transaction[['user_id','transaction_id']], how = 'left',on='user_id')\r\n",
    "#Merge \"Ord\" by \"quest_id\"\r\n",
    "resultok6 = pd.merge(left=resultok5, right=ord[['status',\"amount_dollars\",'quest_id']], how = 'left',on='quest_id')"
   ]
  },
  {
   "cell_type": "code",
   "execution_count": 198,
   "metadata": {},
   "outputs": [],
   "source": [
    "# Merge Result3 and Commune\r\n",
    "resultok7=pd.merge(left=resultok6, right=commune[[\"Commune_FR\",\"Departement\", \"commune\"]], how = 'left',on='commune')"
   ]
  },
  {
   "cell_type": "code",
   "execution_count": 203,
   "metadata": {},
   "outputs": [
    {
     "data": {
      "text/plain": [
       "(250, 59)"
      ]
     },
     "execution_count": 203,
     "metadata": {},
     "output_type": "execute_result"
    }
   ],
   "source": [
    "resultok7.shape"
   ]
  },
  {
   "cell_type": "code",
   "execution_count": 204,
   "metadata": {},
   "outputs": [
    {
     "data": {
      "text/plain": [
       "Index(['Unnamed: 0', 'gender', 'dob', 'commune', 'created_at', 'modified_at',\n",
       "       'department', 'education_level', 'university', 'study_domain',\n",
       "       'current_employed', 'formal_sector_job', 'have_computer_home',\n",
       "       'internet_at_home', 'hear_AA_1', 'after_AA', 'quest_id', 'user_id',\n",
       "       'percentage_completed', 'Accounting', 'Computer Science', 'Economics',\n",
       "       'Electrical Engineering', 'Law', 'Management', 'Medicine', 'Statistics',\n",
       "       'other_x', 'Bash_x', 'Excel_x', 'Git_x', 'Java_x', 'JavaScript_x',\n",
       "       'PHP_x', 'PowerBI or Tableau_x', 'Python_x', 'R_x', 'SQL_x', 'VBA_x',\n",
       "       'other_y', 'Bash_y', 'Excel_y', 'Git_y', 'Java_y', 'JavaScript_y',\n",
       "       'PHP_y', 'PowerBI or Tableau_y', 'Python_y', 'R_y', 'SQL_y', 'VBA_y',\n",
       "       'other', 'Commune_FR_x', 'Departement_x', 'transaction_id', 'status',\n",
       "       'amount_dollars', 'Commune_FR_y', 'Departement_y'],\n",
       "      dtype='object')"
      ]
     },
     "execution_count": 204,
     "metadata": {},
     "output_type": "execute_result"
    }
   ],
   "source": [
    "resultok7.columns"
   ]
  },
  {
   "cell_type": "code",
   "execution_count": 205,
   "metadata": {},
   "outputs": [
    {
     "data": {
      "text/html": [
       "<div>\n",
       "<style scoped>\n",
       "    .dataframe tbody tr th:only-of-type {\n",
       "        vertical-align: middle;\n",
       "    }\n",
       "\n",
       "    .dataframe tbody tr th {\n",
       "        vertical-align: top;\n",
       "    }\n",
       "\n",
       "    .dataframe thead th {\n",
       "        text-align: right;\n",
       "    }\n",
       "</style>\n",
       "<table border=\"1\" class=\"dataframe\">\n",
       "  <thead>\n",
       "    <tr style=\"text-align: right;\">\n",
       "      <th></th>\n",
       "      <th>gender</th>\n",
       "      <th>dob</th>\n",
       "      <th>commune</th>\n",
       "      <th>created_at</th>\n",
       "      <th>education_level</th>\n",
       "      <th>university</th>\n",
       "      <th>current_employed</th>\n",
       "      <th>formal_sector_job</th>\n",
       "      <th>have_computer_home</th>\n",
       "      <th>internet_at_home</th>\n",
       "      <th>...</th>\n",
       "      <th>Management</th>\n",
       "      <th>Medicine</th>\n",
       "      <th>Statistics</th>\n",
       "      <th>other_x</th>\n",
       "      <th>Commune_FR_x</th>\n",
       "      <th>Departement_x</th>\n",
       "      <th>status</th>\n",
       "      <th>amount_dollars</th>\n",
       "      <th>Commune_FR_y</th>\n",
       "      <th>Departement_y</th>\n",
       "    </tr>\n",
       "  </thead>\n",
       "  <tbody>\n",
       "    <tr>\n",
       "      <th>0</th>\n",
       "      <td>male</td>\n",
       "      <td>25/08/1998</td>\n",
       "      <td>ht0111</td>\n",
       "      <td>2021-02-14T23:03:52.768400Z</td>\n",
       "      <td>unknown</td>\n",
       "      <td>unknown</td>\n",
       "      <td>unknown</td>\n",
       "      <td>unknown</td>\n",
       "      <td>unknown</td>\n",
       "      <td>unknown</td>\n",
       "      <td>...</td>\n",
       "      <td>NaN</td>\n",
       "      <td>NaN</td>\n",
       "      <td>NaN</td>\n",
       "      <td>NaN</td>\n",
       "      <td>Port-au-Prince</td>\n",
       "      <td>West</td>\n",
       "      <td>NaN</td>\n",
       "      <td>NaN</td>\n",
       "      <td>Port-au-Prince</td>\n",
       "      <td>West</td>\n",
       "    </tr>\n",
       "    <tr>\n",
       "      <th>1</th>\n",
       "      <td>female</td>\n",
       "      <td>29/09/1996</td>\n",
       "      <td>ht0111</td>\n",
       "      <td>2021-02-16T16:01:10.861844Z</td>\n",
       "      <td>Bachelors (bacc +4)</td>\n",
       "      <td>other</td>\n",
       "      <td>No</td>\n",
       "      <td>unknown</td>\n",
       "      <td>Yes</td>\n",
       "      <td>Yes</td>\n",
       "      <td>...</td>\n",
       "      <td>0.0</td>\n",
       "      <td>0.0</td>\n",
       "      <td>0.0</td>\n",
       "      <td>1.0</td>\n",
       "      <td>Port-au-Prince</td>\n",
       "      <td>West</td>\n",
       "      <td>NaN</td>\n",
       "      <td>NaN</td>\n",
       "      <td>Port-au-Prince</td>\n",
       "      <td>West</td>\n",
       "    </tr>\n",
       "    <tr>\n",
       "      <th>2</th>\n",
       "      <td>male</td>\n",
       "      <td>17/05/1996</td>\n",
       "      <td>ht0111</td>\n",
       "      <td>2021-02-16T16:56:30.579504Z</td>\n",
       "      <td>Bachelors (bacc +4)</td>\n",
       "      <td>Université d'Etat d'Haïti (UEH)</td>\n",
       "      <td>No</td>\n",
       "      <td>unknown</td>\n",
       "      <td>Yes</td>\n",
       "      <td>Yes</td>\n",
       "      <td>...</td>\n",
       "      <td>NaN</td>\n",
       "      <td>NaN</td>\n",
       "      <td>NaN</td>\n",
       "      <td>NaN</td>\n",
       "      <td>Port-au-Prince</td>\n",
       "      <td>West</td>\n",
       "      <td>NaN</td>\n",
       "      <td>NaN</td>\n",
       "      <td>Port-au-Prince</td>\n",
       "      <td>West</td>\n",
       "    </tr>\n",
       "    <tr>\n",
       "      <th>3</th>\n",
       "      <td>male</td>\n",
       "      <td>24/11/1996</td>\n",
       "      <td>ht0111</td>\n",
       "      <td>2021-02-16T16:57:55.754541Z</td>\n",
       "      <td>Bachelors (bacc +4)</td>\n",
       "      <td>Ecole Supérieure d'Infotronique d'Haïti (ESIH)</td>\n",
       "      <td>No</td>\n",
       "      <td>unknown</td>\n",
       "      <td>Yes</td>\n",
       "      <td>Yes</td>\n",
       "      <td>...</td>\n",
       "      <td>1.0</td>\n",
       "      <td>0.0</td>\n",
       "      <td>0.0</td>\n",
       "      <td>0.0</td>\n",
       "      <td>Port-au-Prince</td>\n",
       "      <td>West</td>\n",
       "      <td>NaN</td>\n",
       "      <td>NaN</td>\n",
       "      <td>Port-au-Prince</td>\n",
       "      <td>West</td>\n",
       "    </tr>\n",
       "    <tr>\n",
       "      <th>4</th>\n",
       "      <td>male</td>\n",
       "      <td>20/07/1997</td>\n",
       "      <td>ht0111</td>\n",
       "      <td>2021-02-16T17:05:40.907948Z</td>\n",
       "      <td>High School (16 years)</td>\n",
       "      <td>unknown</td>\n",
       "      <td>No</td>\n",
       "      <td>unknown</td>\n",
       "      <td>Yes</td>\n",
       "      <td>Yes</td>\n",
       "      <td>...</td>\n",
       "      <td>0.0</td>\n",
       "      <td>0.0</td>\n",
       "      <td>0.0</td>\n",
       "      <td>1.0</td>\n",
       "      <td>Port-au-Prince</td>\n",
       "      <td>West</td>\n",
       "      <td>NaN</td>\n",
       "      <td>NaN</td>\n",
       "      <td>Port-au-Prince</td>\n",
       "      <td>West</td>\n",
       "    </tr>\n",
       "  </tbody>\n",
       "</table>\n",
       "<p>5 rows × 29 columns</p>\n",
       "</div>"
      ],
      "text/plain": [
       "   gender         dob commune                   created_at  \\\n",
       "0    male  25/08/1998  ht0111  2021-02-14T23:03:52.768400Z   \n",
       "1  female  29/09/1996  ht0111  2021-02-16T16:01:10.861844Z   \n",
       "2    male  17/05/1996  ht0111  2021-02-16T16:56:30.579504Z   \n",
       "3    male  24/11/1996  ht0111  2021-02-16T16:57:55.754541Z   \n",
       "4    male  20/07/1997  ht0111  2021-02-16T17:05:40.907948Z   \n",
       "\n",
       "          education_level                                      university  \\\n",
       "0                 unknown                                         unknown   \n",
       "1     Bachelors (bacc +4)                                           other   \n",
       "2     Bachelors (bacc +4)                 Université d'Etat d'Haïti (UEH)   \n",
       "3     Bachelors (bacc +4)  Ecole Supérieure d'Infotronique d'Haïti (ESIH)   \n",
       "4  High School (16 years)                                         unknown   \n",
       "\n",
       "  current_employed formal_sector_job have_computer_home internet_at_home  ...  \\\n",
       "0          unknown           unknown            unknown          unknown  ...   \n",
       "1               No           unknown                Yes              Yes  ...   \n",
       "2               No           unknown                Yes              Yes  ...   \n",
       "3               No           unknown                Yes              Yes  ...   \n",
       "4               No           unknown                Yes              Yes  ...   \n",
       "\n",
       "  Management Medicine Statistics  other_x    Commune_FR_x  Departement_x  \\\n",
       "0        NaN      NaN        NaN      NaN  Port-au-Prince           West   \n",
       "1        0.0      0.0        0.0      1.0  Port-au-Prince           West   \n",
       "2        NaN      NaN        NaN      NaN  Port-au-Prince           West   \n",
       "3        1.0      0.0        0.0      0.0  Port-au-Prince           West   \n",
       "4        0.0      0.0        0.0      1.0  Port-au-Prince           West   \n",
       "\n",
       "   status  amount_dollars    Commune_FR_y  Departement_y  \n",
       "0     NaN             NaN  Port-au-Prince           West  \n",
       "1     NaN             NaN  Port-au-Prince           West  \n",
       "2     NaN             NaN  Port-au-Prince           West  \n",
       "3     NaN             NaN  Port-au-Prince           West  \n",
       "4     NaN             NaN  Port-au-Prince           West  \n",
       "\n",
       "[5 rows x 29 columns]"
      ]
     },
     "execution_count": 205,
     "metadata": {},
     "output_type": "execute_result"
    }
   ],
   "source": [
    "#drop unnecessary columns\r\n",
    "resultok7.drop([\"Unnamed: 0\",\"modified_at\",\"transaction_id\",\"user_id\",\"department\",\"study_domain\",\"user_id\",\"transaction_id\", \"Bash_x\", \"Excel_x\", \"Git_x\", \"Java_x\", \"JavaScript_x\",\r\n",
    "       \"PHP_x\", \"PowerBI or Tableau_x\", \"Python_x\", \"R_x\", \"SQL_x\", \"VBA_x\",\r\n",
    "       \"other_y\", \"Bash_y\", \"Excel_y\", \"Git_y\", \"Java_y\", \"JavaScript_y\",\r\n",
    "       \"PHP_y\", \"PowerBI or Tableau_y\", \"Python_y\", \"R_y\", \"SQL_y\", \"VBA_y\",\r\n",
    "       \"other\",], axis=\"columns\" , inplace=True)\r\n",
    "resultok7.head()"
   ]
  },
  {
   "cell_type": "code",
   "execution_count": 206,
   "metadata": {},
   "outputs": [],
   "source": [
    "# Choose the 10 first Character before convert in Date\r\n",
    "resultok7[\"created_at\"] = resultok[\"created_at\"].str[:10]"
   ]
  },
  {
   "cell_type": "code",
   "execution_count": 208,
   "metadata": {},
   "outputs": [],
   "source": [
    "resultok7[\"dob\"].replace({\"3 aout 1977\": \"3/08/1977\"}, inplace=True)\r\n",
    "resultok7[\"dob\"] = pd.to_datetime(resultok7[\"dob\"])"
   ]
  },
  {
   "cell_type": "code",
   "execution_count": 209,
   "metadata": {},
   "outputs": [],
   "source": [
    "#Convert \"created_at\" in format date\r\n",
    "\r\n",
    "resultok7[\"created_at\"] = pd.to_datetime(resultok7[\"created_at\"])"
   ]
  },
  {
   "cell_type": "code",
   "execution_count": 210,
   "metadata": {},
   "outputs": [],
   "source": [
    "\r\n",
    "# the Date \r\n",
    "#Create a Columns \"age\"\r\n",
    "resultok7[\"age\"] = ((resultok7[\"created_at\"]-resultok7[\"dob\"])//365)\r\n",
    "#Choose the two first character in Age\r\n",
    "resultok7[\"age\"] = resultok7[\"age\"].apply(lambda x: str(x)[:2])"
   ]
  },
  {
   "cell_type": "code",
   "execution_count": 211,
   "metadata": {},
   "outputs": [
    {
     "data": {
      "text/plain": [
       "Index(['gender', 'dob', 'commune', 'created_at', 'education_level',\n",
       "       'university', 'current_employed', 'formal_sector_job',\n",
       "       'have_computer_home', 'internet_at_home', 'hear_AA_1', 'after_AA',\n",
       "       'quest_id', 'percentage_completed', 'Accounting', 'Computer Science',\n",
       "       'Economics', 'Electrical Engineering', 'Law', 'Management', 'Medicine',\n",
       "       'Statistics', 'other_x', 'Commune_FR_x', 'Departement_x', 'status',\n",
       "       'amount_dollars', 'Commune_FR_y', 'Departement_y', 'age'],\n",
       "      dtype='object')"
      ]
     },
     "execution_count": 211,
     "metadata": {},
     "output_type": "execute_result"
    }
   ],
   "source": [
    "resultok7.columns"
   ]
  },
  {
   "cell_type": "code",
   "execution_count": 212,
   "metadata": {},
   "outputs": [],
   "source": [
    "#rename the columns\r\n",
    "resultok7.rename(columns={'hear_AA_1':\"Communication_Channel\",\"after_AA\":\"Bootcamp_Interest\",\"other_x\":\"Other_Study_Domain\",\"created_at\":\"Inscription_Date\"}, inplace=True)"
   ]
  },
  {
   "cell_type": "code",
   "execution_count": 213,
   "metadata": {},
   "outputs": [
    {
     "data": {
      "text/plain": [
       "Index(['gender', 'dob', 'commune', 'Inscription_Date', 'education_level',\n",
       "       'university', 'current_employed', 'formal_sector_job',\n",
       "       'have_computer_home', 'internet_at_home', 'Communication_Channel',\n",
       "       'Bootcamp_Interest', 'quest_id', 'percentage_completed', 'Accounting',\n",
       "       'Computer Science', 'Economics', 'Electrical Engineering', 'Law',\n",
       "       'Management', 'Medicine', 'Statistics', 'Other_Study_Domain',\n",
       "       'Commune_FR_x', 'Departement_x', 'status', 'amount_dollars',\n",
       "       'Commune_FR_y', 'Departement_y', 'age'],\n",
       "      dtype='object')"
      ]
     },
     "execution_count": 213,
     "metadata": {},
     "output_type": "execute_result"
    }
   ],
   "source": [
    "resultok7.columns"
   ]
  },
  {
   "cell_type": "code",
   "execution_count": 214,
   "metadata": {},
   "outputs": [
    {
     "data": {
      "text/plain": [
       "(250, 30)"
      ]
     },
     "execution_count": 214,
     "metadata": {},
     "output_type": "execute_result"
    }
   ],
   "source": [
    "resultok7.shape"
   ]
  },
  {
   "cell_type": "markdown",
   "metadata": {},
   "source": [
    "###  1. How many observations and variables are there in the dataset\n",
    " "
   ]
  },
  {
   "cell_type": "code",
   "execution_count": 3,
   "metadata": {},
   "outputs": [],
   "source": [
    "# here your codes"
   ]
  },
  {
   "cell_type": "markdown",
   "metadata": {},
   "source": [
    "### 2.A Calculate the average age of the observations\n",
    "   * On the whole dataset\n",
    "   * On the whole male dataset\n",
    "   * On all the female dataset\n",
    "### 2.B Calculate \n",
    "   * variance of the whole datatset,male and female\n",
    "   * kurtosis of the whole datatset,male and female\n",
    "   * skewness of the whole datatset,male and female\n",
    "### 2.C Does the age distribution follow a normal distribution \n",
    "   "
   ]
  },
  {
   "cell_type": "code",
   "execution_count": 4,
   "metadata": {},
   "outputs": [],
   "source": [
    "# here your codes"
   ]
  },
  {
   "cell_type": "markdown",
   "metadata": {},
   "source": [
    "### 3.Display the age frequency disbrution\n",
    "   * On the whole dataset\n",
    "   * On the whole male dataset\n",
    "   * On all the female dataset"
   ]
  },
  {
   "cell_type": "markdown",
   "metadata": {},
   "source": [
    "### 4. Can we say that the average age (24 years old) of the observations can be considered as the average age of the population likely to participate in this bootcamp. Justify your answer"
   ]
  },
  {
   "cell_type": "code",
   "execution_count": 5,
   "metadata": {},
   "outputs": [],
   "source": [
    "#here your codes"
   ]
  },
  {
   "cell_type": "markdown",
   "metadata": {},
   "source": [
    "### 5. Calculate the average age of participants for each communication channel"
   ]
  },
  {
   "cell_type": "code",
   "execution_count": 6,
   "metadata": {},
   "outputs": [],
   "source": [
    "#here your codes"
   ]
  },
  {
   "cell_type": "markdown",
   "metadata": {},
   "source": [
    "### 6. Display an age boxplot for each communication channel"
   ]
  },
  {
   "cell_type": "code",
   "execution_count": 7,
   "metadata": {},
   "outputs": [],
   "source": [
    "#here your codes"
   ]
  },
  {
   "cell_type": "markdown",
   "metadata": {},
   "source": [
    "### 7 .Is there a significant age difference between these groups"
   ]
  },
  {
   "cell_type": "code",
   "execution_count": 8,
   "metadata": {},
   "outputs": [],
   "source": [
    "#here your codes"
   ]
  },
  {
   "cell_type": "markdown",
   "metadata": {},
   "source": [
    "### 8.Plan a BA strategy for each communication channel regarding the age group"
   ]
  },
  {
   "cell_type": "code",
   "execution_count": 9,
   "metadata": {},
   "outputs": [],
   "source": [
    "#here your codes"
   ]
  },
  {
   "cell_type": "markdown",
   "metadata": {},
   "source": [
    "### 9.According to the observations what is the probability of being in each channel of communication knowing your are a woman"
   ]
  },
  {
   "cell_type": "code",
   "execution_count": 10,
   "metadata": {},
   "outputs": [],
   "source": [
    "#here your codes"
   ]
  },
  {
   "cell_type": "markdown",
   "metadata": {},
   "source": [
    "### 10.According to the observations what is the probability of being in each channel of communication knowing your are a man"
   ]
  },
  {
   "cell_type": "code",
   "execution_count": 11,
   "metadata": {},
   "outputs": [],
   "source": [
    "#here your codes"
   ]
  },
  {
   "cell_type": "markdown",
   "metadata": {},
   "source": [
    "### 11. Deduce the probability of being a woman knowing each communication channel"
   ]
  },
  {
   "cell_type": "code",
   "execution_count": 12,
   "metadata": {},
   "outputs": [],
   "source": [
    "#here your codes"
   ]
  },
  {
   "cell_type": "markdown",
   "metadata": {},
   "source": [
    "### 13. Deduce the probability of being a woman knowing each communication channel"
   ]
  },
  {
   "cell_type": "code",
   "execution_count": 13,
   "metadata": {},
   "outputs": [],
   "source": [
    "# here your codes"
   ]
  },
  {
   "cell_type": "markdown",
   "metadata": {},
   "source": [
    "### 14. Deduce the probability of being a man knowing each communication channel"
   ]
  },
  {
   "cell_type": "code",
   "execution_count": 14,
   "metadata": {},
   "outputs": [],
   "source": [
    "\n",
    "#here your codes"
   ]
  },
  {
   "cell_type": "markdown",
   "metadata": {},
   "source": [
    "### 15 Display a plot to see Gender vs Communication Channels .Is there any dependency between communication channels and gender?"
   ]
  },
  {
   "cell_type": "code",
   "execution_count": 15,
   "metadata": {},
   "outputs": [],
   "source": [
    "#here "
   ]
  },
  {
   "cell_type": "markdown",
   "metadata": {},
   "source": [
    "### 16 Use the same method to display plot and know if is there any dependency between communication channels and Bootcamp Insterest?"
   ]
  },
  {
   "cell_type": "code",
   "execution_count": 16,
   "metadata": {},
   "outputs": [],
   "source": [
    "# here your codes"
   ]
  },
  {
   "cell_type": "markdown",
   "metadata": {},
   "source": [
    "### 17.Plan a BA  strategy for each communication channel, Bootcamp Insterest regarding the gender "
   ]
  },
  {
   "cell_type": "code",
   "execution_count": 17,
   "metadata": {},
   "outputs": [],
   "source": [
    "#here your codes"
   ]
  },
  {
   "cell_type": "markdown",
   "metadata": {},
   "source": [
    "### 18.Plan a BA  strategy for each communication channel, Bootcamp Insterest regarding the gender"
   ]
  },
  {
   "cell_type": "code",
   "execution_count": 18,
   "metadata": {},
   "outputs": [],
   "source": [
    "# here your codes"
   ]
  },
  {
   "cell_type": "markdown",
   "metadata": {},
   "source": [
    "### 19. Calculate \n",
    "    * P(Bootcamp Insterest,Communication channels,Gender/Payed=yes)\n",
    "    * P(Bootcamp Insterest,Communication channels,Gender/Payed=no)"
   ]
  },
  {
   "cell_type": "markdown",
   "metadata": {},
   "source": [
    "### 20 reduce \n",
    "* P(Payed=\"yes\"/Bootcamp Insterest=\"Increase Skill\",Communication channels=\"Friend\",Gender=\"male\")\n",
    "* P(Payed=\"no\"/Bootcamp Insterest=\"Increase Skill\",Communication channels=\"Friend\",Gender=\"male\")"
   ]
  },
  {
   "cell_type": "code",
   "execution_count": 19,
   "metadata": {},
   "outputs": [],
   "source": [
    "# here your codes"
   ]
  },
  {
   "cell_type": "markdown",
   "metadata": {},
   "source": [
    "### Based on these findings, propose strategies to increase our sales?"
   ]
  },
  {
   "cell_type": "code",
   "execution_count": 20,
   "metadata": {},
   "outputs": [],
   "source": [
    "#here your codes"
   ]
  },
  {
   "cell_type": "markdown",
   "metadata": {},
   "source": []
  }
 ],
 "metadata": {
  "interpreter": {
   "hash": "b3ba2566441a7c06988d0923437866b63cedc61552a5af99d1f4fb67d367b25f"
  },
  "kernelspec": {
   "display_name": "Python 3.8.5 64-bit ('base': conda)",
   "name": "python3"
  },
  "language_info": {
   "codemirror_mode": {
    "name": "ipython",
    "version": 3
   },
   "file_extension": ".py",
   "mimetype": "text/x-python",
   "name": "python",
   "nbconvert_exporter": "python",
   "pygments_lexer": "ipython3",
   "version": "3.8.5"
  },
  "orig_nbformat": 4
 },
 "nbformat": 4,
 "nbformat_minor": 2
}