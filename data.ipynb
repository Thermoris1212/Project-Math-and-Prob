{
 "cells": [
  {
   "cell_type": "code",
   "execution_count": 94,
   "source": [
    "import numpy as np\r\n",
    "import pandas as pd\r\n",
    "import matplotlib.pyplot as plt\r\n",
    "import datetime as dt\r\n",
    "import re as re\r\n",
    "import seaborn as sns"
   ],
   "outputs": [],
   "metadata": {}
  },
  {
   "cell_type": "code",
   "execution_count": 95,
   "source": [
    "# reading files\r\n",
    "commune=pd.read_excel(r\"commune.xlsx\")\r\n",
    "enroll = pd.read_csv(r\"enroll.csv\")\r\n",
    "quest = pd.read_csv(r\"quest.csv\")\r\n",
    "industry = pd.read_csv(r\"industry.csv\")\r\n",
    "ord = pd.read_csv(r\"ord.csv\")\r\n",
    "study_domain = pd.read_csv(r\"study_domain.csv\")\r\n",
    "transaction = pd.read_csv(r\"transaction.csv\")\r\n",
    "technology = pd.read_csv(r\"technology.csv\")"
   ],
   "outputs": [],
   "metadata": {}
  },
  {
   "cell_type": "code",
   "execution_count": 96,
   "source": [
    "commune.head()"
   ],
   "outputs": [
    {
     "output_type": "execute_result",
     "data": {
      "text/plain": [
       "      Commune_en     Commune_FR Commune_Id  Departement ADM1_PCODE\n",
       "0       Abricots       Abricots     HT0812  Grande'Anse       HT08\n",
       "1   Acul du Nord   Acul du Nord     HT0321        North       HT03\n",
       "2  Anse-a-Foleur  Anse-à-Foleur     HT0922   North-West       HT09\n",
       "3   Anse-a-Pitre   Anse-à-Pître     HT0234   South-East       HT02\n",
       "4    Anse-a-Veau    Anse-à-Veau     HT1021       Nippes       HT10"
      ],
      "text/html": [
       "<div>\n",
       "<style scoped>\n",
       "    .dataframe tbody tr th:only-of-type {\n",
       "        vertical-align: middle;\n",
       "    }\n",
       "\n",
       "    .dataframe tbody tr th {\n",
       "        vertical-align: top;\n",
       "    }\n",
       "\n",
       "    .dataframe thead th {\n",
       "        text-align: right;\n",
       "    }\n",
       "</style>\n",
       "<table border=\"1\" class=\"dataframe\">\n",
       "  <thead>\n",
       "    <tr style=\"text-align: right;\">\n",
       "      <th></th>\n",
       "      <th>Commune_en</th>\n",
       "      <th>Commune_FR</th>\n",
       "      <th>Commune_Id</th>\n",
       "      <th>Departement</th>\n",
       "      <th>ADM1_PCODE</th>\n",
       "    </tr>\n",
       "  </thead>\n",
       "  <tbody>\n",
       "    <tr>\n",
       "      <th>0</th>\n",
       "      <td>Abricots</td>\n",
       "      <td>Abricots</td>\n",
       "      <td>HT0812</td>\n",
       "      <td>Grande'Anse</td>\n",
       "      <td>HT08</td>\n",
       "    </tr>\n",
       "    <tr>\n",
       "      <th>1</th>\n",
       "      <td>Acul du Nord</td>\n",
       "      <td>Acul du Nord</td>\n",
       "      <td>HT0321</td>\n",
       "      <td>North</td>\n",
       "      <td>HT03</td>\n",
       "    </tr>\n",
       "    <tr>\n",
       "      <th>2</th>\n",
       "      <td>Anse-a-Foleur</td>\n",
       "      <td>Anse-à-Foleur</td>\n",
       "      <td>HT0922</td>\n",
       "      <td>North-West</td>\n",
       "      <td>HT09</td>\n",
       "    </tr>\n",
       "    <tr>\n",
       "      <th>3</th>\n",
       "      <td>Anse-a-Pitre</td>\n",
       "      <td>Anse-à-Pître</td>\n",
       "      <td>HT0234</td>\n",
       "      <td>South-East</td>\n",
       "      <td>HT02</td>\n",
       "    </tr>\n",
       "    <tr>\n",
       "      <th>4</th>\n",
       "      <td>Anse-a-Veau</td>\n",
       "      <td>Anse-à-Veau</td>\n",
       "      <td>HT1021</td>\n",
       "      <td>Nippes</td>\n",
       "      <td>HT10</td>\n",
       "    </tr>\n",
       "  </tbody>\n",
       "</table>\n",
       "</div>"
      ]
     },
     "metadata": {},
     "execution_count": 96
    }
   ],
   "metadata": {}
  },
  {
   "cell_type": "markdown",
   "source": [
    "Use all the files to have a final datasets to have the following columns\r\n",
    "   <ul>\r\n",
    "    <li>questid</li>\r\n",
    "    <li>gender</li>\r\n",
    "    <li>age (age of applicant)</li>\r\n",
    "    <li>communeName (use data prep in commune file)</li>\r\n",
    "    <li>application_date (created at in quest file)</li>\r\n",
    "    <li>enroll_date (created_at in enroll file)</li>\r\n",
    "    <li>is_enroll (Yes/No) (use data prep in enroll file)</li>\r\n",
    "    <li>Education Level</li>\r\n",
    "   <li>Communication channels(hear_AA1)</li>\r\n",
    "    <li>Bootcamp Insterest (after_AA)</li>\r\n",
    "    <li>Payement Date (use ord and transaction files)</li>\r\n",
    "    <li>Payed (Yes/No)</li>\r\n",
    "    <li>list Technologies as columns based (use get_dummies)</li>\r\n",
    "    <li>list  Study domains (use get_dummies)</li>\r\n",
    "    <li>Job is formal</li>\r\n",
    "    <li>Have computer at home</li>\r\n",
    "    <li>Have internet at home</li>\r\n",
    "    \r\n",
    "   </ul>\r\n",
    "   "
   ],
   "metadata": {}
  },
  {
   "cell_type": "markdown",
   "source": [
    "## Data Processing"
   ],
   "metadata": {}
  },
  {
   "cell_type": "markdown",
   "source": [
    "Show the 5 first rows on the DF"
   ],
   "metadata": {}
  },
  {
   "cell_type": "code",
   "execution_count": 97,
   "source": [
    "quest.info()"
   ],
   "outputs": [
    {
     "output_type": "stream",
     "name": "stdout",
     "text": [
      "<class 'pandas.core.frame.DataFrame'>\n",
      "RangeIndex: 250 entries, 0 to 249\n",
      "Data columns (total 17 columns):\n",
      " #   Column              Non-Null Count  Dtype \n",
      "---  ------              --------------  ----- \n",
      " 0   Unnamed: 0          250 non-null    int64 \n",
      " 1   gender              250 non-null    object\n",
      " 2   dob                 244 non-null    object\n",
      " 3   commune             250 non-null    object\n",
      " 4   created_at          250 non-null    object\n",
      " 5   modified_at         250 non-null    object\n",
      " 6   department          249 non-null    object\n",
      " 7   education_level     250 non-null    object\n",
      " 8   university          250 non-null    object\n",
      " 9   study_domain        250 non-null    object\n",
      " 10  current_employed    250 non-null    object\n",
      " 11  formal_sector_job   250 non-null    object\n",
      " 12  have_computer_home  250 non-null    object\n",
      " 13  internet_at_home    250 non-null    object\n",
      " 14  hear_AA_1           250 non-null    object\n",
      " 15  after_AA            250 non-null    object\n",
      " 16  quest_id            250 non-null    object\n",
      "dtypes: int64(1), object(16)\n",
      "memory usage: 33.3+ KB\n"
     ]
    }
   ],
   "metadata": {}
  },
  {
   "cell_type": "code",
   "execution_count": 98,
   "source": [
    "enroll.head()"
   ],
   "outputs": [
    {
     "output_type": "execute_result",
     "data": {
      "text/plain": [
       "   Unnamed: 0                created_at expiry_date   user_id  \\\n",
       "0           0  2020-12-12T06:41:29.844Z         NaN  29816173   \n",
       "1           1  2020-12-13T14:41:17.720Z         NaN  35229766   \n",
       "2           2  2020-12-15T00:53:06.499Z         NaN  31987560   \n",
       "3           3  2020-12-18T18:38:55.683Z         NaN  35616451   \n",
       "4           4  2020-12-21T14:45:06.528Z         NaN  35390649   \n",
       "\n",
       "                   course_name  course_id  percentage_completed  completed_at  \\\n",
       "0  Entwodiksyon Nan Syans Done    1047613                   0.0           NaN   \n",
       "1  Entwodiksyon Nan Syans Done    1047613                   0.0           NaN   \n",
       "2  Entwodiksyon Nan Syans Done    1047613                   0.0           NaN   \n",
       "3  Entwodiksyon Nan Syans Done    1047613                   0.0           NaN   \n",
       "4  Entwodiksyon Nan Syans Done    1047613                   0.0           NaN   \n",
       "\n",
       "   expired  is_free_trial  completed started_at activated_at  \\\n",
       "0    False           True      False        NaN          NaN   \n",
       "1    False           True      False        NaN          NaN   \n",
       "2    False           True      False        NaN          NaN   \n",
       "3    False           True      False        NaN          NaN   \n",
       "4    False           True      False        NaN          NaN   \n",
       "\n",
       "                 updated_at quest_id  \n",
       "0  2020-12-12T06:41:29.844Z      NaN  \n",
       "1  2020-12-13T14:41:17.720Z      NaN  \n",
       "2  2020-12-15T00:53:06.499Z      NaN  \n",
       "3  2020-12-18T18:38:55.683Z      NaN  \n",
       "4  2020-12-21T14:45:06.528Z      NaN  "
      ],
      "text/html": [
       "<div>\n",
       "<style scoped>\n",
       "    .dataframe tbody tr th:only-of-type {\n",
       "        vertical-align: middle;\n",
       "    }\n",
       "\n",
       "    .dataframe tbody tr th {\n",
       "        vertical-align: top;\n",
       "    }\n",
       "\n",
       "    .dataframe thead th {\n",
       "        text-align: right;\n",
       "    }\n",
       "</style>\n",
       "<table border=\"1\" class=\"dataframe\">\n",
       "  <thead>\n",
       "    <tr style=\"text-align: right;\">\n",
       "      <th></th>\n",
       "      <th>Unnamed: 0</th>\n",
       "      <th>created_at</th>\n",
       "      <th>expiry_date</th>\n",
       "      <th>user_id</th>\n",
       "      <th>course_name</th>\n",
       "      <th>course_id</th>\n",
       "      <th>percentage_completed</th>\n",
       "      <th>completed_at</th>\n",
       "      <th>expired</th>\n",
       "      <th>is_free_trial</th>\n",
       "      <th>completed</th>\n",
       "      <th>started_at</th>\n",
       "      <th>activated_at</th>\n",
       "      <th>updated_at</th>\n",
       "      <th>quest_id</th>\n",
       "    </tr>\n",
       "  </thead>\n",
       "  <tbody>\n",
       "    <tr>\n",
       "      <th>0</th>\n",
       "      <td>0</td>\n",
       "      <td>2020-12-12T06:41:29.844Z</td>\n",
       "      <td>NaN</td>\n",
       "      <td>29816173</td>\n",
       "      <td>Entwodiksyon Nan Syans Done</td>\n",
       "      <td>1047613</td>\n",
       "      <td>0.0</td>\n",
       "      <td>NaN</td>\n",
       "      <td>False</td>\n",
       "      <td>True</td>\n",
       "      <td>False</td>\n",
       "      <td>NaN</td>\n",
       "      <td>NaN</td>\n",
       "      <td>2020-12-12T06:41:29.844Z</td>\n",
       "      <td>NaN</td>\n",
       "    </tr>\n",
       "    <tr>\n",
       "      <th>1</th>\n",
       "      <td>1</td>\n",
       "      <td>2020-12-13T14:41:17.720Z</td>\n",
       "      <td>NaN</td>\n",
       "      <td>35229766</td>\n",
       "      <td>Entwodiksyon Nan Syans Done</td>\n",
       "      <td>1047613</td>\n",
       "      <td>0.0</td>\n",
       "      <td>NaN</td>\n",
       "      <td>False</td>\n",
       "      <td>True</td>\n",
       "      <td>False</td>\n",
       "      <td>NaN</td>\n",
       "      <td>NaN</td>\n",
       "      <td>2020-12-13T14:41:17.720Z</td>\n",
       "      <td>NaN</td>\n",
       "    </tr>\n",
       "    <tr>\n",
       "      <th>2</th>\n",
       "      <td>2</td>\n",
       "      <td>2020-12-15T00:53:06.499Z</td>\n",
       "      <td>NaN</td>\n",
       "      <td>31987560</td>\n",
       "      <td>Entwodiksyon Nan Syans Done</td>\n",
       "      <td>1047613</td>\n",
       "      <td>0.0</td>\n",
       "      <td>NaN</td>\n",
       "      <td>False</td>\n",
       "      <td>True</td>\n",
       "      <td>False</td>\n",
       "      <td>NaN</td>\n",
       "      <td>NaN</td>\n",
       "      <td>2020-12-15T00:53:06.499Z</td>\n",
       "      <td>NaN</td>\n",
       "    </tr>\n",
       "    <tr>\n",
       "      <th>3</th>\n",
       "      <td>3</td>\n",
       "      <td>2020-12-18T18:38:55.683Z</td>\n",
       "      <td>NaN</td>\n",
       "      <td>35616451</td>\n",
       "      <td>Entwodiksyon Nan Syans Done</td>\n",
       "      <td>1047613</td>\n",
       "      <td>0.0</td>\n",
       "      <td>NaN</td>\n",
       "      <td>False</td>\n",
       "      <td>True</td>\n",
       "      <td>False</td>\n",
       "      <td>NaN</td>\n",
       "      <td>NaN</td>\n",
       "      <td>2020-12-18T18:38:55.683Z</td>\n",
       "      <td>NaN</td>\n",
       "    </tr>\n",
       "    <tr>\n",
       "      <th>4</th>\n",
       "      <td>4</td>\n",
       "      <td>2020-12-21T14:45:06.528Z</td>\n",
       "      <td>NaN</td>\n",
       "      <td>35390649</td>\n",
       "      <td>Entwodiksyon Nan Syans Done</td>\n",
       "      <td>1047613</td>\n",
       "      <td>0.0</td>\n",
       "      <td>NaN</td>\n",
       "      <td>False</td>\n",
       "      <td>True</td>\n",
       "      <td>False</td>\n",
       "      <td>NaN</td>\n",
       "      <td>NaN</td>\n",
       "      <td>2020-12-21T14:45:06.528Z</td>\n",
       "      <td>NaN</td>\n",
       "    </tr>\n",
       "  </tbody>\n",
       "</table>\n",
       "</div>"
      ]
     },
     "metadata": {},
     "execution_count": 98
    }
   ],
   "metadata": {}
  },
  {
   "cell_type": "code",
   "execution_count": 99,
   "source": [
    "quest[\"created_at\"] = quest[\"created_at\"].str[:10]"
   ],
   "outputs": [],
   "metadata": {}
  },
  {
   "cell_type": "code",
   "execution_count": 102,
   "source": [
    "quest.describe()"
   ],
   "outputs": [
    {
     "output_type": "execute_result",
     "data": {
      "text/plain": [
       "       Unnamed: 0\n",
       "count  250.000000\n",
       "mean   124.500000\n",
       "std     72.312977\n",
       "min      0.000000\n",
       "25%     62.250000\n",
       "50%    124.500000\n",
       "75%    186.750000\n",
       "max    249.000000"
      ],
      "text/html": [
       "<div>\n",
       "<style scoped>\n",
       "    .dataframe tbody tr th:only-of-type {\n",
       "        vertical-align: middle;\n",
       "    }\n",
       "\n",
       "    .dataframe tbody tr th {\n",
       "        vertical-align: top;\n",
       "    }\n",
       "\n",
       "    .dataframe thead th {\n",
       "        text-align: right;\n",
       "    }\n",
       "</style>\n",
       "<table border=\"1\" class=\"dataframe\">\n",
       "  <thead>\n",
       "    <tr style=\"text-align: right;\">\n",
       "      <th></th>\n",
       "      <th>Unnamed: 0</th>\n",
       "    </tr>\n",
       "  </thead>\n",
       "  <tbody>\n",
       "    <tr>\n",
       "      <th>count</th>\n",
       "      <td>250.000000</td>\n",
       "    </tr>\n",
       "    <tr>\n",
       "      <th>mean</th>\n",
       "      <td>124.500000</td>\n",
       "    </tr>\n",
       "    <tr>\n",
       "      <th>std</th>\n",
       "      <td>72.312977</td>\n",
       "    </tr>\n",
       "    <tr>\n",
       "      <th>min</th>\n",
       "      <td>0.000000</td>\n",
       "    </tr>\n",
       "    <tr>\n",
       "      <th>25%</th>\n",
       "      <td>62.250000</td>\n",
       "    </tr>\n",
       "    <tr>\n",
       "      <th>50%</th>\n",
       "      <td>124.500000</td>\n",
       "    </tr>\n",
       "    <tr>\n",
       "      <th>75%</th>\n",
       "      <td>186.750000</td>\n",
       "    </tr>\n",
       "    <tr>\n",
       "      <th>max</th>\n",
       "      <td>249.000000</td>\n",
       "    </tr>\n",
       "  </tbody>\n",
       "</table>\n",
       "</div>"
      ]
     },
     "metadata": {},
     "execution_count": 102
    }
   ],
   "metadata": {}
  },
  {
   "cell_type": "code",
   "execution_count": null,
   "source": [],
   "outputs": [],
   "metadata": {}
  },
  {
   "cell_type": "code",
   "execution_count": 5,
   "source": [
    "#Format in Date \r\n",
    "quest[\"dob\"].replace({\"3 aout 1977\": \"3/08/1977\"}, inplace=True)\r\n",
    "quest[\"dob\"] = pd.to_datetime(quest[\"dob\"])\r\n",
    "\r\n",
    "#Convert \"created_at\" in format date\r\n",
    "quest[\"created_at\"] = pd.to_datetime(quest[\"created_at\"])\r\n",
    "\r\n"
   ],
   "outputs": [],
   "metadata": {}
  },
  {
   "cell_type": "code",
   "execution_count": 6,
   "source": [
    "#Create a Columns \"age\"\r\n",
    "quest[\"age\"] = ((quest[\"created_at\"]-quest[\"dob\"])//365)\r\n",
    "#Choose the two first character in Age\r\n",
    "quest[\"age\"] = quest[\"age\"].apply(lambda x: str(x)[:2])"
   ],
   "outputs": [],
   "metadata": {}
  },
  {
   "cell_type": "code",
   "execution_count": 12,
   "source": [
    "quest.head()"
   ],
   "outputs": [
    {
     "output_type": "execute_result",
     "data": {
      "text/plain": [
       "   Unnamed: 0  gender        dob commune Application_Date  \\\n",
       "0           0    male 1998-08-25  ht0111       2021-02-14   \n",
       "1           1  female 1996-09-29  ht0111       2021-02-16   \n",
       "2           2    male 1996-05-17  ht0111       2021-02-16   \n",
       "3           3    male 1996-11-24  ht0111       2021-02-16   \n",
       "4           4    male 1997-07-20  ht0111       2021-02-16   \n",
       "\n",
       "                   modified_at department         education_level  \\\n",
       "0  2021-02-14T23:03:52.768462Z        NaN                 unknown   \n",
       "1  2021-02-16T16:01:10.861899Z       ht01     Bachelors (bacc +4)   \n",
       "2  2021-02-16T16:56:30.579563Z       ht01     Bachelors (bacc +4)   \n",
       "3  2021-02-16T16:57:55.754582Z       ht01     Bachelors (bacc +4)   \n",
       "4  2021-02-16T17:05:40.907982Z       ht01  High School (16 years)   \n",
       "\n",
       "                                       university        study_domain  \\\n",
       "0                                         unknown                  []   \n",
       "1                                           other           ['other']   \n",
       "2                 Université d'Etat d'Haïti (UEH)                  []   \n",
       "3  Ecole Supérieure d'Infotronique d'Haïti (ESIH)  ['item1', 'item6']   \n",
       "4                                         unknown           ['other']   \n",
       "\n",
       "  current_employed formal_sector_job have_computer_home internet_at_home  \\\n",
       "0          unknown           unknown            unknown          unknown   \n",
       "1               No           unknown                Yes              Yes   \n",
       "2               No           unknown                Yes              Yes   \n",
       "3               No           unknown                Yes              Yes   \n",
       "4               No           unknown                Yes              Yes   \n",
       "\n",
       "  hear_AA_1                           after_AA  \\\n",
       "0   unknown                            unknown   \n",
       "1    Friend           Finding a job/internship   \n",
       "2    Friend  Improving my data analysis skills   \n",
       "3      ESIH  Improving my data analysis skills   \n",
       "4  WhatsApp                         Mentorship   \n",
       "\n",
       "                               quest_id age  \n",
       "0  905dc006-ce95-11eb-b2f9-7c67a234f601  22  \n",
       "1  905ddcf2-ce95-11eb-9a92-7c67a234f601  24  \n",
       "2  905e2608-ce95-11eb-809f-7c67a234f601  24  \n",
       "3  905e4cf5-ce95-11eb-96a9-7c67a234f601  24  \n",
       "4  905e73fd-ce95-11eb-a7b0-7c67a234f601  23  "
      ],
      "text/html": [
       "<div>\n",
       "<style scoped>\n",
       "    .dataframe tbody tr th:only-of-type {\n",
       "        vertical-align: middle;\n",
       "    }\n",
       "\n",
       "    .dataframe tbody tr th {\n",
       "        vertical-align: top;\n",
       "    }\n",
       "\n",
       "    .dataframe thead th {\n",
       "        text-align: right;\n",
       "    }\n",
       "</style>\n",
       "<table border=\"1\" class=\"dataframe\">\n",
       "  <thead>\n",
       "    <tr style=\"text-align: right;\">\n",
       "      <th></th>\n",
       "      <th>Unnamed: 0</th>\n",
       "      <th>gender</th>\n",
       "      <th>dob</th>\n",
       "      <th>commune</th>\n",
       "      <th>Application_Date</th>\n",
       "      <th>modified_at</th>\n",
       "      <th>department</th>\n",
       "      <th>education_level</th>\n",
       "      <th>university</th>\n",
       "      <th>study_domain</th>\n",
       "      <th>current_employed</th>\n",
       "      <th>formal_sector_job</th>\n",
       "      <th>have_computer_home</th>\n",
       "      <th>internet_at_home</th>\n",
       "      <th>hear_AA_1</th>\n",
       "      <th>after_AA</th>\n",
       "      <th>quest_id</th>\n",
       "      <th>age</th>\n",
       "    </tr>\n",
       "  </thead>\n",
       "  <tbody>\n",
       "    <tr>\n",
       "      <th>0</th>\n",
       "      <td>0</td>\n",
       "      <td>male</td>\n",
       "      <td>1998-08-25</td>\n",
       "      <td>ht0111</td>\n",
       "      <td>2021-02-14</td>\n",
       "      <td>2021-02-14T23:03:52.768462Z</td>\n",
       "      <td>NaN</td>\n",
       "      <td>unknown</td>\n",
       "      <td>unknown</td>\n",
       "      <td>[]</td>\n",
       "      <td>unknown</td>\n",
       "      <td>unknown</td>\n",
       "      <td>unknown</td>\n",
       "      <td>unknown</td>\n",
       "      <td>unknown</td>\n",
       "      <td>unknown</td>\n",
       "      <td>905dc006-ce95-11eb-b2f9-7c67a234f601</td>\n",
       "      <td>22</td>\n",
       "    </tr>\n",
       "    <tr>\n",
       "      <th>1</th>\n",
       "      <td>1</td>\n",
       "      <td>female</td>\n",
       "      <td>1996-09-29</td>\n",
       "      <td>ht0111</td>\n",
       "      <td>2021-02-16</td>\n",
       "      <td>2021-02-16T16:01:10.861899Z</td>\n",
       "      <td>ht01</td>\n",
       "      <td>Bachelors (bacc +4)</td>\n",
       "      <td>other</td>\n",
       "      <td>['other']</td>\n",
       "      <td>No</td>\n",
       "      <td>unknown</td>\n",
       "      <td>Yes</td>\n",
       "      <td>Yes</td>\n",
       "      <td>Friend</td>\n",
       "      <td>Finding a job/internship</td>\n",
       "      <td>905ddcf2-ce95-11eb-9a92-7c67a234f601</td>\n",
       "      <td>24</td>\n",
       "    </tr>\n",
       "    <tr>\n",
       "      <th>2</th>\n",
       "      <td>2</td>\n",
       "      <td>male</td>\n",
       "      <td>1996-05-17</td>\n",
       "      <td>ht0111</td>\n",
       "      <td>2021-02-16</td>\n",
       "      <td>2021-02-16T16:56:30.579563Z</td>\n",
       "      <td>ht01</td>\n",
       "      <td>Bachelors (bacc +4)</td>\n",
       "      <td>Université d'Etat d'Haïti (UEH)</td>\n",
       "      <td>[]</td>\n",
       "      <td>No</td>\n",
       "      <td>unknown</td>\n",
       "      <td>Yes</td>\n",
       "      <td>Yes</td>\n",
       "      <td>Friend</td>\n",
       "      <td>Improving my data analysis skills</td>\n",
       "      <td>905e2608-ce95-11eb-809f-7c67a234f601</td>\n",
       "      <td>24</td>\n",
       "    </tr>\n",
       "    <tr>\n",
       "      <th>3</th>\n",
       "      <td>3</td>\n",
       "      <td>male</td>\n",
       "      <td>1996-11-24</td>\n",
       "      <td>ht0111</td>\n",
       "      <td>2021-02-16</td>\n",
       "      <td>2021-02-16T16:57:55.754582Z</td>\n",
       "      <td>ht01</td>\n",
       "      <td>Bachelors (bacc +4)</td>\n",
       "      <td>Ecole Supérieure d'Infotronique d'Haïti (ESIH)</td>\n",
       "      <td>['item1', 'item6']</td>\n",
       "      <td>No</td>\n",
       "      <td>unknown</td>\n",
       "      <td>Yes</td>\n",
       "      <td>Yes</td>\n",
       "      <td>ESIH</td>\n",
       "      <td>Improving my data analysis skills</td>\n",
       "      <td>905e4cf5-ce95-11eb-96a9-7c67a234f601</td>\n",
       "      <td>24</td>\n",
       "    </tr>\n",
       "    <tr>\n",
       "      <th>4</th>\n",
       "      <td>4</td>\n",
       "      <td>male</td>\n",
       "      <td>1997-07-20</td>\n",
       "      <td>ht0111</td>\n",
       "      <td>2021-02-16</td>\n",
       "      <td>2021-02-16T17:05:40.907982Z</td>\n",
       "      <td>ht01</td>\n",
       "      <td>High School (16 years)</td>\n",
       "      <td>unknown</td>\n",
       "      <td>['other']</td>\n",
       "      <td>No</td>\n",
       "      <td>unknown</td>\n",
       "      <td>Yes</td>\n",
       "      <td>Yes</td>\n",
       "      <td>WhatsApp</td>\n",
       "      <td>Mentorship</td>\n",
       "      <td>905e73fd-ce95-11eb-a7b0-7c67a234f601</td>\n",
       "      <td>23</td>\n",
       "    </tr>\n",
       "  </tbody>\n",
       "</table>\n",
       "</div>"
      ]
     },
     "metadata": {},
     "execution_count": 12
    }
   ],
   "metadata": {}
  },
  {
   "cell_type": "code",
   "execution_count": 7,
   "source": [
    "#Rename columns Created_at in Transaction\r\n",
    "transaction.rename(columns={\"created_at\":\"moncash_date\"}, inplace=True)\r\n",
    "\r\n",
    "#Rename columns Created_at in Ord\r\n",
    "ord.rename(columns={\"created_at\":\"credit_card_date\"}, inplace=True)\r\n",
    "\r\n",
    "#Rename columns Created_at in enroll\r\n",
    "enroll.rename(columns={\"created_at\":\"Enroll_Date\"}, inplace=True)\r\n",
    "\r\n",
    "#rename columns created-at in quest\r\n",
    "quest.rename(columns={\"created_at\":\"Application_Date\"}, inplace=True)"
   ],
   "outputs": [],
   "metadata": {}
  },
  {
   "cell_type": "code",
   "execution_count": 8,
   "source": [
    "# list  Study domains (use get_dummies)\r\n",
    "study_domainok1 = pd.get_dummies(data=study_domain[[\"key\", \"quest_id\", \"values\"]], columns=['values'], prefix=\"\", prefix_sep=\"\")\r\n",
    "study_domainok2 = study_domainok1.groupby(\"quest_id\").sum()"
   ],
   "outputs": [],
   "metadata": {}
  },
  {
   "cell_type": "code",
   "execution_count": 9,
   "source": [
    "#list Technologies as columns based (use get_dummies)\r\n",
    "technologyok1 = pd.get_dummies(technology[[\"key\", \"quest_id\", \"values\"]], columns=['values'], prefix=\"\", prefix_sep=\"\")\r\n",
    "technologyok2 = technologyok1.groupby(\"quest_id\").sum()"
   ],
   "outputs": [],
   "metadata": {}
  },
  {
   "cell_type": "code",
   "execution_count": 10,
   "source": [
    "# list industry (use get_dummies)\r\n",
    "industryok1= pd.get_dummies(industry[[\"key\", \"quest_id\", \"values\"]], columns=['values'], prefix=\"\", prefix_sep=\"\")\r\n",
    "industryok2= industryok1.groupby(\"quest_id\").sum()"
   ],
   "outputs": [],
   "metadata": {}
  },
  {
   "cell_type": "code",
   "execution_count": 11,
   "source": [
    "\r\n",
    "# Format to date\r\n",
    "transaction.moncash_date = pd.to_datetime(transaction.moncash_date).dt.tz_localize(None)\r\n",
    "ord.credit_card_date= pd.to_datetime(ord.credit_card_date).dt.tz_localize(None)"
   ],
   "outputs": [],
   "metadata": {}
  },
  {
   "cell_type": "code",
   "execution_count": 13,
   "source": [
    "# Merge Tables by \"quest_id\"\r\n",
    "querry0=pd.merge(left=quest, right=enroll, how = 'left',on='quest_id')\r\n",
    "querry1=pd.merge(left=querry0, right=study_domainok2, how = 'left',on='quest_id')\r\n",
    "querry2=pd.merge(left=querry1, right=technologyok2, how = 'left',on='quest_id')\r\n",
    "querry4=pd.merge(left=querry2, right=industryok2, how = 'left',on='quest_id')\r\n"
   ],
   "outputs": [],
   "metadata": {}
  },
  {
   "cell_type": "code",
   "execution_count": 14,
   "source": [
    "querry4.shape"
   ],
   "outputs": [
    {
     "output_type": "execute_result",
     "data": {
      "text/plain": [
       "(250, 67)"
      ]
     },
     "metadata": {},
     "execution_count": 14
    }
   ],
   "metadata": {}
  },
  {
   "cell_type": "code",
   "execution_count": 16,
   "source": [
    "querry4.columns"
   ],
   "outputs": [
    {
     "output_type": "execute_result",
     "data": {
      "text/plain": [
       "Index(['Unnamed: 0_x', 'gender', 'dob', 'commune', 'Application_Date',\n",
       "       'modified_at', 'department', 'education_level', 'university',\n",
       "       'study_domain', 'current_employed', 'formal_sector_job',\n",
       "       'have_computer_home', 'internet_at_home', 'hear_AA_1', 'after_AA',\n",
       "       'quest_id', 'age', 'Unnamed: 0_y', 'Enroll_Date', 'expiry_date',\n",
       "       'user_id', 'course_name', 'course_id', 'percentage_completed',\n",
       "       'completed_at', 'expired', 'is_free_trial', 'completed', 'started_at',\n",
       "       'activated_at', 'updated_at', 'Accounting', 'Computer Science',\n",
       "       'Economics', 'Electrical Engineering', 'Law', 'Management', 'Medicine',\n",
       "       'Statistics', 'other_x', 'Bash', 'Excel', 'Git', 'Java', 'JavaScript',\n",
       "       'PHP', 'PowerBI or Tableau', 'Python', 'R', 'SQL', 'VBA', 'other_y',\n",
       "       'Communications', 'Consulting', 'Education', 'Energy', 'Finance',\n",
       "       'Healthcare', 'Insurance', 'Manufacturing', 'Marketing',\n",
       "       'Public Sector/ Non-Profit Agencies', 'Retail/ E-Commerce',\n",
       "       'Technology (Software/ Internet)', 'Transportation', 'other'],\n",
       "      dtype='object')"
      ]
     },
     "metadata": {},
     "execution_count": 16
    }
   ],
   "metadata": {}
  },
  {
   "cell_type": "code",
   "execution_count": 17,
   "source": [
    "#Merge \"transaction\" by \"user_id\"\r\n",
    "querry5 = pd.merge(left=querry4, right=transaction, how = 'left',on='user_id')\r\n",
    "#Merge \"Ord\" by \"quest_id\"\r\n",
    "querry6 = pd.merge(left=querry5, right=ord, how = 'left',on='quest_id')"
   ],
   "outputs": [],
   "metadata": {}
  },
  {
   "cell_type": "code",
   "execution_count": 18,
   "source": [
    "#rename columns in result6 file\r\n",
    "querry6.rename(columns={\"hear_AA_1\":\"communication_channel\",'after_AA':\"Bootcamp_Interest\",'other_x':\"Others_Study_Domain\",'other_y':\"Others_Technologies\",'other':\"other_industry\",'Commune_FR':\"commune_name\"}, inplace=True)"
   ],
   "outputs": [],
   "metadata": {}
  },
  {
   "cell_type": "code",
   "execution_count": 19,
   "source": [
    "querry6.head()"
   ],
   "outputs": [
    {
     "output_type": "execute_result",
     "data": {
      "text/plain": [
       "   Unnamed: 0_x  gender        dob commune Application_Date  \\\n",
       "0             0    male 1998-08-25  ht0111       2021-02-14   \n",
       "1             1  female 1996-09-29  ht0111       2021-02-16   \n",
       "2             2    male 1996-05-17  ht0111       2021-02-16   \n",
       "3             3    male 1996-11-24  ht0111       2021-02-16   \n",
       "4             4    male 1997-07-20  ht0111       2021-02-16   \n",
       "\n",
       "                 modified_at_x department         education_level  \\\n",
       "0  2021-02-14T23:03:52.768462Z        NaN                 unknown   \n",
       "1  2021-02-16T16:01:10.861899Z       ht01     Bachelors (bacc +4)   \n",
       "2  2021-02-16T16:56:30.579563Z       ht01     Bachelors (bacc +4)   \n",
       "3  2021-02-16T16:57:55.754582Z       ht01     Bachelors (bacc +4)   \n",
       "4  2021-02-16T17:05:40.907982Z       ht01  High School (16 years)   \n",
       "\n",
       "                                       university        study_domain  ...  \\\n",
       "0                                         unknown                  []  ...   \n",
       "1                                           other           ['other']  ...   \n",
       "2                 Université d'Etat d'Haïti (UEH)                  []  ...   \n",
       "3  Ecole Supérieure d'Infotronique d'Haïti (ESIH)  ['item1', 'item6']  ...   \n",
       "4                                         unknown           ['other']  ...   \n",
       "\n",
       "  user_id_y product_name product_id amount_dollars amount_cents subscription  \\\n",
       "0       NaN          NaN        NaN            NaN          NaN          NaN   \n",
       "1       NaN          NaN        NaN            NaN          NaN          NaN   \n",
       "2       NaN          NaN        NaN            NaN          NaN          NaN   \n",
       "3       NaN          NaN        NaN            NaN          NaN          NaN   \n",
       "4       NaN          NaN        NaN            NaN          NaN          NaN   \n",
       "\n",
       "  coupon_code coupon_id  affiliate_referral_code status  \n",
       "0         NaN       NaN                      NaN    NaN  \n",
       "1         NaN       NaN                      NaN    NaN  \n",
       "2         NaN       NaN                      NaN    NaN  \n",
       "3         NaN       NaN                      NaN    NaN  \n",
       "4         NaN       NaN                      NaN    NaN  \n",
       "\n",
       "[5 rows x 84 columns]"
      ],
      "text/html": [
       "<div>\n",
       "<style scoped>\n",
       "    .dataframe tbody tr th:only-of-type {\n",
       "        vertical-align: middle;\n",
       "    }\n",
       "\n",
       "    .dataframe tbody tr th {\n",
       "        vertical-align: top;\n",
       "    }\n",
       "\n",
       "    .dataframe thead th {\n",
       "        text-align: right;\n",
       "    }\n",
       "</style>\n",
       "<table border=\"1\" class=\"dataframe\">\n",
       "  <thead>\n",
       "    <tr style=\"text-align: right;\">\n",
       "      <th></th>\n",
       "      <th>Unnamed: 0_x</th>\n",
       "      <th>gender</th>\n",
       "      <th>dob</th>\n",
       "      <th>commune</th>\n",
       "      <th>Application_Date</th>\n",
       "      <th>modified_at_x</th>\n",
       "      <th>department</th>\n",
       "      <th>education_level</th>\n",
       "      <th>university</th>\n",
       "      <th>study_domain</th>\n",
       "      <th>...</th>\n",
       "      <th>user_id_y</th>\n",
       "      <th>product_name</th>\n",
       "      <th>product_id</th>\n",
       "      <th>amount_dollars</th>\n",
       "      <th>amount_cents</th>\n",
       "      <th>subscription</th>\n",
       "      <th>coupon_code</th>\n",
       "      <th>coupon_id</th>\n",
       "      <th>affiliate_referral_code</th>\n",
       "      <th>status</th>\n",
       "    </tr>\n",
       "  </thead>\n",
       "  <tbody>\n",
       "    <tr>\n",
       "      <th>0</th>\n",
       "      <td>0</td>\n",
       "      <td>male</td>\n",
       "      <td>1998-08-25</td>\n",
       "      <td>ht0111</td>\n",
       "      <td>2021-02-14</td>\n",
       "      <td>2021-02-14T23:03:52.768462Z</td>\n",
       "      <td>NaN</td>\n",
       "      <td>unknown</td>\n",
       "      <td>unknown</td>\n",
       "      <td>[]</td>\n",
       "      <td>...</td>\n",
       "      <td>NaN</td>\n",
       "      <td>NaN</td>\n",
       "      <td>NaN</td>\n",
       "      <td>NaN</td>\n",
       "      <td>NaN</td>\n",
       "      <td>NaN</td>\n",
       "      <td>NaN</td>\n",
       "      <td>NaN</td>\n",
       "      <td>NaN</td>\n",
       "      <td>NaN</td>\n",
       "    </tr>\n",
       "    <tr>\n",
       "      <th>1</th>\n",
       "      <td>1</td>\n",
       "      <td>female</td>\n",
       "      <td>1996-09-29</td>\n",
       "      <td>ht0111</td>\n",
       "      <td>2021-02-16</td>\n",
       "      <td>2021-02-16T16:01:10.861899Z</td>\n",
       "      <td>ht01</td>\n",
       "      <td>Bachelors (bacc +4)</td>\n",
       "      <td>other</td>\n",
       "      <td>['other']</td>\n",
       "      <td>...</td>\n",
       "      <td>NaN</td>\n",
       "      <td>NaN</td>\n",
       "      <td>NaN</td>\n",
       "      <td>NaN</td>\n",
       "      <td>NaN</td>\n",
       "      <td>NaN</td>\n",
       "      <td>NaN</td>\n",
       "      <td>NaN</td>\n",
       "      <td>NaN</td>\n",
       "      <td>NaN</td>\n",
       "    </tr>\n",
       "    <tr>\n",
       "      <th>2</th>\n",
       "      <td>2</td>\n",
       "      <td>male</td>\n",
       "      <td>1996-05-17</td>\n",
       "      <td>ht0111</td>\n",
       "      <td>2021-02-16</td>\n",
       "      <td>2021-02-16T16:56:30.579563Z</td>\n",
       "      <td>ht01</td>\n",
       "      <td>Bachelors (bacc +4)</td>\n",
       "      <td>Université d'Etat d'Haïti (UEH)</td>\n",
       "      <td>[]</td>\n",
       "      <td>...</td>\n",
       "      <td>NaN</td>\n",
       "      <td>NaN</td>\n",
       "      <td>NaN</td>\n",
       "      <td>NaN</td>\n",
       "      <td>NaN</td>\n",
       "      <td>NaN</td>\n",
       "      <td>NaN</td>\n",
       "      <td>NaN</td>\n",
       "      <td>NaN</td>\n",
       "      <td>NaN</td>\n",
       "    </tr>\n",
       "    <tr>\n",
       "      <th>3</th>\n",
       "      <td>3</td>\n",
       "      <td>male</td>\n",
       "      <td>1996-11-24</td>\n",
       "      <td>ht0111</td>\n",
       "      <td>2021-02-16</td>\n",
       "      <td>2021-02-16T16:57:55.754582Z</td>\n",
       "      <td>ht01</td>\n",
       "      <td>Bachelors (bacc +4)</td>\n",
       "      <td>Ecole Supérieure d'Infotronique d'Haïti (ESIH)</td>\n",
       "      <td>['item1', 'item6']</td>\n",
       "      <td>...</td>\n",
       "      <td>NaN</td>\n",
       "      <td>NaN</td>\n",
       "      <td>NaN</td>\n",
       "      <td>NaN</td>\n",
       "      <td>NaN</td>\n",
       "      <td>NaN</td>\n",
       "      <td>NaN</td>\n",
       "      <td>NaN</td>\n",
       "      <td>NaN</td>\n",
       "      <td>NaN</td>\n",
       "    </tr>\n",
       "    <tr>\n",
       "      <th>4</th>\n",
       "      <td>4</td>\n",
       "      <td>male</td>\n",
       "      <td>1997-07-20</td>\n",
       "      <td>ht0111</td>\n",
       "      <td>2021-02-16</td>\n",
       "      <td>2021-02-16T17:05:40.907982Z</td>\n",
       "      <td>ht01</td>\n",
       "      <td>High School (16 years)</td>\n",
       "      <td>unknown</td>\n",
       "      <td>['other']</td>\n",
       "      <td>...</td>\n",
       "      <td>NaN</td>\n",
       "      <td>NaN</td>\n",
       "      <td>NaN</td>\n",
       "      <td>NaN</td>\n",
       "      <td>NaN</td>\n",
       "      <td>NaN</td>\n",
       "      <td>NaN</td>\n",
       "      <td>NaN</td>\n",
       "      <td>NaN</td>\n",
       "      <td>NaN</td>\n",
       "    </tr>\n",
       "  </tbody>\n",
       "</table>\n",
       "<p>5 rows × 84 columns</p>\n",
       "</div>"
      ]
     },
     "metadata": {},
     "execution_count": 19
    }
   ],
   "metadata": {}
  },
  {
   "cell_type": "code",
   "execution_count": 20,
   "source": [
    "# create columns named \"is_enroll\"and  \"payed\"\r\n",
    "querry6[\"is_enroll\"] = 'No'\r\n",
    "querry6.loc[~querry6.Enroll_Date.isna(),[\"is_enroll\"]] =\"Yes\"\r\n",
    "\r\n",
    "querry6[\"payed\"] = 'No'\r\n",
    "querry6.loc[~(querry6.credit_card_date.isna() & querry6.moncash_date.isna()),[\"payed\"]] =\"Yes\""
   ],
   "outputs": [],
   "metadata": {}
  },
  {
   "cell_type": "code",
   "execution_count": 21,
   "source": [
    "querry6.rename(columns={\"created_at\": \"application_date\", \"hear_AA_1\":\"channels\",\"after_AA\":\"interest\"}, inplace=True)"
   ],
   "outputs": [],
   "metadata": {}
  },
  {
   "cell_type": "code",
   "execution_count": 24,
   "source": [
    "commune[\"Commune_Id\"] = commune[\"Commune_Id\"].str.lower()\r\n",
    "commune.rename(columns = {\"Commune_Id\": \"commune\"}, inplace = True)"
   ],
   "outputs": [],
   "metadata": {}
  },
  {
   "cell_type": "code",
   "execution_count": 25,
   "source": [
    "# Merge Result3 and Commune\r\n",
    "querry7=pd.merge(left=querry6, right=commune[[\"Commune_FR\",\"Departement\", \"commune\"]], how = 'left',on='commune')"
   ],
   "outputs": [],
   "metadata": {}
  },
  {
   "cell_type": "code",
   "execution_count": 61,
   "source": [
    "querry7.head()"
   ],
   "outputs": [
    {
     "output_type": "execute_result",
     "data": {
      "text/plain": [
       "   gender        dob commune Application_Date department  \\\n",
       "0    male 1998-08-25  ht0111       2021-02-14        NaN   \n",
       "1  female 1996-09-29  ht0111       2021-02-16       ht01   \n",
       "2    male 1996-05-17  ht0111       2021-02-16       ht01   \n",
       "3    male 1996-11-24  ht0111       2021-02-16       ht01   \n",
       "4    male 1997-07-20  ht0111       2021-02-16       ht01   \n",
       "\n",
       "          education_level                                      university  \\\n",
       "0                 unknown                                         unknown   \n",
       "1     Bachelors (bacc +4)                                           other   \n",
       "2     Bachelors (bacc +4)                 Université d'Etat d'Haïti (UEH)   \n",
       "3     Bachelors (bacc +4)  Ecole Supérieure d'Infotronique d'Haïti (ESIH)   \n",
       "4  High School (16 years)                                         unknown   \n",
       "\n",
       "  formal_sector_job have_computer_home internet_at_home  ...  \\\n",
       "0           unknown            unknown          unknown  ...   \n",
       "1           unknown                Yes              Yes  ...   \n",
       "2           unknown                Yes              Yes  ...   \n",
       "3           unknown                Yes              Yes  ...   \n",
       "4           unknown                Yes              Yes  ...   \n",
       "\n",
       "  PowerBI or Tableau Python    R  SQL  VBA  Others_Technologies  is_enroll  \\\n",
       "0                NaN    NaN  NaN  NaN  NaN                  NaN        Yes   \n",
       "1                0.0    0.0  1.0  0.0  0.0                  0.0         No   \n",
       "2                0.0    1.0  0.0  1.0  0.0                  0.0        Yes   \n",
       "3                0.0    1.0  0.0  0.0  0.0                  0.0         No   \n",
       "4                0.0    0.0  0.0  0.0  0.0                  0.0         No   \n",
       "\n",
       "   payed      Commune_FR  Departement  \n",
       "0     No  Port-au-Prince         West  \n",
       "1     No  Port-au-Prince         West  \n",
       "2    Yes  Port-au-Prince         West  \n",
       "3     No  Port-au-Prince         West  \n",
       "4     No  Port-au-Prince         West  \n",
       "\n",
       "[5 rows x 39 columns]"
      ],
      "text/html": [
       "<div>\n",
       "<style scoped>\n",
       "    .dataframe tbody tr th:only-of-type {\n",
       "        vertical-align: middle;\n",
       "    }\n",
       "\n",
       "    .dataframe tbody tr th {\n",
       "        vertical-align: top;\n",
       "    }\n",
       "\n",
       "    .dataframe thead th {\n",
       "        text-align: right;\n",
       "    }\n",
       "</style>\n",
       "<table border=\"1\" class=\"dataframe\">\n",
       "  <thead>\n",
       "    <tr style=\"text-align: right;\">\n",
       "      <th></th>\n",
       "      <th>gender</th>\n",
       "      <th>dob</th>\n",
       "      <th>commune</th>\n",
       "      <th>Application_Date</th>\n",
       "      <th>department</th>\n",
       "      <th>education_level</th>\n",
       "      <th>university</th>\n",
       "      <th>formal_sector_job</th>\n",
       "      <th>have_computer_home</th>\n",
       "      <th>internet_at_home</th>\n",
       "      <th>...</th>\n",
       "      <th>PowerBI or Tableau</th>\n",
       "      <th>Python</th>\n",
       "      <th>R</th>\n",
       "      <th>SQL</th>\n",
       "      <th>VBA</th>\n",
       "      <th>Others_Technologies</th>\n",
       "      <th>is_enroll</th>\n",
       "      <th>payed</th>\n",
       "      <th>Commune_FR</th>\n",
       "      <th>Departement</th>\n",
       "    </tr>\n",
       "  </thead>\n",
       "  <tbody>\n",
       "    <tr>\n",
       "      <th>0</th>\n",
       "      <td>male</td>\n",
       "      <td>1998-08-25</td>\n",
       "      <td>ht0111</td>\n",
       "      <td>2021-02-14</td>\n",
       "      <td>NaN</td>\n",
       "      <td>unknown</td>\n",
       "      <td>unknown</td>\n",
       "      <td>unknown</td>\n",
       "      <td>unknown</td>\n",
       "      <td>unknown</td>\n",
       "      <td>...</td>\n",
       "      <td>NaN</td>\n",
       "      <td>NaN</td>\n",
       "      <td>NaN</td>\n",
       "      <td>NaN</td>\n",
       "      <td>NaN</td>\n",
       "      <td>NaN</td>\n",
       "      <td>Yes</td>\n",
       "      <td>No</td>\n",
       "      <td>Port-au-Prince</td>\n",
       "      <td>West</td>\n",
       "    </tr>\n",
       "    <tr>\n",
       "      <th>1</th>\n",
       "      <td>female</td>\n",
       "      <td>1996-09-29</td>\n",
       "      <td>ht0111</td>\n",
       "      <td>2021-02-16</td>\n",
       "      <td>ht01</td>\n",
       "      <td>Bachelors (bacc +4)</td>\n",
       "      <td>other</td>\n",
       "      <td>unknown</td>\n",
       "      <td>Yes</td>\n",
       "      <td>Yes</td>\n",
       "      <td>...</td>\n",
       "      <td>0.0</td>\n",
       "      <td>0.0</td>\n",
       "      <td>1.0</td>\n",
       "      <td>0.0</td>\n",
       "      <td>0.0</td>\n",
       "      <td>0.0</td>\n",
       "      <td>No</td>\n",
       "      <td>No</td>\n",
       "      <td>Port-au-Prince</td>\n",
       "      <td>West</td>\n",
       "    </tr>\n",
       "    <tr>\n",
       "      <th>2</th>\n",
       "      <td>male</td>\n",
       "      <td>1996-05-17</td>\n",
       "      <td>ht0111</td>\n",
       "      <td>2021-02-16</td>\n",
       "      <td>ht01</td>\n",
       "      <td>Bachelors (bacc +4)</td>\n",
       "      <td>Université d'Etat d'Haïti (UEH)</td>\n",
       "      <td>unknown</td>\n",
       "      <td>Yes</td>\n",
       "      <td>Yes</td>\n",
       "      <td>...</td>\n",
       "      <td>0.0</td>\n",
       "      <td>1.0</td>\n",
       "      <td>0.0</td>\n",
       "      <td>1.0</td>\n",
       "      <td>0.0</td>\n",
       "      <td>0.0</td>\n",
       "      <td>Yes</td>\n",
       "      <td>Yes</td>\n",
       "      <td>Port-au-Prince</td>\n",
       "      <td>West</td>\n",
       "    </tr>\n",
       "    <tr>\n",
       "      <th>3</th>\n",
       "      <td>male</td>\n",
       "      <td>1996-11-24</td>\n",
       "      <td>ht0111</td>\n",
       "      <td>2021-02-16</td>\n",
       "      <td>ht01</td>\n",
       "      <td>Bachelors (bacc +4)</td>\n",
       "      <td>Ecole Supérieure d'Infotronique d'Haïti (ESIH)</td>\n",
       "      <td>unknown</td>\n",
       "      <td>Yes</td>\n",
       "      <td>Yes</td>\n",
       "      <td>...</td>\n",
       "      <td>0.0</td>\n",
       "      <td>1.0</td>\n",
       "      <td>0.0</td>\n",
       "      <td>0.0</td>\n",
       "      <td>0.0</td>\n",
       "      <td>0.0</td>\n",
       "      <td>No</td>\n",
       "      <td>No</td>\n",
       "      <td>Port-au-Prince</td>\n",
       "      <td>West</td>\n",
       "    </tr>\n",
       "    <tr>\n",
       "      <th>4</th>\n",
       "      <td>male</td>\n",
       "      <td>1997-07-20</td>\n",
       "      <td>ht0111</td>\n",
       "      <td>2021-02-16</td>\n",
       "      <td>ht01</td>\n",
       "      <td>High School (16 years)</td>\n",
       "      <td>unknown</td>\n",
       "      <td>unknown</td>\n",
       "      <td>Yes</td>\n",
       "      <td>Yes</td>\n",
       "      <td>...</td>\n",
       "      <td>0.0</td>\n",
       "      <td>0.0</td>\n",
       "      <td>0.0</td>\n",
       "      <td>0.0</td>\n",
       "      <td>0.0</td>\n",
       "      <td>0.0</td>\n",
       "      <td>No</td>\n",
       "      <td>No</td>\n",
       "      <td>Port-au-Prince</td>\n",
       "      <td>West</td>\n",
       "    </tr>\n",
       "  </tbody>\n",
       "</table>\n",
       "<p>5 rows × 39 columns</p>\n",
       "</div>"
      ]
     },
     "metadata": {},
     "execution_count": 61
    }
   ],
   "metadata": {}
  },
  {
   "cell_type": "code",
   "execution_count": 29,
   "source": [
    "#rename the columns\r\n",
    "querry7.rename(columns={'hear_AA_1':\"Communication_Channel\",\"after_AA\":\"Bootcamp_Interest\",\"other_x\":\"Other_Study_Domain\",\"created_at\":\"Inscription_Date\"}, inplace=True)"
   ],
   "outputs": [],
   "metadata": {}
  },
  {
   "cell_type": "code",
   "execution_count": 31,
   "source": [
    "querry7.columns"
   ],
   "outputs": [
    {
     "output_type": "execute_result",
     "data": {
      "text/plain": [
       "Index(['Unnamed: 0_x', 'gender', 'dob', 'commune', 'Application_Date',\n",
       "       'modified_at_x', 'department', 'education_level', 'university',\n",
       "       'study_domain', 'current_employed', 'formal_sector_job',\n",
       "       'have_computer_home', 'internet_at_home', 'communication_channel',\n",
       "       'Bootcamp_Interest', 'quest_id', 'age', 'Unnamed: 0_y', 'Enroll_Date',\n",
       "       'expiry_date', 'user_id_x', 'course_name', 'course_id_x',\n",
       "       'percentage_completed', 'completed_at', 'expired', 'is_free_trial',\n",
       "       'completed', 'started_at', 'activated_at', 'updated_at', 'Accounting',\n",
       "       'Computer Science', 'Economics', 'Electrical Engineering', 'Law',\n",
       "       'Management', 'Medicine', 'Statistics', 'Others_Study_Domain', 'Bash',\n",
       "       'Excel', 'Git', 'Java', 'JavaScript', 'PHP', 'PowerBI or Tableau',\n",
       "       'Python', 'R', 'SQL', 'VBA', 'Others_Technologies', 'Communications',\n",
       "       'Consulting', 'Education', 'Energy', 'Finance', 'Healthcare',\n",
       "       'Insurance', 'Manufacturing', 'Marketing',\n",
       "       'Public Sector/ Non-Profit Agencies', 'Retail/ E-Commerce',\n",
       "       'Technology (Software/ Internet)', 'Transportation', 'other_industry',\n",
       "       'Unnamed: 0_x', 'moncash_date', 'modified_at_y', 'course_id_y',\n",
       "       'transaction_id', 'Unnamed: 0_y', 'credit_card_date', 'user_id_y',\n",
       "       'product_name', 'product_id', 'amount_dollars', 'amount_cents',\n",
       "       'subscription', 'coupon_code', 'coupon_id', 'affiliate_referral_code',\n",
       "       'status', 'is_enroll', 'payed', 'Commune_FR', 'Departement'],\n",
       "      dtype='object')"
      ]
     },
     "metadata": {},
     "execution_count": 31
    }
   ],
   "metadata": {}
  },
  {
   "cell_type": "code",
   "execution_count": 47,
   "source": [
    "#Drop Columns\r\n",
    "querry7.drop([ 'user_id_y',\r\n",
    "       'product_name', 'product_id', 'amount_dollars', 'amount_cents',\r\n",
    "       'subscription', 'coupon_code', 'coupon_id', 'affiliate_referral_code',], axis=\"columns\" , inplace=True)"
   ],
   "outputs": [],
   "metadata": {}
  },
  {
   "cell_type": "code",
   "execution_count": 50,
   "source": [
    "#Drop Columns\r\n",
    "querry7.drop([ 'Technology (Software/ Internet)',\r\n",
    "       'Transportation', 'other_industry', 'moncash_date', 'modified_at_y',\r\n",
    "       'course_id_y', 'transaction_id', 'credit_card_date', 'status',], axis=\"columns\" , inplace=True)"
   ],
   "outputs": [],
   "metadata": {}
  },
  {
   "cell_type": "code",
   "execution_count": 112,
   "source": [
    "querry7.info()"
   ],
   "outputs": [
    {
     "output_type": "stream",
     "name": "stdout",
     "text": [
      "<class 'pandas.core.frame.DataFrame'>\n",
      "Int64Index: 250 entries, 0 to 249\n",
      "Data columns (total 36 columns):\n",
      " #   Column                  Non-Null Count  Dtype         \n",
      "---  ------                  --------------  -----         \n",
      " 0   gender                  250 non-null    object        \n",
      " 1   dob                     244 non-null    datetime64[ns]\n",
      " 2   commune                 250 non-null    object        \n",
      " 3   Application_Date        250 non-null    datetime64[ns]\n",
      " 4   education_level         250 non-null    object        \n",
      " 5   university              250 non-null    object        \n",
      " 6   formal_sector_job       250 non-null    object        \n",
      " 7   have_computer_home      250 non-null    object        \n",
      " 8   internet_at_home        250 non-null    object        \n",
      " 9   communication_channel   250 non-null    object        \n",
      " 10  Bootcamp_Interest       250 non-null    object        \n",
      " 11  quest_id                250 non-null    object        \n",
      " 12  age                     250 non-null    object        \n",
      " 13  Accounting              244 non-null    float64       \n",
      " 14  Computer Science        244 non-null    float64       \n",
      " 15  Economics               244 non-null    float64       \n",
      " 16  Electrical Engineering  244 non-null    float64       \n",
      " 17  Law                     244 non-null    float64       \n",
      " 18  Management              244 non-null    float64       \n",
      " 19  Medicine                244 non-null    float64       \n",
      " 20  Statistics              244 non-null    float64       \n",
      " 21  Others_Study_Domain     244 non-null    float64       \n",
      " 22  Excel                   244 non-null    float64       \n",
      " 23  Git                     244 non-null    float64       \n",
      " 24  Java                    244 non-null    float64       \n",
      " 25  JavaScript              244 non-null    float64       \n",
      " 26  PHP                     244 non-null    float64       \n",
      " 27  PowerBI or Tableau      244 non-null    float64       \n",
      " 28  Python                  244 non-null    float64       \n",
      " 29  R                       244 non-null    float64       \n",
      " 30  SQL                     244 non-null    float64       \n",
      " 31  Others_Technologies     244 non-null    float64       \n",
      " 32  is_enroll               250 non-null    object        \n",
      " 33  payed                   250 non-null    object        \n",
      " 34  Commune_FR              250 non-null    object        \n",
      " 35  Departement             250 non-null    object        \n",
      "dtypes: datetime64[ns](2), float64(19), object(15)\n",
      "memory usage: 82.3+ KB\n"
     ]
    }
   ],
   "metadata": {}
  },
  {
   "cell_type": "code",
   "execution_count": 109,
   "source": [
    "querry7.columns"
   ],
   "outputs": [
    {
     "output_type": "execute_result",
     "data": {
      "text/plain": [
       "Index(['gender', 'dob', 'commune', 'Application_Date', 'education_level',\n",
       "       'university', 'formal_sector_job', 'have_computer_home',\n",
       "       'internet_at_home', 'communication_channel', 'Bootcamp_Interest',\n",
       "       'quest_id', 'age', 'Accounting', 'Computer Science', 'Economics',\n",
       "       'Electrical Engineering', 'Law', 'Management', 'Medicine', 'Statistics',\n",
       "       'Others_Study_Domain', 'Excel', 'Git', 'Java', 'JavaScript', 'PHP',\n",
       "       'PowerBI or Tableau', 'Python', 'R', 'SQL', 'Others_Technologies',\n",
       "       'is_enroll', 'payed', 'Commune_FR', 'Departement'],\n",
       "      dtype='object')"
      ]
     },
     "metadata": {},
     "execution_count": 109
    }
   ],
   "metadata": {}
  },
  {
   "cell_type": "code",
   "execution_count": 108,
   "source": [
    "querry7.shape"
   ],
   "outputs": [
    {
     "output_type": "execute_result",
     "data": {
      "text/plain": [
       "(250, 36)"
      ]
     },
     "metadata": {},
     "execution_count": 108
    }
   ],
   "metadata": {}
  },
  {
   "cell_type": "markdown",
   "source": [
    "###  1. How many observations and variables are there in the dataset\n",
    " "
   ],
   "metadata": {}
  },
  {
   "cell_type": "code",
   "execution_count": 74,
   "source": [
    "# here your codes\r\n",
    "x=querry7.shape\r\n",
    "print(\"the dataset have \"+str(x[0])+\" observations and \"+str(x[1])+\" variables\")"
   ],
   "outputs": [
    {
     "output_type": "stream",
     "name": "stdout",
     "text": [
      "the dataset have 250 observations and 36 variables\n"
     ]
    }
   ],
   "metadata": {}
  },
  {
   "cell_type": "markdown",
   "source": [
    "### 2.A Calculate the average age of the observations\n",
    "   * On the whole dataset\n",
    "   * On the whole male dataset\n",
    "   * On all the female dataset\n",
    "### 2.B Calculate \n",
    "   * variance of the whole datatset,male and female\n",
    "   * kurtosis of the whole datatset,male and female\n",
    "   * skewness of the whole datatset,male and female\n",
    "### 2.C Does the age distribution follow a normal distribution \n",
    "   "
   ],
   "metadata": {}
  },
  {
   "cell_type": "code",
   "execution_count": null,
   "source": [
    "#here your codes"
   ],
   "outputs": [],
   "metadata": {}
  },
  {
   "cell_type": "markdown",
   "source": [
    "### 3.Display the age frequency disbrution\n",
    "   * On the whole dataset\n",
    "   * On the whole male dataset\n",
    "   * On all the female dataset"
   ],
   "metadata": {}
  },
  {
   "cell_type": "code",
   "execution_count": null,
   "source": [
    "#here your codes"
   ],
   "outputs": [],
   "metadata": {}
  },
  {
   "cell_type": "markdown",
   "source": [
    "### 4. Can we say that the average age (24 years old) of the observations can be considered as the average age of the population likely to participate in this bootcamp. Justify your answer"
   ],
   "metadata": {}
  },
  {
   "cell_type": "code",
   "execution_count": 5,
   "source": [
    "#here your codes"
   ],
   "outputs": [],
   "metadata": {}
  },
  {
   "cell_type": "markdown",
   "source": [
    "### 5. Calculate the average age of participants for each communication channel"
   ],
   "metadata": {}
  },
  {
   "cell_type": "code",
   "execution_count": 6,
   "source": [
    "#here your codes"
   ],
   "outputs": [],
   "metadata": {}
  },
  {
   "cell_type": "markdown",
   "source": [
    "### 6. Display an age boxplot for each communication channel"
   ],
   "metadata": {}
  },
  {
   "cell_type": "code",
   "execution_count": 7,
   "source": [
    "#here your codes"
   ],
   "outputs": [],
   "metadata": {}
  },
  {
   "cell_type": "markdown",
   "source": [
    "### 7 .Is there a significant age difference between these groups"
   ],
   "metadata": {}
  },
  {
   "cell_type": "code",
   "execution_count": 8,
   "source": [
    "#here your codes"
   ],
   "outputs": [],
   "metadata": {}
  },
  {
   "cell_type": "markdown",
   "source": [
    "### 8.Plan a BA strategy for each communication channel regarding the age group"
   ],
   "metadata": {}
  },
  {
   "cell_type": "code",
   "execution_count": 9,
   "source": [
    "#here your codes"
   ],
   "outputs": [],
   "metadata": {}
  },
  {
   "cell_type": "markdown",
   "source": [
    "### 9.According to the observations what is the probability of being in each channel of communication knowing your are a woman"
   ],
   "metadata": {}
  },
  {
   "cell_type": "code",
   "execution_count": 10,
   "source": [
    "#here your codes"
   ],
   "outputs": [],
   "metadata": {}
  },
  {
   "cell_type": "markdown",
   "source": [
    "### 10.According to the observations what is the probability of being in each channel of communication knowing your are a man"
   ],
   "metadata": {}
  },
  {
   "cell_type": "code",
   "execution_count": 11,
   "source": [
    "#here your codes"
   ],
   "outputs": [],
   "metadata": {}
  },
  {
   "cell_type": "markdown",
   "source": [
    "### 11. Deduce the probability of being a woman knowing each communication channel"
   ],
   "metadata": {}
  },
  {
   "cell_type": "code",
   "execution_count": 12,
   "source": [
    "#here your codes"
   ],
   "outputs": [],
   "metadata": {}
  },
  {
   "cell_type": "markdown",
   "source": [
    "### 13. Deduce the probability of being a woman knowing each communication channel"
   ],
   "metadata": {}
  },
  {
   "cell_type": "code",
   "execution_count": 13,
   "source": [
    "# here your codes"
   ],
   "outputs": [],
   "metadata": {}
  },
  {
   "cell_type": "markdown",
   "source": [
    "### 14. Deduce the probability of being a man knowing each communication channel"
   ],
   "metadata": {}
  },
  {
   "cell_type": "code",
   "execution_count": 14,
   "source": [
    "\r\n",
    "#here your codes"
   ],
   "outputs": [],
   "metadata": {}
  },
  {
   "cell_type": "markdown",
   "source": [
    "### 15 Display a plot to see Gender vs Communication Channels .Is there any dependency between communication channels and gender?"
   ],
   "metadata": {}
  },
  {
   "cell_type": "code",
   "execution_count": 15,
   "source": [
    "#here "
   ],
   "outputs": [],
   "metadata": {}
  },
  {
   "cell_type": "markdown",
   "source": [
    "### 16 Use the same method to display plot and know if is there any dependency between communication channels and Bootcamp Insterest?"
   ],
   "metadata": {}
  },
  {
   "cell_type": "code",
   "execution_count": 16,
   "source": [
    "# here your codes"
   ],
   "outputs": [],
   "metadata": {}
  },
  {
   "cell_type": "markdown",
   "source": [
    "### 17.Plan a BA  strategy for each communication channel, Bootcamp Insterest regarding the gender "
   ],
   "metadata": {}
  },
  {
   "cell_type": "code",
   "execution_count": 17,
   "source": [
    "#here your codes"
   ],
   "outputs": [],
   "metadata": {}
  },
  {
   "cell_type": "markdown",
   "source": [
    "### 18.Plan a BA  strategy for each communication channel, Bootcamp Insterest regarding the gender"
   ],
   "metadata": {}
  },
  {
   "cell_type": "code",
   "execution_count": 18,
   "source": [
    "# here your codes"
   ],
   "outputs": [],
   "metadata": {}
  },
  {
   "cell_type": "markdown",
   "source": [
    "### 19. Calculate \n",
    "    * P(Bootcamp Insterest,Communication channels,Gender/Payed=yes)\n",
    "    * P(Bootcamp Insterest,Communication channels,Gender/Payed=no)"
   ],
   "metadata": {}
  },
  {
   "cell_type": "markdown",
   "source": [
    "### 20 reduce \n",
    "* P(Payed=\"yes\"/Bootcamp Insterest=\"Increase Skill\",Communication channels=\"Friend\",Gender=\"male\")\n",
    "* P(Payed=\"no\"/Bootcamp Insterest=\"Increase Skill\",Communication channels=\"Friend\",Gender=\"male\")"
   ],
   "metadata": {}
  },
  {
   "cell_type": "code",
   "execution_count": 19,
   "source": [
    "# here your codes"
   ],
   "outputs": [],
   "metadata": {}
  },
  {
   "cell_type": "markdown",
   "source": [
    "### Based on these findings, propose strategies to increase our sales?"
   ],
   "metadata": {}
  },
  {
   "cell_type": "code",
   "execution_count": 20,
   "source": [
    "#here your codes"
   ],
   "outputs": [],
   "metadata": {}
  },
  {
   "cell_type": "markdown",
   "source": [],
   "metadata": {}
  }
 ],
 "metadata": {
  "interpreter": {
   "hash": "b3ba2566441a7c06988d0923437866b63cedc61552a5af99d1f4fb67d367b25f"
  },
  "kernelspec": {
   "name": "python3",
   "display_name": "Python 3.8.5 64-bit ('base': conda)"
  },
  "language_info": {
   "codemirror_mode": {
    "name": "ipython",
    "version": 3
   },
   "file_extension": ".py",
   "mimetype": "text/x-python",
   "name": "python",
   "nbconvert_exporter": "python",
   "pygments_lexer": "ipython3",
   "version": "3.8.5"
  },
  "orig_nbformat": 4
 },
 "nbformat": 4,
 "nbformat_minor": 2
}