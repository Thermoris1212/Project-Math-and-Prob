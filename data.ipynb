{
 "cells": [
  {
   "cell_type": "code",
   "execution_count": 2,
   "source": [
    "import numpy as np\r\n",
    "import pandas as pd\r\n",
    "import matplotlib.pyplot as plt\r\n",
    "import datetime as dt\r\n",
    "import re as re\r\n",
    "import seaborn as sns\r\n",
    "import scipy.stats as stats\r\n",
    "from scipy.stats import skew\r\n",
    "from scipy.stats import shapiro\r\n",
    "from scipy.stats import normaltest\r\n",
    "from scipy.stats import anderson\r\n",
    "from scipy.stats import chi2_contingency, jarque_bera"
   ],
   "outputs": [],
   "metadata": {}
  },
  {
   "cell_type": "code",
   "execution_count": 3,
   "source": [
    "# reading files\r\n",
    "commune=pd.read_excel(r\"commune.xlsx\")\r\n",
    "enroll = pd.read_csv(r\"enroll.csv\")\r\n",
    "quest = pd.read_csv(r\"quest.csv\")\r\n",
    "industry = pd.read_csv(r\"industry.csv\")\r\n",
    "ord = pd.read_csv(r\"ord.csv\")\r\n",
    "study_domain = pd.read_csv(r\"study_domain.csv\")\r\n",
    "transaction = pd.read_csv(r\"transaction.csv\")\r\n",
    "technology = pd.read_csv(r\"technology.csv\")"
   ],
   "outputs": [],
   "metadata": {}
  },
  {
   "cell_type": "code",
   "execution_count": 4,
   "source": [
    "commune.head()"
   ],
   "outputs": [
    {
     "output_type": "execute_result",
     "data": {
      "text/plain": [
       "      Commune_en     Commune_FR Commune_Id  Departement ADM1_PCODE\n",
       "0       Abricots       Abricots     HT0812  Grande'Anse       HT08\n",
       "1   Acul du Nord   Acul du Nord     HT0321        North       HT03\n",
       "2  Anse-a-Foleur  Anse-à-Foleur     HT0922   North-West       HT09\n",
       "3   Anse-a-Pitre   Anse-à-Pître     HT0234   South-East       HT02\n",
       "4    Anse-a-Veau    Anse-à-Veau     HT1021       Nippes       HT10"
      ],
      "text/html": [
       "<div>\n",
       "<style scoped>\n",
       "    .dataframe tbody tr th:only-of-type {\n",
       "        vertical-align: middle;\n",
       "    }\n",
       "\n",
       "    .dataframe tbody tr th {\n",
       "        vertical-align: top;\n",
       "    }\n",
       "\n",
       "    .dataframe thead th {\n",
       "        text-align: right;\n",
       "    }\n",
       "</style>\n",
       "<table border=\"1\" class=\"dataframe\">\n",
       "  <thead>\n",
       "    <tr style=\"text-align: right;\">\n",
       "      <th></th>\n",
       "      <th>Commune_en</th>\n",
       "      <th>Commune_FR</th>\n",
       "      <th>Commune_Id</th>\n",
       "      <th>Departement</th>\n",
       "      <th>ADM1_PCODE</th>\n",
       "    </tr>\n",
       "  </thead>\n",
       "  <tbody>\n",
       "    <tr>\n",
       "      <th>0</th>\n",
       "      <td>Abricots</td>\n",
       "      <td>Abricots</td>\n",
       "      <td>HT0812</td>\n",
       "      <td>Grande'Anse</td>\n",
       "      <td>HT08</td>\n",
       "    </tr>\n",
       "    <tr>\n",
       "      <th>1</th>\n",
       "      <td>Acul du Nord</td>\n",
       "      <td>Acul du Nord</td>\n",
       "      <td>HT0321</td>\n",
       "      <td>North</td>\n",
       "      <td>HT03</td>\n",
       "    </tr>\n",
       "    <tr>\n",
       "      <th>2</th>\n",
       "      <td>Anse-a-Foleur</td>\n",
       "      <td>Anse-à-Foleur</td>\n",
       "      <td>HT0922</td>\n",
       "      <td>North-West</td>\n",
       "      <td>HT09</td>\n",
       "    </tr>\n",
       "    <tr>\n",
       "      <th>3</th>\n",
       "      <td>Anse-a-Pitre</td>\n",
       "      <td>Anse-à-Pître</td>\n",
       "      <td>HT0234</td>\n",
       "      <td>South-East</td>\n",
       "      <td>HT02</td>\n",
       "    </tr>\n",
       "    <tr>\n",
       "      <th>4</th>\n",
       "      <td>Anse-a-Veau</td>\n",
       "      <td>Anse-à-Veau</td>\n",
       "      <td>HT1021</td>\n",
       "      <td>Nippes</td>\n",
       "      <td>HT10</td>\n",
       "    </tr>\n",
       "  </tbody>\n",
       "</table>\n",
       "</div>"
      ]
     },
     "metadata": {},
     "execution_count": 4
    }
   ],
   "metadata": {}
  },
  {
   "cell_type": "markdown",
   "source": [
    "Use all the files to have a final datasets to have the following columns\r\n",
    "   <ul>\r\n",
    "    <li>questid</li>\r\n",
    "    <li>gender</li>\r\n",
    "    <li>age (age of applicant)</li>\r\n",
    "    <li>communeName (use data prep in commune file)</li>\r\n",
    "    <li>application_date (created at in quest file)</li>\r\n",
    "    <li>enroll_date (created_at in enroll file)</li>\r\n",
    "    <li>is_enroll (Yes/No) (use data prep in enroll file)</li>\r\n",
    "    <li>Education Level</li>\r\n",
    "   <li>Communication channels(hear_AA1)</li>\r\n",
    "    <li>Bootcamp Insterest (after_AA)</li>\r\n",
    "    <li>Payement Date (use ord and transaction files)</li>\r\n",
    "    <li>Payed (Yes/No)</li>\r\n",
    "    <li>list Technologies as columns based (use get_dummies)</li>\r\n",
    "    <li>list  Study domains (use get_dummies)</li>\r\n",
    "    <li>Job is formal</li>\r\n",
    "    <li>Have computer at home</li>\r\n",
    "    <li>Have internet at home</li>\r\n",
    "    \r\n",
    "   </ul>\r\n",
    "   "
   ],
   "metadata": {}
  },
  {
   "cell_type": "markdown",
   "source": [
    "## Data Processing"
   ],
   "metadata": {}
  },
  {
   "cell_type": "markdown",
   "source": [
    "Show the 5 first rows on the DF"
   ],
   "metadata": {}
  },
  {
   "cell_type": "code",
   "execution_count": 5,
   "source": [
    "quest.dtypes"
   ],
   "outputs": [
    {
     "output_type": "execute_result",
     "data": {
      "text/plain": [
       "Unnamed: 0             int64\n",
       "gender                object\n",
       "dob                   object\n",
       "commune               object\n",
       "created_at            object\n",
       "modified_at           object\n",
       "department            object\n",
       "education_level       object\n",
       "university            object\n",
       "study_domain          object\n",
       "current_employed      object\n",
       "formal_sector_job     object\n",
       "have_computer_home    object\n",
       "internet_at_home      object\n",
       "hear_AA_1             object\n",
       "after_AA              object\n",
       "quest_id              object\n",
       "dtype: object"
      ]
     },
     "metadata": {},
     "execution_count": 5
    }
   ],
   "metadata": {}
  },
  {
   "cell_type": "code",
   "execution_count": 6,
   "source": [
    "quest[\"created_at\"] = quest[\"created_at\"].str[:10]"
   ],
   "outputs": [],
   "metadata": {}
  },
  {
   "cell_type": "code",
   "execution_count": 7,
   "source": [
    "quest.describe()"
   ],
   "outputs": [
    {
     "output_type": "execute_result",
     "data": {
      "text/plain": [
       "       Unnamed: 0\n",
       "count  250.000000\n",
       "mean   124.500000\n",
       "std     72.312977\n",
       "min      0.000000\n",
       "25%     62.250000\n",
       "50%    124.500000\n",
       "75%    186.750000\n",
       "max    249.000000"
      ],
      "text/html": [
       "<div>\n",
       "<style scoped>\n",
       "    .dataframe tbody tr th:only-of-type {\n",
       "        vertical-align: middle;\n",
       "    }\n",
       "\n",
       "    .dataframe tbody tr th {\n",
       "        vertical-align: top;\n",
       "    }\n",
       "\n",
       "    .dataframe thead th {\n",
       "        text-align: right;\n",
       "    }\n",
       "</style>\n",
       "<table border=\"1\" class=\"dataframe\">\n",
       "  <thead>\n",
       "    <tr style=\"text-align: right;\">\n",
       "      <th></th>\n",
       "      <th>Unnamed: 0</th>\n",
       "    </tr>\n",
       "  </thead>\n",
       "  <tbody>\n",
       "    <tr>\n",
       "      <th>count</th>\n",
       "      <td>250.000000</td>\n",
       "    </tr>\n",
       "    <tr>\n",
       "      <th>mean</th>\n",
       "      <td>124.500000</td>\n",
       "    </tr>\n",
       "    <tr>\n",
       "      <th>std</th>\n",
       "      <td>72.312977</td>\n",
       "    </tr>\n",
       "    <tr>\n",
       "      <th>min</th>\n",
       "      <td>0.000000</td>\n",
       "    </tr>\n",
       "    <tr>\n",
       "      <th>25%</th>\n",
       "      <td>62.250000</td>\n",
       "    </tr>\n",
       "    <tr>\n",
       "      <th>50%</th>\n",
       "      <td>124.500000</td>\n",
       "    </tr>\n",
       "    <tr>\n",
       "      <th>75%</th>\n",
       "      <td>186.750000</td>\n",
       "    </tr>\n",
       "    <tr>\n",
       "      <th>max</th>\n",
       "      <td>249.000000</td>\n",
       "    </tr>\n",
       "  </tbody>\n",
       "</table>\n",
       "</div>"
      ]
     },
     "metadata": {},
     "execution_count": 7
    }
   ],
   "metadata": {}
  },
  {
   "cell_type": "code",
   "execution_count": 8,
   "source": [
    "quest.info()"
   ],
   "outputs": [
    {
     "output_type": "stream",
     "name": "stdout",
     "text": [
      "<class 'pandas.core.frame.DataFrame'>\n",
      "RangeIndex: 250 entries, 0 to 249\n",
      "Data columns (total 17 columns):\n",
      " #   Column              Non-Null Count  Dtype \n",
      "---  ------              --------------  ----- \n",
      " 0   Unnamed: 0          250 non-null    int64 \n",
      " 1   gender              250 non-null    object\n",
      " 2   dob                 244 non-null    object\n",
      " 3   commune             250 non-null    object\n",
      " 4   created_at          250 non-null    object\n",
      " 5   modified_at         250 non-null    object\n",
      " 6   department          249 non-null    object\n",
      " 7   education_level     250 non-null    object\n",
      " 8   university          250 non-null    object\n",
      " 9   study_domain        250 non-null    object\n",
      " 10  current_employed    250 non-null    object\n",
      " 11  formal_sector_job   250 non-null    object\n",
      " 12  have_computer_home  250 non-null    object\n",
      " 13  internet_at_home    250 non-null    object\n",
      " 14  hear_AA_1           250 non-null    object\n",
      " 15  after_AA            250 non-null    object\n",
      " 16  quest_id            250 non-null    object\n",
      "dtypes: int64(1), object(16)\n",
      "memory usage: 33.3+ KB\n"
     ]
    }
   ],
   "metadata": {}
  },
  {
   "cell_type": "code",
   "execution_count": 9,
   "source": [
    "#Format in Date \r\n",
    "quest[\"dob\"].replace({\"3 aout 1977\": \"3/08/1977\"}, inplace=True)\r\n",
    "quest[\"dob\"] = pd.to_datetime(quest[\"dob\"])\r\n",
    "\r\n",
    "#Convert \"created_at\" in format date\r\n",
    "quest[\"created_at\"] = pd.to_datetime(quest[\"created_at\"])\r\n",
    "\r\n"
   ],
   "outputs": [],
   "metadata": {}
  },
  {
   "cell_type": "code",
   "execution_count": 10,
   "source": [
    "quest.head()"
   ],
   "outputs": [
    {
     "output_type": "execute_result",
     "data": {
      "text/plain": [
       "   Unnamed: 0  gender        dob commune created_at  \\\n",
       "0           0    male 1998-08-25  ht0111 2021-02-14   \n",
       "1           1  female 1996-09-29  ht0111 2021-02-16   \n",
       "2           2    male 1996-05-17  ht0111 2021-02-16   \n",
       "3           3    male 1996-11-24  ht0111 2021-02-16   \n",
       "4           4    male 1997-07-20  ht0111 2021-02-16   \n",
       "\n",
       "                   modified_at department         education_level  \\\n",
       "0  2021-02-14T23:03:52.768462Z        NaN                 unknown   \n",
       "1  2021-02-16T16:01:10.861899Z       ht01     Bachelors (bacc +4)   \n",
       "2  2021-02-16T16:56:30.579563Z       ht01     Bachelors (bacc +4)   \n",
       "3  2021-02-16T16:57:55.754582Z       ht01     Bachelors (bacc +4)   \n",
       "4  2021-02-16T17:05:40.907982Z       ht01  High School (16 years)   \n",
       "\n",
       "                                       university        study_domain  \\\n",
       "0                                         unknown                  []   \n",
       "1                                           other           ['other']   \n",
       "2                 Université d'Etat d'Haïti (UEH)                  []   \n",
       "3  Ecole Supérieure d'Infotronique d'Haïti (ESIH)  ['item1', 'item6']   \n",
       "4                                         unknown           ['other']   \n",
       "\n",
       "  current_employed formal_sector_job have_computer_home internet_at_home  \\\n",
       "0          unknown           unknown            unknown          unknown   \n",
       "1               No           unknown                Yes              Yes   \n",
       "2               No           unknown                Yes              Yes   \n",
       "3               No           unknown                Yes              Yes   \n",
       "4               No           unknown                Yes              Yes   \n",
       "\n",
       "  hear_AA_1                           after_AA  \\\n",
       "0   unknown                            unknown   \n",
       "1    Friend           Finding a job/internship   \n",
       "2    Friend  Improving my data analysis skills   \n",
       "3      ESIH  Improving my data analysis skills   \n",
       "4  WhatsApp                         Mentorship   \n",
       "\n",
       "                               quest_id  \n",
       "0  905dc006-ce95-11eb-b2f9-7c67a234f601  \n",
       "1  905ddcf2-ce95-11eb-9a92-7c67a234f601  \n",
       "2  905e2608-ce95-11eb-809f-7c67a234f601  \n",
       "3  905e4cf5-ce95-11eb-96a9-7c67a234f601  \n",
       "4  905e73fd-ce95-11eb-a7b0-7c67a234f601  "
      ],
      "text/html": [
       "<div>\n",
       "<style scoped>\n",
       "    .dataframe tbody tr th:only-of-type {\n",
       "        vertical-align: middle;\n",
       "    }\n",
       "\n",
       "    .dataframe tbody tr th {\n",
       "        vertical-align: top;\n",
       "    }\n",
       "\n",
       "    .dataframe thead th {\n",
       "        text-align: right;\n",
       "    }\n",
       "</style>\n",
       "<table border=\"1\" class=\"dataframe\">\n",
       "  <thead>\n",
       "    <tr style=\"text-align: right;\">\n",
       "      <th></th>\n",
       "      <th>Unnamed: 0</th>\n",
       "      <th>gender</th>\n",
       "      <th>dob</th>\n",
       "      <th>commune</th>\n",
       "      <th>created_at</th>\n",
       "      <th>modified_at</th>\n",
       "      <th>department</th>\n",
       "      <th>education_level</th>\n",
       "      <th>university</th>\n",
       "      <th>study_domain</th>\n",
       "      <th>current_employed</th>\n",
       "      <th>formal_sector_job</th>\n",
       "      <th>have_computer_home</th>\n",
       "      <th>internet_at_home</th>\n",
       "      <th>hear_AA_1</th>\n",
       "      <th>after_AA</th>\n",
       "      <th>quest_id</th>\n",
       "    </tr>\n",
       "  </thead>\n",
       "  <tbody>\n",
       "    <tr>\n",
       "      <th>0</th>\n",
       "      <td>0</td>\n",
       "      <td>male</td>\n",
       "      <td>1998-08-25</td>\n",
       "      <td>ht0111</td>\n",
       "      <td>2021-02-14</td>\n",
       "      <td>2021-02-14T23:03:52.768462Z</td>\n",
       "      <td>NaN</td>\n",
       "      <td>unknown</td>\n",
       "      <td>unknown</td>\n",
       "      <td>[]</td>\n",
       "      <td>unknown</td>\n",
       "      <td>unknown</td>\n",
       "      <td>unknown</td>\n",
       "      <td>unknown</td>\n",
       "      <td>unknown</td>\n",
       "      <td>unknown</td>\n",
       "      <td>905dc006-ce95-11eb-b2f9-7c67a234f601</td>\n",
       "    </tr>\n",
       "    <tr>\n",
       "      <th>1</th>\n",
       "      <td>1</td>\n",
       "      <td>female</td>\n",
       "      <td>1996-09-29</td>\n",
       "      <td>ht0111</td>\n",
       "      <td>2021-02-16</td>\n",
       "      <td>2021-02-16T16:01:10.861899Z</td>\n",
       "      <td>ht01</td>\n",
       "      <td>Bachelors (bacc +4)</td>\n",
       "      <td>other</td>\n",
       "      <td>['other']</td>\n",
       "      <td>No</td>\n",
       "      <td>unknown</td>\n",
       "      <td>Yes</td>\n",
       "      <td>Yes</td>\n",
       "      <td>Friend</td>\n",
       "      <td>Finding a job/internship</td>\n",
       "      <td>905ddcf2-ce95-11eb-9a92-7c67a234f601</td>\n",
       "    </tr>\n",
       "    <tr>\n",
       "      <th>2</th>\n",
       "      <td>2</td>\n",
       "      <td>male</td>\n",
       "      <td>1996-05-17</td>\n",
       "      <td>ht0111</td>\n",
       "      <td>2021-02-16</td>\n",
       "      <td>2021-02-16T16:56:30.579563Z</td>\n",
       "      <td>ht01</td>\n",
       "      <td>Bachelors (bacc +4)</td>\n",
       "      <td>Université d'Etat d'Haïti (UEH)</td>\n",
       "      <td>[]</td>\n",
       "      <td>No</td>\n",
       "      <td>unknown</td>\n",
       "      <td>Yes</td>\n",
       "      <td>Yes</td>\n",
       "      <td>Friend</td>\n",
       "      <td>Improving my data analysis skills</td>\n",
       "      <td>905e2608-ce95-11eb-809f-7c67a234f601</td>\n",
       "    </tr>\n",
       "    <tr>\n",
       "      <th>3</th>\n",
       "      <td>3</td>\n",
       "      <td>male</td>\n",
       "      <td>1996-11-24</td>\n",
       "      <td>ht0111</td>\n",
       "      <td>2021-02-16</td>\n",
       "      <td>2021-02-16T16:57:55.754582Z</td>\n",
       "      <td>ht01</td>\n",
       "      <td>Bachelors (bacc +4)</td>\n",
       "      <td>Ecole Supérieure d'Infotronique d'Haïti (ESIH)</td>\n",
       "      <td>['item1', 'item6']</td>\n",
       "      <td>No</td>\n",
       "      <td>unknown</td>\n",
       "      <td>Yes</td>\n",
       "      <td>Yes</td>\n",
       "      <td>ESIH</td>\n",
       "      <td>Improving my data analysis skills</td>\n",
       "      <td>905e4cf5-ce95-11eb-96a9-7c67a234f601</td>\n",
       "    </tr>\n",
       "    <tr>\n",
       "      <th>4</th>\n",
       "      <td>4</td>\n",
       "      <td>male</td>\n",
       "      <td>1997-07-20</td>\n",
       "      <td>ht0111</td>\n",
       "      <td>2021-02-16</td>\n",
       "      <td>2021-02-16T17:05:40.907982Z</td>\n",
       "      <td>ht01</td>\n",
       "      <td>High School (16 years)</td>\n",
       "      <td>unknown</td>\n",
       "      <td>['other']</td>\n",
       "      <td>No</td>\n",
       "      <td>unknown</td>\n",
       "      <td>Yes</td>\n",
       "      <td>Yes</td>\n",
       "      <td>WhatsApp</td>\n",
       "      <td>Mentorship</td>\n",
       "      <td>905e73fd-ce95-11eb-a7b0-7c67a234f601</td>\n",
       "    </tr>\n",
       "  </tbody>\n",
       "</table>\n",
       "</div>"
      ]
     },
     "metadata": {},
     "execution_count": 10
    }
   ],
   "metadata": {}
  },
  {
   "cell_type": "code",
   "execution_count": 11,
   "source": [
    "#Create a Columns \"age\"\r\n",
    "quest[\"age\"] = ((quest[\"created_at\"]-quest[\"dob\"])//365)\r\n",
    "#Choose the two first character in Age\r\n",
    "quest[\"age\"] = quest[\"age\"].apply(lambda x: str(x)[:2])"
   ],
   "outputs": [],
   "metadata": {}
  },
  {
   "cell_type": "code",
   "execution_count": 12,
   "source": [
    "def convAge(x):\r\n",
    "    try:\r\n",
    "        x = int(x)\r\n",
    "        if x <=15:\r\n",
    "            x = np.nan\r\n",
    "    except ValueError:\r\n",
    "        x = np.nan\r\n",
    "    return x\r\n",
    "\r\n",
    "quest[\"age\"] = quest[\"age\"].apply(lambda x: convAge(str(x)[:2]))"
   ],
   "outputs": [],
   "metadata": {}
  },
  {
   "cell_type": "code",
   "execution_count": 13,
   "source": [
    "quest.head()"
   ],
   "outputs": [
    {
     "output_type": "execute_result",
     "data": {
      "text/plain": [
       "   Unnamed: 0  gender        dob commune created_at  \\\n",
       "0           0    male 1998-08-25  ht0111 2021-02-14   \n",
       "1           1  female 1996-09-29  ht0111 2021-02-16   \n",
       "2           2    male 1996-05-17  ht0111 2021-02-16   \n",
       "3           3    male 1996-11-24  ht0111 2021-02-16   \n",
       "4           4    male 1997-07-20  ht0111 2021-02-16   \n",
       "\n",
       "                   modified_at department         education_level  \\\n",
       "0  2021-02-14T23:03:52.768462Z        NaN                 unknown   \n",
       "1  2021-02-16T16:01:10.861899Z       ht01     Bachelors (bacc +4)   \n",
       "2  2021-02-16T16:56:30.579563Z       ht01     Bachelors (bacc +4)   \n",
       "3  2021-02-16T16:57:55.754582Z       ht01     Bachelors (bacc +4)   \n",
       "4  2021-02-16T17:05:40.907982Z       ht01  High School (16 years)   \n",
       "\n",
       "                                       university        study_domain  \\\n",
       "0                                         unknown                  []   \n",
       "1                                           other           ['other']   \n",
       "2                 Université d'Etat d'Haïti (UEH)                  []   \n",
       "3  Ecole Supérieure d'Infotronique d'Haïti (ESIH)  ['item1', 'item6']   \n",
       "4                                         unknown           ['other']   \n",
       "\n",
       "  current_employed formal_sector_job have_computer_home internet_at_home  \\\n",
       "0          unknown           unknown            unknown          unknown   \n",
       "1               No           unknown                Yes              Yes   \n",
       "2               No           unknown                Yes              Yes   \n",
       "3               No           unknown                Yes              Yes   \n",
       "4               No           unknown                Yes              Yes   \n",
       "\n",
       "  hear_AA_1                           after_AA  \\\n",
       "0   unknown                            unknown   \n",
       "1    Friend           Finding a job/internship   \n",
       "2    Friend  Improving my data analysis skills   \n",
       "3      ESIH  Improving my data analysis skills   \n",
       "4  WhatsApp                         Mentorship   \n",
       "\n",
       "                               quest_id   age  \n",
       "0  905dc006-ce95-11eb-b2f9-7c67a234f601  22.0  \n",
       "1  905ddcf2-ce95-11eb-9a92-7c67a234f601  24.0  \n",
       "2  905e2608-ce95-11eb-809f-7c67a234f601  24.0  \n",
       "3  905e4cf5-ce95-11eb-96a9-7c67a234f601  24.0  \n",
       "4  905e73fd-ce95-11eb-a7b0-7c67a234f601  23.0  "
      ],
      "text/html": [
       "<div>\n",
       "<style scoped>\n",
       "    .dataframe tbody tr th:only-of-type {\n",
       "        vertical-align: middle;\n",
       "    }\n",
       "\n",
       "    .dataframe tbody tr th {\n",
       "        vertical-align: top;\n",
       "    }\n",
       "\n",
       "    .dataframe thead th {\n",
       "        text-align: right;\n",
       "    }\n",
       "</style>\n",
       "<table border=\"1\" class=\"dataframe\">\n",
       "  <thead>\n",
       "    <tr style=\"text-align: right;\">\n",
       "      <th></th>\n",
       "      <th>Unnamed: 0</th>\n",
       "      <th>gender</th>\n",
       "      <th>dob</th>\n",
       "      <th>commune</th>\n",
       "      <th>created_at</th>\n",
       "      <th>modified_at</th>\n",
       "      <th>department</th>\n",
       "      <th>education_level</th>\n",
       "      <th>university</th>\n",
       "      <th>study_domain</th>\n",
       "      <th>current_employed</th>\n",
       "      <th>formal_sector_job</th>\n",
       "      <th>have_computer_home</th>\n",
       "      <th>internet_at_home</th>\n",
       "      <th>hear_AA_1</th>\n",
       "      <th>after_AA</th>\n",
       "      <th>quest_id</th>\n",
       "      <th>age</th>\n",
       "    </tr>\n",
       "  </thead>\n",
       "  <tbody>\n",
       "    <tr>\n",
       "      <th>0</th>\n",
       "      <td>0</td>\n",
       "      <td>male</td>\n",
       "      <td>1998-08-25</td>\n",
       "      <td>ht0111</td>\n",
       "      <td>2021-02-14</td>\n",
       "      <td>2021-02-14T23:03:52.768462Z</td>\n",
       "      <td>NaN</td>\n",
       "      <td>unknown</td>\n",
       "      <td>unknown</td>\n",
       "      <td>[]</td>\n",
       "      <td>unknown</td>\n",
       "      <td>unknown</td>\n",
       "      <td>unknown</td>\n",
       "      <td>unknown</td>\n",
       "      <td>unknown</td>\n",
       "      <td>unknown</td>\n",
       "      <td>905dc006-ce95-11eb-b2f9-7c67a234f601</td>\n",
       "      <td>22.0</td>\n",
       "    </tr>\n",
       "    <tr>\n",
       "      <th>1</th>\n",
       "      <td>1</td>\n",
       "      <td>female</td>\n",
       "      <td>1996-09-29</td>\n",
       "      <td>ht0111</td>\n",
       "      <td>2021-02-16</td>\n",
       "      <td>2021-02-16T16:01:10.861899Z</td>\n",
       "      <td>ht01</td>\n",
       "      <td>Bachelors (bacc +4)</td>\n",
       "      <td>other</td>\n",
       "      <td>['other']</td>\n",
       "      <td>No</td>\n",
       "      <td>unknown</td>\n",
       "      <td>Yes</td>\n",
       "      <td>Yes</td>\n",
       "      <td>Friend</td>\n",
       "      <td>Finding a job/internship</td>\n",
       "      <td>905ddcf2-ce95-11eb-9a92-7c67a234f601</td>\n",
       "      <td>24.0</td>\n",
       "    </tr>\n",
       "    <tr>\n",
       "      <th>2</th>\n",
       "      <td>2</td>\n",
       "      <td>male</td>\n",
       "      <td>1996-05-17</td>\n",
       "      <td>ht0111</td>\n",
       "      <td>2021-02-16</td>\n",
       "      <td>2021-02-16T16:56:30.579563Z</td>\n",
       "      <td>ht01</td>\n",
       "      <td>Bachelors (bacc +4)</td>\n",
       "      <td>Université d'Etat d'Haïti (UEH)</td>\n",
       "      <td>[]</td>\n",
       "      <td>No</td>\n",
       "      <td>unknown</td>\n",
       "      <td>Yes</td>\n",
       "      <td>Yes</td>\n",
       "      <td>Friend</td>\n",
       "      <td>Improving my data analysis skills</td>\n",
       "      <td>905e2608-ce95-11eb-809f-7c67a234f601</td>\n",
       "      <td>24.0</td>\n",
       "    </tr>\n",
       "    <tr>\n",
       "      <th>3</th>\n",
       "      <td>3</td>\n",
       "      <td>male</td>\n",
       "      <td>1996-11-24</td>\n",
       "      <td>ht0111</td>\n",
       "      <td>2021-02-16</td>\n",
       "      <td>2021-02-16T16:57:55.754582Z</td>\n",
       "      <td>ht01</td>\n",
       "      <td>Bachelors (bacc +4)</td>\n",
       "      <td>Ecole Supérieure d'Infotronique d'Haïti (ESIH)</td>\n",
       "      <td>['item1', 'item6']</td>\n",
       "      <td>No</td>\n",
       "      <td>unknown</td>\n",
       "      <td>Yes</td>\n",
       "      <td>Yes</td>\n",
       "      <td>ESIH</td>\n",
       "      <td>Improving my data analysis skills</td>\n",
       "      <td>905e4cf5-ce95-11eb-96a9-7c67a234f601</td>\n",
       "      <td>24.0</td>\n",
       "    </tr>\n",
       "    <tr>\n",
       "      <th>4</th>\n",
       "      <td>4</td>\n",
       "      <td>male</td>\n",
       "      <td>1997-07-20</td>\n",
       "      <td>ht0111</td>\n",
       "      <td>2021-02-16</td>\n",
       "      <td>2021-02-16T17:05:40.907982Z</td>\n",
       "      <td>ht01</td>\n",
       "      <td>High School (16 years)</td>\n",
       "      <td>unknown</td>\n",
       "      <td>['other']</td>\n",
       "      <td>No</td>\n",
       "      <td>unknown</td>\n",
       "      <td>Yes</td>\n",
       "      <td>Yes</td>\n",
       "      <td>WhatsApp</td>\n",
       "      <td>Mentorship</td>\n",
       "      <td>905e73fd-ce95-11eb-a7b0-7c67a234f601</td>\n",
       "      <td>23.0</td>\n",
       "    </tr>\n",
       "  </tbody>\n",
       "</table>\n",
       "</div>"
      ]
     },
     "metadata": {},
     "execution_count": 13
    }
   ],
   "metadata": {}
  },
  {
   "cell_type": "code",
   "execution_count": 14,
   "source": [
    "quest.head()"
   ],
   "outputs": [
    {
     "output_type": "execute_result",
     "data": {
      "text/plain": [
       "   Unnamed: 0  gender        dob commune created_at  \\\n",
       "0           0    male 1998-08-25  ht0111 2021-02-14   \n",
       "1           1  female 1996-09-29  ht0111 2021-02-16   \n",
       "2           2    male 1996-05-17  ht0111 2021-02-16   \n",
       "3           3    male 1996-11-24  ht0111 2021-02-16   \n",
       "4           4    male 1997-07-20  ht0111 2021-02-16   \n",
       "\n",
       "                   modified_at department         education_level  \\\n",
       "0  2021-02-14T23:03:52.768462Z        NaN                 unknown   \n",
       "1  2021-02-16T16:01:10.861899Z       ht01     Bachelors (bacc +4)   \n",
       "2  2021-02-16T16:56:30.579563Z       ht01     Bachelors (bacc +4)   \n",
       "3  2021-02-16T16:57:55.754582Z       ht01     Bachelors (bacc +4)   \n",
       "4  2021-02-16T17:05:40.907982Z       ht01  High School (16 years)   \n",
       "\n",
       "                                       university        study_domain  \\\n",
       "0                                         unknown                  []   \n",
       "1                                           other           ['other']   \n",
       "2                 Université d'Etat d'Haïti (UEH)                  []   \n",
       "3  Ecole Supérieure d'Infotronique d'Haïti (ESIH)  ['item1', 'item6']   \n",
       "4                                         unknown           ['other']   \n",
       "\n",
       "  current_employed formal_sector_job have_computer_home internet_at_home  \\\n",
       "0          unknown           unknown            unknown          unknown   \n",
       "1               No           unknown                Yes              Yes   \n",
       "2               No           unknown                Yes              Yes   \n",
       "3               No           unknown                Yes              Yes   \n",
       "4               No           unknown                Yes              Yes   \n",
       "\n",
       "  hear_AA_1                           after_AA  \\\n",
       "0   unknown                            unknown   \n",
       "1    Friend           Finding a job/internship   \n",
       "2    Friend  Improving my data analysis skills   \n",
       "3      ESIH  Improving my data analysis skills   \n",
       "4  WhatsApp                         Mentorship   \n",
       "\n",
       "                               quest_id   age  \n",
       "0  905dc006-ce95-11eb-b2f9-7c67a234f601  22.0  \n",
       "1  905ddcf2-ce95-11eb-9a92-7c67a234f601  24.0  \n",
       "2  905e2608-ce95-11eb-809f-7c67a234f601  24.0  \n",
       "3  905e4cf5-ce95-11eb-96a9-7c67a234f601  24.0  \n",
       "4  905e73fd-ce95-11eb-a7b0-7c67a234f601  23.0  "
      ],
      "text/html": [
       "<div>\n",
       "<style scoped>\n",
       "    .dataframe tbody tr th:only-of-type {\n",
       "        vertical-align: middle;\n",
       "    }\n",
       "\n",
       "    .dataframe tbody tr th {\n",
       "        vertical-align: top;\n",
       "    }\n",
       "\n",
       "    .dataframe thead th {\n",
       "        text-align: right;\n",
       "    }\n",
       "</style>\n",
       "<table border=\"1\" class=\"dataframe\">\n",
       "  <thead>\n",
       "    <tr style=\"text-align: right;\">\n",
       "      <th></th>\n",
       "      <th>Unnamed: 0</th>\n",
       "      <th>gender</th>\n",
       "      <th>dob</th>\n",
       "      <th>commune</th>\n",
       "      <th>created_at</th>\n",
       "      <th>modified_at</th>\n",
       "      <th>department</th>\n",
       "      <th>education_level</th>\n",
       "      <th>university</th>\n",
       "      <th>study_domain</th>\n",
       "      <th>current_employed</th>\n",
       "      <th>formal_sector_job</th>\n",
       "      <th>have_computer_home</th>\n",
       "      <th>internet_at_home</th>\n",
       "      <th>hear_AA_1</th>\n",
       "      <th>after_AA</th>\n",
       "      <th>quest_id</th>\n",
       "      <th>age</th>\n",
       "    </tr>\n",
       "  </thead>\n",
       "  <tbody>\n",
       "    <tr>\n",
       "      <th>0</th>\n",
       "      <td>0</td>\n",
       "      <td>male</td>\n",
       "      <td>1998-08-25</td>\n",
       "      <td>ht0111</td>\n",
       "      <td>2021-02-14</td>\n",
       "      <td>2021-02-14T23:03:52.768462Z</td>\n",
       "      <td>NaN</td>\n",
       "      <td>unknown</td>\n",
       "      <td>unknown</td>\n",
       "      <td>[]</td>\n",
       "      <td>unknown</td>\n",
       "      <td>unknown</td>\n",
       "      <td>unknown</td>\n",
       "      <td>unknown</td>\n",
       "      <td>unknown</td>\n",
       "      <td>unknown</td>\n",
       "      <td>905dc006-ce95-11eb-b2f9-7c67a234f601</td>\n",
       "      <td>22.0</td>\n",
       "    </tr>\n",
       "    <tr>\n",
       "      <th>1</th>\n",
       "      <td>1</td>\n",
       "      <td>female</td>\n",
       "      <td>1996-09-29</td>\n",
       "      <td>ht0111</td>\n",
       "      <td>2021-02-16</td>\n",
       "      <td>2021-02-16T16:01:10.861899Z</td>\n",
       "      <td>ht01</td>\n",
       "      <td>Bachelors (bacc +4)</td>\n",
       "      <td>other</td>\n",
       "      <td>['other']</td>\n",
       "      <td>No</td>\n",
       "      <td>unknown</td>\n",
       "      <td>Yes</td>\n",
       "      <td>Yes</td>\n",
       "      <td>Friend</td>\n",
       "      <td>Finding a job/internship</td>\n",
       "      <td>905ddcf2-ce95-11eb-9a92-7c67a234f601</td>\n",
       "      <td>24.0</td>\n",
       "    </tr>\n",
       "    <tr>\n",
       "      <th>2</th>\n",
       "      <td>2</td>\n",
       "      <td>male</td>\n",
       "      <td>1996-05-17</td>\n",
       "      <td>ht0111</td>\n",
       "      <td>2021-02-16</td>\n",
       "      <td>2021-02-16T16:56:30.579563Z</td>\n",
       "      <td>ht01</td>\n",
       "      <td>Bachelors (bacc +4)</td>\n",
       "      <td>Université d'Etat d'Haïti (UEH)</td>\n",
       "      <td>[]</td>\n",
       "      <td>No</td>\n",
       "      <td>unknown</td>\n",
       "      <td>Yes</td>\n",
       "      <td>Yes</td>\n",
       "      <td>Friend</td>\n",
       "      <td>Improving my data analysis skills</td>\n",
       "      <td>905e2608-ce95-11eb-809f-7c67a234f601</td>\n",
       "      <td>24.0</td>\n",
       "    </tr>\n",
       "    <tr>\n",
       "      <th>3</th>\n",
       "      <td>3</td>\n",
       "      <td>male</td>\n",
       "      <td>1996-11-24</td>\n",
       "      <td>ht0111</td>\n",
       "      <td>2021-02-16</td>\n",
       "      <td>2021-02-16T16:57:55.754582Z</td>\n",
       "      <td>ht01</td>\n",
       "      <td>Bachelors (bacc +4)</td>\n",
       "      <td>Ecole Supérieure d'Infotronique d'Haïti (ESIH)</td>\n",
       "      <td>['item1', 'item6']</td>\n",
       "      <td>No</td>\n",
       "      <td>unknown</td>\n",
       "      <td>Yes</td>\n",
       "      <td>Yes</td>\n",
       "      <td>ESIH</td>\n",
       "      <td>Improving my data analysis skills</td>\n",
       "      <td>905e4cf5-ce95-11eb-96a9-7c67a234f601</td>\n",
       "      <td>24.0</td>\n",
       "    </tr>\n",
       "    <tr>\n",
       "      <th>4</th>\n",
       "      <td>4</td>\n",
       "      <td>male</td>\n",
       "      <td>1997-07-20</td>\n",
       "      <td>ht0111</td>\n",
       "      <td>2021-02-16</td>\n",
       "      <td>2021-02-16T17:05:40.907982Z</td>\n",
       "      <td>ht01</td>\n",
       "      <td>High School (16 years)</td>\n",
       "      <td>unknown</td>\n",
       "      <td>['other']</td>\n",
       "      <td>No</td>\n",
       "      <td>unknown</td>\n",
       "      <td>Yes</td>\n",
       "      <td>Yes</td>\n",
       "      <td>WhatsApp</td>\n",
       "      <td>Mentorship</td>\n",
       "      <td>905e73fd-ce95-11eb-a7b0-7c67a234f601</td>\n",
       "      <td>23.0</td>\n",
       "    </tr>\n",
       "  </tbody>\n",
       "</table>\n",
       "</div>"
      ]
     },
     "metadata": {},
     "execution_count": 14
    }
   ],
   "metadata": {}
  },
  {
   "cell_type": "code",
   "execution_count": 15,
   "source": [
    "#Rename columns Created_at in Transaction\r\n",
    "transaction.rename(columns={\"created_at\":\"moncash_date\"}, inplace=True)\r\n",
    "\r\n",
    "#Rename columns Created_at in Ord\r\n",
    "ord.rename(columns={\"created_at\":\"credit_card_date\"}, inplace=True)\r\n",
    "\r\n",
    "#Rename columns Created_at in enroll\r\n",
    "enroll.rename(columns={\"created_at\":\"Enroll_Date\"}, inplace=True)\r\n",
    "\r\n",
    "#rename columns created-at in quest\r\n",
    "quest.rename(columns={\"created_at\":\"Application_Date\"}, inplace=True)"
   ],
   "outputs": [],
   "metadata": {}
  },
  {
   "cell_type": "code",
   "execution_count": 16,
   "source": [
    "# list  Study domains (use get_dummies)\r\n",
    "study_domainok1 = pd.get_dummies(data=study_domain[[\"key\", \"quest_id\", \"values\"]], columns=['values'], prefix=\"\", prefix_sep=\"\")\r\n",
    "study_domainok2 = study_domainok1.groupby(\"quest_id\").sum()"
   ],
   "outputs": [],
   "metadata": {}
  },
  {
   "cell_type": "code",
   "execution_count": 17,
   "source": [
    "#list Technologies as columns based (use get_dummies)\r\n",
    "technologyok1 = pd.get_dummies(technology[[\"key\", \"quest_id\", \"values\"]], columns=['values'], prefix=\"\", prefix_sep=\"\")\r\n",
    "technologyok2 = technologyok1.groupby(\"quest_id\").sum()"
   ],
   "outputs": [],
   "metadata": {}
  },
  {
   "cell_type": "code",
   "execution_count": 18,
   "source": [
    "# list industry (use get_dummies)\r\n",
    "industryok1= pd.get_dummies(industry[[\"key\", \"quest_id\", \"values\"]], columns=['values'], prefix=\"\", prefix_sep=\"\")\r\n",
    "industryok2= industryok1.groupby(\"quest_id\").sum()"
   ],
   "outputs": [],
   "metadata": {}
  },
  {
   "cell_type": "code",
   "execution_count": 19,
   "source": [
    "\r\n",
    "# Format to date\r\n",
    "transaction.moncash_date = pd.to_datetime(transaction.moncash_date).dt.tz_localize(None)\r\n",
    "ord.credit_card_date= pd.to_datetime(ord.credit_card_date).dt.tz_localize(None)"
   ],
   "outputs": [],
   "metadata": {}
  },
  {
   "cell_type": "code",
   "execution_count": 20,
   "source": [
    "# Merge Tables by \"quest_id\"\r\n",
    "querry0=pd.merge(left=quest, right=enroll, how = 'left',on='quest_id')\r\n",
    "querry1=pd.merge(left=querry0, right=study_domainok2, how = 'left',on='quest_id')\r\n",
    "querry2=pd.merge(left=querry1, right=technologyok2, how = 'left',on='quest_id')\r\n",
    "querry4=pd.merge(left=querry2, right=industryok2, how = 'left',on='quest_id')\r\n"
   ],
   "outputs": [],
   "metadata": {}
  },
  {
   "cell_type": "code",
   "execution_count": 21,
   "source": [
    "querry4.shape"
   ],
   "outputs": [
    {
     "output_type": "execute_result",
     "data": {
      "text/plain": [
       "(250, 67)"
      ]
     },
     "metadata": {},
     "execution_count": 21
    }
   ],
   "metadata": {}
  },
  {
   "cell_type": "code",
   "execution_count": 22,
   "source": [
    "querry4.columns"
   ],
   "outputs": [
    {
     "output_type": "execute_result",
     "data": {
      "text/plain": [
       "Index(['Unnamed: 0_x', 'gender', 'dob', 'commune', 'Application_Date',\n",
       "       'modified_at', 'department', 'education_level', 'university',\n",
       "       'study_domain', 'current_employed', 'formal_sector_job',\n",
       "       'have_computer_home', 'internet_at_home', 'hear_AA_1', 'after_AA',\n",
       "       'quest_id', 'age', 'Unnamed: 0_y', 'Enroll_Date', 'expiry_date',\n",
       "       'user_id', 'course_name', 'course_id', 'percentage_completed',\n",
       "       'completed_at', 'expired', 'is_free_trial', 'completed', 'started_at',\n",
       "       'activated_at', 'updated_at', 'Accounting', 'Computer Science',\n",
       "       'Economics', 'Electrical Engineering', 'Law', 'Management', 'Medicine',\n",
       "       'Statistics', 'other_x', 'Bash', 'Excel', 'Git', 'Java', 'JavaScript',\n",
       "       'PHP', 'PowerBI or Tableau', 'Python', 'R', 'SQL', 'VBA', 'other_y',\n",
       "       'Communications', 'Consulting', 'Education', 'Energy', 'Finance',\n",
       "       'Healthcare', 'Insurance', 'Manufacturing', 'Marketing',\n",
       "       'Public Sector/ Non-Profit Agencies', 'Retail/ E-Commerce',\n",
       "       'Technology (Software/ Internet)', 'Transportation', 'other'],\n",
       "      dtype='object')"
      ]
     },
     "metadata": {},
     "execution_count": 22
    }
   ],
   "metadata": {}
  },
  {
   "cell_type": "code",
   "execution_count": 23,
   "source": [
    "#Merge \"transaction\" by \"user_id\"\r\n",
    "querry5 = pd.merge(left=querry4, right=transaction, how = 'left',on='user_id')\r\n",
    "#Merge \"Ord\" by \"quest_id\"\r\n",
    "querry6 = pd.merge(left=querry5, right=ord, how = 'left',on='quest_id')"
   ],
   "outputs": [],
   "metadata": {}
  },
  {
   "cell_type": "code",
   "execution_count": 24,
   "source": [
    "#rename columns in result6 file\r\n",
    "querry6.rename(columns={\"hear_AA_1\":\"communication_channel\",'after_AA':\"Bootcamp_Interest\",'other_x':\"Others_Study_Domain\",'other_y':\"Others_Technologies\",'other':\"other_industry\",'Commune_FR':\"commune_name\"}, inplace=True)"
   ],
   "outputs": [],
   "metadata": {}
  },
  {
   "cell_type": "code",
   "execution_count": 25,
   "source": [
    "querry6.head()"
   ],
   "outputs": [
    {
     "output_type": "execute_result",
     "data": {
      "text/plain": [
       "   Unnamed: 0_x  gender        dob commune Application_Date  \\\n",
       "0             0    male 1998-08-25  ht0111       2021-02-14   \n",
       "1             1  female 1996-09-29  ht0111       2021-02-16   \n",
       "2             2    male 1996-05-17  ht0111       2021-02-16   \n",
       "3             3    male 1996-11-24  ht0111       2021-02-16   \n",
       "4             4    male 1997-07-20  ht0111       2021-02-16   \n",
       "\n",
       "                 modified_at_x department         education_level  \\\n",
       "0  2021-02-14T23:03:52.768462Z        NaN                 unknown   \n",
       "1  2021-02-16T16:01:10.861899Z       ht01     Bachelors (bacc +4)   \n",
       "2  2021-02-16T16:56:30.579563Z       ht01     Bachelors (bacc +4)   \n",
       "3  2021-02-16T16:57:55.754582Z       ht01     Bachelors (bacc +4)   \n",
       "4  2021-02-16T17:05:40.907982Z       ht01  High School (16 years)   \n",
       "\n",
       "                                       university        study_domain  ...  \\\n",
       "0                                         unknown                  []  ...   \n",
       "1                                           other           ['other']  ...   \n",
       "2                 Université d'Etat d'Haïti (UEH)                  []  ...   \n",
       "3  Ecole Supérieure d'Infotronique d'Haïti (ESIH)  ['item1', 'item6']  ...   \n",
       "4                                         unknown           ['other']  ...   \n",
       "\n",
       "  user_id_y product_name product_id amount_dollars amount_cents subscription  \\\n",
       "0       NaN          NaN        NaN            NaN          NaN          NaN   \n",
       "1       NaN          NaN        NaN            NaN          NaN          NaN   \n",
       "2       NaN          NaN        NaN            NaN          NaN          NaN   \n",
       "3       NaN          NaN        NaN            NaN          NaN          NaN   \n",
       "4       NaN          NaN        NaN            NaN          NaN          NaN   \n",
       "\n",
       "  coupon_code  coupon_id  affiliate_referral_code status  \n",
       "0         NaN        NaN                      NaN    NaN  \n",
       "1         NaN        NaN                      NaN    NaN  \n",
       "2         NaN        NaN                      NaN    NaN  \n",
       "3         NaN        NaN                      NaN    NaN  \n",
       "4         NaN        NaN                      NaN    NaN  \n",
       "\n",
       "[5 rows x 84 columns]"
      ],
      "text/html": [
       "<div>\n",
       "<style scoped>\n",
       "    .dataframe tbody tr th:only-of-type {\n",
       "        vertical-align: middle;\n",
       "    }\n",
       "\n",
       "    .dataframe tbody tr th {\n",
       "        vertical-align: top;\n",
       "    }\n",
       "\n",
       "    .dataframe thead th {\n",
       "        text-align: right;\n",
       "    }\n",
       "</style>\n",
       "<table border=\"1\" class=\"dataframe\">\n",
       "  <thead>\n",
       "    <tr style=\"text-align: right;\">\n",
       "      <th></th>\n",
       "      <th>Unnamed: 0_x</th>\n",
       "      <th>gender</th>\n",
       "      <th>dob</th>\n",
       "      <th>commune</th>\n",
       "      <th>Application_Date</th>\n",
       "      <th>modified_at_x</th>\n",
       "      <th>department</th>\n",
       "      <th>education_level</th>\n",
       "      <th>university</th>\n",
       "      <th>study_domain</th>\n",
       "      <th>...</th>\n",
       "      <th>user_id_y</th>\n",
       "      <th>product_name</th>\n",
       "      <th>product_id</th>\n",
       "      <th>amount_dollars</th>\n",
       "      <th>amount_cents</th>\n",
       "      <th>subscription</th>\n",
       "      <th>coupon_code</th>\n",
       "      <th>coupon_id</th>\n",
       "      <th>affiliate_referral_code</th>\n",
       "      <th>status</th>\n",
       "    </tr>\n",
       "  </thead>\n",
       "  <tbody>\n",
       "    <tr>\n",
       "      <th>0</th>\n",
       "      <td>0</td>\n",
       "      <td>male</td>\n",
       "      <td>1998-08-25</td>\n",
       "      <td>ht0111</td>\n",
       "      <td>2021-02-14</td>\n",
       "      <td>2021-02-14T23:03:52.768462Z</td>\n",
       "      <td>NaN</td>\n",
       "      <td>unknown</td>\n",
       "      <td>unknown</td>\n",
       "      <td>[]</td>\n",
       "      <td>...</td>\n",
       "      <td>NaN</td>\n",
       "      <td>NaN</td>\n",
       "      <td>NaN</td>\n",
       "      <td>NaN</td>\n",
       "      <td>NaN</td>\n",
       "      <td>NaN</td>\n",
       "      <td>NaN</td>\n",
       "      <td>NaN</td>\n",
       "      <td>NaN</td>\n",
       "      <td>NaN</td>\n",
       "    </tr>\n",
       "    <tr>\n",
       "      <th>1</th>\n",
       "      <td>1</td>\n",
       "      <td>female</td>\n",
       "      <td>1996-09-29</td>\n",
       "      <td>ht0111</td>\n",
       "      <td>2021-02-16</td>\n",
       "      <td>2021-02-16T16:01:10.861899Z</td>\n",
       "      <td>ht01</td>\n",
       "      <td>Bachelors (bacc +4)</td>\n",
       "      <td>other</td>\n",
       "      <td>['other']</td>\n",
       "      <td>...</td>\n",
       "      <td>NaN</td>\n",
       "      <td>NaN</td>\n",
       "      <td>NaN</td>\n",
       "      <td>NaN</td>\n",
       "      <td>NaN</td>\n",
       "      <td>NaN</td>\n",
       "      <td>NaN</td>\n",
       "      <td>NaN</td>\n",
       "      <td>NaN</td>\n",
       "      <td>NaN</td>\n",
       "    </tr>\n",
       "    <tr>\n",
       "      <th>2</th>\n",
       "      <td>2</td>\n",
       "      <td>male</td>\n",
       "      <td>1996-05-17</td>\n",
       "      <td>ht0111</td>\n",
       "      <td>2021-02-16</td>\n",
       "      <td>2021-02-16T16:56:30.579563Z</td>\n",
       "      <td>ht01</td>\n",
       "      <td>Bachelors (bacc +4)</td>\n",
       "      <td>Université d'Etat d'Haïti (UEH)</td>\n",
       "      <td>[]</td>\n",
       "      <td>...</td>\n",
       "      <td>NaN</td>\n",
       "      <td>NaN</td>\n",
       "      <td>NaN</td>\n",
       "      <td>NaN</td>\n",
       "      <td>NaN</td>\n",
       "      <td>NaN</td>\n",
       "      <td>NaN</td>\n",
       "      <td>NaN</td>\n",
       "      <td>NaN</td>\n",
       "      <td>NaN</td>\n",
       "    </tr>\n",
       "    <tr>\n",
       "      <th>3</th>\n",
       "      <td>3</td>\n",
       "      <td>male</td>\n",
       "      <td>1996-11-24</td>\n",
       "      <td>ht0111</td>\n",
       "      <td>2021-02-16</td>\n",
       "      <td>2021-02-16T16:57:55.754582Z</td>\n",
       "      <td>ht01</td>\n",
       "      <td>Bachelors (bacc +4)</td>\n",
       "      <td>Ecole Supérieure d'Infotronique d'Haïti (ESIH)</td>\n",
       "      <td>['item1', 'item6']</td>\n",
       "      <td>...</td>\n",
       "      <td>NaN</td>\n",
       "      <td>NaN</td>\n",
       "      <td>NaN</td>\n",
       "      <td>NaN</td>\n",
       "      <td>NaN</td>\n",
       "      <td>NaN</td>\n",
       "      <td>NaN</td>\n",
       "      <td>NaN</td>\n",
       "      <td>NaN</td>\n",
       "      <td>NaN</td>\n",
       "    </tr>\n",
       "    <tr>\n",
       "      <th>4</th>\n",
       "      <td>4</td>\n",
       "      <td>male</td>\n",
       "      <td>1997-07-20</td>\n",
       "      <td>ht0111</td>\n",
       "      <td>2021-02-16</td>\n",
       "      <td>2021-02-16T17:05:40.907982Z</td>\n",
       "      <td>ht01</td>\n",
       "      <td>High School (16 years)</td>\n",
       "      <td>unknown</td>\n",
       "      <td>['other']</td>\n",
       "      <td>...</td>\n",
       "      <td>NaN</td>\n",
       "      <td>NaN</td>\n",
       "      <td>NaN</td>\n",
       "      <td>NaN</td>\n",
       "      <td>NaN</td>\n",
       "      <td>NaN</td>\n",
       "      <td>NaN</td>\n",
       "      <td>NaN</td>\n",
       "      <td>NaN</td>\n",
       "      <td>NaN</td>\n",
       "    </tr>\n",
       "  </tbody>\n",
       "</table>\n",
       "<p>5 rows × 84 columns</p>\n",
       "</div>"
      ]
     },
     "metadata": {},
     "execution_count": 25
    }
   ],
   "metadata": {}
  },
  {
   "cell_type": "code",
   "execution_count": 26,
   "source": [
    "# create columns named \"is_enroll\"and  \"payed\"\r\n",
    "querry6[\"is_enroll\"] = 'No'\r\n",
    "querry6.loc[~querry6.Enroll_Date.isna(),[\"is_enroll\"]] =\"Yes\"\r\n",
    "\r\n",
    "querry6[\"payed\"] = 'No'\r\n",
    "querry6.loc[~(querry6.credit_card_date.isna() & querry6.moncash_date.isna()),[\"payed\"]] =\"Yes\""
   ],
   "outputs": [],
   "metadata": {}
  },
  {
   "cell_type": "code",
   "execution_count": 27,
   "source": [
    "querry6.rename(columns={\"created_at\": \"application_date\", \"hear_AA_1\":\"channels\",\"after_AA\":\"interest\"}, inplace=True)"
   ],
   "outputs": [],
   "metadata": {}
  },
  {
   "cell_type": "code",
   "execution_count": 28,
   "source": [
    "commune[\"Commune_Id\"] = commune[\"Commune_Id\"].str.lower()\r\n",
    "commune.rename(columns = {\"Commune_Id\": \"commune\"}, inplace = True)"
   ],
   "outputs": [],
   "metadata": {}
  },
  {
   "cell_type": "code",
   "execution_count": 29,
   "source": [
    "# Merge Result3 and Commune\r\n",
    "querry7=pd.merge(left=querry6, right=commune[[\"Commune_FR\",\"Departement\", \"commune\"]], how = 'left',on='commune')"
   ],
   "outputs": [],
   "metadata": {}
  },
  {
   "cell_type": "code",
   "execution_count": 30,
   "source": [
    "querry7.head()"
   ],
   "outputs": [
    {
     "output_type": "execute_result",
     "data": {
      "text/plain": [
       "   Unnamed: 0_x  gender        dob commune Application_Date  \\\n",
       "0             0    male 1998-08-25  ht0111       2021-02-14   \n",
       "1             1  female 1996-09-29  ht0111       2021-02-16   \n",
       "2             2    male 1996-05-17  ht0111       2021-02-16   \n",
       "3             3    male 1996-11-24  ht0111       2021-02-16   \n",
       "4             4    male 1997-07-20  ht0111       2021-02-16   \n",
       "\n",
       "                 modified_at_x department         education_level  \\\n",
       "0  2021-02-14T23:03:52.768462Z        NaN                 unknown   \n",
       "1  2021-02-16T16:01:10.861899Z       ht01     Bachelors (bacc +4)   \n",
       "2  2021-02-16T16:56:30.579563Z       ht01     Bachelors (bacc +4)   \n",
       "3  2021-02-16T16:57:55.754582Z       ht01     Bachelors (bacc +4)   \n",
       "4  2021-02-16T17:05:40.907982Z       ht01  High School (16 years)   \n",
       "\n",
       "                                       university        study_domain  ...  \\\n",
       "0                                         unknown                  []  ...   \n",
       "1                                           other           ['other']  ...   \n",
       "2                 Université d'Etat d'Haïti (UEH)                  []  ...   \n",
       "3  Ecole Supérieure d'Infotronique d'Haïti (ESIH)  ['item1', 'item6']  ...   \n",
       "4                                         unknown           ['other']  ...   \n",
       "\n",
       "  amount_cents subscription coupon_code coupon_id affiliate_referral_code  \\\n",
       "0          NaN          NaN         NaN       NaN                     NaN   \n",
       "1          NaN          NaN         NaN       NaN                     NaN   \n",
       "2          NaN          NaN         NaN       NaN                     NaN   \n",
       "3          NaN          NaN         NaN       NaN                     NaN   \n",
       "4          NaN          NaN         NaN       NaN                     NaN   \n",
       "\n",
       "  status is_enroll  payed      Commune_FR Departement  \n",
       "0    NaN       Yes     No  Port-au-Prince        West  \n",
       "1    NaN        No     No  Port-au-Prince        West  \n",
       "2    NaN       Yes    Yes  Port-au-Prince        West  \n",
       "3    NaN        No     No  Port-au-Prince        West  \n",
       "4    NaN        No     No  Port-au-Prince        West  \n",
       "\n",
       "[5 rows x 88 columns]"
      ],
      "text/html": [
       "<div>\n",
       "<style scoped>\n",
       "    .dataframe tbody tr th:only-of-type {\n",
       "        vertical-align: middle;\n",
       "    }\n",
       "\n",
       "    .dataframe tbody tr th {\n",
       "        vertical-align: top;\n",
       "    }\n",
       "\n",
       "    .dataframe thead th {\n",
       "        text-align: right;\n",
       "    }\n",
       "</style>\n",
       "<table border=\"1\" class=\"dataframe\">\n",
       "  <thead>\n",
       "    <tr style=\"text-align: right;\">\n",
       "      <th></th>\n",
       "      <th>Unnamed: 0_x</th>\n",
       "      <th>gender</th>\n",
       "      <th>dob</th>\n",
       "      <th>commune</th>\n",
       "      <th>Application_Date</th>\n",
       "      <th>modified_at_x</th>\n",
       "      <th>department</th>\n",
       "      <th>education_level</th>\n",
       "      <th>university</th>\n",
       "      <th>study_domain</th>\n",
       "      <th>...</th>\n",
       "      <th>amount_cents</th>\n",
       "      <th>subscription</th>\n",
       "      <th>coupon_code</th>\n",
       "      <th>coupon_id</th>\n",
       "      <th>affiliate_referral_code</th>\n",
       "      <th>status</th>\n",
       "      <th>is_enroll</th>\n",
       "      <th>payed</th>\n",
       "      <th>Commune_FR</th>\n",
       "      <th>Departement</th>\n",
       "    </tr>\n",
       "  </thead>\n",
       "  <tbody>\n",
       "    <tr>\n",
       "      <th>0</th>\n",
       "      <td>0</td>\n",
       "      <td>male</td>\n",
       "      <td>1998-08-25</td>\n",
       "      <td>ht0111</td>\n",
       "      <td>2021-02-14</td>\n",
       "      <td>2021-02-14T23:03:52.768462Z</td>\n",
       "      <td>NaN</td>\n",
       "      <td>unknown</td>\n",
       "      <td>unknown</td>\n",
       "      <td>[]</td>\n",
       "      <td>...</td>\n",
       "      <td>NaN</td>\n",
       "      <td>NaN</td>\n",
       "      <td>NaN</td>\n",
       "      <td>NaN</td>\n",
       "      <td>NaN</td>\n",
       "      <td>NaN</td>\n",
       "      <td>Yes</td>\n",
       "      <td>No</td>\n",
       "      <td>Port-au-Prince</td>\n",
       "      <td>West</td>\n",
       "    </tr>\n",
       "    <tr>\n",
       "      <th>1</th>\n",
       "      <td>1</td>\n",
       "      <td>female</td>\n",
       "      <td>1996-09-29</td>\n",
       "      <td>ht0111</td>\n",
       "      <td>2021-02-16</td>\n",
       "      <td>2021-02-16T16:01:10.861899Z</td>\n",
       "      <td>ht01</td>\n",
       "      <td>Bachelors (bacc +4)</td>\n",
       "      <td>other</td>\n",
       "      <td>['other']</td>\n",
       "      <td>...</td>\n",
       "      <td>NaN</td>\n",
       "      <td>NaN</td>\n",
       "      <td>NaN</td>\n",
       "      <td>NaN</td>\n",
       "      <td>NaN</td>\n",
       "      <td>NaN</td>\n",
       "      <td>No</td>\n",
       "      <td>No</td>\n",
       "      <td>Port-au-Prince</td>\n",
       "      <td>West</td>\n",
       "    </tr>\n",
       "    <tr>\n",
       "      <th>2</th>\n",
       "      <td>2</td>\n",
       "      <td>male</td>\n",
       "      <td>1996-05-17</td>\n",
       "      <td>ht0111</td>\n",
       "      <td>2021-02-16</td>\n",
       "      <td>2021-02-16T16:56:30.579563Z</td>\n",
       "      <td>ht01</td>\n",
       "      <td>Bachelors (bacc +4)</td>\n",
       "      <td>Université d'Etat d'Haïti (UEH)</td>\n",
       "      <td>[]</td>\n",
       "      <td>...</td>\n",
       "      <td>NaN</td>\n",
       "      <td>NaN</td>\n",
       "      <td>NaN</td>\n",
       "      <td>NaN</td>\n",
       "      <td>NaN</td>\n",
       "      <td>NaN</td>\n",
       "      <td>Yes</td>\n",
       "      <td>Yes</td>\n",
       "      <td>Port-au-Prince</td>\n",
       "      <td>West</td>\n",
       "    </tr>\n",
       "    <tr>\n",
       "      <th>3</th>\n",
       "      <td>3</td>\n",
       "      <td>male</td>\n",
       "      <td>1996-11-24</td>\n",
       "      <td>ht0111</td>\n",
       "      <td>2021-02-16</td>\n",
       "      <td>2021-02-16T16:57:55.754582Z</td>\n",
       "      <td>ht01</td>\n",
       "      <td>Bachelors (bacc +4)</td>\n",
       "      <td>Ecole Supérieure d'Infotronique d'Haïti (ESIH)</td>\n",
       "      <td>['item1', 'item6']</td>\n",
       "      <td>...</td>\n",
       "      <td>NaN</td>\n",
       "      <td>NaN</td>\n",
       "      <td>NaN</td>\n",
       "      <td>NaN</td>\n",
       "      <td>NaN</td>\n",
       "      <td>NaN</td>\n",
       "      <td>No</td>\n",
       "      <td>No</td>\n",
       "      <td>Port-au-Prince</td>\n",
       "      <td>West</td>\n",
       "    </tr>\n",
       "    <tr>\n",
       "      <th>4</th>\n",
       "      <td>4</td>\n",
       "      <td>male</td>\n",
       "      <td>1997-07-20</td>\n",
       "      <td>ht0111</td>\n",
       "      <td>2021-02-16</td>\n",
       "      <td>2021-02-16T17:05:40.907982Z</td>\n",
       "      <td>ht01</td>\n",
       "      <td>High School (16 years)</td>\n",
       "      <td>unknown</td>\n",
       "      <td>['other']</td>\n",
       "      <td>...</td>\n",
       "      <td>NaN</td>\n",
       "      <td>NaN</td>\n",
       "      <td>NaN</td>\n",
       "      <td>NaN</td>\n",
       "      <td>NaN</td>\n",
       "      <td>NaN</td>\n",
       "      <td>No</td>\n",
       "      <td>No</td>\n",
       "      <td>Port-au-Prince</td>\n",
       "      <td>West</td>\n",
       "    </tr>\n",
       "  </tbody>\n",
       "</table>\n",
       "<p>5 rows × 88 columns</p>\n",
       "</div>"
      ]
     },
     "metadata": {},
     "execution_count": 30
    }
   ],
   "metadata": {}
  },
  {
   "cell_type": "code",
   "execution_count": 31,
   "source": [
    "#rename the columns\r\n",
    "querry7.rename(columns={'hear_AA_1':\"Communication_Channel\",\"after_AA\":\"Bootcamp_Interest\",\"other_x\":\"Other_Study_Domain\",\"created_at\":\"Inscription_Date\"}, inplace=True)"
   ],
   "outputs": [],
   "metadata": {}
  },
  {
   "cell_type": "code",
   "execution_count": 32,
   "source": [
    "querry7.columns"
   ],
   "outputs": [
    {
     "output_type": "execute_result",
     "data": {
      "text/plain": [
       "Index(['Unnamed: 0_x', 'gender', 'dob', 'commune', 'Application_Date',\n",
       "       'modified_at_x', 'department', 'education_level', 'university',\n",
       "       'study_domain', 'current_employed', 'formal_sector_job',\n",
       "       'have_computer_home', 'internet_at_home', 'communication_channel',\n",
       "       'Bootcamp_Interest', 'quest_id', 'age', 'Unnamed: 0_y', 'Enroll_Date',\n",
       "       'expiry_date', 'user_id_x', 'course_name', 'course_id_x',\n",
       "       'percentage_completed', 'completed_at', 'expired', 'is_free_trial',\n",
       "       'completed', 'started_at', 'activated_at', 'updated_at', 'Accounting',\n",
       "       'Computer Science', 'Economics', 'Electrical Engineering', 'Law',\n",
       "       'Management', 'Medicine', 'Statistics', 'Others_Study_Domain', 'Bash',\n",
       "       'Excel', 'Git', 'Java', 'JavaScript', 'PHP', 'PowerBI or Tableau',\n",
       "       'Python', 'R', 'SQL', 'VBA', 'Others_Technologies', 'Communications',\n",
       "       'Consulting', 'Education', 'Energy', 'Finance', 'Healthcare',\n",
       "       'Insurance', 'Manufacturing', 'Marketing',\n",
       "       'Public Sector/ Non-Profit Agencies', 'Retail/ E-Commerce',\n",
       "       'Technology (Software/ Internet)', 'Transportation', 'other_industry',\n",
       "       'Unnamed: 0_x', 'moncash_date', 'modified_at_y', 'course_id_y',\n",
       "       'transaction_id', 'Unnamed: 0_y', 'credit_card_date', 'user_id_y',\n",
       "       'product_name', 'product_id', 'amount_dollars', 'amount_cents',\n",
       "       'subscription', 'coupon_code', 'coupon_id', 'affiliate_referral_code',\n",
       "       'status', 'is_enroll', 'payed', 'Commune_FR', 'Departement'],\n",
       "      dtype='object')"
      ]
     },
     "metadata": {},
     "execution_count": 32
    }
   ],
   "metadata": {}
  },
  {
   "cell_type": "code",
   "execution_count": 33,
   "source": [
    "#Drop Columns\r\n",
    "querry7.drop([ 'user_id_y',\r\n",
    "       'product_name', 'product_id', 'amount_dollars', 'amount_cents',\r\n",
    "       'subscription', 'coupon_code', 'coupon_id', 'affiliate_referral_code',], axis=\"columns\" , inplace=True)"
   ],
   "outputs": [],
   "metadata": {}
  },
  {
   "cell_type": "code",
   "execution_count": 34,
   "source": [
    "#Drop Columns\r\n",
    "querry7.drop([ 'Technology (Software/ Internet)',\r\n",
    "       'Transportation', 'other_industry', 'moncash_date', 'modified_at_y',\r\n",
    "       'course_id_y', 'transaction_id', 'credit_card_date', 'status',], axis=\"columns\" , inplace=True)"
   ],
   "outputs": [],
   "metadata": {}
  },
  {
   "cell_type": "code",
   "execution_count": 35,
   "source": [
    "querry7.info()"
   ],
   "outputs": [
    {
     "output_type": "stream",
     "name": "stdout",
     "text": [
      "<class 'pandas.core.frame.DataFrame'>\n",
      "Int64Index: 250 entries, 0 to 249\n",
      "Data columns (total 70 columns):\n",
      " #   Column                              Non-Null Count  Dtype         \n",
      "---  ------                              --------------  -----         \n",
      " 0   Unnamed: 0_x                        250 non-null    int64         \n",
      " 1   gender                              250 non-null    object        \n",
      " 2   dob                                 244 non-null    datetime64[ns]\n",
      " 3   commune                             250 non-null    object        \n",
      " 4   Application_Date                    250 non-null    datetime64[ns]\n",
      " 5   modified_at_x                       250 non-null    object        \n",
      " 6   department                          249 non-null    object        \n",
      " 7   education_level                     250 non-null    object        \n",
      " 8   university                          250 non-null    object        \n",
      " 9   study_domain                        250 non-null    object        \n",
      " 10  current_employed                    250 non-null    object        \n",
      " 11  formal_sector_job                   250 non-null    object        \n",
      " 12  have_computer_home                  250 non-null    object        \n",
      " 13  internet_at_home                    250 non-null    object        \n",
      " 14  communication_channel               250 non-null    object        \n",
      " 15  Bootcamp_Interest                   250 non-null    object        \n",
      " 16  quest_id                            250 non-null    object        \n",
      " 17  age                                 237 non-null    float64       \n",
      " 18  Unnamed: 0_y                        102 non-null    float64       \n",
      " 19  Enroll_Date                         102 non-null    object        \n",
      " 20  expiry_date                         51 non-null     object        \n",
      " 21  user_id_x                           102 non-null    float64       \n",
      " 22  course_name                         102 non-null    object        \n",
      " 23  course_id_x                         102 non-null    float64       \n",
      " 24  percentage_completed                102 non-null    float64       \n",
      " 25  completed_at                        0 non-null      float64       \n",
      " 26  expired                             102 non-null    object        \n",
      " 27  is_free_trial                       102 non-null    object        \n",
      " 28  completed                           102 non-null    object        \n",
      " 29  started_at                          100 non-null    object        \n",
      " 30  activated_at                        65 non-null     object        \n",
      " 31  updated_at                          102 non-null    object        \n",
      " 32  Accounting                          244 non-null    float64       \n",
      " 33  Computer Science                    244 non-null    float64       \n",
      " 34  Economics                           244 non-null    float64       \n",
      " 35  Electrical Engineering              244 non-null    float64       \n",
      " 36  Law                                 244 non-null    float64       \n",
      " 37  Management                          244 non-null    float64       \n",
      " 38  Medicine                            244 non-null    float64       \n",
      " 39  Statistics                          244 non-null    float64       \n",
      " 40  Others_Study_Domain                 244 non-null    float64       \n",
      " 41  Bash                                244 non-null    float64       \n",
      " 42  Excel                               244 non-null    float64       \n",
      " 43  Git                                 244 non-null    float64       \n",
      " 44  Java                                244 non-null    float64       \n",
      " 45  JavaScript                          244 non-null    float64       \n",
      " 46  PHP                                 244 non-null    float64       \n",
      " 47  PowerBI or Tableau                  244 non-null    float64       \n",
      " 48  Python                              244 non-null    float64       \n",
      " 49  R                                   244 non-null    float64       \n",
      " 50  SQL                                 244 non-null    float64       \n",
      " 51  VBA                                 244 non-null    float64       \n",
      " 52  Others_Technologies                 244 non-null    float64       \n",
      " 53  Communications                      246 non-null    float64       \n",
      " 54  Consulting                          246 non-null    float64       \n",
      " 55  Education                           246 non-null    float64       \n",
      " 56  Energy                              246 non-null    float64       \n",
      " 57  Finance                             246 non-null    float64       \n",
      " 58  Healthcare                          246 non-null    float64       \n",
      " 59  Insurance                           246 non-null    float64       \n",
      " 60  Manufacturing                       246 non-null    float64       \n",
      " 61  Marketing                           246 non-null    float64       \n",
      " 62  Public Sector/ Non-Profit Agencies  246 non-null    float64       \n",
      " 63  Retail/ E-Commerce                  246 non-null    float64       \n",
      " 64  Unnamed: 0_x                        51 non-null     float64       \n",
      " 65  Unnamed: 0_y                        14 non-null     float64       \n",
      " 66  is_enroll                           250 non-null    object        \n",
      " 67  payed                               250 non-null    object        \n",
      " 68  Commune_FR                          250 non-null    object        \n",
      " 69  Departement                         250 non-null    object        \n",
      "dtypes: datetime64[ns](2), float64(40), int64(1), object(27)\n",
      "memory usage: 138.7+ KB\n"
     ]
    }
   ],
   "metadata": {}
  },
  {
   "cell_type": "code",
   "execution_count": 36,
   "source": [
    "querry7.columns"
   ],
   "outputs": [
    {
     "output_type": "execute_result",
     "data": {
      "text/plain": [
       "Index(['Unnamed: 0_x', 'gender', 'dob', 'commune', 'Application_Date',\n",
       "       'modified_at_x', 'department', 'education_level', 'university',\n",
       "       'study_domain', 'current_employed', 'formal_sector_job',\n",
       "       'have_computer_home', 'internet_at_home', 'communication_channel',\n",
       "       'Bootcamp_Interest', 'quest_id', 'age', 'Unnamed: 0_y', 'Enroll_Date',\n",
       "       'expiry_date', 'user_id_x', 'course_name', 'course_id_x',\n",
       "       'percentage_completed', 'completed_at', 'expired', 'is_free_trial',\n",
       "       'completed', 'started_at', 'activated_at', 'updated_at', 'Accounting',\n",
       "       'Computer Science', 'Economics', 'Electrical Engineering', 'Law',\n",
       "       'Management', 'Medicine', 'Statistics', 'Others_Study_Domain', 'Bash',\n",
       "       'Excel', 'Git', 'Java', 'JavaScript', 'PHP', 'PowerBI or Tableau',\n",
       "       'Python', 'R', 'SQL', 'VBA', 'Others_Technologies', 'Communications',\n",
       "       'Consulting', 'Education', 'Energy', 'Finance', 'Healthcare',\n",
       "       'Insurance', 'Manufacturing', 'Marketing',\n",
       "       'Public Sector/ Non-Profit Agencies', 'Retail/ E-Commerce',\n",
       "       'Unnamed: 0_x', 'Unnamed: 0_y', 'is_enroll', 'payed', 'Commune_FR',\n",
       "       'Departement'],\n",
       "      dtype='object')"
      ]
     },
     "metadata": {},
     "execution_count": 36
    }
   ],
   "metadata": {}
  },
  {
   "cell_type": "code",
   "execution_count": 37,
   "source": [
    "querry7.drop([ 'Unnamed: 0_x','dob', 'commune','modified_at_x','study_domain','current_employed','Unnamed: 0_y','expiry_date', 'user_id_x', 'course_name', 'course_id_x','percentage_completed', 'completed_at', 'expired', 'is_free_trial',\r\n",
    "       'completed', 'started_at', 'activated_at', 'updated_at','Bash', 'VBA', 'Communications',\r\n",
    "       'Consulting', 'Education', 'Energy', 'Finance', 'Healthcare',\r\n",
    "       'Insurance', 'Manufacturing', 'Marketing',\r\n",
    "       'Public Sector/ Non-Profit Agencies', 'Retail/ E-Commerce',\r\n",
    "       'Unnamed: 0_x', 'Unnamed: 0_y',], axis=\"columns\" , inplace=True)"
   ],
   "outputs": [],
   "metadata": {}
  },
  {
   "cell_type": "code",
   "execution_count": 38,
   "source": [
    "querry7.columns"
   ],
   "outputs": [
    {
     "output_type": "execute_result",
     "data": {
      "text/plain": [
       "Index(['gender', 'Application_Date', 'department', 'education_level',\n",
       "       'university', 'formal_sector_job', 'have_computer_home',\n",
       "       'internet_at_home', 'communication_channel', 'Bootcamp_Interest',\n",
       "       'quest_id', 'age', 'Enroll_Date', 'Accounting', 'Computer Science',\n",
       "       'Economics', 'Electrical Engineering', 'Law', 'Management', 'Medicine',\n",
       "       'Statistics', 'Others_Study_Domain', 'Excel', 'Git', 'Java',\n",
       "       'JavaScript', 'PHP', 'PowerBI or Tableau', 'Python', 'R', 'SQL',\n",
       "       'Others_Technologies', 'is_enroll', 'payed', 'Commune_FR',\n",
       "       'Departement'],\n",
       "      dtype='object')"
      ]
     },
     "metadata": {},
     "execution_count": 38
    }
   ],
   "metadata": {}
  },
  {
   "cell_type": "markdown",
   "source": [
    "###  1. How many observations and variables are there in the dataset\n",
    " "
   ],
   "metadata": {}
  },
  {
   "cell_type": "code",
   "execution_count": 39,
   "source": [
    "# here your codes\r\n",
    "x=querry7.shape\r\n",
    "print(\"the dataset have \"+str(x[0])+\" observations and \"+str(x[1])+\" variables\")"
   ],
   "outputs": [
    {
     "output_type": "stream",
     "name": "stdout",
     "text": [
      "the dataset have 250 observations and 36 variables\n"
     ]
    }
   ],
   "metadata": {}
  },
  {
   "cell_type": "markdown",
   "source": [
    "### 2.A Calculate the average age of the observations\n",
    "   * On the whole dataset\n",
    "   * On the whole male dataset\n",
    "   * On all the female dataset\n",
    "### 2.B Calculate \n",
    "   * variance of the whole datatset,male and female\n",
    "   * kurtosis of the whole datatset,male and female\n",
    "   * skewness of the whole datatset,male and female\n",
    "### 2.C Does the age distribution follow a normal distribution \n",
    "   "
   ],
   "metadata": {}
  },
  {
   "cell_type": "code",
   "execution_count": 40,
   "source": [
    "#2A\r\n",
    "B=querry7[\"age\"].mean()\r\n",
    "print(f\" The average age on the role dataset is {B} years. \")\r\n",
    "\r\n",
    "# Average age of the observation on the whole male dataset\r\n",
    "male=querry7[querry7[\"gender\"]==\"male\"]\r\n",
    "male_mean=male.age.mean()\r\n",
    "print(f\" The average age on the male dataset is {male_mean} years. \")\r\n",
    "\r\n",
    "# Average age of the observation on the whole female dataset\r\n",
    "female=querry7[querry7[\"gender\"]==\"female\"]\r\n",
    "female_mean=female.age.mean()\r\n",
    "print(f\" The average age on the female dataset is {female_mean} years. \")"
   ],
   "outputs": [
    {
     "output_type": "stream",
     "name": "stdout",
     "text": [
      " The average age on the role dataset is 27.282700421940927 years. \n",
      " The average age on the male dataset is 27.515463917525775 years. \n",
      " The average age on the female dataset is 26.232558139534884 years. \n"
     ]
    }
   ],
   "metadata": {}
  },
  {
   "cell_type": "code",
   "execution_count": 41,
   "source": [
    "#2B\r\n",
    "#variance of the whole dataset,male and female\r\n",
    "var=querry7['age'].var()\r\n",
    "print(f'The variance of the whole dataset is: {var}. ')\r\n",
    "\r\n",
    "# variance of the whole male dataset\r\n",
    "var1=male['age'].var()\r\n",
    "print(f'The variance of the whole male dataset is: {var1}. ')\r\n",
    "\r\n",
    "# variance of the whole female dataset\r\n",
    "var2=female['age'].var()\r\n",
    "print(f'The variance of the whole feamale dataset is: {var2}. ')\r\n"
   ],
   "outputs": [
    {
     "output_type": "stream",
     "name": "stdout",
     "text": [
      "The variance of the whole dataset is: 31.305335049703213. \n",
      "The variance of the whole male dataset is: 31.494578281074737. \n",
      "The variance of the whole feamale dataset is: 29.80177187153931. \n"
     ]
    }
   ],
   "metadata": {}
  },
  {
   "cell_type": "code",
   "execution_count": 42,
   "source": [
    "querry7[\"age\"].replace({np.nan: B}, inplace=True)"
   ],
   "outputs": [],
   "metadata": {}
  },
  {
   "cell_type": "code",
   "execution_count": 43,
   "source": [
    "fin_querry = querry7[[\"age\", \"gender\"]]"
   ],
   "outputs": [],
   "metadata": {}
  },
  {
   "cell_type": "code",
   "execution_count": 44,
   "source": [
    "#kurtosis of the whole dataset(male, female)\r\n",
    "print(\"The kurtosis for the whole dataset is \"+str(round(querry7[\"age\"].kurtosis(),1)))\r\n",
    "kurt_male = fin_querry[fin_querry[\"gender\"]=='male'].kurtosis()\r\n",
    "kurt_female = fin_querry[fin_querry[\"gender\"]=='female'].kurtosis()\r\n",
    "print(\"The kurtosis for male is: {}\".format(round(kurt_male,1)))\r\n",
    "print(\"The female's kurtosis is :\"+str(round(kurt_female,1)))"
   ],
   "outputs": [
    {
     "output_type": "stream",
     "name": "stdout",
     "text": [
      "The kurtosis for the whole dataset is 2.6\n",
      "The kurtosis for male is: age    2.5\n",
      "dtype: float64\n",
      "The female's kurtosis is :age    4.3\n",
      "dtype: float64\n"
     ]
    }
   ],
   "metadata": {}
  },
  {
   "cell_type": "code",
   "execution_count": 45,
   "source": [
    "#skewness of the whole dataset, male and female\r\n",
    "print(\"The Skewness for the whole dataset is \"+str(round(querry7[\"age\"].skew(),1)))\r\n",
    "skew_male = fin_querry[fin_querry[\"gender\"]=='male'].skew()\r\n",
    "skew_female = fin_querry[fin_querry[\"gender\"]=='female'].skew()\r\n",
    "print(\"The Skewness  male is {}\".format(round(skew_male,1)))\r\n",
    "print(\"The Skewness female is \"+str(round(skew_female,1)))"
   ],
   "outputs": [
    {
     "output_type": "stream",
     "name": "stdout",
     "text": [
      "The Skewness for the whole dataset is 1.5\n",
      "The Skewness  male is age    1.4\n",
      "dtype: float64\n",
      "The Skewness female is age    1.9\n",
      "dtype: float64\n"
     ]
    }
   ],
   "metadata": {}
  },
  {
   "cell_type": "code",
   "execution_count": 46,
   "source": [
    "rng = np.random.default_rng()\r\n",
    "x = querry7.age\r\n",
    "shapiro_test = shapiro(x)\r\n",
    "shapiro_test\r\n",
    "#perform Jarque-Bera test\r\n",
    "resultat = jarque_bera(x)\r\n",
    "if resultat[1]>0:\r\n",
    "  print(f\"Since this p-value = {resultat[1]} is not less than .05, we fail to reject the null hypothesis.\")\r\n",
    "else: \r\n",
    "  print(f\"Since this p-value = {resultat[1]}, is less than .05, we reject the null hypothesis. Thus, \\nwe have sufficient evidence to say that this data has skewness and kurtosis that is \\nsignificantly different from a normal distribution.\")"
   ],
   "outputs": [
    {
     "output_type": "stream",
     "name": "stdout",
     "text": [
      "Since this p-value = 0.0, is less than .05, we reject the null hypothesis. Thus, \n",
      "we have sufficient evidence to say that this data has skewness and kurtosis that is \n",
      "significantly different from a normal distribution.\n"
     ]
    }
   ],
   "metadata": {}
  },
  {
   "cell_type": "markdown",
   "source": [
    "### 3.Display the age frequency disbrution\n",
    "   * On the whole dataset\n",
    "   * On the whole male dataset\n",
    "   * On all the female dataset"
   ],
   "metadata": {}
  },
  {
   "cell_type": "code",
   "execution_count": 47,
   "source": [
    "#Display\r\n",
    "bins = 20\r\n",
    "sns.displot(fin_querry['age'],bins = bins,kde = True)\r\n",
    "\r\n",
    "sns.displot(fin_querry[fin_querry['gender']== 'male'].age, bins = bins,kde = True)"
   ],
   "outputs": [
    {
     "output_type": "execute_result",
     "data": {
      "text/plain": [
       "<seaborn.axisgrid.FacetGrid at 0x27a47823ac0>"
      ]
     },
     "metadata": {},
     "execution_count": 47
    },
    {
     "output_type": "display_data",
     "data": {
      "text/plain": [
       "<Figure size 360x360 with 1 Axes>"
      ],
      "image/png": "[encoded data removed]"
     },
     "metadata": {
      "needs_background": "light"
     }
    },
    {
     "output_type": "display_data",
     "data": {
      "text/plain": [
       "<Figure size 360x360 with 1 Axes>"
      ],
      "image/png": "[encoded data removed]"
     },
     "metadata": {
      "needs_background": "light"
     }
    }
   ],
   "metadata": {}
  },
  {
   "cell_type": "markdown",
   "source": [
    "### 4. Can we say that the average age (24 years old) of the observations can be considered as the average age of the population likely to participate in this bootcamp. Justify your answer"
   ],
   "metadata": {}
  },
  {
   "cell_type": "code",
   "execution_count": 48,
   "source": [
    "stat, p = stats.ttest_1samp(fin_querry.age.dropna(), popmean=24)\r\n",
    "print('Statistics=%.2f, p=%.2f' % (stat, p))\r\n",
    "# interpretation\r\n",
    "alpha = 0.05\r\n",
    "if p > alpha:\r\n",
    "\tprint('ho mu=24 (fail to reject H0)')\r\n",
    "else:\r\n",
    "\tprint('h1 mu!= 24 (reject H0)')"
   ],
   "outputs": [
    {
     "output_type": "stream",
     "name": "stdout",
     "text": [
      "Statistics=9.53, p=0.00\n",
      "h1 mu!= 24 (reject H0)\n"
     ]
    }
   ],
   "metadata": {}
  },
  {
   "cell_type": "markdown",
   "source": [
    "### 5. Calculate the average age of participants for each communication channel"
   ],
   "metadata": {}
  },
  {
   "cell_type": "code",
   "execution_count": 49,
   "source": [
    "#communication_channel\r\n",
    "com_chanel_mean_age = pd.pivot_table(data=querry7, index= \"communication_channel\", values='age', aggfunc='mean')\r\n",
    "com_chanel_mean_age.age.round(1)"
   ],
   "outputs": [
    {
     "output_type": "execute_result",
     "data": {
      "text/plain": [
       "communication_channel\n",
       "Ayiti Analytics Website    27.0\n",
       "Bootcamp Alumni            26.3\n",
       "ESIH                       25.1\n",
       "Facebook                   27.5\n",
       "Friend                     27.0\n",
       "Instagram                  24.6\n",
       "LinkedIn                   30.0\n",
       "WhatsApp                   27.8\n",
       "other                      28.4\n",
       "unknown                    22.0\n",
       "Name: age, dtype: float64"
      ]
     },
     "metadata": {},
     "execution_count": 49
    }
   ],
   "metadata": {}
  },
  {
   "cell_type": "markdown",
   "source": [
    "### 6. Display an age boxplot for each communication channel"
   ],
   "metadata": {}
  },
  {
   "cell_type": "code",
   "execution_count": 50,
   "source": [
    "plt.figure(figsize=(14,8))\r\n",
    "sns.boxplot( x=querry7[\"communication_channel\"], y=querry7[\"age\"]);\r\n",
    "plt.title(\"Age distribution by communication channel\")\r\n",
    "plt.show()"
   ],
   "outputs": [
    {
     "output_type": "display_data",
     "data": {
      "text/plain": [
       "<Figure size 1008x576 with 1 Axes>"
      ],
      "image/png": "[encoded data removed]"
     },
     "metadata": {
      "needs_background": "light"
     }
    }
   ],
   "metadata": {}
  },
  {
   "cell_type": "markdown",
   "source": [
    "### 7 .Is there a significant age difference between these groups"
   ],
   "metadata": {}
  },
  {
   "cell_type": "code",
   "execution_count": 51,
   "source": [
    "\r\n",
    "#here your codes\r\n",
    "oklist = list(querry7[\"communication_channel\"].unique())\r\n",
    "\r\n",
    "quer = [querry7[querry7[\"communication_channel\"] == i].age.dropna() for i in oklist]\r\n",
    "\r\n",
    "\r\n",
    "stat, r = stats.f_oneway(quer[0], quer[1], quer[2], quer[3], quer[4], quer[5], quer[6], quer[7], quer[8], quer[9])\r\n",
    "print(r)\r\n",
    "if r < 0.05:\r\n",
    " print(\"Null Hypothesis Rejected\")\r\n",
    "else:\r\n",
    " print(\"0 Hypothesis Failed to be Rejected\")"
   ],
   "outputs": [
    {
     "output_type": "stream",
     "name": "stdout",
     "text": [
      "0.3162470467664811\n",
      "0 Hypothesis Failed to be Rejected\n"
     ]
    }
   ],
   "metadata": {}
  },
  {
   "cell_type": "markdown",
   "source": [
    "### 8.Plan a BA strategy for each communication channel regarding the age group"
   ],
   "metadata": {}
  },
  {
   "cell_type": "code",
   "execution_count": 52,
   "source": [
    "BA=querry7.groupby(by=[\"communication_channel\"]).age.mean().round(1).to_frame()\r\n",
    "BA"
   ],
   "outputs": [
    {
     "output_type": "execute_result",
     "data": {
      "text/plain": [
       "                          age\n",
       "communication_channel        \n",
       "Ayiti Analytics Website  27.0\n",
       "Bootcamp Alumni          26.3\n",
       "ESIH                     25.1\n",
       "Facebook                 27.5\n",
       "Friend                   27.0\n",
       "Instagram                24.6\n",
       "LinkedIn                 30.0\n",
       "WhatsApp                 27.8\n",
       "other                    28.4\n",
       "unknown                  22.0"
      ],
      "text/html": [
       "<div>\n",
       "<style scoped>\n",
       "    .dataframe tbody tr th:only-of-type {\n",
       "        vertical-align: middle;\n",
       "    }\n",
       "\n",
       "    .dataframe tbody tr th {\n",
       "        vertical-align: top;\n",
       "    }\n",
       "\n",
       "    .dataframe thead th {\n",
       "        text-align: right;\n",
       "    }\n",
       "</style>\n",
       "<table border=\"1\" class=\"dataframe\">\n",
       "  <thead>\n",
       "    <tr style=\"text-align: right;\">\n",
       "      <th></th>\n",
       "      <th>age</th>\n",
       "    </tr>\n",
       "    <tr>\n",
       "      <th>communication_channel</th>\n",
       "      <th></th>\n",
       "    </tr>\n",
       "  </thead>\n",
       "  <tbody>\n",
       "    <tr>\n",
       "      <th>Ayiti Analytics Website</th>\n",
       "      <td>27.0</td>\n",
       "    </tr>\n",
       "    <tr>\n",
       "      <th>Bootcamp Alumni</th>\n",
       "      <td>26.3</td>\n",
       "    </tr>\n",
       "    <tr>\n",
       "      <th>ESIH</th>\n",
       "      <td>25.1</td>\n",
       "    </tr>\n",
       "    <tr>\n",
       "      <th>Facebook</th>\n",
       "      <td>27.5</td>\n",
       "    </tr>\n",
       "    <tr>\n",
       "      <th>Friend</th>\n",
       "      <td>27.0</td>\n",
       "    </tr>\n",
       "    <tr>\n",
       "      <th>Instagram</th>\n",
       "      <td>24.6</td>\n",
       "    </tr>\n",
       "    <tr>\n",
       "      <th>LinkedIn</th>\n",
       "      <td>30.0</td>\n",
       "    </tr>\n",
       "    <tr>\n",
       "      <th>WhatsApp</th>\n",
       "      <td>27.8</td>\n",
       "    </tr>\n",
       "    <tr>\n",
       "      <th>other</th>\n",
       "      <td>28.4</td>\n",
       "    </tr>\n",
       "    <tr>\n",
       "      <th>unknown</th>\n",
       "      <td>22.0</td>\n",
       "    </tr>\n",
       "  </tbody>\n",
       "</table>\n",
       "</div>"
      ]
     },
     "metadata": {},
     "execution_count": 52
    }
   ],
   "metadata": {}
  },
  {
   "cell_type": "code",
   "execution_count": 53,
   "source": [
    "# BA plan"
   ],
   "outputs": [],
   "metadata": {}
  },
  {
   "cell_type": "markdown",
   "source": [
    "### 9.According to the observations what is the probability of being in each channel of communication knowing your are a woman"
   ],
   "metadata": {}
  },
  {
   "cell_type": "code",
   "execution_count": 54,
   "source": [
    "print(\"\\n*** The probability of being in each channel of communication knowing your are a woman ***\")\r\n",
    "prob_querry = querry7[querry7[\"gender\"]==\"female\"][\"communication_channel\"]\r\n",
    "prob_querry.value_counts(normalize=1).round(2)"
   ],
   "outputs": [
    {
     "output_type": "stream",
     "name": "stdout",
     "text": [
      "\n",
      "*** The probability of being in each channel of communication knowing your are a woman ***\n"
     ]
    },
    {
     "output_type": "execute_result",
     "data": {
      "text/plain": [
       "Friend                     0.23\n",
       "WhatsApp                   0.19\n",
       "Bootcamp Alumni            0.17\n",
       "Facebook                   0.13\n",
       "ESIH                       0.11\n",
       "Ayiti Analytics Website    0.09\n",
       "other                      0.04\n",
       "LinkedIn                   0.02\n",
       "Instagram                  0.02\n",
       "Name: communication_channel, dtype: float64"
      ]
     },
     "metadata": {},
     "execution_count": 54
    }
   ],
   "metadata": {}
  },
  {
   "cell_type": "markdown",
   "source": [
    "### 10.According to the observations what is the probability of being in each channel of communication knowing your are a man"
   ],
   "metadata": {}
  },
  {
   "cell_type": "code",
   "execution_count": 55,
   "source": [
    "print(\"\\n *** The probability of being in each channel of communication knowing your are a man ***\")\r\n",
    "prob_querry = querry7[querry7[\"gender\"]==\"male\"][\"communication_channel\"]\r\n",
    "prob_querry.value_counts(normalize=1).round(2)"
   ],
   "outputs": [
    {
     "output_type": "stream",
     "name": "stdout",
     "text": [
      "\n",
      " *** The probability of being in each channel of communication knowing your are a man ***\n"
     ]
    },
    {
     "output_type": "execute_result",
     "data": {
      "text/plain": [
       "WhatsApp                   0.28\n",
       "Friend                     0.28\n",
       "Facebook                   0.17\n",
       "LinkedIn                   0.07\n",
       "ESIH                       0.06\n",
       "Ayiti Analytics Website    0.05\n",
       "other                      0.03\n",
       "Bootcamp Alumni            0.03\n",
       "Instagram                  0.02\n",
       "unknown                    0.00\n",
       "Name: communication_channel, dtype: float64"
      ]
     },
     "metadata": {},
     "execution_count": 55
    }
   ],
   "metadata": {}
  },
  {
   "cell_type": "markdown",
   "source": [
    "### 11. Deduce the probability of being a woman knowing each communication channel"
   ],
   "metadata": {}
  },
  {
   "cell_type": "code",
   "execution_count": 56,
   "source": [
    "probab = []\r\n",
    "for _ in oklist:\r\n",
    "    if _ != \"unknown\":\r\n",
    "        ab = querry7[querry7[\"communication_channel\"]== _][\"gender\"]\r\n",
    "        a = ab.value_counts(normalize = 1)\r\n",
    "        b = a.to_frame(name = \"Hear_AA\")\r\n",
    "        c = b.loc[\"female\", \"Hear_AA\"]\r\n",
    "        probab.append(c)\r\n",
    "        print(\"The probability of being a woman knowing the Communication Channels {} is : {}\".format(_, c))"
   ],
   "outputs": [
    {
     "output_type": "stream",
     "name": "stdout",
     "text": [
      "The probability of being a woman knowing the Communication Channels Friend is : 0.16417910447761194\n",
      "The probability of being a woman knowing the Communication Channels ESIH is : 0.2777777777777778\n",
      "The probability of being a woman knowing the Communication Channels WhatsApp is : 0.13636363636363635\n",
      "The probability of being a woman knowing the Communication Channels Bootcamp Alumni is : 0.5714285714285714\n",
      "The probability of being a woman knowing the Communication Channels Facebook is : 0.15\n",
      "The probability of being a woman knowing the Communication Channels LinkedIn is : 0.06666666666666667\n",
      "The probability of being a woman knowing the Communication Channels Ayiti Analytics Website is : 0.26666666666666666\n",
      "The probability of being a woman knowing the Communication Channels other is : 0.2222222222222222\n",
      "The probability of being a woman knowing the Communication Channels Instagram is : 0.2\n"
     ]
    }
   ],
   "metadata": {}
  },
  {
   "cell_type": "markdown",
   "source": [
    "### 13. Deduce the probability of being a woman knowing each communication channel"
   ],
   "metadata": {}
  },
  {
   "cell_type": "code",
   "execution_count": 57,
   "source": [
    "probab = []\r\n",
    "for _ in oklist:\r\n",
    "    if _ != \"unknown\":\r\n",
    "        ab = querry7[querry7[\"communication_channel\"]== _][\"gender\"]\r\n",
    "        a = ab.value_counts(normalize = 1)\r\n",
    "        b = a.to_frame(name = \"Hear_AA\")\r\n",
    "        c = b.loc[\"female\", \"Hear_AA\"]\r\n",
    "        probab.append(c)\r\n",
    "        print(\"The probability of being a woman knowing the Communication Channels {} is : {}\\n\".format(_, c))"
   ],
   "outputs": [
    {
     "output_type": "stream",
     "name": "stdout",
     "text": [
      "The probability of being a woman knowing the Communication Channels Friend is : 0.16417910447761194\n",
      "\n",
      "The probability of being a woman knowing the Communication Channels ESIH is : 0.2777777777777778\n",
      "\n",
      "The probability of being a woman knowing the Communication Channels WhatsApp is : 0.13636363636363635\n",
      "\n",
      "The probability of being a woman knowing the Communication Channels Bootcamp Alumni is : 0.5714285714285714\n",
      "\n",
      "The probability of being a woman knowing the Communication Channels Facebook is : 0.15\n",
      "\n",
      "The probability of being a woman knowing the Communication Channels LinkedIn is : 0.06666666666666667\n",
      "\n",
      "The probability of being a woman knowing the Communication Channels Ayiti Analytics Website is : 0.26666666666666666\n",
      "\n",
      "The probability of being a woman knowing the Communication Channels other is : 0.2222222222222222\n",
      "\n",
      "The probability of being a woman knowing the Communication Channels Instagram is : 0.2\n",
      "\n"
     ]
    }
   ],
   "metadata": {}
  },
  {
   "cell_type": "markdown",
   "source": [
    "### 14. Deduce the probability of being a man knowing each communication channel"
   ],
   "metadata": {}
  },
  {
   "cell_type": "code",
   "execution_count": 58,
   "source": [
    "probab = []\r\n",
    "for _ in oklist:\r\n",
    "    if _ != \"unknown\":\r\n",
    "        ab = querry7[querry7[\"communication_channel\"]== _][\"gender\"]\r\n",
    "        a = ab.value_counts(normalize = 1)\r\n",
    "        b = a.to_frame(name = \"Hear_AA\")\r\n",
    "        c = b.loc[\"male\", \"Hear_AA\"]\r\n",
    "        probab.append(c)\r\n",
    "        print(\"** The probability of being a woman knowing the Communication Channels {} is: {}\\n\".format(_, c))"
   ],
   "outputs": [
    {
     "output_type": "stream",
     "name": "stdout",
     "text": [
      "** The probability of being a woman knowing the Communication Channels Friend is: 0.835820895522388\n",
      "\n",
      "** The probability of being a woman knowing the Communication Channels ESIH is: 0.7222222222222222\n",
      "\n",
      "** The probability of being a woman knowing the Communication Channels WhatsApp is: 0.8636363636363636\n",
      "\n",
      "** The probability of being a woman knowing the Communication Channels Bootcamp Alumni is: 0.42857142857142855\n",
      "\n",
      "** The probability of being a woman knowing the Communication Channels Facebook is: 0.85\n",
      "\n",
      "** The probability of being a woman knowing the Communication Channels LinkedIn is: 0.9333333333333333\n",
      "\n",
      "** The probability of being a woman knowing the Communication Channels Ayiti Analytics Website is: 0.7333333333333333\n",
      "\n",
      "** The probability of being a woman knowing the Communication Channels other is: 0.7777777777777778\n",
      "\n",
      "** The probability of being a woman knowing the Communication Channels Instagram is: 0.8\n",
      "\n"
     ]
    }
   ],
   "metadata": {}
  },
  {
   "cell_type": "markdown",
   "source": [
    "### 15 Display a plot to see Gender vs Communication Channels .Is there any dependency between communication channels and gender?"
   ],
   "metadata": {}
  },
  {
   "cell_type": "code",
   "execution_count": null,
   "source": [],
   "outputs": [],
   "metadata": {}
  },
  {
   "cell_type": "markdown",
   "source": [
    "### 16 Use the same method to display plot and know if is there any dependency between communication channels and Bootcamp Insterest?"
   ],
   "metadata": {}
  },
  {
   "cell_type": "code",
   "execution_count": 59,
   "source": [
    "#"
   ],
   "outputs": [],
   "metadata": {}
  },
  {
   "cell_type": "markdown",
   "source": [
    "### 17.Plan a BA  strategy for each communication channel, Bootcamp Insterest regarding the gender "
   ],
   "metadata": {}
  },
  {
   "cell_type": "code",
   "execution_count": 60,
   "source": [
    "#here your codes"
   ],
   "outputs": [],
   "metadata": {}
  },
  {
   "cell_type": "markdown",
   "source": [
    "### 18.Plan a BA  strategy for each communication channel, Bootcamp Insterest regarding the gender"
   ],
   "metadata": {}
  },
  {
   "cell_type": "code",
   "execution_count": 61,
   "source": [
    "# here your codes"
   ],
   "outputs": [],
   "metadata": {}
  },
  {
   "cell_type": "markdown",
   "source": [
    "### 19. Calculate \n",
    "    * P(Bootcamp Insterest,Communication channels,Gender/Payed=yes)\n",
    "    * P(Bootcamp Insterest,Communication channels,Gender/Payed=no)"
   ],
   "metadata": {}
  },
  {
   "cell_type": "code",
   "execution_count": null,
   "source": [],
   "outputs": [],
   "metadata": {}
  },
  {
   "cell_type": "markdown",
   "source": [
    "### 20 reduce \n",
    "* P(Payed=\"yes\"/Bootcamp Insterest=\"Increase Skill\",Communication channels=\"Friend\",Gender=\"male\")\n",
    "* P(Payed=\"no\"/Bootcamp Insterest=\"Increase Skill\",Communication channels=\"Friend\",Gender=\"male\")"
   ],
   "metadata": {}
  },
  {
   "cell_type": "code",
   "execution_count": 79,
   "source": [],
   "outputs": [],
   "metadata": {}
  },
  {
   "cell_type": "code",
   "execution_count": 82,
   "source": [
    "\r\n"
   ],
   "outputs": [],
   "metadata": {}
  },
  {
   "cell_type": "markdown",
   "source": [
    "### Based on these findings, propose strategies to increase our sales?"
   ],
   "metadata": {}
  },
  {
   "cell_type": "code",
   "execution_count": 63,
   "source": [
    "#here your codes"
   ],
   "outputs": [],
   "metadata": {}
  },
  {
   "cell_type": "markdown",
   "source": [],
   "metadata": {}
  }
 ],
 "metadata": {
  "interpreter": {
   "hash": "b3ba2566441a7c06988d0923437866b63cedc61552a5af99d1f4fb67d367b25f"
  },
  "kernelspec": {
   "name": "python3",
   "display_name": "Python 3.8.5 64-bit ('base': conda)"
  },
  "language_info": {
   "codemirror_mode": {
    "name": "ipython",
    "version": 3
   },
   "file_extension": ".py",
   "mimetype": "text/x-python",
   "name": "python",
   "nbconvert_exporter": "python",
   "pygments_lexer": "ipython3",
   "version": "3.8.5"
  },
  "orig_nbformat": 4
 },
 "nbformat": 4,
 "nbformat_minor": 2
}